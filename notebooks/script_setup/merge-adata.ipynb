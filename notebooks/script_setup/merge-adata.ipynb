{
 "cells": [
  {
   "cell_type": "code",
   "execution_count": 1,
   "id": "42706144-9bb6-4cdc-8200-ca4676279e31",
   "metadata": {},
   "outputs": [
    {
     "name": "stderr",
     "output_type": "stream",
     "text": [
      "/home/ubuntu/miniforge3/lib/python3.12/site-packages/dask/dataframe/__init__.py:31: FutureWarning: The legacy Dask DataFrame implementation is deprecated and will be removed in a future version. Set the configuration option `dataframe.query-planning` to `True` or None to enable the new Dask Dataframe implementation and silence this warning.\n",
      "  warnings.warn(\n"
     ]
    }
   ],
   "source": [
    "import argparse\n",
    "import logging\n",
    "import os\n",
    "import sys\n",
    "import warnings\n",
    "from concurrent.futures import ProcessPoolExecutor, as_completed\n",
    "from pathlib import Path\n",
    "from typing import Tuple\n",
    "\n",
    "import scanpy as sc\n",
    "import yaml\n",
    "from anndata import AnnData\n",
    "from spatialdata import read_zarr\n",
    "\n",
    "sys.path.insert(1, \"/dss/dsshome1/0C/ra98gaq/Git/cellseg-benchmark\")\n",
    "from cellseg_benchmark.adata_utils import (\n",
    "    filter_genes,\n",
    "    filter_low_quality_cells,\n",
    "    filter_spatial_outlier_cells,\n",
    "    integration_harmony,\n",
    "    merge_adatas,\n",
    "    normalize_counts,\n",
    "    pca_umap_single,\n",
    ")"
   ]
  },
  {
   "cell_type": "code",
   "execution_count": 2,
   "id": "4a5b1af4-782d-4fef-a63f-d952f3a6398c",
   "metadata": {},
   "outputs": [],
   "source": [
    "# reload\n",
    "from importlib import reload\n",
    "import cellseg_benchmark.adata_utils as adu\n",
    "reload(adu)\n",
    "from cellseg_benchmark.adata_utils import (\n",
    "    filter_genes,\n",
    "    filter_low_quality_cells,\n",
    "    filter_spatial_outlier_cells,\n",
    "    integration_harmony,\n",
    "\n",
    "\n",
    "    integration_harmony_new,\n",
    "\n",
    "    merge_adatas,\n",
    "    normalize_counts,\n",
    "    pca_umap_single,\n",
    ")"
   ]
  },
  {
   "cell_type": "code",
   "execution_count": 4,
   "id": "7aa5c170-9aa9-4f3b-a615-822ab8be0037",
   "metadata": {},
   "outputs": [],
   "source": [
    "def _load_one(\n",
    "    sample_dir: Path, seg_method: str, logger: logging.Logger\n",
    ") -> Tuple[str, AnnData | None]:\n",
    "    \"\"\"Load AnnData from one master sdata.\"\"\"\n",
    "    sdata = read_zarr(sample_dir / \"sdata_z3.zarr\", selection=(\"tables\",))\n",
    "    if f\"adata_{seg_method}\" not in sdata.tables.keys():\n",
    "        if logger:\n",
    "            logger.warning(f\"Skipping {seg_method}. No such key: {seg_method}\")\n",
    "        return sample_dir.name, None\n",
    "    return sample_dir.name, sdata[f\"adata_{seg_method}\"]\n",
    "    \n",
    "warnings.filterwarnings(\"ignore\", \".*The table is annotating*\", UserWarning)\n",
    "sc.settings.n_jobs = -1"
   ]
  },
  {
   "cell_type": "code",
   "execution_count": 5,
   "id": "e0ef83df-d7cb-44c6-8335-a8a396f1bd06",
   "metadata": {},
   "outputs": [],
   "source": [
    "# Logger setup\n",
    "logger = logging.getLogger(\"integrate_adatas\")\n",
    "logger.setLevel(logging.INFO)\n",
    "handler = logging.StreamHandler()\n",
    "handler.setFormatter(logging.Formatter(\"%(asctime)s [%(levelname)s]: %(message)s\"))\n",
    "logger.addHandler(handler)"
   ]
  },
  {
   "cell_type": "code",
   "execution_count": 6,
   "id": "1542ea05-f161-4b7b-878a-e3c254115420",
   "metadata": {},
   "outputs": [
    {
     "data": {
      "text/plain": [
       "Namespace(cohort='SynergyLung', seg_method='Cellpose_1_Merlin')"
      ]
     },
     "execution_count": 6,
     "metadata": {},
     "output_type": "execute_result"
    }
   ],
   "source": [
    "# CLI args\n",
    "sys.argv = [\"notebook\", \"SynergyLung\", \"Cellpose_1_Merlin\"]\n",
    "#sys.argv = [\"notebook\", \"foxf2\", \"Cellpose_1_nuclei_model\"]\n",
    "# sys.argv = [\"notebook\", \"foxf2\", \"Proseg_Cellpose_1_nuclei_model\"]\n",
    "# sys.argv = [\"notebook\", \"aging\", \"Cellpose_1_nuclei_model\"]\n",
    "\n",
    "parser = argparse.ArgumentParser(\n",
    "    description=\"Integrate adatas from a selected segmentation method.\"\n",
    ")\n",
    "parser.add_argument(\"cohort\", help=\"Cohort name, e.g., 'foxf2'\")\n",
    "parser.add_argument(\n",
    "    \"seg_method\", help=\"Segmentation method, e.g., 'Cellpose_1_nuclei_model'\"\n",
    ")\n",
    "args = parser.parse_args()\n",
    "args"
   ]
  },
  {
   "cell_type": "code",
   "execution_count": 7,
   "id": "ae8601a0-daa8-49f9-afaf-be9b2adb9abd",
   "metadata": {},
   "outputs": [],
   "source": [
    "base_path = Path(\"/dss/dssfs03/pn52re/pn52re-dss-0001/cellseg-benchmark\")\n",
    "samples_path = base_path / \"samples\"\n",
    "save_path = base_path / \"analysis\" / args.cohort / args.seg_method\n",
    "save_path.mkdir(parents=True, exist_ok=True)"
   ]
  },
  {
   "cell_type": "code",
   "execution_count": 8,
   "id": "b727c227-5b82-4be9-a66d-54db0ed5757e",
   "metadata": {
    "scrolled": true
   },
   "outputs": [
    {
     "data": {
      "text/plain": [
       "{'foxf2_s1_r0': {'cohort': 'foxf2',\n",
       "  'slide': 1,\n",
       "  'region': 0,\n",
       "  'genotype': 'ECKO',\n",
       "  'age_months': 6,\n",
       "  'run_date': '20240229',\n",
       "  'animal_id': '000',\n",
       "  'organism': 'mouse',\n",
       "  'path': '/dss/dssfs03/pn52re/pn52re-dss-0000/202402-Foxf2/merfish_output/20240229_Foxf2-Slide01-cp-WT-ECKO/region_0-ECKO000'},\n",
       " 'foxf2_s1_r1': {'cohort': 'foxf2',\n",
       "  'slide': 1,\n",
       "  'region': 1,\n",
       "  'genotype': 'WT',\n",
       "  'age_months': 6,\n",
       "  'run_date': '20240229',\n",
       "  'animal_id': '000',\n",
       "  'organism': 'mouse',\n",
       "  'path': '/dss/dssfs03/pn52re/pn52re-dss-0000/202402-Foxf2/merfish_output/20240229_Foxf2-Slide01-cp-WT-ECKO/region_1-WT000'},\n",
       " 'foxf2_s2_r1': {'cohort': 'foxf2',\n",
       "  'slide': 2,\n",
       "  'region': 1,\n",
       "  'genotype': 'WT',\n",
       "  'age_months': 6,\n",
       "  'run_date': '20240322',\n",
       "  'animal_id': '536',\n",
       "  'organism': 'mouse',\n",
       "  'path': '/dss/dssfs03/pn52re/pn52re-dss-0000/202402-Foxf2/merfish_output/20240322_Foxf2-Slide02-cp-WT-PCKO/region_1-WT536'},\n",
       " 'foxf2_s2_r2': {'cohort': 'foxf2',\n",
       "  'slide': 2,\n",
       "  'region': 2,\n",
       "  'genotype': 'PCKO',\n",
       "  'age_months': 6,\n",
       "  'run_date': '20240322',\n",
       "  'animal_id': '239',\n",
       "  'organism': 'mouse',\n",
       "  'path': '/dss/dssfs03/pn52re/pn52re-dss-0000/202402-Foxf2/merfish_output/20240322_Foxf2-Slide02-cp-WT-PCKO/region_2-PCKO239'},\n",
       " 'foxf2_s4_r0': {'cohort': 'foxf2',\n",
       "  'slide': 4,\n",
       "  'region': 0,\n",
       "  'genotype': 'PCKO',\n",
       "  'age_months': 6,\n",
       "  'run_date': '20240304',\n",
       "  'animal_id': '421',\n",
       "  'organism': 'mouse',\n",
       "  'path': '/dss/dssfs03/pn52re/pn52re-dss-0000/202402-Foxf2/merfish_output/20240304_Foxf2-Slide04-cp-ECKO-PCKO/region_0-PCKO421'},\n",
       " 'foxf2_s4_r1': {'cohort': 'foxf2',\n",
       "  'slide': 4,\n",
       "  'region': 1,\n",
       "  'genotype': 'ECKO',\n",
       "  'age_months': 6,\n",
       "  'run_date': '20240304',\n",
       "  'animal_id': '557',\n",
       "  'organism': 'mouse',\n",
       "  'path': '/dss/dssfs03/pn52re/pn52re-dss-0000/202402-Foxf2/merfish_output/20240304_Foxf2-Slide04-cp-ECKO-PCKO/region_1-ECKO557'},\n",
       " 'foxf2_s5_r0': {'cohort': 'foxf2',\n",
       "  'slide': 5,\n",
       "  'region': 0,\n",
       "  'genotype': 'PCKO',\n",
       "  'age_months': 6,\n",
       "  'run_date': '20240628',\n",
       "  'animal_id': '238',\n",
       "  'organism': 'mouse',\n",
       "  'path': '/dss/dssfs03/pn52re/pn52re-dss-0000/202402-Foxf2/merfish_output/20240628_Foxf2-Slide05-cp-PCKO-ECKO/region_0-PCKO238'},\n",
       " 'foxf2_s5_r1': {'cohort': 'foxf2',\n",
       "  'slide': 5,\n",
       "  'region': 1,\n",
       "  'genotype': 'ECKO',\n",
       "  'age_months': 6,\n",
       "  'run_date': '20240628',\n",
       "  'animal_id': '544',\n",
       "  'organism': 'mouse',\n",
       "  'path': '/dss/dssfs03/pn52re/pn52re-dss-0000/202402-Foxf2/merfish_output/20240628_Foxf2-Slide05-cp-PCKO-ECKO/region_1-ECKO544'},\n",
       " 'foxf2_s6_r0': {'cohort': 'foxf2',\n",
       "  'slide': 6,\n",
       "  'region': 0,\n",
       "  'genotype': 'GLKO',\n",
       "  'age_months': 6,\n",
       "  'run_date': '20240729',\n",
       "  'animal_id': '890',\n",
       "  'organism': 'mouse',\n",
       "  'path': '/dss/dssfs03/pn52re/pn52re-dss-0000/202402-Foxf2/merfish_output/20240729_Foxf2-Slide06-cp-WT-GLKO-GLKO/region_0-KO890'},\n",
       " 'foxf2_s6_r1': {'cohort': 'foxf2',\n",
       "  'slide': 6,\n",
       "  'region': 1,\n",
       "  'genotype': 'GLKO',\n",
       "  'age_months': 6,\n",
       "  'run_date': '20240729',\n",
       "  'animal_id': '883',\n",
       "  'organism': 'mouse',\n",
       "  'path': '/dss/dssfs03/pn52re/pn52re-dss-0000/202402-Foxf2/merfish_output/20240729_Foxf2-Slide06-cp-WT-GLKO-GLKO/region_1-KO883'},\n",
       " 'foxf2_s6_r2': {'cohort': 'foxf2',\n",
       "  'slide': 6,\n",
       "  'region': 2,\n",
       "  'genotype': 'WT',\n",
       "  'age_months': 6,\n",
       "  'run_date': '20240729',\n",
       "  'animal_id': '897',\n",
       "  'organism': 'mouse',\n",
       "  'path': '/dss/dssfs03/pn52re/pn52re-dss-0000/202402-Foxf2/merfish_output/20240729_Foxf2-Slide06-cp-WT-GLKO-GLKO/region_2-WT897'},\n",
       " 'foxf2_s7_r0': {'cohort': 'foxf2',\n",
       "  'slide': 7,\n",
       "  'region': 0,\n",
       "  'genotype': 'WT',\n",
       "  'age_months': 6,\n",
       "  'run_date': '20240805',\n",
       "  'animal_id': '886',\n",
       "  'organism': 'mouse',\n",
       "  'path': '/dss/dssfs03/pn52re/pn52re-dss-0000/202402-Foxf2/merfish_output/20240805_Foxf2-Slide07-cp-WT-GLKO/region_0-WT886'},\n",
       " 'foxf2_s7_r1': {'cohort': 'foxf2',\n",
       "  'slide': 7,\n",
       "  'region': 1,\n",
       "  'genotype': 'GLKO',\n",
       "  'age_months': 6,\n",
       "  'run_date': '20240805',\n",
       "  'animal_id': '885',\n",
       "  'organism': 'mouse',\n",
       "  'path': '/dss/dssfs03/pn52re/pn52re-dss-0000/202402-Foxf2/merfish_output/20240805_Foxf2-Slide07-cp-WT-GLKO/region_1-KO885'},\n",
       " 'aging_s1_r0': {'cohort': 'aging',\n",
       "  'slide': 1,\n",
       "  'region': 0,\n",
       "  'genotype': 'WT',\n",
       "  'age_months': 6,\n",
       "  'run_date': '20240516',\n",
       "  'animal_id': '308',\n",
       "  'organism': 'mouse',\n",
       "  'path': '/dss/dssfs03/pn52re/pn52re-dss-0000/202405-Htra1-and-Aging/merfish_output/20240516_Htra1-Slide01-cp-WT308-KO307/region_0-WT308_6m'},\n",
       " 'aging_s5_r0': {'cohort': 'aging',\n",
       "  'slide': 5,\n",
       "  'region': 0,\n",
       "  'genotype': 'WT',\n",
       "  'age_months': 18,\n",
       "  'run_date': '20241220',\n",
       "  'animal_id': '1377',\n",
       "  'organism': 'mouse',\n",
       "  'path': '/dss/dssfs03/pn52re/pn52re-dss-0000/202405-Htra1-and-Aging/merfish_output/20241220_Htra1-and-Aging-Slide05-cp-WT1377_18m-WT1332_6m-WT_eNOS_12m/region_0-WT1377_18m'},\n",
       " 'aging_s5_r1': {'cohort': 'aging',\n",
       "  'slide': 5,\n",
       "  'region': 1,\n",
       "  'genotype': 'WT',\n",
       "  'age_months': 6,\n",
       "  'run_date': '20241220',\n",
       "  'animal_id': '1332',\n",
       "  'organism': 'mouse',\n",
       "  'path': '/dss/dssfs03/pn52re/pn52re-dss-0000/202405-Htra1-and-Aging/merfish_output/20241220_Htra1-and-Aging-Slide05-cp-WT1377_18m-WT1332_6m-WT_eNOS_12m/region_1-WT1332_6m'},\n",
       " 'aging_s5_r2': {'cohort': 'aging',\n",
       "  'slide': 5,\n",
       "  'region': 2,\n",
       "  'genotype': 'WT',\n",
       "  'age_months': 12,\n",
       "  'run_date': '20241220',\n",
       "  'animal_id': '2',\n",
       "  'organism': 'mouse',\n",
       "  'path': '/dss/dssfs03/pn52re/pn52re-dss-0000/202405-Htra1-and-Aging/merfish_output/20241220_Htra1-and-Aging-Slide05-cp-WT1377_18m-WT1332_6m-WT_eNOS_12m/region_2-WT2eNos_12m'},\n",
       " 'aging_s6_r0': {'cohort': 'aging',\n",
       "  'slide': 6,\n",
       "  'region': 0,\n",
       "  'genotype': 'WT',\n",
       "  'age_months': 18,\n",
       "  'run_date': '20250113',\n",
       "  'animal_id': '421',\n",
       "  'organism': 'mouse',\n",
       "  'path': '/dss/dssfs03/pn52re/pn52re-dss-0000/202405-Htra1-and-Aging/merfish_output/20250113_Htra1-and-Aging-Slide06-cp-WT421_18m-KO278_18m-KO276_18m/region_0-WT421_18m'},\n",
       " 'aging_s7_r2': {'cohort': 'aging',\n",
       "  'slide': 7,\n",
       "  'region': 2,\n",
       "  'genotype': 'WT',\n",
       "  'age_months': 6,\n",
       "  'run_date': '20250127',\n",
       "  'animal_id': '58',\n",
       "  'organism': 'mouse',\n",
       "  'path': '/dss/dssfs03/pn52re/pn52re-dss-0000/202405-Htra1-and-Aging/merfish_output/20250127_Htra1-Slide07-cp-TG79-WT58-rerunSlide02/region_2-WT58_6m'},\n",
       " 'aging_s8_r0': {'cohort': 'aging',\n",
       "  'slide': 8,\n",
       "  'region': 0,\n",
       "  'genotype': 'WT',\n",
       "  'age_months': 12,\n",
       "  'run_date': '20250203',\n",
       "  'animal_id': '1',\n",
       "  'organism': 'mouse',\n",
       "  'path': '/dss/dssfs03/pn52re/pn52re-dss-0000/202405-Htra1-and-Aging/merfish_output/20250203_Aging-Slide08-cp-WT_eNos_12m-WT1377_18m-WT121_3m/region_0-WT1eNos_12m'},\n",
       " 'aging_s8_r1': {'cohort': 'aging',\n",
       "  'slide': 8,\n",
       "  'region': 1,\n",
       "  'genotype': 'WT',\n",
       "  'age_months': 3,\n",
       "  'run_date': '20250203',\n",
       "  'animal_id': '121',\n",
       "  'organism': 'mouse',\n",
       "  'path': '/dss/dssfs03/pn52re/pn52re-dss-0000/202405-Htra1-and-Aging/merfish_output/20250203_Aging-Slide08-cp-WT_eNos_12m-WT1377_18m-WT121_3m/region_1-WT121_3m'},\n",
       " 'aging_s8_r2': {'cohort': 'aging',\n",
       "  'slide': 8,\n",
       "  'region': 2,\n",
       "  'genotype': 'WT',\n",
       "  'age_months': 18,\n",
       "  'run_date': '20250203',\n",
       "  'animal_id': '1337',\n",
       "  'organism': 'mouse',\n",
       "  'path': '/dss/dssfs03/pn52re/pn52re-dss-0000/202405-Htra1-and-Aging/merfish_output/20250203_Aging-Slide08-cp-WT_eNos_12m-WT1377_18m-WT121_3m/region_2-WT1337_18m'},\n",
       " 'aging_s10_r0': {'cohort': 'aging',\n",
       "  'slide': 10,\n",
       "  'region': 0,\n",
       "  'genotype': 'WT',\n",
       "  'age_months': 24,\n",
       "  'run_date': '20250508',\n",
       "  'animal_id': '132',\n",
       "  'organism': 'mouse',\n",
       "  'path': '/dss/dssfs03/pn52re/pn52re-dss-0000/202405-Htra1-and-Aging/merfish_output/20250508_Aging-Slide10-cp-WT308_3m-WT309_3m-WT132_24m/region_0-WT132_24m'},\n",
       " 'aging_s10_r1': {'cohort': 'aging',\n",
       "  'slide': 10,\n",
       "  'region': 1,\n",
       "  'genotype': 'WT',\n",
       "  'age_months': 3,\n",
       "  'run_date': '20250508',\n",
       "  'animal_id': '308',\n",
       "  'organism': 'mouse',\n",
       "  'path': '/dss/dssfs03/pn52re/pn52re-dss-0000/202405-Htra1-and-Aging/merfish_output/20250508_Aging-Slide10-cp-WT308_3m-WT309_3m-WT132_24m/region_1-WT308_3m'},\n",
       " 'aging_s10_r2': {'cohort': 'aging',\n",
       "  'slide': 10,\n",
       "  'region': 2,\n",
       "  'genotype': 'WT',\n",
       "  'age_months': 3,\n",
       "  'run_date': '20250508',\n",
       "  'animal_id': '309',\n",
       "  'organism': 'mouse',\n",
       "  'path': '/dss/dssfs03/pn52re/pn52re-dss-0000/202405-Htra1-and-Aging/merfish_output/20250508_Aging-Slide10-cp-WT308_3m-WT309_3m-WT132_24m/region_2-WT309_3m'},\n",
       " 'aging_s11_r0': {'cohort': 'aging',\n",
       "  'slide': 11,\n",
       "  'region': 0,\n",
       "  'genotype': 'WT',\n",
       "  'age_months': 18,\n",
       "  'run_date': '20250526',\n",
       "  'animal_id': '232',\n",
       "  'organism': 'mouse',\n",
       "  'path': '/dss/dssfs03/pn52re/pn52re-dss-0000/202405-Htra1-and-Aging/merfish_output/20250526_Aging-Slide11-cp-WT232_18m-WT999_24m-WT888_24m/region_3-WT232_18m'},\n",
       " 'aging_s11_r1': {'cohort': 'aging',\n",
       "  'slide': 11,\n",
       "  'region': 1,\n",
       "  'genotype': 'WT',\n",
       "  'age_months': 24,\n",
       "  'run_date': '20250526',\n",
       "  'animal_id': '999',\n",
       "  'organism': 'mouse',\n",
       "  'path': '/dss/dssfs03/pn52re/pn52re-dss-0000/202405-Htra1-and-Aging/merfish_output/20250526_Aging-Slide11-cp-WT232_18m-WT999_24m-WT888_24m/region_1-WT999_24m'},\n",
       " 'aging_s11_r2': {'cohort': 'aging',\n",
       "  'slide': 11,\n",
       "  'region': 2,\n",
       "  'genotype': 'WT',\n",
       "  'age_months': 24,\n",
       "  'run_date': '20250526',\n",
       "  'animal_id': '888',\n",
       "  'organism': 'mouse',\n",
       "  'path': '/dss/dssfs03/pn52re/pn52re-dss-0000/202405-Htra1-and-Aging/merfish_output/20250526_Aging-Slide11-cp-WT232_18m-WT999_24m-WT888_24m/region_2-WT888_24m'},\n",
       " 'aging_s12_r0': {'cohort': 'aging',\n",
       "  'slide': 12,\n",
       "  'region': 0,\n",
       "  'genotype': 'WT',\n",
       "  'age_months': 12,\n",
       "  'run_date': '20250623',\n",
       "  'animal_id': '279',\n",
       "  'organism': 'mouse',\n",
       "  'path': '/dss/dssfs03/pn52re/pn52re-dss-0000/202405-Htra1-and-Aging/merfish_output/20250623_Aging-Slide12-cp-WT279_12m/region_0-WT279_12m'},\n",
       " 'htra1_s1_r1': {'cohort': 'htra1',\n",
       "  'slide': 1,\n",
       "  'region': 1,\n",
       "  'genotype': 'KO',\n",
       "  'age_months': 6,\n",
       "  'run_date': '20240516',\n",
       "  'animal_id': '307',\n",
       "  'organism': 'mouse',\n",
       "  'path': '/dss/dssfs03/pn52re/pn52re-dss-0000/202405-Htra1-and-Aging/merfish_output/20240516_Htra1-Slide01-cp-WT308-KO307/region_1-KO307_6m'},\n",
       " 'htra1_s3_r0': {'cohort': 'htra1',\n",
       "  'slide': 3,\n",
       "  'region': 0,\n",
       "  'genotype': 'TG',\n",
       "  'age_months': 6,\n",
       "  'run_date': '20240618',\n",
       "  'animal_id': '57',\n",
       "  'organism': 'mouse',\n",
       "  'path': '/dss/dssfs03/pn52re/pn52re-dss-0000/202405-Htra1-and-Aging/merfish_output/20240618_Htra1-Slide03-cp-KO306-TG57/region_0-TG57'},\n",
       " 'htra1_s3_r1': {'cohort': 'htra1',\n",
       "  'slide': 3,\n",
       "  'region': 1,\n",
       "  'genotype': 'KO',\n",
       "  'age_months': 6,\n",
       "  'run_date': '20240618',\n",
       "  'animal_id': '306',\n",
       "  'organism': 'mouse',\n",
       "  'path': '/dss/dssfs03/pn52re/pn52re-dss-0000/202405-Htra1-and-Aging/merfish_output/20240618_Htra1-Slide03-cp-KO306-TG57/region_1-KO306'},\n",
       " 'htra1_s4_r1': {'cohort': 'htra1',\n",
       "  'slide': 4,\n",
       "  'region': 1,\n",
       "  'genotype': 'TG',\n",
       "  'age_months': 6,\n",
       "  'run_date': '20240829',\n",
       "  'animal_id': '69',\n",
       "  'organism': 'mouse',\n",
       "  'path': '/dss/dssfs03/pn52re/pn52re-dss-0000/202405-Htra1-and-Aging/merfish_output/20240829_Htra1-Slide04-cp-TG69-KO305/region_1-TG69'},\n",
       " 'htra1_s4_r2': {'cohort': 'htra1',\n",
       "  'slide': 4,\n",
       "  'region': 2,\n",
       "  'genotype': 'KO',\n",
       "  'age_months': 6,\n",
       "  'run_date': '20240829',\n",
       "  'animal_id': '305',\n",
       "  'organism': 'mouse',\n",
       "  'path': '/dss/dssfs03/pn52re/pn52re-dss-0000/202405-Htra1-and-Aging/merfish_output/20240829_Htra1-Slide04-cp-TG69-KO305/region_2-KO305'},\n",
       " 'htra1_s6_r1': {'cohort': 'htra1',\n",
       "  'slide': 6,\n",
       "  'region': 1,\n",
       "  'genotype': 'KO',\n",
       "  'age_months': 18,\n",
       "  'run_date': '20250113',\n",
       "  'animal_id': '278',\n",
       "  'organism': 'mouse',\n",
       "  'path': '/dss/dssfs03/pn52re/pn52re-dss-0000/202405-Htra1-and-Aging/merfish_output/20250113_Htra1-and-Aging-Slide06-cp-WT421_18m-KO278_18m-KO276_18m/region_1-KO278_18m'},\n",
       " 'htra1_s6_r2': {'cohort': 'htra1',\n",
       "  'slide': 6,\n",
       "  'region': 2,\n",
       "  'genotype': 'KO',\n",
       "  'age_months': 18,\n",
       "  'run_date': '20250113',\n",
       "  'animal_id': '276',\n",
       "  'organism': 'mouse',\n",
       "  'path': '/dss/dssfs03/pn52re/pn52re-dss-0000/202405-Htra1-and-Aging/merfish_output/20250113_Htra1-and-Aging-Slide06-cp-WT421_18m-KO278_18m-KO276_18m/region_2-KO276_18m'},\n",
       " 'htra1_s7_r1': {'cohort': 'htra1',\n",
       "  'slide': 7,\n",
       "  'region': 1,\n",
       "  'genotype': 'TG',\n",
       "  'age_months': 6,\n",
       "  'run_date': '20250127',\n",
       "  'animal_id': '79',\n",
       "  'organism': 'mouse',\n",
       "  'path': '/dss/dssfs03/pn52re/pn52re-dss-0000/202405-Htra1-and-Aging/merfish_output/20250127_Htra1-Slide07-cp-TG79-WT58-rerunSlide02/region_1-TG79_6m'},\n",
       " 'VizgenMouseBrain_s1_r0': {'cohort': 'VizgenMouseBrain',\n",
       "  'slide': 1,\n",
       "  'region': 0,\n",
       "  'genotype': 'WT',\n",
       "  'age_months': None,\n",
       "  'run_date': '20210501',\n",
       "  'animal_id': 'Vizgen1',\n",
       "  'organism': 'mouse',\n",
       "  'path': '/dss/dssfs03/pn52re/pn52re-dss-0001/merfish-public-data/Vizgen-BrainReceptorShowcase-500plex/Slice2/Replicate1'},\n",
       " 'VizgenMouseBrain_s2_r0': {'cohort': 'VizgenMouseBrain',\n",
       "  'slide': 2,\n",
       "  'region': 0,\n",
       "  'genotype': 'WT',\n",
       "  'age_months': None,\n",
       "  'run_date': '20210501',\n",
       "  'animal_id': 'Vizgen1',\n",
       "  'organism': 'mouse',\n",
       "  'path': '/dss/dssfs03/pn52re/pn52re-dss-0001/merfish-public-data/Vizgen-BrainReceptorShowcase-500plex/Slice3/Replicate1'},\n",
       " 'VizgenMouseBrain_s3_r0': {'cohort': 'VizgenMouseBrain',\n",
       "  'slide': 3,\n",
       "  'region': 0,\n",
       "  'genotype': 'WT',\n",
       "  'age_months': None,\n",
       "  'run_date': '20210501',\n",
       "  'animal_id': 'Vizgen2',\n",
       "  'organism': 'mouse',\n",
       "  'path': '/dss/dssfs03/pn52re/pn52re-dss-0001/merfish-public-data/Vizgen-BrainReceptorShowcase-500plex/Slice2/Replicate2'},\n",
       " 'VizgenMouseBrain_s4_r0': {'cohort': 'VizgenMouseBrain',\n",
       "  'slide': 4,\n",
       "  'region': 0,\n",
       "  'genotype': 'WT',\n",
       "  'age_months': None,\n",
       "  'run_date': '20210501',\n",
       "  'animal_id': 'Vizgen2',\n",
       "  'organism': 'mouse',\n",
       "  'path': '/dss/dssfs03/pn52re/pn52re-dss-0001/merfish-public-data/Vizgen-BrainReceptorShowcase-500plex/Slice3/Replicate2'},\n",
       " 'VizgenMouseBrain_s5_r0': {'cohort': 'VizgenMouseBrain',\n",
       "  'slide': 5,\n",
       "  'region': 0,\n",
       "  'genotype': 'WT',\n",
       "  'age_months': None,\n",
       "  'run_date': '20210501',\n",
       "  'animal_id': 'Vizgen3',\n",
       "  'organism': 'mouse',\n",
       "  'path': '/dss/dssfs03/pn52re/pn52re-dss-0001/merfish-public-data/Vizgen-BrainReceptorShowcase-500plex/Slice2/Replicate3'},\n",
       " 'VizgenMouseBrain_s6_r0': {'cohort': 'VizgenMouseBrain',\n",
       "  'slide': 6,\n",
       "  'region': 0,\n",
       "  'genotype': 'WT',\n",
       "  'age_months': None,\n",
       "  'run_date': '20210501',\n",
       "  'animal_id': 'Vizgen3',\n",
       "  'organism': 'mouse',\n",
       "  'path': '/dss/dssfs03/pn52re/pn52re-dss-0001/merfish-public-data/Vizgen-BrainReceptorShowcase-500plex/Slice3/Replicate3'},\n",
       " 'ABCAtlas_s1_r0': {'cohort': 'ABCAtlas',\n",
       "  'slide': 1,\n",
       "  'region': 0,\n",
       "  'genotype': 'WT',\n",
       "  'age_months': None,\n",
       "  'run_date': '20220906',\n",
       "  'animal_id': '638850',\n",
       "  'organism': 'mouse',\n",
       "  'path': '/dss/dssfs03/pn52re/pn52re-dss-0001/merfish-public-data/ABCAtlas-MouseBrain-500plex/1199650959'},\n",
       " 'ABCAtlas_s2_r0': {'cohort': 'ABCAtlas',\n",
       "  'slide': 2,\n",
       "  'region': 0,\n",
       "  'genotype': 'WT',\n",
       "  'age_months': None,\n",
       "  'run_date': '20220929',\n",
       "  'animal_id': '638850',\n",
       "  'organism': 'mouse',\n",
       "  'path': '/dss/dssfs03/pn52re/pn52re-dss-0001/merfish-public-data/ABCAtlas-MouseBrain-500plex/1199651002'},\n",
       " 'ABCAtlas_s3_r0': {'cohort': 'ABCAtlas',\n",
       "  'slide': 3,\n",
       "  'region': 0,\n",
       "  'genotype': 'WT',\n",
       "  'age_months': None,\n",
       "  'run_date': '20220916',\n",
       "  'animal_id': '638850',\n",
       "  'organism': 'mouse',\n",
       "  'path': '/dss/dssfs03/pn52re/pn52re-dss-0001/merfish-public-data/ABCAtlas-MouseBrain-500plex/1199651036'},\n",
       " 'ABCAtlas_s4_r0': {'cohort': 'ABCAtlas',\n",
       "  'slide': 4,\n",
       "  'region': 0,\n",
       "  'genotype': 'WT',\n",
       "  'age_months': None,\n",
       "  'run_date': '20220919',\n",
       "  'animal_id': '638850',\n",
       "  'organism': 'mouse',\n",
       "  'path': '/dss/dssfs03/pn52re/pn52re-dss-0001/merfish-public-data/ABCAtlas-MouseBrain-500plex/1199651048'},\n",
       " 'ABCAtlas_s5_r0': {'cohort': 'ABCAtlas',\n",
       "  'slide': 5,\n",
       "  'region': 0,\n",
       "  'genotype': 'WT',\n",
       "  'age_months': None,\n",
       "  'run_date': '20220922',\n",
       "  'animal_id': '638850',\n",
       "  'organism': 'mouse',\n",
       "  'path': '/dss/dssfs03/pn52re/pn52re-dss-0001/merfish-public-data/ABCAtlas-MouseBrain-500plex/1199651078'},\n",
       " 'ABCAtlas_s6_r0': {'cohort': 'ABCAtlas',\n",
       "  'slide': 6,\n",
       "  'region': 0,\n",
       "  'genotype': 'WT',\n",
       "  'age_months': None,\n",
       "  'run_date': '20220927',\n",
       "  'animal_id': '638850',\n",
       "  'organism': 'mouse',\n",
       "  'path': '/dss/dssfs03/pn52re/pn52re-dss-0001/merfish-public-data/ABCAtlas-MouseBrain-500plex/1199651112'},\n",
       " 'VizgenHumanBrain_s1_r0': {'cohort': 'VizgenHumanBrain',\n",
       "  'slide': 1,\n",
       "  'region': 0,\n",
       "  'genotype': None,\n",
       "  'age_months': None,\n",
       "  'run_date': '20240801',\n",
       "  'animal_id': None,\n",
       "  'organism': 'human',\n",
       "  'path': '/dss/dssfs03/pn52re/pn52re-dss-0001/merfish-public-data/Vizgen-HumanBrain-AD-1000plex/region_0'},\n",
       " 'SynergyLung_s1_r0': {'cohort': 'SynergyLung',\n",
       "  'slide': 1,\n",
       "  'region': 0,\n",
       "  'run_date': '20250704',\n",
       "  'organism': 'mouse',\n",
       "  'condition': 'stroke',\n",
       "  'path': '/dss/dssfs03/pn52re/pn52re-dss-0000/Synergy-projects-temp/MouseLung-Sijia/output-20250704_AGLiesz-Sijia-MouseLung-Slide1-Stroke_VMSC03901/region_R1-Stroke'},\n",
       " 'SynergyLung_s2_r0': {'cohort': 'SynergyLung',\n",
       "  'slide': 2,\n",
       "  'region': 0,\n",
       "  'run_date': '20250718',\n",
       "  'organism': 'mouse',\n",
       "  'condition': 'control',\n",
       "  'path': '/dss/dssfs03/pn52re/pn52re-dss-0000/Synergy-projects-temp/MouseLung-Sijia/output-20250718_AGLiesz-Sijia-MouseLung-Slide2-Control_VMSC03901/region_R1-Control'},\n",
       " 'SynergyLung_s3_r0': {'cohort': 'SynergyLung',\n",
       "  'slide': 3,\n",
       "  'region': 0,\n",
       "  'run_date': '20250721',\n",
       "  'organism': 'mouse',\n",
       "  'condition': 'control',\n",
       "  'path': '/dss/dssfs03/pn52re/pn52re-dss-0000/Synergy-projects-temp/MouseLung-Sijia/output-20250721_AGLiesz-Sijia-MouseLung-Slide3-Control-Stroke_VMSC03901/region_Control'},\n",
       " 'SynergyLung_s3_r1': {'cohort': 'SynergyLung',\n",
       "  'slide': 3,\n",
       "  'region': 1,\n",
       "  'run_date': '20250721',\n",
       "  'organism': 'mouse',\n",
       "  'condition': 'stroke',\n",
       "  'path': '/dss/dssfs03/pn52re/pn52re-dss-0000/Synergy-projects-temp/MouseLung-Sijia/output-20250721_AGLiesz-Sijia-MouseLung-Slide3-Control-Stroke_VMSC03901/region_Stroke'},\n",
       " 'SynergyLung_s4_r0': {'cohort': 'SynergyLung',\n",
       "  'slide': 4,\n",
       "  'region': 0,\n",
       "  'run_date': '20250806',\n",
       "  'organism': 'mouse',\n",
       "  'condition': 'control',\n",
       "  'path': '/dss/dssfs03/pn52re/pn52re-dss-0000/Synergy-projects-temp/MouseLung-Sijia/output-20250806_AGLiesz-Sijia-MouseLung-Slide4-Stroke-Control_VMSC03901/region_Control'},\n",
       " 'SynergyLung_s4_r1': {'cohort': 'SynergyLung',\n",
       "  'slide': 4,\n",
       "  'region': 1,\n",
       "  'run_date': '20250806',\n",
       "  'organism': 'mouse',\n",
       "  'condition': 'stroke',\n",
       "  'path': '/dss/dssfs03/pn52re/pn52re-dss-0000/Synergy-projects-temp/MouseLung-Sijia/output-20250806_AGLiesz-Sijia-MouseLung-Slide4-Stroke-Control_VMSC03901/region_Stroke'},\n",
       " 'SynergyLung_s5_r0': {'cohort': 'SynergyLung',\n",
       "  'slide': 5,\n",
       "  'region': 0,\n",
       "  'run_date': '20250822',\n",
       "  'organism': 'mouse',\n",
       "  'condition': 'control',\n",
       "  'path': '/dss/dssfs03/pn52re/pn52re-dss-0000/Synergy-projects-temp/MouseLung-Sijia/output-20250822_AGLiesz-Sijia-MouseLung-Slide5-Stroke-Lung_VMSC03901/region_Control'},\n",
       " 'SynergyLung_s5_r1': {'cohort': 'SynergyLung',\n",
       "  'slide': 5,\n",
       "  'region': 1,\n",
       "  'run_date': '20250822',\n",
       "  'organism': 'mouse',\n",
       "  'condition': 'stroke',\n",
       "  'path': '/dss/dssfs03/pn52re/pn52re-dss-0000/Synergy-projects-temp/MouseLung-Sijia/output-20250822_AGLiesz-Sijia-MouseLung-Slide5-Stroke-Lung_VMSC03901/region_Stroke'}}"
      ]
     },
     "execution_count": 8,
     "metadata": {},
     "output_type": "execute_result"
    }
   ],
   "source": [
    "sample_metadata_file, excluded = (\n",
    "    yaml.safe_load(open(base_path / \"misc\" / f))\n",
    "    for f in [\"sample_metadata.yaml\", \"samples_excluded.yaml\"]\n",
    ")\n",
    "sample_metadata_file"
   ]
  },
  {
   "cell_type": "code",
   "execution_count": 8,
   "id": "264f5c9b-9b31-4de4-bbe8-a3d93f0abc78",
   "metadata": {},
   "outputs": [
    {
     "data": {
      "text/plain": [
       "set()"
      ]
     },
     "execution_count": 8,
     "metadata": {},
     "output_type": "execute_result"
    }
   ],
   "source": [
    "excluded_samples = set(excluded.get(args.cohort, []))\n",
    "excluded_samples"
   ]
  },
  {
   "cell_type": "code",
   "execution_count": 9,
   "id": "61241a59-815e-465f-8db0-449b65a122ca",
   "metadata": {},
   "outputs": [
    {
     "data": {
      "text/plain": [
       "['SynergyLung_s1_r0',\n",
       " 'SynergyLung_s2_r0',\n",
       " 'SynergyLung_s3_r0',\n",
       " 'SynergyLung_s3_r1',\n",
       " 'SynergyLung_s4_r0',\n",
       " 'SynergyLung_s4_r1',\n",
       " 'SynergyLung_s5_r0',\n",
       " 'SynergyLung_s5_r1']"
      ]
     },
     "execution_count": 9,
     "metadata": {},
     "output_type": "execute_result"
    }
   ],
   "source": [
    "yaml_samples = [name for name, meta in sample_metadata_file.items()\n",
    "                if meta.get(\"cohort\") == args.cohort and name not in excluded]\n",
    "yaml_samples"
   ]
  },
  {
   "cell_type": "code",
   "execution_count": 7,
   "id": "b94f1ef2-cbee-4db7-8372-532de697fc01",
   "metadata": {},
   "outputs": [
    {
     "name": "stderr",
     "output_type": "stream",
     "text": [
      "2025-10-21 12:41:44,858 [INFO]: Loading data...\n"
     ]
    }
   ],
   "source": [
    "from functools import partial\n",
    "logger.info(\"Loading data...\")\n",
    "loads = []\n",
    "for name in yaml_samples:\n",
    "    p = samples_path / name\n",
    "    if not (p / \"sdata_z3.zarr\").exists():\n",
    "        logger.error(\"master sdata in %s not found.\", p)\n",
    "        continue\n",
    "    loads.append(p)\n",
    "\n",
    "max_workers = int(os.getenv(\"SLURM_CPUS_PER_TASK\", 1))\n",
    "loader = partial(_load_one, seg_method=args.seg_method, logger=None)\n",
    "\n",
    "with ProcessPoolExecutor(max_workers=max_workers) as ex:\n",
    "    results = list(ex.map(loader, loads))\n",
    "\n",
    "# keep YAML order, drop Nones\n",
    "adata_list = [(name, adata) for name, adata in results if adata is not None]"
   ]
  },
  {
   "cell_type": "code",
   "execution_count": 8,
   "id": "ac004531-b9a1-4368-8650-53592ce9edf8",
   "metadata": {},
   "outputs": [],
   "source": [
    "# temp fix for aging_s11_r0\n",
    "#for i, (name, ad) in enumerate(adata_list):\n",
    "#if name == \"aging_s11_r0\":\n",
    "        #ad.obs[\"region\"] = \"0\"\n",
    "    #ad.obs[\"region\"] = ad.obs[\"region\"].astype(str).astype(\"category\")\n",
    "    #adata_list[i] = (name, ad)"
   ]
  },
  {
   "cell_type": "code",
   "execution_count": 9,
   "id": "1263653e-206a-41ee-8215-c64f0964e769",
   "metadata": {
    "scrolled": true
   },
   "outputs": [
    {
     "name": "stderr",
     "output_type": "stream",
     "text": [
      "2025-10-21 12:42:02,532 [INFO]: Merging adatas of Cellpose_1_Merlin\n",
      "100%|██████████| 8/8 [00:06<00:00,  1.24it/s]\n",
      "2025-10-21 12:42:10,035 [INFO]: Cellpose_1_Merlin: #cells=1226739, #samples=8\n",
      "2025-10-21 12:42:10,037 [INFO]: Plotting QC results\n",
      "/dss/dsshome1/0C/ra98gaq/Git/cellseg-benchmark/cellseg_benchmark/adata_utils.py:184: UserWarning: This figure includes Axes that are not compatible with tight_layout, so results might be incorrect.\n",
      "  fig.tight_layout()\n",
      "/dss/dsshome1/0C/ra98gaq/Git/cellseg-benchmark/cellseg_benchmark/adata_utils.py:232: UserWarning: This figure includes Axes that are not compatible with tight_layout, so results might be incorrect.\n",
      "  fig.tight_layout()\n",
      "/dss/dsshome1/0C/ra98gaq/Git/cellseg-benchmark/cellseg_benchmark/adata_utils.py:273: UserWarning: This figure includes Axes that are not compatible with tight_layout, so results might be incorrect.\n",
      "  fig.tight_layout()\n",
      "/home/ubuntu/miniforge3/lib/python3.12/site-packages/legacy_api_wrap/__init__.py:82: UserWarning: Some cells have zero counts\n",
      "  return fn(*args_all, **kw)\n",
      "/home/ubuntu/miniforge3/lib/python3.12/site-packages/legacy_api_wrap/__init__.py:82: UserWarning: Some cells have zero counts\n",
      "  return fn(*args_all, **kw)\n",
      "/home/ubuntu/miniforge3/lib/python3.12/site-packages/legacy_api_wrap/__init__.py:82: UserWarning: Some cells have zero counts\n",
      "  return fn(*args_all, **kw)\n",
      "/home/ubuntu/miniforge3/lib/python3.12/site-packages/legacy_api_wrap/__init__.py:82: UserWarning: Some cells have zero counts\n",
      "  return fn(*args_all, **kw)\n",
      "/home/ubuntu/miniforge3/lib/python3.12/site-packages/legacy_api_wrap/__init__.py:82: UserWarning: Some cells have zero counts\n",
      "  return fn(*args_all, **kw)\n",
      "/home/ubuntu/miniforge3/lib/python3.12/site-packages/legacy_api_wrap/__init__.py:82: UserWarning: Some cells have zero counts\n",
      "  return fn(*args_all, **kw)\n",
      "/home/ubuntu/miniforge3/lib/python3.12/site-packages/legacy_api_wrap/__init__.py:82: UserWarning: Some cells have zero counts\n",
      "  return fn(*args_all, **kw)\n",
      "/home/ubuntu/miniforge3/lib/python3.12/site-packages/legacy_api_wrap/__init__.py:82: UserWarning: Some cells have zero counts\n",
      "  return fn(*args_all, **kw)\n"
     ]
    }
   ],
   "source": [
    "# Merge and process\n",
    "adata = merge_adatas(\n",
    "    adata_list,\n",
    "    seg_method=args.seg_method,\n",
    "    logger=logger,\n",
    "    plot_qc_stats=True,\n",
    "    save_path=save_path / \"plots\",\n",
    ")\n",
    "del adata_list"
   ]
  },
  {
   "cell_type": "code",
   "execution_count": 10,
   "id": "39085a29-bdbf-4629-bef0-01ff1cc3e0c3",
   "metadata": {},
   "outputs": [
    {
     "data": {
      "text/plain": [
       "sample\n",
       "SynergyLung_s2_r0    172011\n",
       "SynergyLung_s4_r0    162189\n",
       "SynergyLung_s5_r0    160754\n",
       "SynergyLung_s3_r0    158137\n",
       "SynergyLung_s4_r1    157625\n",
       "SynergyLung_s5_r1    151416\n",
       "SynergyLung_s3_r1    151232\n",
       "SynergyLung_s1_r0    113375\n",
       "Name: count, dtype: int64"
      ]
     },
     "execution_count": 10,
     "metadata": {},
     "output_type": "execute_result"
    }
   ],
   "source": [
    "adata.obs[\"sample\"].value_counts()"
   ]
  },
  {
   "cell_type": "code",
   "execution_count": 11,
   "id": "fbd44536-c837-4737-9a5f-a600e86a56e2",
   "metadata": {},
   "outputs": [
    {
     "data": {
      "text/plain": [
       "condition\n",
       "control    653091\n",
       "stroke     573648\n",
       "Name: count, dtype: int64"
      ]
     },
     "execution_count": 11,
     "metadata": {},
     "output_type": "execute_result"
    }
   ],
   "source": [
    "adata.obs[\"condition\"].value_counts()"
   ]
  },
  {
   "cell_type": "code",
   "execution_count": 12,
   "id": "bd983eff-198f-4c0b-a191-5fa4c950cf63",
   "metadata": {},
   "outputs": [
    {
     "data": {
      "text/plain": [
       "cohort\n",
       "SynergyLung    1226739\n",
       "Name: count, dtype: int64"
      ]
     },
     "execution_count": 12,
     "metadata": {},
     "output_type": "execute_result"
    }
   ],
   "source": [
    "adata.obs[\"cohort\"].value_counts()"
   ]
  },
  {
   "cell_type": "code",
   "execution_count": null,
   "id": "60e5a2e8-4453-4884-b0b2-7df265b75602",
   "metadata": {},
   "outputs": [],
   "source": []
  },
  {
   "cell_type": "code",
   "execution_count": 13,
   "id": "d2599ce8-d68d-4d03-8792-bf54ac74200e",
   "metadata": {},
   "outputs": [],
   "source": [
    "# workaround to fix adata.obs formatting ###############\n",
    "#adata.obs[\"sample\"] = adata.obs[\"sample\"].str.replace(\n",
    "#    rf\"^{args.cohort}_(\\d+)_(\\d+)$\", rf\"{args.cohort}_s\\1_r\\2\", regex=True\n",
    "#)\n",
    "#adata.obs.drop(columns=[\"spt_region\"], inplace=True, errors=\"ignore\")\n",
    "#adata.obs[\"condition\"] = (\n",
    "#    adata.obs[\"genotype\"].astype(str) + \"_\" + adata.obs[\"age_months\"].astype(str)\n",
    "#)"
   ]
  },
  {
   "cell_type": "code",
   "execution_count": 14,
   "id": "78e83a0d-83fe-4c01-9fa9-9b27aeea4d3f",
   "metadata": {},
   "outputs": [
    {
     "data": {
      "text/plain": [
       "Index(['fov', 'volume', 'center_x', 'center_y', 'min_x', 'min_y', 'max_x',\n",
       "       'max_y', 'anisotropy', 'transcript_count', 'perimeter_area_ratio',\n",
       "       'Txnip_raw', 'Txnip_high_pass', 'Fth1_raw', 'Fth1_high_pass',\n",
       "       'DAPI_raw', 'DAPI_high_pass', 'Scgb1a1_raw', 'Scgb1a1_high_pass',\n",
       "       'Sftpc_raw', 'Sftpc_high_pass', 'PolyT_raw', 'PolyT_high_pass',\n",
       "       'Ifitm3_raw', 'Ifitm3_high_pass', 'region', 'slide', 'dataset_id',\n",
       "       'cells_region', 'area', 'volume_sum', 'volume_final', 'num_z_planes',\n",
       "       'size_normalized', 'surface_to_volume_ratio', 'sphericity', 'solidity',\n",
       "       'elongation', 'condition', 'run_date', 'organism', 'cohort', 'sample',\n",
       "       'n_counts', 'n_genes', 'Col1_raw', 'Col1_high_pass'],\n",
       "      dtype='object')"
      ]
     },
     "execution_count": 14,
     "metadata": {},
     "output_type": "execute_result"
    }
   ],
   "source": [
    "adata.obs.columns"
   ]
  },
  {
   "cell_type": "code",
   "execution_count": 15,
   "id": "e601c6b7-6ea9-427d-af0c-03670fc18fad",
   "metadata": {},
   "outputs": [
    {
     "name": "stderr",
     "output_type": "stream",
     "text": [
      "2025-10-21 12:44:39,075 [INFO]: [SynergyLung_s1_r0] Missing polygon file: /dss/dssfs03/pn52re/pn52re-dss-0001/cellseg-benchmark/samples/SynergyLung_s1_r0/cell_outlier_coordinates.csv. Draw outliers in 10X Explorer if necessary.\n",
      "2025-10-21 12:44:40,020 [INFO]: [SynergyLung_s2_r0] Missing polygon file: /dss/dssfs03/pn52re/pn52re-dss-0001/cellseg-benchmark/samples/SynergyLung_s2_r0/cell_outlier_coordinates.csv. Draw outliers in 10X Explorer if necessary.\n",
      "2025-10-21 12:44:40,899 [INFO]: [SynergyLung_s3_r0] Missing polygon file: /dss/dssfs03/pn52re/pn52re-dss-0001/cellseg-benchmark/samples/SynergyLung_s3_r0/cell_outlier_coordinates.csv. Draw outliers in 10X Explorer if necessary.\n",
      "2025-10-21 12:44:41,815 [INFO]: [SynergyLung_s3_r1] Missing polygon file: /dss/dssfs03/pn52re/pn52re-dss-0001/cellseg-benchmark/samples/SynergyLung_s3_r1/cell_outlier_coordinates.csv. Draw outliers in 10X Explorer if necessary.\n",
      "2025-10-21 12:44:42,821 [INFO]: [SynergyLung_s4_r0] Missing polygon file: /dss/dssfs03/pn52re/pn52re-dss-0001/cellseg-benchmark/samples/SynergyLung_s4_r0/cell_outlier_coordinates.csv. Draw outliers in 10X Explorer if necessary.\n",
      "2025-10-21 12:44:43,866 [INFO]: [SynergyLung_s4_r1] Missing polygon file: /dss/dssfs03/pn52re/pn52re-dss-0001/cellseg-benchmark/samples/SynergyLung_s4_r1/cell_outlier_coordinates.csv. Draw outliers in 10X Explorer if necessary.\n",
      "2025-10-21 12:44:44,708 [INFO]: [SynergyLung_s5_r0] Missing polygon file: /dss/dssfs03/pn52re/pn52re-dss-0001/cellseg-benchmark/samples/SynergyLung_s5_r0/cell_outlier_coordinates.csv. Draw outliers in 10X Explorer if necessary.\n",
      "2025-10-21 12:44:45,541 [INFO]: [SynergyLung_s5_r1] Missing polygon file: /dss/dssfs03/pn52re/pn52re-dss-0001/cellseg-benchmark/samples/SynergyLung_s5_r1/cell_outlier_coordinates.csv. Draw outliers in 10X Explorer if necessary.\n",
      "2025-10-21 12:44:53,918 [INFO]: # total cells before filtering spatial outliers: 1226739\n",
      "2025-10-21 12:44:53,920 [INFO]: # spatial_outlier:       0\n",
      "2025-10-21 12:44:57,872 [INFO]: # total cells after filtering spatial outliers:  1226739\n"
     ]
    }
   ],
   "source": [
    "adata.obsm[\"spatial\"] = adata.obsm.get(\"spatial_microns\", adata.obsm[\"spatial\"])\n",
    "adata = filter_spatial_outlier_cells(\n",
    "    adata,\n",
    "    data_dir=str(base_path),\n",
    "    sample_metadata_file=sample_metadata_file,  ############\n",
    "    save_path=save_path / \"plots\",\n",
    "    logger=logger,\n",
    ")"
   ]
  },
  {
   "cell_type": "code",
   "execution_count": 22,
   "id": "0767944e-044c-4e21-aab4-f26734720dde",
   "metadata": {},
   "outputs": [
    {
     "data": {
      "text/plain": [
       "True"
      ]
     },
     "execution_count": 22,
     "metadata": {},
     "output_type": "execute_result"
    }
   ],
   "source": [
    "args.cohort == 'SynergyLung'"
   ]
  },
  {
   "cell_type": "code",
   "execution_count": 26,
   "id": "6b760c3f-8f11-44a5-ba59-65aef2dc87a5",
   "metadata": {},
   "outputs": [],
   "source": [
    "if \"vpt_3D\" in args.seg_method: # min_counts=10 due to smaller cell sizes\n",
    "    min_counts = 10\n",
    "elif args.cohort == \"SynergyLung\": # more lenient for initial analysis\n",
    "    min_counts = 15\n",
    "else:\n",
    "    min_counts = None # default = 25"
   ]
  },
  {
   "cell_type": "code",
   "execution_count": 27,
   "id": "23fbd46c-6220-48b3-82ef-8e0073fc27c8",
   "metadata": {},
   "outputs": [
    {
     "data": {
      "text/plain": [
       "15"
      ]
     },
     "execution_count": 27,
     "metadata": {},
     "output_type": "execute_result"
    }
   ],
   "source": [
    "min_counts"
   ]
  },
  {
   "cell_type": "code",
   "execution_count": 28,
   "id": "a8760c3b-ac78-4e24-a28c-2a4db5a63abf",
   "metadata": {},
   "outputs": [
    {
     "name": "stderr",
     "output_type": "stream",
     "text": [
      "2025-10-21 12:47:55,598 [INFO]: # total cells before filtering low-quality or volume outliers: 1226739\n",
      "2025-10-21 12:47:55,599 [INFO]: # low_quality_cell:             208207\n",
      "2025-10-21 12:47:55,600 [INFO]: # volume_outlier_cell:       2173\n",
      "2025-10-21 12:48:04,943 [INFO]: # total cells after filtering low-quality or volume outliers:  1016494\n",
      "2025-10-21 12:48:04,944 [INFO]: # genes before filtering: 451\n",
      "2025-10-21 12:48:07,888 [INFO]: # genes after filtering: 451\n",
      "2025-10-21 12:48:14,323 [INFO]: Normalizing counts...\n",
      "2025-10-21 12:48:16,720 [INFO]: Cells before/after outlier removal during normalization: 1016494 -> 996164\n",
      "/home/ubuntu/miniforge3/lib/python3.12/functools.py:909: UserWarning: zero-centering a sparse array/matrix densifies it.\n",
      "  return dispatch(args[0].__class__)(*args, **kw)\n"
     ]
    }
   ],
   "source": [
    "adata = filter_low_quality_cells(\n",
    "    adata,\n",
    "    save_path=save_path / \"plots\",\n",
    "    **({\"min_counts\": min_counts} if min_counts is not None else {}),\n",
    "    logger=logger,\n",
    ")\n",
    "\n",
    "adata = filter_genes(adata, save_path=save_path / \"plots\", logger=logger)\n",
    "\n",
    "adata = normalize_counts(\n",
    "    adata, save_path=save_path / \"plots\", seg_method=args.seg_method, logger=logger\n",
    ")"
   ]
  },
  {
   "cell_type": "code",
   "execution_count": 29,
   "id": "6c620be2-37cb-434f-933d-3b0fe8d200d8",
   "metadata": {},
   "outputs": [
    {
     "name": "stderr",
     "output_type": "stream",
     "text": [
      "2025-10-21 12:48:56,046 [INFO]: Dimensionality reduction: PCA\n",
      "2025-10-21 12:55:04,226 [INFO]: Dimensionality reduction: UMAP with n_neighbors=20, n_pcs=50\n"
     ]
    }
   ],
   "source": [
    "adata = pca_umap_single(adata, save_path=save_path / \"plots\", logger=logger)"
   ]
  },
  {
   "cell_type": "code",
   "execution_count": 35,
   "id": "2dc9eb93-7279-4dcf-840b-18ef27be70ad",
   "metadata": {
    "scrolled": true
   },
   "outputs": [
    {
     "name": "stdout",
     "output_type": "stream",
     "text": [
      "\n",
      "Looking for: ['bioconda::harmonypy']\n",
      "\n",
      "\u001b[33m\u001b[1mwarning  libmamba\u001b[m Cache file \"/home/ubuntu/miniforge3/pkgs/cache/497deca9.json\" was modified by another program\n",
      "\u001b[33m\u001b[1mwarning  libmamba\u001b[m Cache file \"/home/ubuntu/miniforge3/pkgs/cache/09cdf8bf.json\" was modified by another program\n",
      "\u001b[?25l\u001b[2K\u001b[0G[+] 0.0s\n",
      "\u001b[2K\u001b[1A\u001b[2K\u001b[0G[+] 0.1s\n",
      "bioconda/linux-64 (check zst) \u001b[33m━━━━━━━━━━━━━╸\u001b[0m\u001b[90m━\u001b[0m   0.0 B @  ??.?MB/s Checking  0.1s\u001b[2K\u001b[1A\u001b[2K\u001b[0Gbioconda/linux-64 (check zst)                       Checked  0.1s\n",
      "\u001b[?25h\u001b[?25l\u001b[2K\u001b[0G[+] 0.0s\n",
      "bioconda/noarch (check zst) \u001b[90m━━━━━━━╸\u001b[0m\u001b[33m━━━━━━━━━\u001b[0m   0.0 B @  ??.?MB/s Checking  0.0s\u001b[2K\u001b[1A\u001b[2K\u001b[0Gbioconda/noarch (check zst)                         Checked  0.1s\n",
      "\u001b[?25h\u001b[?25l\u001b[2K\u001b[0G[+] 0.0s\n",
      "conda-forge/linux-64 \u001b[90m━━━━━━━━━━━━╸\u001b[0m\u001b[33m━━━━━━━━━━\u001b[0m   0.0 B /  ??.?MB @  ??.?MB/s  0.0s\u001b[2K\u001b[1A\u001b[2K\u001b[0G[+] 0.1s\n",
      "conda-forge/linux-64 \u001b[90m━━━━━━━━━━━━━━━━━━━━━━━\u001b[0m  14.1kB /  48.0MB @ 232.4kB/s  0.1s\n",
      "conda-forge/noarch   \u001b[90m━━━━━━━━━━╸\u001b[0m\u001b[33m━━━━━━━━━━━━\u001b[0m   0.0 B /  ??.?MB @  ??.?MB/s  0.1s\n",
      "bioconda/linux-64    \u001b[90m━━━━━━╸\u001b[0m\u001b[33m━━━━━━━━━━━━━━━━\u001b[0m   0.0 B /  ??.?MB @  ??.?MB/s  0.1s\n",
      "bioconda/noarch      \u001b[33m━━━━━━━━━━━━╸\u001b[0m\u001b[90m━━━━━━━━━━\u001b[0m   0.0 B /  ??.?MB @  ??.?MB/s  0.1s\u001b[2K\u001b[1A\u001b[2K\u001b[1A\u001b[2K\u001b[1A\u001b[2K\u001b[1A\u001b[2K\u001b[0G[+] 0.2s\n",
      "conda-forge/linux-64 \u001b[90m━━━━━━━━━━━━━━━━━━━━━━━\u001b[0m   1.9MB /  48.0MB @  11.8MB/s  0.2s\n",
      "conda-forge/noarch   \u001b[90m━━━━━━━━━━━━━━━━━━━━━━━\u001b[0m 396.3kB /  22.9MB @   2.4MB/s  0.2s\n",
      "bioconda/linux-64    ╸\u001b[90m━━━━━━━━━━━━━━━━━━━━━━\u001b[0m 396.3kB /   5.3MB @   2.3MB/s  0.2s\n",
      "bioconda/noarch      ╸\u001b[90m━━━━━━━━━━━━━━━━━━━━━━\u001b[0m 319.4kB /   5.0MB @   1.9MB/s  0.2s\u001b[2K\u001b[1A\u001b[2K\u001b[1A\u001b[2K\u001b[1A\u001b[2K\u001b[1A\u001b[2K\u001b[0G[+] 0.3s\n",
      "conda-forge/linux-64 ╸\u001b[90m━━━━━━━━━━━━━━━━━━━━━━\u001b[0m   4.3MB /  48.0MB @  15.8MB/s  0.3s\n",
      "conda-forge/noarch   ━╸\u001b[90m━━━━━━━━━━━━━━━━━━━━━\u001b[0m   2.9MB /  22.9MB @  10.4MB/s  0.3s\n",
      "bioconda/linux-64    ━━━━━━━━━━━╸\u001b[90m━━━━━━━━━━━\u001b[0m   2.8MB /   5.3MB @  10.2MB/s  0.3s\n",
      "bioconda/noarch      ━━━━━━━━━━━╸\u001b[90m━━━━━━━━━━━\u001b[0m   2.8MB /   5.0MB @   9.9MB/s  0.3s\u001b[2K\u001b[1A\u001b[2K\u001b[1A\u001b[2K\u001b[1A\u001b[2K\u001b[1A\u001b[2K\u001b[0Gbioconda/noarch                                      5.0MB @  13.5MB/s  0.4s\n",
      "bioconda/linux-64                                    5.3MB @  14.2MB/s  0.4s\n",
      "[+] 0.4s\n",
      "conda-forge/linux-64 ━━╸\u001b[90m━━━━━━━━━━━━━━━━━━━━\u001b[0m   7.0MB /  48.0MB @  18.5MB/s  0.4s\n",
      "conda-forge/noarch   ━━━━╸\u001b[90m━━━━━━━━━━━━━━━━━━\u001b[0m   5.8MB /  22.9MB @  15.1MB/s  0.4s\u001b[2K\u001b[1A\u001b[2K\u001b[1A\u001b[2K\u001b[0G[+] 0.5s\n",
      "conda-forge/linux-64 ━━━━╸\u001b[90m━━━━━━━━━━━━━━━━━━\u001b[0m  12.4MB /  48.0MB @  25.8MB/s  0.5s\n",
      "conda-forge/noarch   ━━━━━━━━━━╸\u001b[90m━━━━━━━━━━━━\u001b[0m  11.4MB /  22.9MB @  23.2MB/s  0.5s\u001b[2K\u001b[1A\u001b[2K\u001b[1A\u001b[2K\u001b[0G[+] 0.6s\n",
      "conda-forge/linux-64 ━━━━━━━╸\u001b[90m━━━━━━━━━━━━━━━\u001b[0m  17.9MB /  48.0MB @  30.5MB/s  0.6s\n",
      "conda-forge/noarch   ━━━━━━━━━━━━━━━╸\u001b[90m━━━━━━━\u001b[0m  16.6MB /  22.9MB @  28.1MB/s  0.6s\u001b[2K\u001b[1A\u001b[2K\u001b[1A\u001b[2K\u001b[0G[+] 0.7s\n",
      "conda-forge/linux-64 ━━━━━━━━━━╸\u001b[90m━━━━━━━━━━━━\u001b[0m  23.3MB /  48.0MB @  33.7MB/s  0.7s\n",
      "conda-forge/noarch   ━━━━━━━━━━━━━━━━━━━━╸\u001b[90m━━\u001b[0m  21.9MB /  22.9MB @  31.6MB/s  0.7s\u001b[2K\u001b[1A\u001b[2K\u001b[1A\u001b[2K\u001b[0Gconda-forge/noarch                                  22.9MB @  32.0MB/s  0.7s\n",
      "[+] 0.8s\n",
      "conda-forge/linux-64 ━━━━━━━━━━━━━╸\u001b[90m━━━━━━━━━\u001b[0m  30.0MB /  48.0MB @  37.8MB/s  0.8s\u001b[2K\u001b[1A\u001b[2K\u001b[0G[+] 0.9s\n",
      "conda-forge/linux-64 ━━━━━━━━━━━━━━━━━╸\u001b[90m━━━━━\u001b[0m  39.6MB /  48.0MB @  44.3MB/s  0.9s\u001b[2K\u001b[1A\u001b[2K\u001b[0G[+] 1.0s\n",
      "conda-forge/linux-64 ━━━━━━━━━━━━━━━━━━━━━━  48.0MB @  49.0MB/s Downloaded  1.0s\u001b[2K\u001b[1A\u001b[2K\u001b[0Gconda-forge/linux-64                               @  49.0MB/s  1.0s\n",
      "\u001b[?25h\n",
      "Pinned packages:\n",
      "  - python 3.12.*\n",
      "\n",
      "\n",
      "Transaction\n",
      "\n",
      "  Prefix: /home/ubuntu/miniforge3\n",
      "\n",
      "  Updating specs:\n",
      "\n",
      "   - bioconda::harmonypy\n",
      "   - ca-certificates\n",
      "   - certifi\n",
      "   - openssl\n",
      "\n",
      "\n",
      "  Package                Version  Build                 Channel           Size\n",
      "────────────────────────────────────────────────────────────────────────────────\n",
      "  Install:\n",
      "────────────────────────────────────────────────────────────────────────────────\n",
      "\n",
      "  \u001b[32m+ joblib         \u001b[0m        1.5.2  pyhd8ed1ab_0          conda-forge      225kB\n",
      "  \u001b[32m+ threadpoolctl  \u001b[0m        3.6.0  pyhecae5ae_0          conda-forge       24kB\n",
      "  \u001b[32m+ pytz           \u001b[0m       2025.2  pyhd8ed1ab_0          conda-forge      189kB\n",
      "  \u001b[32m+ python-tzdata  \u001b[0m       2025.2  pyhd8ed1ab_0          conda-forge      144kB\n",
      "  \u001b[32m+ six            \u001b[0m       1.17.0  pyhe01879c_1          conda-forge\u001b[32m     Cached\u001b[0m\n",
      "  \u001b[32m+ python-dateutil\u001b[0m  2.9.0.post0  pyhe01879c_2          conda-forge\u001b[32m     Cached\u001b[0m\n",
      "  \u001b[32m+ libgfortran5   \u001b[0m       14.2.0  hf1ad2bd_2            conda-forge        1MB\n",
      "  \u001b[32m+ libgfortran    \u001b[0m       14.2.0  h69a702a_2            conda-forge       54kB\n",
      "  \u001b[32m+ libopenblas    \u001b[0m       0.3.29  pthreads_h94d23a6_0   conda-forge        6MB\n",
      "  \u001b[32m+ libblas        \u001b[0m        3.9.0  31_h59b9bed_openblas  conda-forge       17kB\n",
      "  \u001b[32m+ libcblas       \u001b[0m        3.9.0  31_he106b2a_openblas  conda-forge       17kB\n",
      "  \u001b[32m+ liblapack      \u001b[0m        3.9.0  31_h7ac8fdf_openblas  conda-forge       17kB\n",
      "  \u001b[32m+ numpy          \u001b[0m        2.3.3  py312h33ff503_0       conda-forge        9MB\n",
      "  \u001b[32m+ scipy          \u001b[0m       1.16.0  py312hf734454_0       conda-forge       17MB\n",
      "  \u001b[32m+ pandas         \u001b[0m        2.3.3  py312hf79963d_1       conda-forge       15MB\n",
      "  \u001b[32m+ scikit-learn   \u001b[0m        1.7.2  py312h4f0b9e3_0       conda-forge       10MB\n",
      "  \u001b[32m+ harmonypy      \u001b[0m       0.0.10  pyhdfd78af_0          bioconda          30kB\n",
      "\n",
      "  Upgrade:\n",
      "────────────────────────────────────────────────────────────────────────────────\n",
      "\n",
      "  \u001b[31m- ca-certificates\u001b[0m   2024.12.14  hbcca054_0            conda-forge\u001b[32m     Cached\u001b[0m\n",
      "  \u001b[32m+ ca-certificates\u001b[0m    2025.10.5  hbd8a1cb_0            conda-forge      156kB\n",
      "  \u001b[31m- certifi        \u001b[0m   2024.12.14  pyhd8ed1ab_0          conda-forge\u001b[32m     Cached\u001b[0m\n",
      "  \u001b[32m+ certifi        \u001b[0m    2025.10.5  pyhd8ed1ab_0          conda-forge      160kB\n",
      "  \u001b[31m- openssl        \u001b[0m        3.4.0  h7b32b05_1            conda-forge\u001b[32m     Cached\u001b[0m\n",
      "  \u001b[32m+ openssl        \u001b[0m        3.5.4  h26f9b46_0            conda-forge        3MB\n",
      "\n",
      "  Summary:\n",
      "\n",
      "  Install: 17 packages\n",
      "  Upgrade: 3 packages\n",
      "\n",
      "  Total download: 62MB\n",
      "\n",
      "────────────────────────────────────────────────────────────────────────────────\n",
      "\n",
      "\n",
      "\u001b[?25l\u001b[2K\u001b[0G[+] 0.0s\n",
      "Downloading      \u001b[90m━━━━━━━━━━━━━━━━━━━━━━━\u001b[0m   0.0 B                            0.0s\n",
      "Extracting       \u001b[90m━━━━━━━━━━━━━━━━━━━━━━━\u001b[0m       0                            0.0s\u001b[2K\u001b[1A\u001b[2K\u001b[1A\u001b[2K\u001b[0G[+] 0.1s\n",
      "Downloading  (5) \u001b[90m━━━━━━━━━━━━━━━━━━━━━━━\u001b[0m   0.0 B ca-certificates            0.0s\n",
      "Extracting       \u001b[90m━━━━━━━━━━━━━━━━━━━━━━━\u001b[0m       0                            0.0s\u001b[2K\u001b[1A\u001b[2K\u001b[1A\u001b[2K\u001b[0Gthreadpoolctl                                       23.9kB @ 210.8kB/s  0.1s\n",
      "pytz                                               189.0kB @   1.3MB/s  0.1s\n",
      "certifi                                            160.2kB @ 978.7kB/s  0.2s\n",
      "ca-certificates                                    155.9kB @ 875.3kB/s  0.2s\n",
      "joblib                                             224.7kB @   1.3MB/s  0.2s\n",
      "[+] 0.2s\n",
      "Downloading  (5) \u001b[33m━━━━━━━━━━━╸\u001b[0m\u001b[90m━━━━━━━━━━━\u001b[0m 767.8kB libcblas                   0.1s\n",
      "Extracting   (4) ╸\u001b[33m━━━━━╸\u001b[0m\u001b[90m━━━━━━━━━━━━━━━━\u001b[0m       1 ca-certificates            0.0s\u001b[2K\u001b[1A\u001b[2K\u001b[1A\u001b[2K\u001b[0Glibgfortran                                         53.7kB @ 267.9kB/s  0.1s\n",
      "python-tzdata                                      144.2kB @ 673.3kB/s  0.1s\n",
      "libcblas                                            16.8kB @  78.0kB/s  0.1s\n",
      "[+] 0.3s\n",
      "Downloading  (5) ╸\u001b[33m━━━━━━━━━━━━━━━━╸\u001b[0m\u001b[90m━━━━━\u001b[0m   4.2MB libgfortran5               0.2s\n",
      "Extracting   (1) ━━━━━━━╸\u001b[33m━━╸\u001b[0m\u001b[90m━━━━━━━━━━━━\u001b[0m       7 python-tzdata              0.1s\u001b[2K\u001b[1A\u001b[2K\u001b[1A\u001b[2K\u001b[0Glibgfortran5                                         1.5MB @   4.6MB/s  0.1s\n",
      "libopenblas                                          5.9MB @  17.1MB/s  0.1s\n",
      "liblapack                                           16.8kB @  46.0kB/s  0.0s\n",
      "[+] 0.4s\n",
      "Downloading  (5) ━━━━━━━━━━╸\u001b[33m━━━━━━━╸\u001b[0m\u001b[90m━━━━\u001b[0m  31.9MB harmonypy                  0.3s\n",
      "Extracting   (2) ━━━━━━━━━━╸\u001b[33m━━━╸\u001b[0m\u001b[90m━━━━━━━━\u001b[0m       9 liblapack                  0.2s\u001b[2K\u001b[1A\u001b[2K\u001b[1A\u001b[2K\u001b[0Gnumpy                                                8.8MB @  21.5MB/s  0.2s\n",
      "pandas                                              15.1MB @  35.0MB/s  0.3s\n",
      "harmonypy                                           30.0kB @  69.0kB/s  0.1s\n",
      "openssl                                              3.1MB @   6.9MB/s  0.1s\n",
      "libblas                                             16.9kB @  35.0kB/s  0.1s\n",
      "[+] 0.5s\n",
      "Downloading  (2) ━━━━━━━━━━━━━━━━╸\u001b[33m━━━━━━\u001b[0m  46.3MB scikit-learn               0.4s\n",
      "Extracting   (4) ━━━━━━━━━━━━━━╸\u001b[33m━━━━━╸\u001b[0m\u001b[90m━━\u001b[0m      12 libblas                    0.3s\u001b[2K\u001b[1A\u001b[2K\u001b[1A\u001b[2K\u001b[0Gscipy                                               16.8MB @  33.0MB/s  0.3s\n",
      "scikit-learn                                         9.7MB @  16.9MB/s  0.1s\n",
      "[+] 0.6s\n",
      "Downloading      ━━━━━━━━━━━━━━━━━━━━━━━  62.0MB                            0.5s\n",
      "Extracting   (4) ━━━━━━━━━━━━━━━━╸\u001b[33m━━━━━━\u001b[0m      14 numpy                      0.4s\u001b[2K\u001b[1A\u001b[2K\u001b[1A\u001b[2K\u001b[0G[+] 0.7s\n",
      "Downloading      ━━━━━━━━━━━━━━━━━━━━━━━  62.0MB                            0.5s\n",
      "Extracting   (4) ━━━━━━━━━━━━━━━━╸\u001b[33m━━━━━━\u001b[0m      14 numpy                      0.5s\u001b[2K\u001b[1A\u001b[2K\u001b[1A\u001b[2K\u001b[0G[+] 0.8s\n",
      "Downloading      ━━━━━━━━━━━━━━━━━━━━━━━  62.0MB                            0.5s\n",
      "Extracting   (3) ━━━━━━━━━━━━━━━━━━╸\u001b[33m━━━━\u001b[0m      15 pandas                     0.6s\u001b[2K\u001b[1A\u001b[2K\u001b[1A\u001b[2K\u001b[0G[+] 0.9s\n",
      "Downloading      ━━━━━━━━━━━━━━━━━━━━━━━  62.0MB                            0.5s\n",
      "Extracting   (3) ━━━━━━━━━━━━━━━━━━╸\u001b[33m━━━━\u001b[0m      15 pandas                     0.7s\u001b[2K\u001b[1A\u001b[2K\u001b[1A\u001b[2K\u001b[0G[+] 1.0s\n",
      "Downloading      ━━━━━━━━━━━━━━━━━━━━━━━  62.0MB                            0.5s\n",
      "Extracting   (1) ━━━━━━━━━━━━━━━━━━━━╸\u001b[33m━━\u001b[0m      17 pandas                     0.8s\u001b[2K\u001b[1A\u001b[2K\u001b[1A\u001b[2K\u001b[0G\u001b[?25h\n",
      "Downloading and Extracting Packages:\n",
      "\n",
      "Preparing transaction: done\n",
      "Verifying transaction: done\n",
      "Executing transaction: done\n"
     ]
    }
   ],
   "source": [
    "!mamba install bioconda::harmonypy -y"
   ]
  },
  {
   "cell_type": "code",
   "execution_count": null,
   "id": "f82983c9-e216-4bb6-8ea1-fcf3ec2bdaa9",
   "metadata": {},
   "outputs": [],
   "source": []
  },
  {
   "cell_type": "code",
   "execution_count": null,
   "id": "a3706412-acd0-4e91-861d-8c6292586b69",
   "metadata": {},
   "outputs": [],
   "source": []
  },
  {
   "cell_type": "code",
   "execution_count": 36,
   "id": "d5f908a8-9e36-433f-8ee2-739d34699251",
   "metadata": {},
   "outputs": [
    {
     "name": "stderr",
     "output_type": "stream",
     "text": [
      "2025-10-21 14:27:17,915 [INFO]: Saving integrated object...\n"
     ]
    },
    {
     "name": "stdout",
     "output_type": "stream",
     "text": [
      "ERROR! Session/line number was not unique in database. History logging moved to new session 14\n"
     ]
    },
    {
     "name": "stderr",
     "output_type": "stream",
     "text": [
      "2025-10-21 14:29:34,581 [INFO]: Done.\n"
     ]
    }
   ],
   "source": [
    "# Save result\n",
    "logger.info(\"Saving integrated object...\")\n",
    "output_path = save_path / \"adatas\"\n",
    "output_path.mkdir(parents=True, exist_ok=True)\n",
    "adata.write(output_path / \"adata_TEMP.h5ad.gz\", compression=\"gzip\")\n",
    "logger.info(\"Done.\")"
   ]
  },
  {
   "cell_type": "code",
   "execution_count": null,
   "id": "f23a2eb1-f372-4bfa-b4b4-7658d2ad4881",
   "metadata": {},
   "outputs": [],
   "source": []
  },
  {
   "cell_type": "code",
   "execution_count": 11,
   "id": "7c4d72dc-04f4-4ab7-9289-3f920a2858e1",
   "metadata": {},
   "outputs": [
    {
     "data": {
      "text/plain": [
       "PosixPath('/dss/dssfs03/pn52re/pn52re-dss-0001/cellseg-benchmark/analysis/SynergyLung/Cellpose_1_Merlin/adatas/adata_TEMP.h5ad.gz')"
      ]
     },
     "execution_count": 11,
     "metadata": {},
     "output_type": "execute_result"
    }
   ],
   "source": [
    "output_path = save_path / \"adatas\"\n",
    "output_path / \"adata_TEMP.h5ad.gz\""
   ]
  },
  {
   "cell_type": "code",
   "execution_count": 12,
   "id": "81e6c5a7-ca30-4244-8d12-fe96d223e7a7",
   "metadata": {},
   "outputs": [],
   "source": [
    "adata = sc.read_h5ad(output_path / \"adata_TEMP.h5ad.gz\")"
   ]
  },
  {
   "cell_type": "code",
   "execution_count": 13,
   "id": "5b538bc3-2d1c-4b3e-a67a-2a99f451486a",
   "metadata": {},
   "outputs": [
    {
     "data": {
      "text/plain": [
       "AnnData object with n_obs × n_vars = 996164 × 451\n",
       "    obs: 'fov', 'volume', 'center_x', 'center_y', 'min_x', 'min_y', 'max_x', 'max_y', 'anisotropy', 'transcript_count', 'perimeter_area_ratio', 'Txnip_raw', 'Txnip_high_pass', 'Fth1_raw', 'Fth1_high_pass', 'DAPI_raw', 'DAPI_high_pass', 'Scgb1a1_raw', 'Scgb1a1_high_pass', 'Sftpc_raw', 'Sftpc_high_pass', 'PolyT_raw', 'PolyT_high_pass', 'Ifitm3_raw', 'Ifitm3_high_pass', 'region', 'slide', 'dataset_id', 'cells_region', 'area', 'volume_sum', 'volume_final', 'num_z_planes', 'size_normalized', 'surface_to_volume_ratio', 'sphericity', 'solidity', 'elongation', 'condition', 'run_date', 'organism', 'cohort', 'sample', 'n_counts', 'n_genes', 'Col1_raw', 'Col1_high_pass', 'spatial_outlier', 'low_quality_cell', 'volume_outlier_cell'\n",
       "    var: 'n_cells'\n",
       "    uns: 'X_umap_20_50', 'pca'\n",
       "    obsm: 'X_pca', 'X_umap_20_50', 'blank', 'spatial', 'spatial_microns', 'spatial_pixel'\n",
       "    varm: 'PCs'\n",
       "    layers: 'counts', 'librarysize_log1p_norm', 'volume_log1p_norm', 'volume_norm', 'zscore'"
      ]
     },
     "execution_count": 13,
     "metadata": {},
     "output_type": "execute_result"
    }
   ],
   "source": [
    "adata"
   ]
  },
  {
   "cell_type": "code",
   "execution_count": null,
   "id": "22890907-f84d-41b2-b3ff-8ece5ce56e1d",
   "metadata": {},
   "outputs": [],
   "source": []
  },
  {
   "cell_type": "code",
   "execution_count": 14,
   "id": "e7eef546-47b1-4c61-b504-861269a92ad8",
   "metadata": {},
   "outputs": [
    {
     "name": "stderr",
     "output_type": "stream",
     "text": [
      "2025-10-21 14:36:24,818 [INFO]: Integration: Run Harmony\n",
      "2025-10-21 14:36:27,278 - harmonypy - INFO - Computing initial centroids with sklearn.KMeans...\n",
      "2025-10-21 14:39:50,480 - harmonypy - INFO - sklearn.KMeans initialization complete.\n",
      "2025-10-21 14:40:02,229 - harmonypy - INFO - Iteration 1 of 10\n",
      "2025-10-21 14:55:51,017 - harmonypy - INFO - Iteration 2 of 10\n",
      "2025-10-21 15:11:31,129 - harmonypy - INFO - Iteration 3 of 10\n",
      "2025-10-21 15:27:01,647 - harmonypy - INFO - Converged after 3 iterations\n",
      "2025-10-21 15:27:01,907 [INFO]: Integration: Compute neighbors and UMAP\n"
     ]
    }
   ],
   "source": [
    "adata = integration_harmony_new(\n",
    "    adata,\n",
    "    batch_key=\"slide\",\n",
    "    save_path=save_path / \"plots\",\n",
    "    logger=logger,\n",
    ")"
   ]
  },
  {
   "cell_type": "code",
   "execution_count": null,
   "id": "ab0f3c82-d5de-48a1-8169-51e476839ee3",
   "metadata": {},
   "outputs": [
    {
     "name": "stderr",
     "output_type": "stream",
     "text": [
      "2025-10-21 17:26:50,297 [INFO]: Saving integrated object...\n"
     ]
    }
   ],
   "source": [
    "# Save result\n",
    "logger.info(\"Saving integrated object...\")\n",
    "if \"fov\" not in adata.obs.columns:\n",
    "    adata.obs[\"fov\"] = \"\"\n",
    "adata.obs[\"fov\"] = adata.obs[\"fov\"].astype(str)\n",
    "output_path = save_path / \"adatas\"\n",
    "output_path.mkdir(parents=True, exist_ok=True)\n",
    "adata.write(output_path / \"adata_integrated.h5ad.gz\", compression=\"gzip\")\n",
    "logger.info(\"Done.\")"
   ]
  },
  {
   "cell_type": "code",
   "execution_count": null,
   "id": "6f7509a8-677e-4c18-a21f-8f5c2c8eca60",
   "metadata": {},
   "outputs": [],
   "source": []
  },
  {
   "cell_type": "code",
   "execution_count": null,
   "id": "46a642cb-1704-411a-9f06-0736e0433af9",
   "metadata": {},
   "outputs": [],
   "source": []
  },
  {
   "cell_type": "code",
   "execution_count": null,
   "id": "6069ab85-4130-433d-8de5-5dcc11233b60",
   "metadata": {},
   "outputs": [],
   "source": [
    "#######\n",
    "# spatial plots after filtering\n",
    "from cellseg_benchmark.adata_utils import _plot_flag"
   ]
  },
  {
   "cell_type": "code",
   "execution_count": null,
   "id": "b89fb404-3bd5-4fbc-8c4a-afa15dcf72fe",
   "metadata": {},
   "outputs": [],
   "source": []
  },
  {
   "cell_type": "code",
   "execution_count": null,
   "id": "254d3223-252b-4a2b-8ab4-6a204806ad71",
   "metadata": {},
   "outputs": [],
   "source": []
  },
  {
   "cell_type": "code",
   "execution_count": null,
   "id": "3e975b23-a6ac-43be-8018-de2cbe675464",
   "metadata": {},
   "outputs": [],
   "source": []
  },
  {
   "cell_type": "code",
   "execution_count": null,
   "id": "61ccf8d6-f6e9-44c3-8ac0-8acee899f954",
   "metadata": {},
   "outputs": [],
   "source": []
  },
  {
   "cell_type": "code",
   "execution_count": null,
   "id": "51870fe0-f9ab-436b-a4db-5ca5cd34b523",
   "metadata": {},
   "outputs": [],
   "source": []
  },
  {
   "cell_type": "code",
   "execution_count": null,
   "id": "0e4c6c36-d4e4-4413-a22f-f1dfbebe4bed",
   "metadata": {},
   "outputs": [],
   "source": [
    "################"
   ]
  },
  {
   "cell_type": "code",
   "execution_count": 33,
   "id": "9aab903b-78b2-4a0b-bbe4-c799beb4fb67",
   "metadata": {},
   "outputs": [],
   "source": [
    "from os.path import join\n",
    "from typing import Optional, Sequence\n",
    "\n",
    "import matplotlib.pyplot as plt\n",
    "import scanpy as sc\n",
    "from anndata import AnnData\n",
    "\n",
    "\n",
    "def plot_integration_comparison(\n",
    "    adata: AnnData,\n",
    "    save_path: str,\n",
    "    umap_key: str,\n",
    "    batch_key: Optional[str] = None,\n",
    "    color_keys: Optional[Sequence[tuple[str, str]]] = None,\n",
    "    point_size_factor: int = 150000,\n",
    "    dpi: int = 200,\n",
    "    filename: str = \"UMAP_integrated_harmony.png\",\n",
    ") -> None:\n",
    "    \"\"\"\n",
    "    Before/after integration UMAPs in two columns .\n",
    "    \"\"\"\n",
    "\n",
    "    cfg = color_keys or [\n",
    "        (\"sample\", \"Sample\"),\n",
    "        (\"slide\", \"Slide\"),\n",
    "        (\"condition\", \"Condition\"),\n",
    "        (\"cell_type_revised\", \"Cell Type\"),\n",
    "    ]\n",
    "    cfg = [(k, lbl) for k, lbl in cfg if k in adata.obs.columns]\n",
    "    if not cfg:\n",
    "        return\n",
    "\n",
    "    if umap_key.replace(\"_harmony\", \"\") not in adata.obsm or umap_key not in adata.obsm:\n",
    "        raise KeyError(\"Requested embedding(s) not found in adata.obsm\")\n",
    "\n",
    "    nrows = len(cfg)\n",
    "    fig, axes = plt.subplots(\n",
    "        nrows,\n",
    "        2,\n",
    "        figsize=(7.5, 4 * nrows),\n",
    "        gridspec_kw={\"wspace\": 0.02, \"hspace\": 0.02},\n",
    "    )\n",
    "    if nrows == 1:\n",
    "        axes = axes.reshape(1, 2)\n",
    "\n",
    "    fig.subplots_adjust(\n",
    "        left=0.06, right=0.98, top=0.90, bottom=0.06, wspace=0.02, hspace=0.02\n",
    "    )\n",
    "\n",
    "    # Column headers\n",
    "    left_box = axes[0, 0].get_position(fig)\n",
    "    right_box = axes[0, 1].get_position(fig)\n",
    "    top_y = max(left_box.y1, right_box.y1) + 0.005\n",
    "    fig.text(\n",
    "        left_box.x0 + left_box.width / 2,\n",
    "        top_y,\n",
    "        \"Unintegrated\",\n",
    "        ha=\"center\",\n",
    "        va=\"bottom\",\n",
    "        fontsize=13,\n",
    "    )\n",
    "    fig.text(\n",
    "        right_box.x0 + right_box.width / 2,\n",
    "        top_y,\n",
    "        f\"Integrated (Harmony{f'; by {batch_key}' if batch_key else ''})\",\n",
    "        ha=\"center\",\n",
    "        va=\"bottom\",\n",
    "        fontsize=13,\n",
    "    )\n",
    "\n",
    "    # Plot rows\n",
    "    for i, (obs_key, row_label) in enumerate(cfg):\n",
    "        sc.pl.embedding(\n",
    "            adata,\n",
    "            basis=umap_key.replace(\"_harmony\", \"\"),\n",
    "            color=obs_key,\n",
    "            ax=axes[i, 0],\n",
    "            show=False,\n",
    "            size=point_size_factor / adata.n_obs,\n",
    "            legend_loc=None,\n",
    "            title=\"\",\n",
    "        )\n",
    "        sc.pl.embedding(\n",
    "            adata,\n",
    "            basis=umap_key,\n",
    "            color=obs_key,\n",
    "            ax=axes[i, 1],\n",
    "            show=False,\n",
    "            size=point_size_factor / adata.n_obs,\n",
    "            legend_loc=\"right margin\",\n",
    "            legend_fontsize=8,\n",
    "            title=\"\",\n",
    "        )\n",
    "        axes[i, 0].annotate(\n",
    "            row_label,\n",
    "            xy=(-0.06, 0.5),\n",
    "            xycoords=\"axes fraction\",\n",
    "            va=\"center\",\n",
    "            ha=\"right\",\n",
    "            rotation=90,\n",
    "            fontsize=11,\n",
    "        )\n",
    "\n",
    "    for ax in axes.ravel():\n",
    "        if hasattr(ax, \"set_box_aspect\"):\n",
    "            ax.set_box_aspect(1)\n",
    "        else:\n",
    "            ax.set_aspect(\"equal\", adjustable=\"datalim\")\n",
    "        ax.set_xticks([])\n",
    "        ax.set_yticks([])\n",
    "        ax.set_xlabel(\"\")\n",
    "        ax.set_ylabel(\"\")\n",
    "\n",
    "    plt.savefig(\n",
    "        join(save_path, filename), dpi=dpi, bbox_inches=\"tight\", pad_inches=0.08\n",
    "    )\n",
    "    plt.close()"
   ]
  },
  {
   "cell_type": "code",
   "execution_count": 34,
   "id": "96f79b56-55d5-4885-aea5-f534f1b2497a",
   "metadata": {},
   "outputs": [],
   "source": [
    "plot_integration_comparison(\n",
    "    adata,\n",
    "    save_path=save_path / \"plots\",\n",
    "    umap_key=\"X_umap_harmony_20_50\",\n",
    "    batch_key=\"slide\",\n",
    "    point_size_factor=150000,\n",
    ")"
   ]
  },
  {
   "cell_type": "code",
   "execution_count": null,
   "id": "569afd80-eb16-4e84-9081-199734a00d50",
   "metadata": {},
   "outputs": [],
   "source": []
  },
  {
   "cell_type": "code",
   "execution_count": null,
   "id": "41534a4a-7eca-4f1a-b1d2-3f8b878480f0",
   "metadata": {},
   "outputs": [],
   "source": []
  },
  {
   "cell_type": "code",
   "execution_count": null,
   "id": "ff8d717c-65c3-4fd8-ae80-7607e8bd272d",
   "metadata": {},
   "outputs": [],
   "source": []
  },
  {
   "cell_type": "code",
   "execution_count": null,
   "id": "30092da5-3ec0-432f-bd1e-0291a64e348b",
   "metadata": {},
   "outputs": [],
   "source": []
  },
  {
   "cell_type": "code",
   "execution_count": 9,
   "id": "23359c83-9d5a-44cd-9ebb-c9e1f033b3a4",
   "metadata": {},
   "outputs": [],
   "source": [
    "###############################################\n",
    "# load adata post hoc\n",
    "output_path = save_path / \"adatas\"\n",
    "adata = sc.read_h5ad(output_path / \"adata_integrated.h5ad.gz\")"
   ]
  },
  {
   "cell_type": "code",
   "execution_count": 10,
   "id": "4b0f43df-8906-4cbf-a3c0-51fa98e184be",
   "metadata": {},
   "outputs": [
    {
     "data": {
      "text/plain": [
       "(996164, 451)"
      ]
     },
     "execution_count": 10,
     "metadata": {},
     "output_type": "execute_result"
    }
   ],
   "source": [
    "adata.shape"
   ]
  },
  {
   "cell_type": "code",
   "execution_count": 12,
   "id": "ba2bf18b-7953-4743-9599-5b58bef641fc",
   "metadata": {},
   "outputs": [
    {
     "data": {
      "text/plain": [
       "AnnData object with n_obs × n_vars = 996164 × 451\n",
       "    obs: 'fov', 'volume', 'center_x', 'center_y', 'min_x', 'min_y', 'max_x', 'max_y', 'anisotropy', 'transcript_count', 'perimeter_area_ratio', 'Txnip_raw', 'Txnip_high_pass', 'Fth1_raw', 'Fth1_high_pass', 'DAPI_raw', 'DAPI_high_pass', 'Scgb1a1_raw', 'Scgb1a1_high_pass', 'Sftpc_raw', 'Sftpc_high_pass', 'PolyT_raw', 'PolyT_high_pass', 'Ifitm3_raw', 'Ifitm3_high_pass', 'region', 'slide', 'dataset_id', 'cells_region', 'area', 'volume_sum', 'volume_final', 'num_z_planes', 'size_normalized', 'surface_to_volume_ratio', 'sphericity', 'solidity', 'elongation', 'condition', 'run_date', 'organism', 'cohort', 'sample', 'n_counts', 'n_genes', 'Col1_raw', 'Col1_high_pass', 'spatial_outlier', 'low_quality_cell', 'volume_outlier_cell'\n",
       "    var: 'n_cells'\n",
       "    obsm: 'X_pca', 'X_pca_harmony', 'X_umap_20_50', 'X_umap_harmony_20_50', 'X_umap_harmony_20_50_3d', 'blank', 'spatial', 'spatial_microns', 'spatial_pixel'\n",
       "    varm: 'PCs'\n",
       "    layers: 'counts', 'librarysize_log1p_norm', 'volume_log1p_norm', 'volume_norm', 'zscore'\n",
       "    obsp: 'neighbors_harmony_20_50_connectivities', 'neighbors_harmony_20_50_distances'"
      ]
     },
     "execution_count": 12,
     "metadata": {},
     "output_type": "execute_result"
    }
   ],
   "source": [
    "adata"
   ]
  },
  {
   "cell_type": "code",
   "execution_count": null,
   "id": "f8d0d778-7158-4cd0-a7f6-0627f09e939e",
   "metadata": {},
   "outputs": [],
   "source": []
  }
 ],
 "metadata": {
  "kernelspec": {
   "display_name": "Python 3 (ipykernel)",
   "language": "python",
   "name": "python3"
  },
  "language_info": {
   "codemirror_mode": {
    "name": "ipython",
    "version": 3
   },
   "file_extension": ".py",
   "mimetype": "text/x-python",
   "name": "python",
   "nbconvert_exporter": "python",
   "pygments_lexer": "ipython3",
   "version": "3.12.8"
  }
 },
 "nbformat": 4,
 "nbformat_minor": 5
}
