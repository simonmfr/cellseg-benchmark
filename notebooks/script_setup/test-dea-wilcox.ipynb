{
 "cells": [
  {
   "cell_type": "code",
   "execution_count": 1,
   "id": "e400aebf-e46f-45e8-894b-adf9dd58d138",
   "metadata": {},
   "outputs": [],
   "source": [
    "import argparse\n",
    "import logging\n",
    "import sys\n",
    "import re\n",
    "from pathlib import Path\n",
    "import numpy as np\n",
    "\n",
    "import numpy as np\n",
    "import pandas as pd\n",
    "import scanpy as sc\n",
    "import anndata as ad\n",
    "\n",
    "import matplotlib.pyplot as plt\n",
    "import matplotlib.font_manager as fm\n",
    "plt.rcParams[\"font.family\"] = \"Arial\" if \"Arial\" in [f.name for f in fm.fontManager.ttflist] else \"sans-serif\"\n",
    "plt.rcParams['font.weight'] = 'normal'\n",
    "\n",
    "sys.path.insert(1, \"/dss/dsshome1/0C/ra98gaq/Git/cellseg-benchmark\")\n",
    "from cellseg_benchmark.dea_utils import (\n",
    "    add_group_sample_counts,\n",
    "    add_ensembl_id,\n",
    "    safe_sheet,\n",
    ")\n",
    "\n",
    "def get_args(test_args=None):\n",
    "    p = argparse.ArgumentParser(description=\"Run single-cell-based wilxocon DE test\")\n",
    "    p.add_argument(\"cohort\", help=\"Cohort name, e.g. foxf2\")\n",
    "    p.add_argument(\"seg_method\", help=\"Segmentation method, e.g. Cellpose_1_nuclei_model\")\n",
    "    p.add_argument(\"--sample_key\", default=\"sample\", help=\"obs column for donor/sample ID\")\n",
    "    p.add_argument(\"--subset_key\", default=\"cell_type\",\n",
    "                        help=\"obs column used to subset data (e.g. cell_type, cluster, region)\")\n",
    "    p.add_argument(\"--subset_values\", nargs=\"+\", default=None, \n",
    "                        help=\"Values of subset_key to process (default: all unique values)\")\n",
    "    p.add_argument(\"--condition_key\", default=\"genotype\", help=\"obs column for condition (e.g. genotype)\")\n",
    "    p.add_argument(\"--ref\", default=\"WT\", help=\"Reference group (default: WT)\")\n",
    "    p.add_argument(\"--test_groups\", nargs=\"+\", default=None,\n",
    "                        help=\"Groups to test vs reference (default: all groups in condition_key except --ref)\")\n",
    "    p.add_argument(\n",
    "        \"--overwrite\", \n",
    "        type=lambda x: str(x).lower() in [\"true\",\"1\",\"yes\"],\n",
    "        default=True,\n",
    "        help=\"Overwrite existing result files (default: True)\"\n",
    "    )\n",
    "\n",
    "    if test_args is not None:\n",
    "        return p.parse_args(test_args)\n",
    "    else:\n",
    "        return p.parse_args()"
   ]
  },
  {
   "cell_type": "code",
   "execution_count": 2,
   "id": "7e7fcf16-9283-478e-b060-8c86ebb8f4d3",
   "metadata": {},
   "outputs": [],
   "source": [
    "# Simulate CLI arguments inside Jupyter\n",
    "args = get_args([\n",
    "    \"aging\",\n",
    "    \"Cellpose_1_nuclei_model\",\n",
    "    \"--subset_key\", \"cell_type\",\n",
    "    \"--condition_key\", \"condition\",\n",
    "    \"--ref\", \"WT_3\",\n",
    "])"
   ]
  },
  {
   "cell_type": "code",
   "execution_count": 3,
   "id": "cade31e0-1737-40ef-957a-d1cb255939a1",
   "metadata": {},
   "outputs": [],
   "source": [
    "# Simulate CLI arguments inside Jupyter\n",
    "args = get_args([\n",
    "    \"foxf2\",\n",
    "    \"Cellpose_1_nuclei_model\",\n",
    "    \"--subset_key\", \"cell_type\",\n",
    "    \"--condition_key\", \"genotype\",\n",
    "    \"--ref\", \"WT\",\n",
    "])"
   ]
  },
  {
   "cell_type": "code",
   "execution_count": 3,
   "id": "daae90b4-c06d-420d-b378-d6a7be7e5849",
   "metadata": {},
   "outputs": [
    {
     "data": {
      "text/plain": [
       "Namespace(cohort='aging', seg_method='Cellpose_1_nuclei_model', sample_key='sample', subset_key='cell_type', subset_values=None, condition_key='condition', ref='WT_3', test_groups=None, overwrite=True)"
      ]
     },
     "execution_count": 3,
     "metadata": {},
     "output_type": "execute_result"
    }
   ],
   "source": [
    "args"
   ]
  },
  {
   "cell_type": "code",
   "execution_count": 4,
   "id": "8edfe4fd-09e5-4233-94d2-bbafda710f07",
   "metadata": {},
   "outputs": [],
   "source": [
    "# Logger setup\n",
    "logger = logging.getLogger(\"dea\")\n",
    "if not logger.handlers:\n",
    "    handler = logging.StreamHandler()\n",
    "    handler.setFormatter(logging.Formatter(\"%(asctime)s [%(levelname)s]: %(message)s\"))\n",
    "    logger.addHandler(handler)\n",
    "    logger.setLevel(logging.INFO)\n",
    "    logger.propagate = False"
   ]
  },
  {
   "cell_type": "code",
   "execution_count": 5,
   "id": "da1cc684-06b6-4f10-96f6-1444b9f2f9aa",
   "metadata": {},
   "outputs": [],
   "source": [
    "base_path = Path(\"/dss/dssfs03/pn52re/pn52re-dss-0001/cellseg-benchmark\")\n",
    "method_path = base_path / \"analysis\" / args.cohort / args.seg_method\n",
    "output_dir = method_path / \"dea\"\n",
    "output_dir.mkdir(parents=True, exist_ok=True)"
   ]
  },
  {
   "cell_type": "code",
   "execution_count": 6,
   "id": "20911229-e913-4688-927d-d2680eb92920",
   "metadata": {},
   "outputs": [
    {
     "name": "stderr",
     "output_type": "stream",
     "text": [
      "2025-10-29 17:13:58,819 [INFO]: Loading integrated AnnData...\n"
     ]
    }
   ],
   "source": [
    "logger.info(\"Loading integrated AnnData...\")\n",
    "adata = sc.read_h5ad(method_path / \"adatas\" / \"adata_integrated.h5ad.gz\")\n",
    "adata.obs[\"cell_type\"] = adata.obs[\"cell_type_revised\"]"
   ]
  },
  {
   "cell_type": "code",
   "execution_count": 7,
   "id": "f2c2f0d5-2fb1-4eae-bb89-845cfe6d6062",
   "metadata": {},
   "outputs": [],
   "source": [
    "# re-group cell types\n",
    "adata.obs[\"cell_type\"] = (\n",
    "    adata.obs[\"cell_type\"]\n",
    "    .astype(str)\n",
    "    .replace({\n",
    "        \"Tanycytes\": \"Ependymal\",\n",
    "        \"Astroependymal\": \"Astrocytes\",\n",
    "        \"Neurons-Glyc-Gaba\" : \"Neurons-Other\"\n",
    "    })\n",
    "    .astype(\"category\")\n",
    ")"
   ]
  },
  {
   "cell_type": "code",
   "execution_count": 8,
   "id": "c23f6344-c6fc-4891-ae24-595568144205",
   "metadata": {},
   "outputs": [
    {
     "data": {
      "text/plain": [
       "cell_type\n",
       "Oligodendrocytes            131904\n",
       "Neurons-Glut                124130\n",
       "Neurons-Dopa                 77224\n",
       "Astrocytes                   75424\n",
       "ECs                          49431\n",
       "Neurons-Granule-Immature     42337\n",
       "Neurons-Other                40619\n",
       "Undefined                    32012\n",
       "Microglia                    29106\n",
       "OPCs                         20832\n",
       "Pericytes                    15056\n",
       "VLMCs                         8346\n",
       "Ependymal                     6539\n",
       "SMCs                          5928\n",
       "Choroid-Plexus                5657\n",
       "Neurons-Gaba                  3499\n",
       "BAMs                          1933\n",
       "Immune-Other                   566\n",
       "Name: count, dtype: int64"
      ]
     },
     "execution_count": 8,
     "metadata": {},
     "output_type": "execute_result"
    }
   ],
   "source": [
    "adata.obs[\"cell_type\"].value_counts()"
   ]
  },
  {
   "cell_type": "code",
   "execution_count": 9,
   "id": "c6f7b45c-ac94-4a48-ac90-f69943db7e16",
   "metadata": {},
   "outputs": [
    {
     "name": "stderr",
     "output_type": "stream",
     "text": [
      "2025-10-29 17:21:41,619 [INFO]: Test groups inferred from 'condition': WT_6, WT_12, WT_18, WT_24\n",
      "2025-10-29 17:21:42,612 [INFO]: WT_3: 3 samples → aging_s8_r1, aging_s10_r1, aging_s10_r2\n",
      "2025-10-29 17:21:42,643 [INFO]: WT_6: 3 samples → aging_s1_r0, aging_s5_r1, aging_s7_r2\n",
      "2025-10-29 17:21:42,659 [INFO]: WT_12: 3 samples → aging_s5_r2, aging_s8_r0, aging_s12_r0\n",
      "2025-10-29 17:21:42,667 [INFO]: WT_18: 3 samples → aging_s6_r0, aging_s8_r2, aging_s11_r0\n",
      "2025-10-29 17:21:42,679 [INFO]: WT_24: 3 samples → aging_s10_r0, aging_s11_r1, aging_s11_r2\n"
     ]
    }
   ],
   "source": [
    "if args.test_groups is None:\n",
    "    groups = adata.obs[args.condition_key].dropna().unique().tolist()\n",
    "    args.test_groups = [g for g in groups if g != args.ref]\n",
    "    msg = (f\"Test groups inferred from '{args.condition_key}': {', '.join(map(str, args.test_groups))}\"\n",
    "           if args.test_groups else\n",
    "           f\"No test groups found different from ref '{args.ref}' under '{args.condition_key}'.\")\n",
    "    logger.info(msg)\n",
    "\n",
    "# sample overview\n",
    "if args.subset_values is None:\n",
    "    groups_to_process = sorted(adata.obs[args.subset_key].unique())\n",
    "else:\n",
    "    groups_to_process = args.subset_values\n",
    "for cond, df in adata.obs.groupby(args.condition_key, observed=True):\n",
    "    samples = df[args.sample_key].unique()\n",
    "    logger.info(f\"{cond}: {len(samples)} samples → {', '.join(samples)}\")"
   ]
  },
  {
   "cell_type": "code",
   "execution_count": 10,
   "id": "1bcd386f-bdc7-4d5f-9dd9-d2bb2414d35b",
   "metadata": {},
   "outputs": [
    {
     "data": {
      "text/plain": [
       "['WT_6', 'WT_12', 'WT_18', 'WT_24']"
      ]
     },
     "execution_count": 10,
     "metadata": {},
     "output_type": "execute_result"
    }
   ],
   "source": [
    "args.test_groups"
   ]
  },
  {
   "cell_type": "code",
   "execution_count": 11,
   "id": "4090db10-d58a-4b2d-b462-a28d9dcc5f18",
   "metadata": {},
   "outputs": [
    {
     "data": {
      "text/plain": [
       "'WT_3'"
      ]
     },
     "execution_count": 11,
     "metadata": {},
     "output_type": "execute_result"
    }
   ],
   "source": [
    "args.ref"
   ]
  },
  {
   "cell_type": "code",
   "execution_count": 12,
   "id": "ddbcd813-71a1-4393-8853-9959db7659b1",
   "metadata": {},
   "outputs": [],
   "source": [
    "adata.X = adata.layers['volume_log1p_norm'].copy()"
   ]
  },
  {
   "cell_type": "code",
   "execution_count": 13,
   "id": "07559211-6402-40ac-b929-ce5bb09169a8",
   "metadata": {},
   "outputs": [],
   "source": [
    "del adata.varm\n",
    "del adata.obsm\n",
    "del adata.obsp"
   ]
  },
  {
   "cell_type": "code",
   "execution_count": 14,
   "id": "a516ffbe-c88f-4812-a122-230000d12dff",
   "metadata": {},
   "outputs": [
    {
     "name": "stderr",
     "output_type": "stream",
     "text": [
      "2025-10-29 17:21:47,476 [INFO]: Run DEA...\n"
     ]
    }
   ],
   "source": [
    "logger.info(f\"Run DEA...\")"
   ]
  },
  {
   "cell_type": "code",
   "execution_count": 15,
   "id": "23909084-e233-42ce-a815-1abf65c498e5",
   "metadata": {},
   "outputs": [],
   "source": [
    "adata_dict = {}\n",
    "unique_groups = adata.obs[args.subset_key].unique().tolist()\n",
    "for key in unique_groups:\n",
    "    tmp = adata[adata.obs[args.subset_key] == key].copy()\n",
    "    adata_dict[key] = tmp\n",
    "adata_dict[\"all\"] = adata.copy()"
   ]
  },
  {
   "cell_type": "code",
   "execution_count": 16,
   "id": "da3b7380-5326-43ce-9b8c-4a8cea1af94e",
   "metadata": {},
   "outputs": [
    {
     "data": {
      "text/plain": [
       "dict_keys(['Neurons-Dopa', 'Astrocytes', 'Neurons-Granule-Immature', 'Pericytes', 'Undefined', 'VLMCs', 'OPCs', 'ECs', 'Oligodendrocytes', 'Neurons-Other', 'Microglia', 'Neurons-Gaba', 'SMCs', 'BAMs', 'Neurons-Glut', 'Ependymal', 'Choroid-Plexus', 'Immune-Other', 'all'])"
      ]
     },
     "execution_count": 16,
     "metadata": {},
     "output_type": "execute_result"
    }
   ],
   "source": [
    "adata_dict.keys()"
   ]
  },
  {
   "cell_type": "code",
   "execution_count": null,
   "id": "58d55ae9-3ccf-40e3-b4b5-6cff4d05b8bb",
   "metadata": {},
   "outputs": [],
   "source": []
  },
  {
   "cell_type": "code",
   "execution_count": null,
   "id": "201519db-cb0f-49a2-bbb2-62486d51c5b1",
   "metadata": {},
   "outputs": [],
   "source": []
  },
  {
   "cell_type": "code",
   "execution_count": null,
   "id": "42be6335-d819-489d-8ed9-a45b7261e4f0",
   "metadata": {},
   "outputs": [],
   "source": []
  },
  {
   "cell_type": "code",
   "execution_count": null,
   "id": "0622b376-148a-4eac-b287-0323dfe0c6e8",
   "metadata": {},
   "outputs": [],
   "source": []
  },
  {
   "cell_type": "code",
   "execution_count": 38,
   "id": "6bae8524-611f-46eb-9905-86ecc1c3d9cf",
   "metadata": {},
   "outputs": [],
   "source": [
    "# dissect DEA loop"
   ]
  },
  {
   "cell_type": "code",
   "execution_count": 16,
   "id": "19cc707b-44ff-4421-8167-d2191c3c9aef",
   "metadata": {},
   "outputs": [],
   "source": [
    "group_i = \"ECs\""
   ]
  },
  {
   "cell_type": "code",
   "execution_count": 17,
   "id": "d8f97b70-07bb-447b-b656-0416d10a40fa",
   "metadata": {},
   "outputs": [],
   "source": [
    "adata_tmp = adata_dict[group_i]"
   ]
  },
  {
   "cell_type": "code",
   "execution_count": 18,
   "id": "59d78f0f-2694-4307-b308-d513eb16c42a",
   "metadata": {},
   "outputs": [
    {
     "data": {
      "text/plain": [
       "AnnData object with n_obs × n_vars = 46836 × 500\n",
       "    obs: 'region', 'slide', 'cell_type_mmc_incl_low_quality_revised', 'cell_type_mmc_incl_low_quality_clusters', 'cell_type_mmc_incl_low_quality', 'cell_type_mmc_incl_mixed_revised', 'cell_type_mmc_incl_mixed_clusters', 'cell_type_mmc_incl_mixed', 'cell_type_mmc_raw_revised', 'cell_type_mmc_raw_clusters', 'cell_type_mmc_raw', 'area', 'volume_sum', 'volume_final', 'num_z_planes', 'size_normalized', 'surface_to_volume_ratio', 'sphericity', 'solidity', 'elongation', 'genotype', 'age_months', 'run_date', 'animal_id', 'organism', 'cohort', 'sample', 'n_counts', 'n_genes', 'condition', 'spatial_outlier', 'low_quality_cell', 'volume_outlier_cell', 'fov', 'cell_type'\n",
       "    var: 'n_cells'\n",
       "    uns: 'X_umap_20_50', 'X_umap_harmony_20_50', 'cell_type_mmc_raw_revised_colors', 'condition_colors', 'neighbors_harmony_20_50', 'neighbors_harmony_20_50_3D', 'pca', 'sample_colors', 'slide_colors'\n",
       "    layers: 'counts', 'librarysize_log1p_norm', 'volume_log1p_norm', 'volume_norm', 'zscore'"
      ]
     },
     "execution_count": 18,
     "metadata": {},
     "output_type": "execute_result"
    }
   ],
   "source": [
    "adata_tmp"
   ]
  },
  {
   "cell_type": "code",
   "execution_count": 19,
   "id": "fcf92b8a-ba02-44a6-a42a-622d861574cc",
   "metadata": {},
   "outputs": [
    {
     "data": {
      "text/plain": [
       "condition\n",
       "WT_6      14040\n",
       "PCKO_6    12755\n",
       "ECKO_6    10246\n",
       "GLKO_6     9795\n",
       "Name: count, dtype: int64"
      ]
     },
     "execution_count": 19,
     "metadata": {},
     "output_type": "execute_result"
    }
   ],
   "source": [
    "adata_tmp.obs[args.condition_key].value_counts()"
   ]
  },
  {
   "cell_type": "code",
   "execution_count": 43,
   "id": "45f240ae-ba68-46af-a0c2-7c2f8582968e",
   "metadata": {},
   "outputs": [],
   "source": [
    "sc.tl.rank_genes_groups(adata_tmp, groupby=args.condition_key, method='wilcoxon', reference=args.ref, corr_method='benjamini-hochberg')"
   ]
  },
  {
   "cell_type": "code",
   "execution_count": 44,
   "id": "de23b824-7abf-469d-879f-bd47a35a7ada",
   "metadata": {},
   "outputs": [],
   "source": [
    "dfs = []\n",
    "for g in args.test_groups:\n",
    "    df = sc.get.rank_genes_groups_df(adata_tmp, group=g).sort_values(\"pvals\")\n",
    "    df[\"test_group\"] = g   # add group name\n",
    "    dfs.append(df)\n",
    "\n",
    "df = pd.concat(dfs, ignore_index=True).rename(columns={\n",
    "    \"names\": \"gene\",\n",
    "    \"logfoldchanges\": \"log2FC\",\n",
    "    \"pvals\": \"PValue\",\n",
    "    \"pvals_adj\": \"FDR\"\n",
    "})\n",
    "df[\"FC\"] = np.power(2, df[\"log2FC\"])\n",
    "df[\"method\"] = \"wilcoxon_scanpy\"\n",
    "\n",
    "df = df[[\"gene\", \"FC\", \"log2FC\", \"PValue\", \"FDR\", \"scores\", \"method\", \"test_group\"]]"
   ]
  },
  {
   "cell_type": "code",
   "execution_count": 45,
   "id": "abcb63cd-92eb-49e4-85bd-a307d29c9707",
   "metadata": {},
   "outputs": [
    {
     "data": {
      "text/html": [
       "<div>\n",
       "<style scoped>\n",
       "    .dataframe tbody tr th:only-of-type {\n",
       "        vertical-align: middle;\n",
       "    }\n",
       "\n",
       "    .dataframe tbody tr th {\n",
       "        vertical-align: top;\n",
       "    }\n",
       "\n",
       "    .dataframe thead th {\n",
       "        text-align: right;\n",
       "    }\n",
       "</style>\n",
       "<table border=\"1\" class=\"dataframe\">\n",
       "  <thead>\n",
       "    <tr style=\"text-align: right;\">\n",
       "      <th></th>\n",
       "      <th>gene</th>\n",
       "      <th>FC</th>\n",
       "      <th>log2FC</th>\n",
       "      <th>PValue</th>\n",
       "      <th>FDR</th>\n",
       "      <th>scores</th>\n",
       "      <th>method</th>\n",
       "      <th>test_group</th>\n",
       "    </tr>\n",
       "  </thead>\n",
       "  <tbody>\n",
       "    <tr>\n",
       "      <th>0</th>\n",
       "      <td>Tie1</td>\n",
       "      <td>0.528614</td>\n",
       "      <td>-0.919715</td>\n",
       "      <td>1.051443e-215</td>\n",
       "      <td>5.257217e-213</td>\n",
       "      <td>-31.347527</td>\n",
       "      <td>wilcoxon_scanpy</td>\n",
       "      <td>WT_18</td>\n",
       "    </tr>\n",
       "    <tr>\n",
       "      <th>1</th>\n",
       "      <td>Abcg2</td>\n",
       "      <td>0.575072</td>\n",
       "      <td>-0.798185</td>\n",
       "      <td>1.172368e-210</td>\n",
       "      <td>2.930919e-208</td>\n",
       "      <td>-30.974953</td>\n",
       "      <td>wilcoxon_scanpy</td>\n",
       "      <td>WT_18</td>\n",
       "    </tr>\n",
       "    <tr>\n",
       "      <th>2</th>\n",
       "      <td>Slc7a5</td>\n",
       "      <td>0.638004</td>\n",
       "      <td>-0.648363</td>\n",
       "      <td>7.882947e-163</td>\n",
       "      <td>1.313825e-160</td>\n",
       "      <td>-27.192888</td>\n",
       "      <td>wilcoxon_scanpy</td>\n",
       "      <td>WT_18</td>\n",
       "    </tr>\n",
       "    <tr>\n",
       "      <th>3</th>\n",
       "      <td>Mlc1</td>\n",
       "      <td>0.592040</td>\n",
       "      <td>-0.756234</td>\n",
       "      <td>2.026269e-161</td>\n",
       "      <td>2.532836e-159</td>\n",
       "      <td>-27.073393</td>\n",
       "      <td>wilcoxon_scanpy</td>\n",
       "      <td>WT_18</td>\n",
       "    </tr>\n",
       "    <tr>\n",
       "      <th>4</th>\n",
       "      <td>Jph3</td>\n",
       "      <td>0.612741</td>\n",
       "      <td>-0.706650</td>\n",
       "      <td>6.625877e-135</td>\n",
       "      <td>6.625877e-133</td>\n",
       "      <td>-24.719345</td>\n",
       "      <td>wilcoxon_scanpy</td>\n",
       "      <td>WT_18</td>\n",
       "    </tr>\n",
       "    <tr>\n",
       "      <th>...</th>\n",
       "      <td>...</td>\n",
       "      <td>...</td>\n",
       "      <td>...</td>\n",
       "      <td>...</td>\n",
       "      <td>...</td>\n",
       "      <td>...</td>\n",
       "      <td>...</td>\n",
       "      <td>...</td>\n",
       "    </tr>\n",
       "    <tr>\n",
       "      <th>1995</th>\n",
       "      <td>Loxl1</td>\n",
       "      <td>1.312980</td>\n",
       "      <td>0.392845</td>\n",
       "      <td>9.443953e-01</td>\n",
       "      <td>9.520114e-01</td>\n",
       "      <td>0.069747</td>\n",
       "      <td>wilcoxon_scanpy</td>\n",
       "      <td>WT_12</td>\n",
       "    </tr>\n",
       "    <tr>\n",
       "      <th>1996</th>\n",
       "      <td>Spp1</td>\n",
       "      <td>1.390382</td>\n",
       "      <td>0.475482</td>\n",
       "      <td>9.540696e-01</td>\n",
       "      <td>9.598286e-01</td>\n",
       "      <td>0.057597</td>\n",
       "      <td>wilcoxon_scanpy</td>\n",
       "      <td>WT_12</td>\n",
       "    </tr>\n",
       "    <tr>\n",
       "      <th>1997</th>\n",
       "      <td>Gjb2</td>\n",
       "      <td>1.343286</td>\n",
       "      <td>0.425767</td>\n",
       "      <td>9.688473e-01</td>\n",
       "      <td>9.724725e-01</td>\n",
       "      <td>0.039054</td>\n",
       "      <td>wilcoxon_scanpy</td>\n",
       "      <td>WT_12</td>\n",
       "    </tr>\n",
       "    <tr>\n",
       "      <th>1998</th>\n",
       "      <td>Twist1</td>\n",
       "      <td>1.393594</td>\n",
       "      <td>0.478810</td>\n",
       "      <td>9.705276e-01</td>\n",
       "      <td>9.724725e-01</td>\n",
       "      <td>0.036947</td>\n",
       "      <td>wilcoxon_scanpy</td>\n",
       "      <td>WT_12</td>\n",
       "    </tr>\n",
       "    <tr>\n",
       "      <th>1999</th>\n",
       "      <td>Apoe</td>\n",
       "      <td>0.962030</td>\n",
       "      <td>-0.055846</td>\n",
       "      <td>9.778420e-01</td>\n",
       "      <td>9.778420e-01</td>\n",
       "      <td>0.027775</td>\n",
       "      <td>wilcoxon_scanpy</td>\n",
       "      <td>WT_12</td>\n",
       "    </tr>\n",
       "  </tbody>\n",
       "</table>\n",
       "<p>2000 rows × 8 columns</p>\n",
       "</div>"
      ],
      "text/plain": [
       "        gene        FC    log2FC         PValue            FDR     scores  \\\n",
       "0       Tie1  0.528614 -0.919715  1.051443e-215  5.257217e-213 -31.347527   \n",
       "1      Abcg2  0.575072 -0.798185  1.172368e-210  2.930919e-208 -30.974953   \n",
       "2     Slc7a5  0.638004 -0.648363  7.882947e-163  1.313825e-160 -27.192888   \n",
       "3       Mlc1  0.592040 -0.756234  2.026269e-161  2.532836e-159 -27.073393   \n",
       "4       Jph3  0.612741 -0.706650  6.625877e-135  6.625877e-133 -24.719345   \n",
       "...      ...       ...       ...            ...            ...        ...   \n",
       "1995   Loxl1  1.312980  0.392845   9.443953e-01   9.520114e-01   0.069747   \n",
       "1996    Spp1  1.390382  0.475482   9.540696e-01   9.598286e-01   0.057597   \n",
       "1997    Gjb2  1.343286  0.425767   9.688473e-01   9.724725e-01   0.039054   \n",
       "1998  Twist1  1.393594  0.478810   9.705276e-01   9.724725e-01   0.036947   \n",
       "1999    Apoe  0.962030 -0.055846   9.778420e-01   9.778420e-01   0.027775   \n",
       "\n",
       "               method test_group  \n",
       "0     wilcoxon_scanpy      WT_18  \n",
       "1     wilcoxon_scanpy      WT_18  \n",
       "2     wilcoxon_scanpy      WT_18  \n",
       "3     wilcoxon_scanpy      WT_18  \n",
       "4     wilcoxon_scanpy      WT_18  \n",
       "...               ...        ...  \n",
       "1995  wilcoxon_scanpy      WT_12  \n",
       "1996  wilcoxon_scanpy      WT_12  \n",
       "1997  wilcoxon_scanpy      WT_12  \n",
       "1998  wilcoxon_scanpy      WT_12  \n",
       "1999  wilcoxon_scanpy      WT_12  \n",
       "\n",
       "[2000 rows x 8 columns]"
      ]
     },
     "execution_count": 45,
     "metadata": {},
     "output_type": "execute_result"
    }
   ],
   "source": [
    "df"
   ]
  },
  {
   "cell_type": "code",
   "execution_count": null,
   "id": "ab12cad3-418f-4614-ba57-c3189cb04fac",
   "metadata": {},
   "outputs": [],
   "source": [
    "# end"
   ]
  },
  {
   "cell_type": "code",
   "execution_count": null,
   "id": "5b25a3e7-5f6b-49e8-960b-c6ac52e37357",
   "metadata": {},
   "outputs": [],
   "source": []
  },
  {
   "cell_type": "code",
   "execution_count": null,
   "id": "54e081ac-cf8e-441a-b052-ec44ba653e76",
   "metadata": {},
   "outputs": [],
   "source": []
  },
  {
   "cell_type": "code",
   "execution_count": 17,
   "id": "5a4570da-7b2f-4ecd-972b-7213dfd97288",
   "metadata": {},
   "outputs": [],
   "source": [
    "results = []\n",
    "for subset, adata_tmp in adata_dict.items():\n",
    "    \n",
    "    valid_groups = set(adata_tmp.obs[args.condition_key].astype(\"category\").cat.categories)\n",
    "\n",
    "    if args.ref not in valid_groups:\n",
    "        logger.warning(f\"Skipping subset '{subset}': reference group '{args.ref}' not found.\")\n",
    "        continue\n",
    "        \n",
    "    sc.tl.rank_genes_groups(\n",
    "        adata_tmp,\n",
    "        groupby=args.condition_key,\n",
    "        method=\"wilcoxon\",\n",
    "        reference=args.ref,\n",
    "        corr_method=\"benjamini-hochberg\",\n",
    "    )\n",
    "\n",
    "    take = [g for g in args.test_groups if g in valid_groups]\n",
    "\n",
    "    dfs = []\n",
    "    for g in take:\n",
    "        df = sc.get.rank_genes_groups_df(adata_tmp, group=g).sort_values(\"pvals\")\n",
    "        df = df.copy()\n",
    "        df[\"test_group\"] = g\n",
    "        dfs.append(df)\n",
    "\n",
    "    if not dfs:\n",
    "        continue\n",
    "\n",
    "    df = (pd.concat(dfs, ignore_index=True)\n",
    "            .rename(columns={\"names\":\"gene\",\"logfoldchanges\":\"log2FC\",\"pvals\":\"PValue\",\"pvals_adj\":\"FDR\"}))\n",
    "\n",
    "    df[\"FC\"] = np.power(2, df[\"log2FC\"])\n",
    "    df[\"method\"] = \"wilcoxon_scanpy\"\n",
    "    df[\"subset\"] = subset\n",
    "    df[\"ref\"] = args.ref\n",
    "\n",
    "    df = df[[\"subset\",\"gene\",\"FC\",\"log2FC\",\"PValue\",\"FDR\",\"scores\",\"method\",\"test_group\",\"ref\"]]\n",
    "    results.append(df)\n",
    "\n",
    "df_all = pd.concat(results, ignore_index=True).sort_values([\"subset\",\"test_group\",\"PValue\"])\n"
   ]
  },
  {
   "cell_type": "code",
   "execution_count": 18,
   "id": "706b10b5-4fd6-4224-94b0-812d0868dc92",
   "metadata": {
    "scrolled": true
   },
   "outputs": [
    {
     "name": "stderr",
     "output_type": "stream",
     "text": [
      "2025-10-29 17:32:19,896 [INFO]: Format output table...\n"
     ]
    }
   ],
   "source": [
    "logger.info(\"Format output table...\")\n",
    "df_all[\"test\"] = df_all[\"test_group\"].astype(str) + \"vs\" + df_all[\"ref\"].astype(str)\n",
    "df_all = add_group_sample_counts(\n",
    "    df_all, adata_dict,\n",
    "    condition_key=args.condition_key,\n",
    "    sample_key=args.sample_key,\n",
    "    ref=args.ref,\n",
    "    test_groups=args.test_groups,\n",
    "    subset_group=\"subset\"\n",
    ")"
   ]
  },
  {
   "cell_type": "code",
   "execution_count": 19,
   "id": "747972ef-a38b-45d4-abea-cd1baf9ff465",
   "metadata": {},
   "outputs": [
    {
     "name": "stderr",
     "output_type": "stream",
     "text": [
      "2025-10-29 17:32:20,592 [INFO]: Add ensembl gene ids...\n",
      "Input sequence provided is already in string format. No operation performed\n",
      "Input sequence provided is already in string format. No operation performed\n",
      "3 input query terms found no hit:\t['H2afj', 'Ctps', 'Pifo']\n",
      "Input sequence provided is already in string format. No operation performed\n",
      "Input sequence provided is already in string format. No operation performed\n",
      "2025-10-29 17:32:25,204 [INFO]: 500 unique symbols -> 500 mapped (100.0%)\n",
      "2025-10-29 17:32:25,222 [INFO]: Renamed aliases: H2afj->H2aj, Ctps->Ctps1, Pifo->Cimap3\n"
     ]
    }
   ],
   "source": [
    "logger.info(\"Add ensembl gene ids...\")\n",
    "df_all = add_ensembl_id(df_all, logger=logger)"
   ]
  },
  {
   "cell_type": "code",
   "execution_count": 20,
   "id": "c40d97da-412b-4ecc-89ad-8dce6f3a4649",
   "metadata": {},
   "outputs": [
    {
     "data": {
      "text/html": [
       "<div>\n",
       "<style scoped>\n",
       "    .dataframe tbody tr th:only-of-type {\n",
       "        vertical-align: middle;\n",
       "    }\n",
       "\n",
       "    .dataframe tbody tr th {\n",
       "        vertical-align: top;\n",
       "    }\n",
       "\n",
       "    .dataframe thead th {\n",
       "        text-align: right;\n",
       "    }\n",
       "</style>\n",
       "<table border=\"1\" class=\"dataframe\">\n",
       "  <thead>\n",
       "    <tr style=\"text-align: right;\">\n",
       "      <th></th>\n",
       "      <th>subset</th>\n",
       "      <th>gene</th>\n",
       "      <th>FC</th>\n",
       "      <th>log2FC</th>\n",
       "      <th>PValue</th>\n",
       "      <th>FDR</th>\n",
       "      <th>scores</th>\n",
       "      <th>method</th>\n",
       "      <th>test_group</th>\n",
       "      <th>ref</th>\n",
       "      <th>test</th>\n",
       "      <th>test_group_n</th>\n",
       "      <th>ref_n</th>\n",
       "      <th>ensembl_id</th>\n",
       "    </tr>\n",
       "  </thead>\n",
       "  <tbody>\n",
       "    <tr>\n",
       "      <th>0</th>\n",
       "      <td>Astrocytes</td>\n",
       "      <td>Mlc1</td>\n",
       "      <td>0.553369</td>\n",
       "      <td>-0.853688</td>\n",
       "      <td>0.000000e+00</td>\n",
       "      <td>0.000000e+00</td>\n",
       "      <td>-42.685715</td>\n",
       "      <td>wilcoxon_scanpy</td>\n",
       "      <td>WT_12</td>\n",
       "      <td>WT_3</td>\n",
       "      <td>WT_12vsWT_3</td>\n",
       "      <td>3</td>\n",
       "      <td>3</td>\n",
       "      <td>ENSMUSG00000035805</td>\n",
       "    </tr>\n",
       "    <tr>\n",
       "      <th>1</th>\n",
       "      <td>Astrocytes</td>\n",
       "      <td>Gja1</td>\n",
       "      <td>0.681958</td>\n",
       "      <td>-0.552246</td>\n",
       "      <td>0.000000e+00</td>\n",
       "      <td>0.000000e+00</td>\n",
       "      <td>-48.192207</td>\n",
       "      <td>wilcoxon_scanpy</td>\n",
       "      <td>WT_12</td>\n",
       "      <td>WT_3</td>\n",
       "      <td>WT_12vsWT_3</td>\n",
       "      <td>3</td>\n",
       "      <td>3</td>\n",
       "      <td>ENSMUSG00000050953</td>\n",
       "    </tr>\n",
       "    <tr>\n",
       "      <th>2</th>\n",
       "      <td>Astrocytes</td>\n",
       "      <td>Cspg5</td>\n",
       "      <td>0.565842</td>\n",
       "      <td>-0.821528</td>\n",
       "      <td>0.000000e+00</td>\n",
       "      <td>0.000000e+00</td>\n",
       "      <td>-38.539268</td>\n",
       "      <td>wilcoxon_scanpy</td>\n",
       "      <td>WT_12</td>\n",
       "      <td>WT_3</td>\n",
       "      <td>WT_12vsWT_3</td>\n",
       "      <td>3</td>\n",
       "      <td>3</td>\n",
       "      <td>ENSMUSG00000032482</td>\n",
       "    </tr>\n",
       "    <tr>\n",
       "      <th>3</th>\n",
       "      <td>Astrocytes</td>\n",
       "      <td>Itgb1</td>\n",
       "      <td>0.583135</td>\n",
       "      <td>-0.778098</td>\n",
       "      <td>4.150397e-243</td>\n",
       "      <td>5.187996e-241</td>\n",
       "      <td>-33.297832</td>\n",
       "      <td>wilcoxon_scanpy</td>\n",
       "      <td>WT_12</td>\n",
       "      <td>WT_3</td>\n",
       "      <td>WT_12vsWT_3</td>\n",
       "      <td>3</td>\n",
       "      <td>3</td>\n",
       "      <td>ENSMUSG00000025809</td>\n",
       "    </tr>\n",
       "    <tr>\n",
       "      <th>4</th>\n",
       "      <td>Astrocytes</td>\n",
       "      <td>Cat</td>\n",
       "      <td>0.602218</td>\n",
       "      <td>-0.731643</td>\n",
       "      <td>8.231685e-193</td>\n",
       "      <td>8.231685e-191</td>\n",
       "      <td>-29.620113</td>\n",
       "      <td>wilcoxon_scanpy</td>\n",
       "      <td>WT_12</td>\n",
       "      <td>WT_3</td>\n",
       "      <td>WT_12vsWT_3</td>\n",
       "      <td>3</td>\n",
       "      <td>3</td>\n",
       "      <td>ENSMUSG00000027187</td>\n",
       "    </tr>\n",
       "    <tr>\n",
       "      <th>...</th>\n",
       "      <td>...</td>\n",
       "      <td>...</td>\n",
       "      <td>...</td>\n",
       "      <td>...</td>\n",
       "      <td>...</td>\n",
       "      <td>...</td>\n",
       "      <td>...</td>\n",
       "      <td>...</td>\n",
       "      <td>...</td>\n",
       "      <td>...</td>\n",
       "      <td>...</td>\n",
       "      <td>...</td>\n",
       "      <td>...</td>\n",
       "      <td>...</td>\n",
       "    </tr>\n",
       "    <tr>\n",
       "      <th>37495</th>\n",
       "      <td>all</td>\n",
       "      <td>Acan</td>\n",
       "      <td>1.050432</td>\n",
       "      <td>0.070982</td>\n",
       "      <td>9.883883e-01</td>\n",
       "      <td>9.957624e-01</td>\n",
       "      <td>0.014554</td>\n",
       "      <td>wilcoxon_scanpy</td>\n",
       "      <td>WT_6</td>\n",
       "      <td>WT_3</td>\n",
       "      <td>WT_6vsWT_3</td>\n",
       "      <td>3</td>\n",
       "      <td>3</td>\n",
       "      <td>ENSMUSG00000030607</td>\n",
       "    </tr>\n",
       "    <tr>\n",
       "      <th>37496</th>\n",
       "      <td>all</td>\n",
       "      <td>Adamts1</td>\n",
       "      <td>1.120328</td>\n",
       "      <td>0.163921</td>\n",
       "      <td>9.897878e-01</td>\n",
       "      <td>9.957624e-01</td>\n",
       "      <td>0.012799</td>\n",
       "      <td>wilcoxon_scanpy</td>\n",
       "      <td>WT_6</td>\n",
       "      <td>WT_3</td>\n",
       "      <td>WT_6vsWT_3</td>\n",
       "      <td>3</td>\n",
       "      <td>3</td>\n",
       "      <td>ENSMUSG00000022893</td>\n",
       "    </tr>\n",
       "    <tr>\n",
       "      <th>37497</th>\n",
       "      <td>all</td>\n",
       "      <td>Ang4</td>\n",
       "      <td>1.010466</td>\n",
       "      <td>0.015021</td>\n",
       "      <td>9.927173e-01</td>\n",
       "      <td>9.967041e-01</td>\n",
       "      <td>0.009128</td>\n",
       "      <td>wilcoxon_scanpy</td>\n",
       "      <td>WT_6</td>\n",
       "      <td>WT_3</td>\n",
       "      <td>WT_6vsWT_3</td>\n",
       "      <td>3</td>\n",
       "      <td>3</td>\n",
       "      <td>ENSMUSG00000060615</td>\n",
       "    </tr>\n",
       "    <tr>\n",
       "      <th>37498</th>\n",
       "      <td>all</td>\n",
       "      <td>Pdgfa</td>\n",
       "      <td>1.038046</td>\n",
       "      <td>0.053871</td>\n",
       "      <td>9.979921e-01</td>\n",
       "      <td>9.990011e-01</td>\n",
       "      <td>0.002517</td>\n",
       "      <td>wilcoxon_scanpy</td>\n",
       "      <td>WT_6</td>\n",
       "      <td>WT_3</td>\n",
       "      <td>WT_6vsWT_3</td>\n",
       "      <td>3</td>\n",
       "      <td>3</td>\n",
       "      <td>ENSMUSG00000025856</td>\n",
       "    </tr>\n",
       "    <tr>\n",
       "      <th>37499</th>\n",
       "      <td>all</td>\n",
       "      <td>Notch3</td>\n",
       "      <td>1.060140</td>\n",
       "      <td>0.084255</td>\n",
       "      <td>9.990011e-01</td>\n",
       "      <td>9.990011e-01</td>\n",
       "      <td>0.001252</td>\n",
       "      <td>wilcoxon_scanpy</td>\n",
       "      <td>WT_6</td>\n",
       "      <td>WT_3</td>\n",
       "      <td>WT_6vsWT_3</td>\n",
       "      <td>3</td>\n",
       "      <td>3</td>\n",
       "      <td>ENSMUSG00000038146</td>\n",
       "    </tr>\n",
       "  </tbody>\n",
       "</table>\n",
       "<p>37500 rows × 14 columns</p>\n",
       "</div>"
      ],
      "text/plain": [
       "           subset     gene        FC    log2FC         PValue            FDR  \\\n",
       "0      Astrocytes     Mlc1  0.553369 -0.853688   0.000000e+00   0.000000e+00   \n",
       "1      Astrocytes     Gja1  0.681958 -0.552246   0.000000e+00   0.000000e+00   \n",
       "2      Astrocytes    Cspg5  0.565842 -0.821528   0.000000e+00   0.000000e+00   \n",
       "3      Astrocytes    Itgb1  0.583135 -0.778098  4.150397e-243  5.187996e-241   \n",
       "4      Astrocytes      Cat  0.602218 -0.731643  8.231685e-193  8.231685e-191   \n",
       "...           ...      ...       ...       ...            ...            ...   \n",
       "37495         all     Acan  1.050432  0.070982   9.883883e-01   9.957624e-01   \n",
       "37496         all  Adamts1  1.120328  0.163921   9.897878e-01   9.957624e-01   \n",
       "37497         all     Ang4  1.010466  0.015021   9.927173e-01   9.967041e-01   \n",
       "37498         all    Pdgfa  1.038046  0.053871   9.979921e-01   9.990011e-01   \n",
       "37499         all   Notch3  1.060140  0.084255   9.990011e-01   9.990011e-01   \n",
       "\n",
       "          scores           method test_group   ref         test  test_group_n  \\\n",
       "0     -42.685715  wilcoxon_scanpy      WT_12  WT_3  WT_12vsWT_3             3   \n",
       "1     -48.192207  wilcoxon_scanpy      WT_12  WT_3  WT_12vsWT_3             3   \n",
       "2     -38.539268  wilcoxon_scanpy      WT_12  WT_3  WT_12vsWT_3             3   \n",
       "3     -33.297832  wilcoxon_scanpy      WT_12  WT_3  WT_12vsWT_3             3   \n",
       "4     -29.620113  wilcoxon_scanpy      WT_12  WT_3  WT_12vsWT_3             3   \n",
       "...          ...              ...        ...   ...          ...           ...   \n",
       "37495   0.014554  wilcoxon_scanpy       WT_6  WT_3   WT_6vsWT_3             3   \n",
       "37496   0.012799  wilcoxon_scanpy       WT_6  WT_3   WT_6vsWT_3             3   \n",
       "37497   0.009128  wilcoxon_scanpy       WT_6  WT_3   WT_6vsWT_3             3   \n",
       "37498   0.002517  wilcoxon_scanpy       WT_6  WT_3   WT_6vsWT_3             3   \n",
       "37499   0.001252  wilcoxon_scanpy       WT_6  WT_3   WT_6vsWT_3             3   \n",
       "\n",
       "       ref_n          ensembl_id  \n",
       "0          3  ENSMUSG00000035805  \n",
       "1          3  ENSMUSG00000050953  \n",
       "2          3  ENSMUSG00000032482  \n",
       "3          3  ENSMUSG00000025809  \n",
       "4          3  ENSMUSG00000027187  \n",
       "...      ...                 ...  \n",
       "37495      3  ENSMUSG00000030607  \n",
       "37496      3  ENSMUSG00000022893  \n",
       "37497      3  ENSMUSG00000060615  \n",
       "37498      3  ENSMUSG00000025856  \n",
       "37499      3  ENSMUSG00000038146  \n",
       "\n",
       "[37500 rows x 14 columns]"
      ]
     },
     "execution_count": 20,
     "metadata": {},
     "output_type": "execute_result"
    }
   ],
   "source": [
    "df_all"
   ]
  },
  {
   "cell_type": "code",
   "execution_count": 21,
   "id": "f759074f-6560-47ad-87b4-e4c060ea5597",
   "metadata": {},
   "outputs": [
    {
     "name": "stderr",
     "output_type": "stream",
     "text": [
      "2025-10-29 17:32:25,390 [INFO]: Export table(s)...\n",
      "2025-10-29 17:32:36,122 [INFO]:   Wrote: /dss/dssfs03/pn52re/pn52re-dss-0001/cellseg-benchmark/analysis/aging/Cellpose_1_nuclei_model/dea/aging-by-celltype_wilcoxon_scanpy_WT_12vsWT_3.xlsx\n",
      "2025-10-29 17:32:44,186 [INFO]:   Wrote: /dss/dssfs03/pn52re/pn52re-dss-0001/cellseg-benchmark/analysis/aging/Cellpose_1_nuclei_model/dea/aging-by-celltype_wilcoxon_scanpy_WT_18vsWT_3.xlsx\n",
      "2025-10-29 17:32:50,890 [INFO]:   Wrote: /dss/dssfs03/pn52re/pn52re-dss-0001/cellseg-benchmark/analysis/aging/Cellpose_1_nuclei_model/dea/aging-by-celltype_wilcoxon_scanpy_WT_24vsWT_3.xlsx\n",
      "2025-10-29 17:32:57,774 [INFO]:   Wrote: /dss/dssfs03/pn52re/pn52re-dss-0001/cellseg-benchmark/analysis/aging/Cellpose_1_nuclei_model/dea/aging-by-celltype_wilcoxon_scanpy_WT_6vsWT_3.xlsx\n",
      "2025-10-29 17:32:57,868 [INFO]: Done.\n"
     ]
    }
   ],
   "source": [
    "logger.info(\"Export table(s)...\")\n",
    "subset_key_clean = re.sub(r'[_-]', '', args.subset_key)\n",
    "name = f\"{args.cohort}-by-{subset_key_clean}\"\n",
    "\n",
    "for (method, test), df_mt in df_all.groupby([\"method\", \"test\"]):\n",
    "    df_mt = df_mt.loc[:, df_mt.notna().any()]  # drop all-NaN cols\n",
    "    xlsx = output_dir / f\"{name}_{method}_{test}.xlsx\"\n",
    "    if xlsx.exists() and not args.overwrite:\n",
    "        logger.info(f\"  Exists, skip: {xlsx}\")\n",
    "        continue\n",
    "    used = set()\n",
    "    with pd.ExcelWriter(xlsx, engine=\"xlsxwriter\") as writer:\n",
    "        for gid, g in df_mt.groupby(\"subset\", sort=True):\n",
    "            g.sort_values(\"PValue\").to_excel(\n",
    "                writer, sheet_name=safe_sheet(gid, used), index=False\n",
    "            )\n",
    "    logger.info(f\"  Wrote: {xlsx}\")\n",
    "        \n",
    "logger.info(f\"Done.\")"
   ]
  },
  {
   "cell_type": "code",
   "execution_count": null,
   "id": "5c22e7bc-c39a-40b9-9e44-a8ba44a6b0c7",
   "metadata": {},
   "outputs": [],
   "source": []
  },
  {
   "cell_type": "code",
   "execution_count": null,
   "id": "58cc47ff-400b-4f56-86fc-1d16fcf69b5c",
   "metadata": {},
   "outputs": [],
   "source": []
  },
  {
   "cell_type": "code",
   "execution_count": null,
   "id": "11d235f5-4660-4e70-8181-56225df8445f",
   "metadata": {},
   "outputs": [],
   "source": []
  },
  {
   "cell_type": "code",
   "execution_count": null,
   "id": "85c0929e-4e37-47d2-969f-e56d443def40",
   "metadata": {},
   "outputs": [],
   "source": []
  },
  {
   "cell_type": "code",
   "execution_count": null,
   "id": "2ba006bc-97eb-49fd-ab75-b47e1846965e",
   "metadata": {},
   "outputs": [],
   "source": []
  },
  {
   "cell_type": "code",
   "execution_count": null,
   "id": "47307ce3-6a68-4ee4-bba4-812d1261a67e",
   "metadata": {},
   "outputs": [],
   "source": []
  },
  {
   "cell_type": "code",
   "execution_count": null,
   "id": "7cc190c5-5591-49ce-a17f-2ba820db5c3f",
   "metadata": {},
   "outputs": [],
   "source": []
  },
  {
   "cell_type": "code",
   "execution_count": null,
   "id": "abf48011-01f5-4ac0-a4dd-31e2ed08d0f8",
   "metadata": {},
   "outputs": [],
   "source": []
  },
  {
   "cell_type": "code",
   "execution_count": null,
   "id": "9a923b8b-b223-443b-90c1-624f5265c4a1",
   "metadata": {},
   "outputs": [],
   "source": []
  },
  {
   "cell_type": "code",
   "execution_count": null,
   "id": "4ba5d5f3-16a2-4d3d-a4ad-56d23be72cd9",
   "metadata": {},
   "outputs": [],
   "source": []
  },
  {
   "cell_type": "code",
   "execution_count": null,
   "id": "3e584dc6-af07-4abe-9025-3e2ec4d2f4f7",
   "metadata": {},
   "outputs": [],
   "source": []
  },
  {
   "cell_type": "code",
   "execution_count": null,
   "id": "50acea22-ad7d-435d-9678-73fb1e5e9d0b",
   "metadata": {},
   "outputs": [],
   "source": []
  },
  {
   "cell_type": "code",
   "execution_count": 18,
   "id": "8adcf8c7-3e76-4ec0-93c4-a2da6f031d5b",
   "metadata": {},
   "outputs": [],
   "source": []
  },
  {
   "cell_type": "code",
   "execution_count": null,
   "id": "f98c1a65-7f3f-4c38-b074-4a67a4948210",
   "metadata": {},
   "outputs": [],
   "source": []
  }
 ],
 "metadata": {
  "kernelspec": {
   "display_name": "Python 3 (ipykernel)",
   "language": "python",
   "name": "python3"
  },
  "language_info": {
   "codemirror_mode": {
    "name": "ipython",
    "version": 3
   },
   "file_extension": ".py",
   "mimetype": "text/x-python",
   "name": "python",
   "nbconvert_exporter": "python",
   "pygments_lexer": "ipython3",
   "version": "3.12.8"
  }
 },
 "nbformat": 4,
 "nbformat_minor": 5
}
