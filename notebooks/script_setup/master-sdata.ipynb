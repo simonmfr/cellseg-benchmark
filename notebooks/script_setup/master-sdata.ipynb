{
 "cells": [
  {
   "cell_type": "code",
   "execution_count": 1,
   "id": "fc67cbb7-6942-461f-927b-fbfa760aab30",
   "metadata": {},
   "outputs": [
    {
     "name": "stderr",
     "output_type": "stream",
     "text": [
      "/home/ubuntu/miniforge3/lib/python3.12/site-packages/dask/dataframe/__init__.py:31: FutureWarning: The legacy Dask DataFrame implementation is deprecated and will be removed in a future version. Set the configuration option `dataframe.query-planning` to `True` or None to enable the new Dask Dataframe implementation and silence this warning.\n",
      "  warnings.warn(\n",
      "/home/ubuntu/miniforge3/lib/python3.12/site-packages/anndata/__init__.py:44: FutureWarning: Importing read_text from `anndata` is deprecated. Import anndata.io.read_text instead.\n",
      "  return module_get_attr_redirect(attr_name, deprecated_mapping=_DEPRECATED)\n"
     ]
    }
   ],
   "source": [
    "# ruff: noqa\n",
    "import argparse\n",
    "import logging\n",
    "import os\n",
    "from os.path import join\n",
    "import sys\n",
    "import warnings\n",
    "\n",
    "from spatialdata import read_zarr\n",
    "\n",
    "sys.path.insert(1, \"/dss/dsshome1/0C/ra98gaq/Git/cellseg-benchmark\")\n",
    "\n",
    "from cellseg_benchmark import sdata_utils as su"
   ]
  },
  {
   "cell_type": "code",
   "execution_count": 2,
   "id": "ce738b48-5560-46fa-a23d-a9605756b69d",
   "metadata": {},
   "outputs": [],
   "source": [
    "#warnings.filterwarnings(\"ignore\")"
   ]
  },
  {
   "cell_type": "code",
   "execution_count": 3,
   "id": "2e9b7684-d8e9-41d5-8d18-587a53d400fd",
   "metadata": {},
   "outputs": [],
   "source": [
    "logger = logging.getLogger(\"shape_mapping\")\n",
    "logger.setLevel(logging.INFO)\n",
    "handler = logging.StreamHandler()\n",
    "handler.setFormatter(logging.Formatter(\"%(asctime)s [%(levelname)s]: %(message)s\"))\n",
    "logger.addHandler(handler)"
   ]
  },
  {
   "cell_type": "code",
   "execution_count": 4,
   "id": "a5540378-67c5-4759-af56-628f7ee9a7f2",
   "metadata": {},
   "outputs": [],
   "source": [
    "def get_args(test_args=None):  # noqa: D103\n",
    "    p = argparse.ArgumentParser(\n",
    "    description=\"Creates a master sdata for a given sample, containing multiple segmentation results.\"\n",
    "    )\n",
    "    p.add_argument(\"sample\", help=\"Sample name.\")\n",
    "    p.add_argument(\n",
    "        \"data_path\",\n",
    "        help=\"Path to folder with merscope output data (e.g. /cohort1/slide2/region0).\",\n",
    "    )\n",
    "    p.add_argument(\n",
    "        \"zmode\", choices=[\"z3\"], help=\"Mode of master sdata. Either 'z3' or '3d' (currently only z3 is implemented).\"\n",
    "    )\n",
    "    p.add_argument(\"data_dir\", help=\"Output data folder.\")\n",
    "    p.add_argument(\n",
    "        \"--n_ficture\",\n",
    "        default=21,\n",
    "        type=int,\n",
    "        help=\"Consider Ficture model with n_ficture factors.\",\n",
    "    )\n",
    "    p.add_argument(\"--run_date\", type=str, help=\"run date (YYYYMMDD).\", default=None)\n",
    "    p.add_argument(\"--organism\", type=str, help=\"organism.\", default=None)\n",
    "    p.add_argument(\"--slide\", type=str, help=\"slide.\", default=None)\n",
    "    p.add_argument(\"--region\", type=str, help=\"region.\", default=None)\n",
    "    p.add_argument(\"--cohort\", type=str, help=\"cohort.\", default=None)\n",
    "    p.add_argument(\"--obs\", action=\"append\", default=[], metavar=\"KEY=VAL\",\n",
    "        help=\"Extra covariates to add to adata.obs (repeatable), e.g. --obs tissue=brain.\")\n",
    "    if test_args is not None:\n",
    "        return p.parse_args(test_args)\n",
    "    else:\n",
    "        return p.parse_args()"
   ]
  },
  {
   "cell_type": "code",
   "execution_count": 5,
   "id": "6634b962-3aca-4846-9640-05072b888de8",
   "metadata": {},
   "outputs": [],
   "source": [
    "# Simulate CLI arguments inside Jupyter\n",
    "args = get_args(\n",
    "    [\n",
    "        \"SynergyLung_s1_r0\",\n",
    "        \"/dss/dssfs03/pn52re/pn52re-dss-0000/Synergy-projects-temp/MouseLung-Sijia/output-20250704_AGLiesz-Sijia-MouseLung-Slide1-Stroke_VMSC03901/region_R1-Stroke\",\n",
    "        \"z3\",\n",
    "        \"/dss/dssfs03/pn52re/pn52re-dss-0001/cellseg-benchmark\",\n",
    "        \"--cohort\",\n",
    "        \"SynergyLung\",\n",
    "        \"--slide\",\n",
    "        \"1\",\n",
    "        \"--region\",\n",
    "        \"0\",\n",
    "        \"--organism\",\n",
    "        \"mouse\",\n",
    "        \"--run_date\",\n",
    "        \"20250704\",\n",
    "        \"--obs\",\n",
    "        \"condition=stroke\",\n",
    "    ]\n",
    ")"
   ]
  },
  {
   "cell_type": "code",
   "execution_count": 7,
   "id": "1ba6a19d-0250-40a1-946c-f516a0c06f38",
   "metadata": {},
   "outputs": [],
   "source": [
    "# Simulate CLI arguments inside Jupyter\n",
    "args = get_args(\n",
    "    [\n",
    "        \"aging_s11_r0\",\n",
    "        \"/dss/dssfs03/pn52re/pn52re-dss-0000/202405-Htra1-and-Aging/merfish_output/20250508_Aging-Slide10-cp-WT308_3m-WT309_3m-WT132_24m/region_0-WT132_24m\",\n",
    "        \"z3\",\n",
    "        \"/dss/dssfs03/pn52re/pn52re-dss-0001/cellseg-benchmark\",\n",
    "        \"--cohort\",\n",
    "        \"aging\",\n",
    "        \"--slide\",\n",
    "        \"10\",\n",
    "        \"--region\",\n",
    "        \"0\",\n",
    "        \"--organism\",\n",
    "        \"mouse\",\n",
    "        \"--run_date\",\n",
    "        \"20250508\",\n",
    "        \"--obs\",\n",
    "        \"genotype=WT\",\n",
    "        \"--obs\",\n",
    "        \"age_months=24\",\n",
    "        \"--obs\",\n",
    "        \"animal_id=132\"\n",
    "    ]\n",
    ")"
   ]
  },
  {
   "cell_type": "code",
   "execution_count": 12,
   "id": "1a4ac231-0cc5-412e-b5f7-7d60b233e81b",
   "metadata": {},
   "outputs": [],
   "source": [
    "# Simulate CLI arguments inside Jupyter\n",
    "args = get_args(\n",
    "    [\n",
    "        \"htra1_s4_r1\",\n",
    "        \"/dss/dssfs03/pn52re/pn52re-dss-0000/202405-Htra1-and-Aging/merfish_output/20240829_Htra1-Slide04-cp-TG69-KO305/region_1-TG69\",\n",
    "        \"z3\",\n",
    "        \"/dss/dssfs03/pn52re/pn52re-dss-0001/cellseg-benchmark\",\n",
    "        \"--cohort\",\n",
    "        \"htra1\",\n",
    "        \"--slide\",\n",
    "        \"4\",\n",
    "        \"--region\",\n",
    "        \"1\",\n",
    "        \"--organism\",\n",
    "        \"mouse\",\n",
    "        \"--run_date\",\n",
    "        \"20240829\",\n",
    "        \"--obs\",\n",
    "        \"genotype=TG\",\n",
    "        \"--obs\",\n",
    "        \"age_months=6\",\n",
    "        \"--obs\",\n",
    "        \"animal_id=69\"\n",
    "    ]\n",
    ")"
   ]
  },
  {
   "cell_type": "code",
   "execution_count": 13,
   "id": "e0f2b3ea-e075-4dbb-bec8-295d22704bbe",
   "metadata": {},
   "outputs": [
    {
     "data": {
      "text/plain": [
       "Namespace(sample='htra1_s4_r1', data_path='/dss/dssfs03/pn52re/pn52re-dss-0000/202405-Htra1-and-Aging/merfish_output/20240829_Htra1-Slide04-cp-TG69-KO305/region_1-TG69', zmode='z3', data_dir='/dss/dssfs03/pn52re/pn52re-dss-0001/cellseg-benchmark', n_ficture=21, run_date='20240829', organism='mouse', slide='4', region='1', cohort='htra1', obs=['genotype=TG', 'age_months=6', 'animal_id=69'])"
      ]
     },
     "execution_count": 13,
     "metadata": {},
     "output_type": "execute_result"
    }
   ],
   "source": [
    "args"
   ]
  },
  {
   "cell_type": "code",
   "execution_count": 14,
   "id": "a6e8c6f7-d1b6-446e-928a-446fcecf7dfb",
   "metadata": {},
   "outputs": [],
   "source": [
    "NONES = {\"\", \"None\", \"none\", \"null\", \"NULL\", None}\n",
    "for k in [\"organism\", \"slide\", \"region\", \"cohort\"]:\n",
    "    if getattr(args, k) in NONES:\n",
    "        setattr(args, k, None)"
   ]
  },
  {
   "cell_type": "code",
   "execution_count": 15,
   "id": "1116f234-f868-4c70-a27b-1a04ab9fa6d1",
   "metadata": {},
   "outputs": [],
   "source": [
    "extra_obs = {}\n",
    "for kv in args.obs:\n",
    "    k, v = kv.split(\"=\", 1)\n",
    "    extra_obs[k] = None if v in NONES else v"
   ]
  },
  {
   "cell_type": "code",
   "execution_count": 16,
   "id": "d6f9fe49-ef0a-4428-a9f6-77ba0400309e",
   "metadata": {},
   "outputs": [
    {
     "data": {
      "text/plain": [
       "{'genotype': 'TG', 'age_months': '6', 'animal_id': '69'}"
      ]
     },
     "execution_count": 16,
     "metadata": {},
     "output_type": "execute_result"
    }
   ],
   "source": [
    "extra_obs"
   ]
  },
  {
   "cell_type": "code",
   "execution_count": 17,
   "id": "05166743-f080-4ec4-b95e-53e3ec98e353",
   "metadata": {},
   "outputs": [],
   "source": [
    "#"
   ]
  },
  {
   "cell_type": "code",
   "execution_count": 18,
   "id": "2749af44-96c1-4ff3-8815-136d83904408",
   "metadata": {},
   "outputs": [
    {
     "name": "stderr",
     "output_type": "stream",
     "text": [
      "2025-10-24 10:16:44,679 [INFO]: Importing images and points...\n"
     ]
    },
    {
     "name": "stdout",
     "output_type": "stream",
     "text": [
      "Skipping htra1_s4_r1: z3 file already exists\n",
      "CPU times: user 4.01 ms, sys: 552 μs, total: 4.56 ms\n",
      "Wall time: 4.91 ms\n"
     ]
    }
   ],
   "source": [
    "%%time\n",
    "logger.info(\"Importing images and points...\")\n",
    "su.process_merscope(args.sample, args.data_dir, args.data_path, zmode=args.zmode)"
   ]
  },
  {
   "cell_type": "code",
   "execution_count": 19,
   "id": "45cf41d0-dbaa-435e-b4a4-84108f83a07b",
   "metadata": {},
   "outputs": [
    {
     "name": "stderr",
     "output_type": "stream",
     "text": [
      "version mismatch: detected: RasterFormatV02, requested: FormatV04\n",
      "/home/ubuntu/miniforge3/lib/python3.12/site-packages/zarr/creation.py:610: UserWarning: ignoring keyword argument 'read_only'\n",
      "  compressor, fill_value = _kwargs_compat(compressor, fill_value, kwargs)\n",
      "/home/ubuntu/miniforge3/lib/python3.12/site-packages/zarr/creation.py:610: UserWarning: ignoring keyword argument 'read_only'\n",
      "  compressor, fill_value = _kwargs_compat(compressor, fill_value, kwargs)\n",
      "/home/ubuntu/miniforge3/lib/python3.12/site-packages/zarr/creation.py:610: UserWarning: ignoring keyword argument 'read_only'\n",
      "  compressor, fill_value = _kwargs_compat(compressor, fill_value, kwargs)\n",
      "/home/ubuntu/miniforge3/lib/python3.12/site-packages/zarr/creation.py:610: UserWarning: ignoring keyword argument 'read_only'\n",
      "  compressor, fill_value = _kwargs_compat(compressor, fill_value, kwargs)\n",
      "/home/ubuntu/miniforge3/lib/python3.12/site-packages/zarr/creation.py:610: UserWarning: ignoring keyword argument 'read_only'\n",
      "  compressor, fill_value = _kwargs_compat(compressor, fill_value, kwargs)\n"
     ]
    }
   ],
   "source": [
    "sdata_path = join(args.data_dir, \"samples\", args.sample)\n",
    "sdata_main = read_zarr(join(sdata_path, \"sdata_z3.zarr\"))"
   ]
  },
  {
   "cell_type": "code",
   "execution_count": 20,
   "id": "8472af9e-a38a-488f-b77d-026a1ad7aa47",
   "metadata": {
    "scrolled": true
   },
   "outputs": [
    {
     "data": {
      "text/plain": [
       "SpatialData object, with associated Zarr store: /dss/dssfs03/pn52re/pn52re-dss-0001/cellseg-benchmark/samples/htra1_s4_r1/sdata_z3.zarr\n",
       "├── Images\n",
       "│     └── 'htra1_s4_r1_z3': DataTree[cyx] (7, 56200, 67420), (7, 28100, 33710), (7, 14050, 16855), (7, 7025, 8427), (7, 3512, 4213)\n",
       "├── Points\n",
       "│     └── 'htra1_s4_r1_transcripts': DataFrame with shape: (<Delayed>, 9) (2D points)\n",
       "├── Shapes\n",
       "│     └── 'boundaries_Cellpose_1_nuclei_model': GeoDataFrame shape: (52608, 1) (2D shapes)\n",
       "└── Tables\n",
       "      └── 'adata_Cellpose_1_nuclei_model': AnnData (52608, 500)\n",
       "with coordinate systems:\n",
       "    ▸ 'global', with elements:\n",
       "        htra1_s4_r1_z3 (Images), htra1_s4_r1_transcripts (Points), boundaries_Cellpose_1_nuclei_model (Shapes)\n",
       "    ▸ 'micron', with elements:\n",
       "        htra1_s4_r1_z3 (Images), htra1_s4_r1_transcripts (Points), boundaries_Cellpose_1_nuclei_model (Shapes)\n",
       "    ▸ 'pixel', with elements:\n",
       "        htra1_s4_r1_z3 (Images), htra1_s4_r1_transcripts (Points), boundaries_Cellpose_1_nuclei_model (Shapes)"
      ]
     },
     "execution_count": 20,
     "metadata": {},
     "output_type": "execute_result"
    }
   ],
   "source": [
    "sdata_main"
   ]
  },
  {
   "cell_type": "code",
   "execution_count": null,
   "id": "8ec0345e-1f81-4099-a347-ce92d8ec3ae5",
   "metadata": {},
   "outputs": [],
   "source": [
    "sdata_main.tables[\"adata_Cellpose_1_nuclei_model\"].obs"
   ]
  },
  {
   "cell_type": "code",
   "execution_count": null,
   "id": "f24391c5-f197-4447-ae37-11c70f821ce0",
   "metadata": {},
   "outputs": [],
   "source": [
    "sdata_main.tables[\"adata_Cellpose_1_nuclei_model\"].obs.columns"
   ]
  },
  {
   "cell_type": "code",
   "execution_count": null,
   "id": "496703c2-c3b4-431d-9c7b-cc11cf3102cb",
   "metadata": {
    "scrolled": true
   },
   "outputs": [],
   "source": [
    "sdata_main.tables[\"adata_Cellpose_1_nuclei_model\"].obs[\"age_months\"]"
   ]
  },
  {
   "cell_type": "code",
   "execution_count": null,
   "id": "2f39ec19-6c54-49cb-a90f-a7b50ec57117",
   "metadata": {
    "scrolled": true
   },
   "outputs": [],
   "source": [
    "sdata_main.tables[\"adata_Cellpose_1_nuclei_model\"].obs[\"genotype\"]"
   ]
  },
  {
   "cell_type": "code",
   "execution_count": null,
   "id": "5d5b6a27-d515-4487-80a7-7914874aa73e",
   "metadata": {
    "scrolled": true
   },
   "outputs": [],
   "source": [
    "sdata_main.tables[\"adata_Cellpose_1_nuclei_model\"].obs[\"animal_id\"]"
   ]
  },
  {
   "cell_type": "code",
   "execution_count": null,
   "id": "b0d20f29-59d1-4f55-8f2c-e880a2a58c5f",
   "metadata": {},
   "outputs": [],
   "source": []
  },
  {
   "cell_type": "code",
   "execution_count": null,
   "id": "e8922b89-f2b9-4d7f-9c3f-e04f6ea1423f",
   "metadata": {},
   "outputs": [],
   "source": []
  },
  {
   "cell_type": "code",
   "execution_count": null,
   "id": "3098325e-1538-40d2-9ea6-8b964e50aee4",
   "metadata": {},
   "outputs": [],
   "source": []
  },
  {
   "cell_type": "code",
   "execution_count": 21,
   "id": "540f9276-3627-4729-ab75-5fec289ed3a0",
   "metadata": {},
   "outputs": [
    {
     "name": "stderr",
     "output_type": "stream",
     "text": [
      "2025-10-24 10:17:33,596 [INFO]: Integrating segmentation data from available methods into main sdata...\n"
     ]
    }
   ],
   "source": [
    "logger.info(\"Integrating segmentation data from available methods into main sdata...\")\n",
    "# only work on methods with actual data available\n",
    "seg_methods = [\n",
    "    method\n",
    "    for method in os.listdir(join(sdata_path, \"results\"))\n",
    "    if os.path.isdir(join(sdata_path, \"results\", method, \"sdata.zarr\"))\n",
    "]"
   ]
  },
  {
   "cell_type": "code",
   "execution_count": 22,
   "id": "df03b81b-7ac8-48a6-997f-0eb6b6ba9e3d",
   "metadata": {},
   "outputs": [
    {
     "data": {
      "text/plain": [
       "['Cellpose_1_nuclei_model',\n",
       " 'Proseg_Cellpose_1_nuclei_model',\n",
       " 'Baysor_2D_Cellpose_1_nuclei_model_1.0']"
      ]
     },
     "execution_count": 22,
     "metadata": {},
     "output_type": "execute_result"
    }
   ],
   "source": [
    "seg_methods"
   ]
  },
  {
   "cell_type": "code",
   "execution_count": null,
   "id": "1210eb36-7104-41d4-b839-1367c5eb172d",
   "metadata": {},
   "outputs": [],
   "source": []
  },
  {
   "cell_type": "code",
   "execution_count": 23,
   "id": "ba8e9d37-18c6-4a9a-8b1a-741590e63c7e",
   "metadata": {},
   "outputs": [
    {
     "data": {
      "text/plain": [
       "{'genotype': 'TG', 'age_months': '6', 'animal_id': '69'}"
      ]
     },
     "execution_count": 23,
     "metadata": {},
     "output_type": "execute_result"
    }
   ],
   "source": [
    "extra_obs"
   ]
  },
  {
   "cell_type": "code",
   "execution_count": 24,
   "id": "a0c46b2e-d7fe-4695-bc21-21f8249a8b12",
   "metadata": {
    "scrolled": true
   },
   "outputs": [
    {
     "name": "stderr",
     "output_type": "stream",
     "text": [
      "  0%|          | 0/3 [00:00<?, ?it/s]2025-10-24 10:17:43,932 [INFO]: Adding Cellpose_1_nuclei_model...\n",
      "2025-10-24 10:17:43,938 [WARNING]: Skipping boundary import of Cellpose_1_nuclei_model as boundaries_Cellpose_1_nuclei_model exist already.\n",
      "2025-10-24 10:17:43,939 [WARNING]: Skipping adata import of Cellpose_1_nuclei_model as adata_Cellpose_1_nuclei_model exist already.\n",
      "2025-10-24 10:17:43,940 [INFO]: Adding Proseg_Cellpose_1_nuclei_model...\n",
      "2025-10-24 10:17:45,841 [INFO]: Adding shapes of Proseg_Cellpose_1_nuclei_model...\n",
      " 33%|███▎      | 1/3 [00:01<00:03,  1.91s/it]\n"
     ]
    },
    {
     "ename": "FileNotFoundError",
     "evalue": "[Errno 2] No such file or directory: '/dss/dssfs03/pn52re/pn52re-dss-0001/cellseg-benchmark/samples/htra1_s4_r1/results/Proseg_Cellpose_1_nuclei_model/sdata.zarr/.sopa_cache/transcript_patches/0/cell-polygons-layers.geojson.gz'",
     "output_type": "error",
     "traceback": [
      "\u001b[31m---------------------------------------------------------------------------\u001b[39m",
      "\u001b[31mFileNotFoundError\u001b[39m                         Traceback (most recent call last)",
      "\u001b[36mCell\u001b[39m\u001b[36m \u001b[39m\u001b[32mIn[24]\u001b[39m\u001b[32m, line 1\u001b[39m\n\u001b[32m----> \u001b[39m\u001b[32m1\u001b[39m \u001b[43msu\u001b[49m\u001b[43m.\u001b[49m\u001b[43mintegrate_segmentation_data\u001b[49m\u001b[43m(\u001b[49m\n\u001b[32m      2\u001b[39m \u001b[43m    \u001b[49m\u001b[43msdata_path\u001b[49m\u001b[43m,\u001b[49m\n\u001b[32m      3\u001b[39m \u001b[43m    \u001b[49m\u001b[43mseg_methods\u001b[49m\u001b[43m,\u001b[49m\n\u001b[32m      4\u001b[39m \u001b[43m    \u001b[49m\u001b[43msdata_main\u001b[49m\u001b[43m,\u001b[49m\n\u001b[32m      5\u001b[39m \u001b[43m    \u001b[49m\u001b[43mrun_date\u001b[49m\u001b[43m=\u001b[49m\u001b[43margs\u001b[49m\u001b[43m.\u001b[49m\u001b[43mrun_date\u001b[49m\u001b[43m,\u001b[49m\n\u001b[32m      6\u001b[39m \u001b[43m    \u001b[49m\u001b[43morganism\u001b[49m\u001b[43m=\u001b[49m\u001b[43margs\u001b[49m\u001b[43m.\u001b[49m\u001b[43morganism\u001b[49m\u001b[43m,\u001b[49m\n\u001b[32m      7\u001b[39m \u001b[43m    \u001b[49m\u001b[43mslide\u001b[49m\u001b[43m=\u001b[49m\u001b[43margs\u001b[49m\u001b[43m.\u001b[49m\u001b[43mslide\u001b[49m\u001b[43m,\u001b[49m\n\u001b[32m      8\u001b[39m \u001b[43m    \u001b[49m\u001b[43mregion\u001b[49m\u001b[43m=\u001b[49m\u001b[43margs\u001b[49m\u001b[43m.\u001b[49m\u001b[43mregion\u001b[49m\u001b[43m,\u001b[49m\n\u001b[32m      9\u001b[39m \u001b[43m    \u001b[49m\u001b[43mcohort\u001b[49m\u001b[43m=\u001b[49m\u001b[43margs\u001b[49m\u001b[43m.\u001b[49m\u001b[43mcohort\u001b[49m\u001b[43m,\u001b[49m\n\u001b[32m     10\u001b[39m \u001b[43m    \u001b[49m\u001b[43mwrite_to_disk\u001b[49m\u001b[43m=\u001b[49m\u001b[38;5;28;43;01mTrue\u001b[39;49;00m\u001b[43m,\u001b[49m\n\u001b[32m     11\u001b[39m \u001b[43m    \u001b[49m\u001b[43mdata_path\u001b[49m\u001b[43m=\u001b[49m\u001b[43margs\u001b[49m\u001b[43m.\u001b[49m\u001b[43mdata_path\u001b[49m\u001b[43m,\u001b[49m\n\u001b[32m     12\u001b[39m \u001b[43m    \u001b[49m\u001b[43mlogger\u001b[49m\u001b[43m=\u001b[49m\u001b[43mlogger\u001b[49m\u001b[43m,\u001b[49m\n\u001b[32m     13\u001b[39m \u001b[43m    \u001b[49m\u001b[43m*\u001b[49m\u001b[43m*\u001b[49m\u001b[43mextra_obs\u001b[49m\u001b[43m,\u001b[49m\n\u001b[32m     14\u001b[39m \u001b[43m)\u001b[49m\n",
      "\u001b[36mFile \u001b[39m\u001b[32m/dss/dsshome1/0C/ra98gaq/Git/cellseg-benchmark/cellseg_benchmark/sdata_utils.py:209\u001b[39m, in \u001b[36mintegrate_segmentation_data\u001b[39m\u001b[34m(sdata_path, seg_methods, sdata_main, genotype, age_months, run_date, organism, slide, region, cohort, write_to_disk, data_path, logger, **obs)\u001b[39m\n\u001b[32m    206\u001b[39m     sdata = sd.read_zarr(seg_path)\n\u001b[32m    208\u001b[39m \u001b[38;5;28;01mif\u001b[39;00m \u001b[33mf\u001b[39m\u001b[33m\"\u001b[39m\u001b[33mboundaries_\u001b[39m\u001b[38;5;132;01m{\u001b[39;00mseg_method\u001b[38;5;132;01m}\u001b[39;00m\u001b[33m\"\u001b[39m \u001b[38;5;129;01mnot\u001b[39;00m \u001b[38;5;129;01min\u001b[39;00m sdata_main:\n\u001b[32m--> \u001b[39m\u001b[32m209\u001b[39m     sdata_main = \u001b[43mbuild_shapes\u001b[49m\u001b[43m(\u001b[49m\n\u001b[32m    210\u001b[39m \u001b[43m        \u001b[49m\u001b[43msdata\u001b[49m\u001b[43m,\u001b[49m\n\u001b[32m    211\u001b[39m \u001b[43m        \u001b[49m\u001b[43msdata_main\u001b[49m\u001b[43m,\u001b[49m\n\u001b[32m    212\u001b[39m \u001b[43m        \u001b[49m\u001b[43mseg_method\u001b[49m\u001b[43m,\u001b[49m\n\u001b[32m    213\u001b[39m \u001b[43m        \u001b[49m\u001b[43msdata_path\u001b[49m\u001b[43m,\u001b[49m\n\u001b[32m    214\u001b[39m \u001b[43m        \u001b[49m\u001b[43mlogger\u001b[49m\u001b[43m=\u001b[49m\u001b[43mlogger\u001b[49m\u001b[43m,\u001b[49m\n\u001b[32m    215\u001b[39m \u001b[43m    \u001b[49m\u001b[43m)\u001b[49m\n\u001b[32m    216\u001b[39m     \u001b[38;5;28;01mif\u001b[39;00m write_to_disk:\n\u001b[32m    217\u001b[39m         sdata_main.write_element(\u001b[33mf\u001b[39m\u001b[33m\"\u001b[39m\u001b[33mboundaries_\u001b[39m\u001b[38;5;132;01m{\u001b[39;00mseg_method\u001b[38;5;132;01m}\u001b[39;00m\u001b[33m\"\u001b[39m)\n",
      "\u001b[36mFile \u001b[39m\u001b[32m/dss/dsshome1/0C/ra98gaq/Git/cellseg-benchmark/cellseg_benchmark/sdata_utils.py:374\u001b[39m, in \u001b[36mbuild_shapes\u001b[39m\u001b[34m(sdata, sdata_main, seg_method, sdata_path, logger)\u001b[39m\n\u001b[32m    363\u001b[39m \u001b[38;5;28;01mif\u001b[39;00m seg_method.startswith(\u001b[33m\"\u001b[39m\u001b[33mProseg\u001b[39m\u001b[33m\"\u001b[39m):\n\u001b[32m    364\u001b[39m     path = join(\n\u001b[32m    365\u001b[39m         sdata_path,\n\u001b[32m    366\u001b[39m         \u001b[33m\"\u001b[39m\u001b[33mresults\u001b[39m\u001b[33m\"\u001b[39m,\n\u001b[32m   (...)\u001b[39m\u001b[32m    372\u001b[39m         \u001b[33m\"\u001b[39m\u001b[33mcell-polygons-layers.geojson.gz\u001b[39m\u001b[33m\"\u001b[39m,\n\u001b[32m    373\u001b[39m     )\n\u001b[32m--> \u001b[39m\u001b[32m374\u001b[39m     \u001b[38;5;28;01mwith\u001b[39;00m \u001b[43mgzip\u001b[49m\u001b[43m.\u001b[49m\u001b[43mopen\u001b[49m\u001b[43m(\u001b[49m\u001b[43mpath\u001b[49m\u001b[43m,\u001b[49m\u001b[43m \u001b[49m\u001b[33;43m\"\u001b[39;49m\u001b[33;43mrt\u001b[39;49m\u001b[33;43m\"\u001b[39;49m\u001b[43m,\u001b[49m\u001b[43m \u001b[49m\u001b[43mencoding\u001b[49m\u001b[43m=\u001b[49m\u001b[33;43m\"\u001b[39;49m\u001b[33;43mutf-8\u001b[39;49m\u001b[33;43m\"\u001b[39;49m\u001b[43m)\u001b[49m \u001b[38;5;28;01mas\u001b[39;00m f:\n\u001b[32m    375\u001b[39m         geojson_text = f.read()\n\u001b[32m    376\u001b[39m     geojson_io = io.StringIO(geojson_text)\n",
      "\u001b[36mFile \u001b[39m\u001b[32m~/miniforge3/lib/python3.12/gzip.py:61\u001b[39m, in \u001b[36mopen\u001b[39m\u001b[34m(filename, mode, compresslevel, encoding, errors, newline)\u001b[39m\n\u001b[32m     59\u001b[39m gz_mode = mode.replace(\u001b[33m\"\u001b[39m\u001b[33mt\u001b[39m\u001b[33m\"\u001b[39m, \u001b[33m\"\u001b[39m\u001b[33m\"\u001b[39m)\n\u001b[32m     60\u001b[39m \u001b[38;5;28;01mif\u001b[39;00m \u001b[38;5;28misinstance\u001b[39m(filename, (\u001b[38;5;28mstr\u001b[39m, \u001b[38;5;28mbytes\u001b[39m, os.PathLike)):\n\u001b[32m---> \u001b[39m\u001b[32m61\u001b[39m     binary_file = \u001b[43mGzipFile\u001b[49m\u001b[43m(\u001b[49m\u001b[43mfilename\u001b[49m\u001b[43m,\u001b[49m\u001b[43m \u001b[49m\u001b[43mgz_mode\u001b[49m\u001b[43m,\u001b[49m\u001b[43m \u001b[49m\u001b[43mcompresslevel\u001b[49m\u001b[43m)\u001b[49m\n\u001b[32m     62\u001b[39m \u001b[38;5;28;01melif\u001b[39;00m \u001b[38;5;28mhasattr\u001b[39m(filename, \u001b[33m\"\u001b[39m\u001b[33mread\u001b[39m\u001b[33m\"\u001b[39m) \u001b[38;5;129;01mor\u001b[39;00m \u001b[38;5;28mhasattr\u001b[39m(filename, \u001b[33m\"\u001b[39m\u001b[33mwrite\u001b[39m\u001b[33m\"\u001b[39m):\n\u001b[32m     63\u001b[39m     binary_file = GzipFile(\u001b[38;5;28;01mNone\u001b[39;00m, gz_mode, compresslevel, filename)\n",
      "\u001b[36mFile \u001b[39m\u001b[32m~/miniforge3/lib/python3.12/gzip.py:192\u001b[39m, in \u001b[36mGzipFile.__init__\u001b[39m\u001b[34m(self, filename, mode, compresslevel, fileobj, mtime)\u001b[39m\n\u001b[32m    190\u001b[39m     mode += \u001b[33m'\u001b[39m\u001b[33mb\u001b[39m\u001b[33m'\u001b[39m\n\u001b[32m    191\u001b[39m \u001b[38;5;28;01mif\u001b[39;00m fileobj \u001b[38;5;129;01mis\u001b[39;00m \u001b[38;5;28;01mNone\u001b[39;00m:\n\u001b[32m--> \u001b[39m\u001b[32m192\u001b[39m     fileobj = \u001b[38;5;28mself\u001b[39m.myfileobj = \u001b[43mbuiltins\u001b[49m\u001b[43m.\u001b[49m\u001b[43mopen\u001b[49m\u001b[43m(\u001b[49m\u001b[43mfilename\u001b[49m\u001b[43m,\u001b[49m\u001b[43m \u001b[49m\u001b[43mmode\u001b[49m\u001b[43m \u001b[49m\u001b[38;5;129;43;01mor\u001b[39;49;00m\u001b[43m \u001b[49m\u001b[33;43m'\u001b[39;49m\u001b[33;43mrb\u001b[39;49m\u001b[33;43m'\u001b[39;49m\u001b[43m)\u001b[49m\n\u001b[32m    193\u001b[39m \u001b[38;5;28;01mif\u001b[39;00m filename \u001b[38;5;129;01mis\u001b[39;00m \u001b[38;5;28;01mNone\u001b[39;00m:\n\u001b[32m    194\u001b[39m     filename = \u001b[38;5;28mgetattr\u001b[39m(fileobj, \u001b[33m'\u001b[39m\u001b[33mname\u001b[39m\u001b[33m'\u001b[39m, \u001b[33m'\u001b[39m\u001b[33m'\u001b[39m)\n",
      "\u001b[31mFileNotFoundError\u001b[39m: [Errno 2] No such file or directory: '/dss/dssfs03/pn52re/pn52re-dss-0001/cellseg-benchmark/samples/htra1_s4_r1/results/Proseg_Cellpose_1_nuclei_model/sdata.zarr/.sopa_cache/transcript_patches/0/cell-polygons-layers.geojson.gz'"
     ]
    }
   ],
   "source": [
    "su.integrate_segmentation_data(\n",
    "    sdata_path,\n",
    "    seg_methods,\n",
    "    sdata_main,\n",
    "    run_date=args.run_date,\n",
    "    organism=args.organism,\n",
    "    slide=args.slide,\n",
    "    region=args.region,\n",
    "    cohort=args.cohort,\n",
    "    write_to_disk=True,\n",
    "    data_path=args.data_path,\n",
    "    logger=logger,\n",
    "    **extra_obs,\n",
    ")"
   ]
  },
  {
   "cell_type": "code",
   "execution_count": 21,
   "id": "eb2f5c80-99e1-45fa-b9e6-3fa827dca522",
   "metadata": {},
   "outputs": [],
   "source": [
    "#"
   ]
  },
  {
   "cell_type": "code",
   "execution_count": null,
   "id": "28ff8aff-8614-430c-a1a5-8409ab26ed0f",
   "metadata": {},
   "outputs": [],
   "source": []
  },
  {
   "cell_type": "code",
   "execution_count": 22,
   "id": "65735bc3-85fa-46a6-8eb0-ad9faa3bc6bd",
   "metadata": {},
   "outputs": [],
   "source": [
    "#################"
   ]
  },
  {
   "cell_type": "code",
   "execution_count": 20,
   "id": "90e8bff1-051a-408a-a666-267185312d05",
   "metadata": {},
   "outputs": [],
   "source": [
    "# test sdata"
   ]
  },
  {
   "cell_type": "code",
   "execution_count": 25,
   "id": "22b15950-aed4-4ee1-b106-e81ba58f07dd",
   "metadata": {},
   "outputs": [
    {
     "data": {
      "text/plain": [
       "Index(['region', 'slide', 'spt_region', 'cell_type_incl_low_quality_revised',\n",
       "       'cell_type_mmc_incl_low_quality_clusters',\n",
       "       'cell_type_mmc_incl_low_quality', 'cell_type_incl_mixed_revised',\n",
       "       'cell_type_mmc_incl_mixed_clusters', 'cell_type_mmc_incl_mixed',\n",
       "       'cell_type_revised', 'cell_type_mmc_raw_clusters', 'cell_type_mmc_raw',\n",
       "       'cell_id', 'area', 'volume_sum', 'volume_final', 'num_z_planes',\n",
       "       'size_normalized', 'surface_to_volume_ratio', 'sphericity', 'solidity',\n",
       "       'elongation', 'genotype', 'age_months', 'run_date', 'organism',\n",
       "       'cohort', 'sample', 'animal_id', 'condition'],\n",
       "      dtype='object')"
      ]
     },
     "execution_count": 25,
     "metadata": {},
     "output_type": "execute_result"
    }
   ],
   "source": [
    "sdata_main.tables[\"adata_Cellpose_1_nuclei_model\"].obs.columns"
   ]
  },
  {
   "cell_type": "code",
   "execution_count": 26,
   "id": "ea2bb9da-d118-4218-aab4-2820f6709fc3",
   "metadata": {
    "scrolled": true
   },
   "outputs": [
    {
     "data": {
      "text/plain": [
       "aaaaaaaa-1    24\n",
       "aaaaaaab-1    24\n",
       "aaaaaaac-1    24\n",
       "aaaaaaad-1    24\n",
       "aaaaaaae-1    24\n",
       "              ..\n",
       "aaaaildm-1    24\n",
       "aaaaildn-1    24\n",
       "aaaaildo-1    24\n",
       "aaaaildp-1    24\n",
       "aaaailea-1    24\n",
       "Name: age_months, Length: 35649, dtype: object"
      ]
     },
     "execution_count": 26,
     "metadata": {},
     "output_type": "execute_result"
    }
   ],
   "source": [
    "sdata_main.tables[\"adata_Cellpose_1_nuclei_model\"].obs[\"age_months\"]"
   ]
  },
  {
   "cell_type": "code",
   "execution_count": 23,
   "id": "ae51a6df-4e52-4976-9e14-b526c4d567fc",
   "metadata": {
    "scrolled": true
   },
   "outputs": [
    {
     "data": {
      "text/plain": [
       "aaaaaaaa-1    WT_24\n",
       "aaaaaaab-1    WT_24\n",
       "aaaaaaac-1    WT_24\n",
       "aaaaaaad-1    WT_24\n",
       "aaaaaaae-1    WT_24\n",
       "              ...  \n",
       "aaaaildm-1    WT_24\n",
       "aaaaildn-1    WT_24\n",
       "aaaaildo-1    WT_24\n",
       "aaaaildp-1    WT_24\n",
       "aaaailea-1    WT_24\n",
       "Name: condition, Length: 35649, dtype: object"
      ]
     },
     "execution_count": 23,
     "metadata": {},
     "output_type": "execute_result"
    }
   ],
   "source": [
    "sdata_main.tables[\"adata_Cellpose_1_nuclei_model\"].obs[\"condition\"]"
   ]
  },
  {
   "cell_type": "code",
   "execution_count": null,
   "id": "620d6a3c-fe57-44de-be02-f91380603035",
   "metadata": {},
   "outputs": [],
   "source": []
  },
  {
   "cell_type": "code",
   "execution_count": null,
   "id": "72dce8d8-26e9-4311-88ee-4dd2f050f7f8",
   "metadata": {},
   "outputs": [],
   "source": []
  },
  {
   "cell_type": "code",
   "execution_count": 24,
   "id": "817bde4d-57f8-4d62-98d0-4c762699b695",
   "metadata": {},
   "outputs": [
    {
     "data": {
      "text/plain": [
       "Index(['fov', 'volume', 'center_x', 'center_y', 'min_x', 'min_y', 'max_x',\n",
       "       'max_y', 'anisotropy', 'transcript_count', 'perimeter_area_ratio',\n",
       "       'Fth1_raw', 'Fth1_high_pass', 'DAPI_raw', 'DAPI_high_pass', 'App_raw',\n",
       "       'App_high_pass', 'Aldoc_raw', 'Aldoc_high_pass', 'Sst_raw',\n",
       "       'Sst_high_pass', 'Plp1_raw', 'Plp1_high_pass', 'PolyT_raw',\n",
       "       'PolyT_high_pass', 'region', 'slide', 'dataset_id', 'cells_region',\n",
       "       'spt_region', 'cell_type_incl_low_quality_revised',\n",
       "       'cell_type_mmc_incl_low_quality_clusters',\n",
       "       'cell_type_mmc_incl_low_quality', 'cell_type_incl_mixed_revised',\n",
       "       'cell_type_mmc_incl_mixed_clusters', 'cell_type_mmc_incl_mixed',\n",
       "       'cell_type_revised', 'cell_type_mmc_raw_clusters', 'cell_type_mmc_raw',\n",
       "       'cell_id', 'area', 'volume_sum', 'volume_final', 'num_z_planes',\n",
       "       'size_normalized', 'surface_to_volume_ratio', 'sphericity', 'solidity',\n",
       "       'elongation', 'animal_id', 'run_date', 'organism', 'cohort', 'sample',\n",
       "       'condition'],\n",
       "      dtype='object')"
      ]
     },
     "execution_count": 24,
     "metadata": {},
     "output_type": "execute_result"
    }
   ],
   "source": [
    "sdata_main.tables[\"adata_Cellpose_1_Merlin\"].obs.columns"
   ]
  },
  {
   "cell_type": "code",
   "execution_count": 57,
   "id": "d63d5cd2-050e-413f-879c-810a931add8f",
   "metadata": {},
   "outputs": [
    {
     "data": {
      "text/html": [
       "<div>\n",
       "<style scoped>\n",
       "    .dataframe tbody tr th:only-of-type {\n",
       "        vertical-align: middle;\n",
       "    }\n",
       "\n",
       "    .dataframe tbody tr th {\n",
       "        vertical-align: top;\n",
       "    }\n",
       "\n",
       "    .dataframe thead th {\n",
       "        text-align: right;\n",
       "    }\n",
       "</style>\n",
       "<table border=\"1\" class=\"dataframe\">\n",
       "  <thead>\n",
       "    <tr style=\"text-align: right;\">\n",
       "      <th></th>\n",
       "      <th>fov</th>\n",
       "      <th>volume</th>\n",
       "      <th>center_x</th>\n",
       "      <th>center_y</th>\n",
       "      <th>min_x</th>\n",
       "      <th>min_y</th>\n",
       "      <th>max_x</th>\n",
       "      <th>max_y</th>\n",
       "      <th>anisotropy</th>\n",
       "      <th>transcript_count</th>\n",
       "      <th>...</th>\n",
       "      <th>size_normalized</th>\n",
       "      <th>surface_to_volume_ratio</th>\n",
       "      <th>sphericity</th>\n",
       "      <th>solidity</th>\n",
       "      <th>elongation</th>\n",
       "      <th>condition</th>\n",
       "      <th>run_date</th>\n",
       "      <th>organism</th>\n",
       "      <th>cohort</th>\n",
       "      <th>sample</th>\n",
       "    </tr>\n",
       "    <tr>\n",
       "      <th>EntityID</th>\n",
       "      <th></th>\n",
       "      <th></th>\n",
       "      <th></th>\n",
       "      <th></th>\n",
       "      <th></th>\n",
       "      <th></th>\n",
       "      <th></th>\n",
       "      <th></th>\n",
       "      <th></th>\n",
       "      <th></th>\n",
       "      <th></th>\n",
       "      <th></th>\n",
       "      <th></th>\n",
       "      <th></th>\n",
       "      <th></th>\n",
       "      <th></th>\n",
       "      <th></th>\n",
       "      <th></th>\n",
       "      <th></th>\n",
       "      <th></th>\n",
       "      <th></th>\n",
       "    </tr>\n",
       "  </thead>\n",
       "  <tbody>\n",
       "    <tr>\n",
       "      <th>3032071400013100126</th>\n",
       "      <td>840</td>\n",
       "      <td>2059.148908</td>\n",
       "      <td>7216.183057</td>\n",
       "      <td>479.060704</td>\n",
       "      <td>7207.846355</td>\n",
       "      <td>470.933895</td>\n",
       "      <td>7224.305598</td>\n",
       "      <td>486.959026</td>\n",
       "      <td>1.031700</td>\n",
       "      <td>3</td>\n",
       "      <td>...</td>\n",
       "      <td>14.003907</td>\n",
       "      <td>0.256930</td>\n",
       "      <td>0.970690</td>\n",
       "      <td>0.994144</td>\n",
       "      <td>0.032101</td>\n",
       "      <td>control</td>\n",
       "      <td>20250718</td>\n",
       "      <td>mouse</td>\n",
       "      <td>SynergyLung</td>\n",
       "      <td>SynergyLung_s2_r0</td>\n",
       "    </tr>\n",
       "    <tr>\n",
       "      <th>3032071400014100180</th>\n",
       "      <td>918</td>\n",
       "      <td>2139.125086</td>\n",
       "      <td>7504.486833</td>\n",
       "      <td>498.349751</td>\n",
       "      <td>7496.258106</td>\n",
       "      <td>489.906420</td>\n",
       "      <td>7512.488711</td>\n",
       "      <td>506.379802</td>\n",
       "      <td>1.009113</td>\n",
       "      <td>3</td>\n",
       "      <td>...</td>\n",
       "      <td>14.273269</td>\n",
       "      <td>0.250883</td>\n",
       "      <td>0.979986</td>\n",
       "      <td>1.000000</td>\n",
       "      <td>0.070396</td>\n",
       "      <td>control</td>\n",
       "      <td>20250718</td>\n",
       "      <td>mouse</td>\n",
       "      <td>SynergyLung</td>\n",
       "      <td>SynergyLung_s2_r0</td>\n",
       "    </tr>\n",
       "    <tr>\n",
       "      <th>3032071400016100184</th>\n",
       "      <td>1155</td>\n",
       "      <td>1993.494412</td>\n",
       "      <td>8556.587687</td>\n",
       "      <td>298.372080</td>\n",
       "      <td>8549.290734</td>\n",
       "      <td>290.198104</td>\n",
       "      <td>8565.302442</td>\n",
       "      <td>306.362748</td>\n",
       "      <td>1.135827</td>\n",
       "      <td>569</td>\n",
       "      <td>...</td>\n",
       "      <td>13.778846</td>\n",
       "      <td>0.273867</td>\n",
       "      <td>0.882477</td>\n",
       "      <td>0.990295</td>\n",
       "      <td>0.042211</td>\n",
       "      <td>control</td>\n",
       "      <td>20250718</td>\n",
       "      <td>mouse</td>\n",
       "      <td>SynergyLung</td>\n",
       "      <td>SynergyLung_s2_r0</td>\n",
       "    </tr>\n",
       "    <tr>\n",
       "      <th>3032071400016100195</th>\n",
       "      <td>1155</td>\n",
       "      <td>1507.780768</td>\n",
       "      <td>8632.307395</td>\n",
       "      <td>307.804110</td>\n",
       "      <td>8625.148066</td>\n",
       "      <td>300.586582</td>\n",
       "      <td>8638.940023</td>\n",
       "      <td>314.807612</td>\n",
       "      <td>1.084933</td>\n",
       "      <td>1</td>\n",
       "      <td>...</td>\n",
       "      <td>11.983245</td>\n",
       "      <td>0.309654</td>\n",
       "      <td>0.912657</td>\n",
       "      <td>0.983984</td>\n",
       "      <td>0.109678</td>\n",
       "      <td>control</td>\n",
       "      <td>20250718</td>\n",
       "      <td>mouse</td>\n",
       "      <td>SynergyLung</td>\n",
       "      <td>SynergyLung_s2_r0</td>\n",
       "    </tr>\n",
       "    <tr>\n",
       "      <th>3032071400016100200</th>\n",
       "      <td>1155</td>\n",
       "      <td>1870.495178</td>\n",
       "      <td>8620.070741</td>\n",
       "      <td>312.002451</td>\n",
       "      <td>8611.488222</td>\n",
       "      <td>304.131019</td>\n",
       "      <td>8628.272423</td>\n",
       "      <td>319.113140</td>\n",
       "      <td>1.213755</td>\n",
       "      <td>124</td>\n",
       "      <td>...</td>\n",
       "      <td>13.347000</td>\n",
       "      <td>0.277245</td>\n",
       "      <td>0.917727</td>\n",
       "      <td>0.980912</td>\n",
       "      <td>0.163323</td>\n",
       "      <td>control</td>\n",
       "      <td>20250718</td>\n",
       "      <td>mouse</td>\n",
       "      <td>SynergyLung</td>\n",
       "      <td>SynergyLung_s2_r0</td>\n",
       "    </tr>\n",
       "    <tr>\n",
       "      <th>...</th>\n",
       "      <td>...</td>\n",
       "      <td>...</td>\n",
       "      <td>...</td>\n",
       "      <td>...</td>\n",
       "      <td>...</td>\n",
       "      <td>...</td>\n",
       "      <td>...</td>\n",
       "      <td>...</td>\n",
       "      <td>...</td>\n",
       "      <td>...</td>\n",
       "      <td>...</td>\n",
       "      <td>...</td>\n",
       "      <td>...</td>\n",
       "      <td>...</td>\n",
       "      <td>...</td>\n",
       "      <td>...</td>\n",
       "      <td>...</td>\n",
       "      <td>...</td>\n",
       "      <td>...</td>\n",
       "      <td>...</td>\n",
       "      <td>...</td>\n",
       "    </tr>\n",
       "    <tr>\n",
       "      <th>3032071400416100177</th>\n",
       "      <td>1116</td>\n",
       "      <td>2344.589468</td>\n",
       "      <td>8437.787779</td>\n",
       "      <td>8130.221066</td>\n",
       "      <td>8428.794190</td>\n",
       "      <td>8121.712069</td>\n",
       "      <td>8446.369621</td>\n",
       "      <td>8138.413806</td>\n",
       "      <td>1.076666</td>\n",
       "      <td>3</td>\n",
       "      <td>...</td>\n",
       "      <td>14.943033</td>\n",
       "      <td>0.243381</td>\n",
       "      <td>0.950079</td>\n",
       "      <td>0.987811</td>\n",
       "      <td>0.033608</td>\n",
       "      <td>control</td>\n",
       "      <td>20250718</td>\n",
       "      <td>mouse</td>\n",
       "      <td>SynergyLung</td>\n",
       "      <td>SynergyLung_s2_r0</td>\n",
       "    </tr>\n",
       "    <tr>\n",
       "      <th>3032071400416100183</th>\n",
       "      <td>1116</td>\n",
       "      <td>1980.095639</td>\n",
       "      <td>8309.034979</td>\n",
       "      <td>8145.903951</td>\n",
       "      <td>8301.228004</td>\n",
       "      <td>8137.594659</td>\n",
       "      <td>8316.478445</td>\n",
       "      <td>8154.072963</td>\n",
       "      <td>1.057263</td>\n",
       "      <td>5</td>\n",
       "      <td>...</td>\n",
       "      <td>13.732463</td>\n",
       "      <td>0.262205</td>\n",
       "      <td>0.969239</td>\n",
       "      <td>0.995752</td>\n",
       "      <td>0.046148</td>\n",
       "      <td>control</td>\n",
       "      <td>20250718</td>\n",
       "      <td>mouse</td>\n",
       "      <td>SynergyLung</td>\n",
       "      <td>SynergyLung_s2_r0</td>\n",
       "    </tr>\n",
       "    <tr>\n",
       "      <th>3032071400416100184</th>\n",
       "      <td>1116</td>\n",
       "      <td>1502.556981</td>\n",
       "      <td>8424.599640</td>\n",
       "      <td>8144.706371</td>\n",
       "      <td>8418.229115</td>\n",
       "      <td>8137.784821</td>\n",
       "      <td>8431.230806</td>\n",
       "      <td>8151.444653</td>\n",
       "      <td>1.068816</td>\n",
       "      <td>3</td>\n",
       "      <td>...</td>\n",
       "      <td>11.962469</td>\n",
       "      <td>0.303448</td>\n",
       "      <td>0.953675</td>\n",
       "      <td>0.992073</td>\n",
       "      <td>0.044607</td>\n",
       "      <td>control</td>\n",
       "      <td>20250718</td>\n",
       "      <td>mouse</td>\n",
       "      <td>SynergyLung</td>\n",
       "      <td>SynergyLung_s2_r0</td>\n",
       "    </tr>\n",
       "    <tr>\n",
       "      <th>3032071400416100188</th>\n",
       "      <td>1116</td>\n",
       "      <td>2648.907869</td>\n",
       "      <td>8360.541735</td>\n",
       "      <td>8154.771498</td>\n",
       "      <td>8351.756597</td>\n",
       "      <td>8143.784879</td>\n",
       "      <td>8369.405725</td>\n",
       "      <td>8164.687340</td>\n",
       "      <td>1.146514</td>\n",
       "      <td>4</td>\n",
       "      <td>...</td>\n",
       "      <td>15.883228</td>\n",
       "      <td>0.236730</td>\n",
       "      <td>0.888841</td>\n",
       "      <td>0.974470</td>\n",
       "      <td>0.026813</td>\n",
       "      <td>control</td>\n",
       "      <td>20250718</td>\n",
       "      <td>mouse</td>\n",
       "      <td>SynergyLung</td>\n",
       "      <td>SynergyLung_s2_r0</td>\n",
       "    </tr>\n",
       "    <tr>\n",
       "      <th>3032071400416100191</th>\n",
       "      <td>1116</td>\n",
       "      <td>535.665595</td>\n",
       "      <td>8346.113572</td>\n",
       "      <td>8165.784742</td>\n",
       "      <td>8342.078232</td>\n",
       "      <td>8161.722359</td>\n",
       "      <td>8349.748140</td>\n",
       "      <td>8170.411253</td>\n",
       "      <td>1.199697</td>\n",
       "      <td>3</td>\n",
       "      <td>...</td>\n",
       "      <td>7.142533</td>\n",
       "      <td>0.586374</td>\n",
       "      <td>0.716400</td>\n",
       "      <td>0.900220</td>\n",
       "      <td>0.046792</td>\n",
       "      <td>control</td>\n",
       "      <td>20250718</td>\n",
       "      <td>mouse</td>\n",
       "      <td>SynergyLung</td>\n",
       "      <td>SynergyLung_s2_r0</td>\n",
       "    </tr>\n",
       "  </tbody>\n",
       "</table>\n",
       "<p>172011 rows × 47 columns</p>\n",
       "</div>"
      ],
      "text/plain": [
       "                      fov       volume     center_x     center_y        min_x  \\\n",
       "EntityID                                                                        \n",
       "3032071400013100126   840  2059.148908  7216.183057   479.060704  7207.846355   \n",
       "3032071400014100180   918  2139.125086  7504.486833   498.349751  7496.258106   \n",
       "3032071400016100184  1155  1993.494412  8556.587687   298.372080  8549.290734   \n",
       "3032071400016100195  1155  1507.780768  8632.307395   307.804110  8625.148066   \n",
       "3032071400016100200  1155  1870.495178  8620.070741   312.002451  8611.488222   \n",
       "...                   ...          ...          ...          ...          ...   \n",
       "3032071400416100177  1116  2344.589468  8437.787779  8130.221066  8428.794190   \n",
       "3032071400416100183  1116  1980.095639  8309.034979  8145.903951  8301.228004   \n",
       "3032071400416100184  1116  1502.556981  8424.599640  8144.706371  8418.229115   \n",
       "3032071400416100188  1116  2648.907869  8360.541735  8154.771498  8351.756597   \n",
       "3032071400416100191  1116   535.665595  8346.113572  8165.784742  8342.078232   \n",
       "\n",
       "                           min_y        max_x        max_y  anisotropy  \\\n",
       "EntityID                                                                 \n",
       "3032071400013100126   470.933895  7224.305598   486.959026    1.031700   \n",
       "3032071400014100180   489.906420  7512.488711   506.379802    1.009113   \n",
       "3032071400016100184   290.198104  8565.302442   306.362748    1.135827   \n",
       "3032071400016100195   300.586582  8638.940023   314.807612    1.084933   \n",
       "3032071400016100200   304.131019  8628.272423   319.113140    1.213755   \n",
       "...                          ...          ...          ...         ...   \n",
       "3032071400416100177  8121.712069  8446.369621  8138.413806    1.076666   \n",
       "3032071400416100183  8137.594659  8316.478445  8154.072963    1.057263   \n",
       "3032071400416100184  8137.784821  8431.230806  8151.444653    1.068816   \n",
       "3032071400416100188  8143.784879  8369.405725  8164.687340    1.146514   \n",
       "3032071400416100191  8161.722359  8349.748140  8170.411253    1.199697   \n",
       "\n",
       "                     transcript_count  ...  size_normalized  \\\n",
       "EntityID                               ...                    \n",
       "3032071400013100126                 3  ...        14.003907   \n",
       "3032071400014100180                 3  ...        14.273269   \n",
       "3032071400016100184               569  ...        13.778846   \n",
       "3032071400016100195                 1  ...        11.983245   \n",
       "3032071400016100200               124  ...        13.347000   \n",
       "...                               ...  ...              ...   \n",
       "3032071400416100177                 3  ...        14.943033   \n",
       "3032071400416100183                 5  ...        13.732463   \n",
       "3032071400416100184                 3  ...        11.962469   \n",
       "3032071400416100188                 4  ...        15.883228   \n",
       "3032071400416100191                 3  ...         7.142533   \n",
       "\n",
       "                     surface_to_volume_ratio  sphericity  solidity  \\\n",
       "EntityID                                                             \n",
       "3032071400013100126                 0.256930    0.970690  0.994144   \n",
       "3032071400014100180                 0.250883    0.979986  1.000000   \n",
       "3032071400016100184                 0.273867    0.882477  0.990295   \n",
       "3032071400016100195                 0.309654    0.912657  0.983984   \n",
       "3032071400016100200                 0.277245    0.917727  0.980912   \n",
       "...                                      ...         ...       ...   \n",
       "3032071400416100177                 0.243381    0.950079  0.987811   \n",
       "3032071400416100183                 0.262205    0.969239  0.995752   \n",
       "3032071400416100184                 0.303448    0.953675  0.992073   \n",
       "3032071400416100188                 0.236730    0.888841  0.974470   \n",
       "3032071400416100191                 0.586374    0.716400  0.900220   \n",
       "\n",
       "                     elongation  condition  run_date  organism       cohort  \\\n",
       "EntityID                                                                      \n",
       "3032071400013100126    0.032101    control  20250718     mouse  SynergyLung   \n",
       "3032071400014100180    0.070396    control  20250718     mouse  SynergyLung   \n",
       "3032071400016100184    0.042211    control  20250718     mouse  SynergyLung   \n",
       "3032071400016100195    0.109678    control  20250718     mouse  SynergyLung   \n",
       "3032071400016100200    0.163323    control  20250718     mouse  SynergyLung   \n",
       "...                         ...        ...       ...       ...          ...   \n",
       "3032071400416100177    0.033608    control  20250718     mouse  SynergyLung   \n",
       "3032071400416100183    0.046148    control  20250718     mouse  SynergyLung   \n",
       "3032071400416100184    0.044607    control  20250718     mouse  SynergyLung   \n",
       "3032071400416100188    0.026813    control  20250718     mouse  SynergyLung   \n",
       "3032071400416100191    0.046792    control  20250718     mouse  SynergyLung   \n",
       "\n",
       "                                sample  \n",
       "EntityID                                \n",
       "3032071400013100126  SynergyLung_s2_r0  \n",
       "3032071400014100180  SynergyLung_s2_r0  \n",
       "3032071400016100184  SynergyLung_s2_r0  \n",
       "3032071400016100195  SynergyLung_s2_r0  \n",
       "3032071400016100200  SynergyLung_s2_r0  \n",
       "...                                ...  \n",
       "3032071400416100177  SynergyLung_s2_r0  \n",
       "3032071400416100183  SynergyLung_s2_r0  \n",
       "3032071400416100184  SynergyLung_s2_r0  \n",
       "3032071400416100188  SynergyLung_s2_r0  \n",
       "3032071400416100191  SynergyLung_s2_r0  \n",
       "\n",
       "[172011 rows x 47 columns]"
      ]
     },
     "execution_count": 57,
     "metadata": {},
     "output_type": "execute_result"
    }
   ],
   "source": [
    "sdata_main.tables[\"adata_Cellpose_1_Merlin\"].obs"
   ]
  },
  {
   "cell_type": "code",
   "execution_count": null,
   "id": "9cb81d09-a6b6-4702-9157-cbe07b2a3817",
   "metadata": {},
   "outputs": [],
   "source": []
  }
 ],
 "metadata": {
  "kernelspec": {
   "display_name": "Python 3 (ipykernel)",
   "language": "python",
   "name": "python3"
  },
  "language_info": {
   "codemirror_mode": {
    "name": "ipython",
    "version": 3
   },
   "file_extension": ".py",
   "mimetype": "text/x-python",
   "name": "python",
   "nbconvert_exporter": "python",
   "pygments_lexer": "ipython3",
   "version": "3.12.8"
  }
 },
 "nbformat": 4,
 "nbformat_minor": 5
}
