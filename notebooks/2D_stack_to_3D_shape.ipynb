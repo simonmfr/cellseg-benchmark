{
 "cells": [
  {
   "cell_type": "code",
   "execution_count": 1,
   "id": "initial_id",
   "metadata": {
    "ExecuteTime": {
     "end_time": "2025-04-15T06:28:47.944594Z",
     "start_time": "2025-04-15T06:28:36.524132Z"
    },
    "collapsed": true,
    "jupyter": {
     "outputs_hidden": true
    }
   },
   "outputs": [],
   "source": [
    "import geopandas as gpd\n",
    "import numpy as np\n",
    "import pandas as pd\n",
    "import pyvista as pv\n",
    "import shapely as shp\n",
    "from IPython.display import display\n",
    "from ipywidgets import IntProgress"
   ]
  },
  {
   "cell_type": "code",
   "execution_count": 9,
   "id": "aa71ae05d96922f1",
   "metadata": {
    "ExecuteTime": {
     "end_time": "2025-04-15T06:33:47.176344Z",
     "start_time": "2025-04-15T06:33:23.103331Z"
    }
   },
   "outputs": [],
   "source": [
    "layers = gpd.read_file(\n",
    "    \"/Users/jonasflor/Desktop/test_Proseg3D_Paraview/cell-polygons-layers.geojson\"\n",
    ")\n",
    "layers.geometry = [\n",
    "    shp.force_3d(x[\"geometry\"], z=x[\"layer\"] * 3.5) for ind, x in layers.iterrows()\n",
    "]\n",
    "metadata = pd.read_csv(\n",
    "    \"/Users/jonasflor/Desktop/test_Proseg3D_Paraview/adata_obs_annotated.csv\"\n",
    ")"
   ]
  },
  {
   "cell_type": "code",
   "execution_count": 21,
   "id": "44b791999e1dcc4e",
   "metadata": {
    "ExecuteTime": {
     "end_time": "2025-04-15T06:41:16.494840Z",
     "start_time": "2025-04-15T06:41:16.486837Z"
    }
   },
   "outputs": [],
   "source": [
    "def shapely_to_pyvista(shapely_geometry):\n",
    "    # Check if it's a multipolygon\n",
    "    if isinstance(shapely_geometry, shp.geometry.MultiPolygon):\n",
    "        coords = []\n",
    "        for poly in list(shapely_geometry.geoms):\n",
    "            coords_new = poly.exterior.coords\n",
    "            coords.append(coords_new)\n",
    "        # Return a list of meshes for the multipolygon\n",
    "        return coords\n",
    "    else:\n",
    "        # If it's just a single polygon\n",
    "        coords = shapely_geometry.exterior.coords\n",
    "        return coords\n",
    "\n",
    "\n",
    "layers[\"coords\"] = [shapely_to_pyvista(x) for x in layers.geometry]"
   ]
  },
  {
   "cell_type": "code",
   "execution_count": 27,
   "id": "dedce937f9c0211d",
   "metadata": {
    "ExecuteTime": {
     "end_time": "2025-04-15T06:50:50.662058Z",
     "start_time": "2025-04-15T06:50:47.015007Z"
    }
   },
   "outputs": [
    {
     "data": {
      "application/vnd.jupyter.widget-view+json": {
       "model_id": "2c43c7833edf481b883279ac8dad69b7",
       "version_major": 2,
       "version_minor": 0
      },
      "text/plain": [
       "Widget(value='<iframe src=\"http://localhost:59201/index.html?ui=P_0x35ad2a4d0_0&reconnect=auto\" class=\"pyvista…"
      ]
     },
     "metadata": {},
     "output_type": "display_data"
    }
   ],
   "source": [
    "id = 0\n",
    "points = []\n",
    "cell_geometry = layers[layers.cell == id]\n",
    "for _, row in cell_geometry.iterrows():\n",
    "    for seq in row.coords:\n",
    "        for coord in seq:\n",
    "            points.append([coord[0], coord[1], coord[2]])\n",
    "mesh_3d = pv.PolyData(points)\n",
    "triagulation_old = mesh_3d.reconstruct_surface()\n",
    "triagulation = triagulation_old.decimate_pro(0.3, preserve_topology=True)\n",
    "final_mesh = triagulation.fill_holes(1e6)\n",
    "final_mesh.clean(inplace=True)\n",
    "final_mesh.plot()"
   ]
  },
  {
   "cell_type": "code",
   "execution_count": 28,
   "id": "a06d7b312c899649",
   "metadata": {
    "ExecuteTime": {
     "end_time": "2025-04-15T08:47:39.564345Z",
     "start_time": "2025-04-15T06:51:48.145539Z"
    }
   },
   "outputs": [
    {
     "data": {
      "application/vnd.jupyter.widget-view+json": {
       "model_id": "1ff979a0edf341bda471312ad6bd8778",
       "version_major": 2,
       "version_minor": 0
      },
      "text/plain": [
       "IntProgress(value=0, max=10622)"
      ]
     },
     "metadata": {},
     "output_type": "display_data"
    },
    {
     "data": {
      "application/vnd.jupyter.widget-view+json": {
       "model_id": "5aafaa89c6bb44ffb073109240a01690",
       "version_major": 2,
       "version_minor": 0
      },
      "text/plain": [
       "IntProgress(value=0, max=459)"
      ]
     },
     "metadata": {},
     "output_type": "display_data"
    },
    {
     "data": {
      "application/vnd.jupyter.widget-view+json": {
       "model_id": "76eda03665ee49f0adf0a34e2979525f",
       "version_major": 2,
       "version_minor": 0
      },
      "text/plain": [
       "IntProgress(value=0, max=5258)"
      ]
     },
     "metadata": {},
     "output_type": "display_data"
    },
    {
     "data": {
      "application/vnd.jupyter.widget-view+json": {
       "model_id": "95d1e763c73847b89693828f6f4c0eeb",
       "version_major": 2,
       "version_minor": 0
      },
      "text/plain": [
       "IntProgress(value=0, max=2947)"
      ]
     },
     "metadata": {},
     "output_type": "display_data"
    },
    {
     "data": {
      "application/vnd.jupyter.widget-view+json": {
       "model_id": "62fcfcccbf7d4a20ad1eeb26b9fcc71c",
       "version_major": 2,
       "version_minor": 0
      },
      "text/plain": [
       "IntProgress(value=0, max=293)"
      ]
     },
     "metadata": {},
     "output_type": "display_data"
    },
    {
     "data": {
      "application/vnd.jupyter.widget-view+json": {
       "model_id": "0f10c8cde7834b6381709a2b8e699c05",
       "version_major": 2,
       "version_minor": 0
      },
      "text/plain": [
       "IntProgress(value=0, max=6601)"
      ]
     },
     "metadata": {},
     "output_type": "display_data"
    },
    {
     "data": {
      "application/vnd.jupyter.widget-view+json": {
       "model_id": "1c1e8938c3314c4bb021dca912bbc8d6",
       "version_major": 2,
       "version_minor": 0
      },
      "text/plain": [
       "IntProgress(value=0, max=20643)"
      ]
     },
     "metadata": {},
     "output_type": "display_data"
    },
    {
     "data": {
      "application/vnd.jupyter.widget-view+json": {
       "model_id": "255b8a1e89ce4585b7f88329d6d4cd3f",
       "version_major": 2,
       "version_minor": 0
      },
      "text/plain": [
       "IntProgress(value=0, max=6861)"
      ]
     },
     "metadata": {},
     "output_type": "display_data"
    },
    {
     "data": {
      "application/vnd.jupyter.widget-view+json": {
       "model_id": "8d6b3f0af6054dfcb47ddfb83c411219",
       "version_major": 2,
       "version_minor": 0
      },
      "text/plain": [
       "IntProgress(value=0, max=3801)"
      ]
     },
     "metadata": {},
     "output_type": "display_data"
    },
    {
     "data": {
      "application/vnd.jupyter.widget-view+json": {
       "model_id": "caaac861a5594d13a157b8ebc9008017",
       "version_major": 2,
       "version_minor": 0
      },
      "text/plain": [
       "IntProgress(value=0, max=1759)"
      ]
     },
     "metadata": {},
     "output_type": "display_data"
    },
    {
     "data": {
      "application/vnd.jupyter.widget-view+json": {
       "model_id": "102b5001c6654b3ba31e5949f3dd52ac",
       "version_major": 2,
       "version_minor": 0
      },
      "text/plain": [
       "IntProgress(value=0, max=11105)"
      ]
     },
     "metadata": {},
     "output_type": "display_data"
    },
    {
     "data": {
      "application/vnd.jupyter.widget-view+json": {
       "model_id": "c32251aa25714a3e8a6c0d5d72f59a88",
       "version_major": 2,
       "version_minor": 0
      },
      "text/plain": [
       "IntProgress(value=0, max=1263)"
      ]
     },
     "metadata": {},
     "output_type": "display_data"
    },
    {
     "data": {
      "application/vnd.jupyter.widget-view+json": {
       "model_id": "f6471e8f7984445db391eca309ce6163",
       "version_major": 2,
       "version_minor": 0
      },
      "text/plain": [
       "IntProgress(value=0, max=739)"
      ]
     },
     "metadata": {},
     "output_type": "display_data"
    },
    {
     "data": {
      "application/vnd.jupyter.widget-view+json": {
       "model_id": "48ebf6d38c0e45099a64a42f03de15a4",
       "version_major": 2,
       "version_minor": 0
      },
      "text/plain": [
       "IntProgress(value=0, max=10455)"
      ]
     },
     "metadata": {},
     "output_type": "display_data"
    },
    {
     "data": {
      "application/vnd.jupyter.widget-view+json": {
       "model_id": "29edd4c9031c40ab8905782606ca0e82",
       "version_major": 2,
       "version_minor": 0
      },
      "text/plain": [
       "IntProgress(value=0, max=926)"
      ]
     },
     "metadata": {},
     "output_type": "display_data"
    }
   ],
   "source": [
    "for ct in list(np.unique(metadata.cell_type_final)):\n",
    "    blocks_uncapped = pv.MultiBlock()\n",
    "    blocks_capped = pv.MultiBlock()\n",
    "    ids = metadata[metadata.cell_type_final == ct].cell.unique()\n",
    "    f = IntProgress(min=0, max=len(ids))  # instantiate the bar\n",
    "    display(f)\n",
    "    for id in ids:\n",
    "        points = []\n",
    "        cell_geometry = layers[layers.cell == id]\n",
    "        for _, row in cell_geometry.iterrows():\n",
    "            for seq in row.coords:\n",
    "                for coord in seq:\n",
    "                    points.append([coord[0], coord[1], coord[2]])\n",
    "        mesh_3d = pv.PolyData(points)\n",
    "        triagulation = mesh_3d.reconstruct_surface()\n",
    "        triagulation = triagulation.decimate_pro(0.3, preserve_topology=True)\n",
    "        final_mesh = triagulation.fill_holes(1e6)\n",
    "        final_mesh.clean(inplace=True)\n",
    "        blocks_capped[str(id)] = final_mesh\n",
    "        blocks_uncapped[str(id)] = triagulation\n",
    "        f.value += 1\n",
    "    blocks_uncapped.save(\n",
    "        f\"/Users/jonasflor/Desktop/test_Proseg3D_Paraview/{ct}_shapes.vtm\"\n",
    "    )\n",
    "    blocks_capped.save(\n",
    "        f\"/Users/jonasflor/Desktop/test_Proseg3D_Paraview/{ct}_shapes_capped.vtm\"\n",
    "    )"
   ]
  },
  {
   "cell_type": "markdown",
   "id": "d2b0a862b51ec236",
   "metadata": {},
   "source": [
    "# Transcripts"
   ]
  },
  {
   "cell_type": "code",
   "execution_count": 17,
   "id": "8cd3a2411be081bf",
   "metadata": {
    "ExecuteTime": {
     "end_time": "2025-04-14T11:49:39.606307Z",
     "start_time": "2025-04-14T11:48:43.221962Z"
    }
   },
   "outputs": [
    {
     "data": {
      "text/html": [
       "<div>\n",
       "<style scoped>\n",
       "    .dataframe tbody tr th:only-of-type {\n",
       "        vertical-align: middle;\n",
       "    }\n",
       "\n",
       "    .dataframe tbody tr th {\n",
       "        vertical-align: top;\n",
       "    }\n",
       "\n",
       "    .dataframe thead th {\n",
       "        text-align: right;\n",
       "    }\n",
       "</style>\n",
       "<table border=\"1\" class=\"dataframe\">\n",
       "  <thead>\n",
       "    <tr style=\"text-align: right;\">\n",
       "      <th></th>\n",
       "      <th>transcript_id</th>\n",
       "      <th>x</th>\n",
       "      <th>y</th>\n",
       "      <th>z</th>\n",
       "      <th>observed_x</th>\n",
       "      <th>observed_y</th>\n",
       "      <th>observed_z</th>\n",
       "      <th>gene</th>\n",
       "      <th>qv</th>\n",
       "      <th>fov</th>\n",
       "      <th>assignment</th>\n",
       "      <th>probability</th>\n",
       "      <th>background</th>\n",
       "      <th>confusion</th>\n",
       "    </tr>\n",
       "  </thead>\n",
       "  <tbody>\n",
       "    <tr>\n",
       "      <th>0</th>\n",
       "      <td>0</td>\n",
       "      <td>7136.75200</td>\n",
       "      <td>2356.6455</td>\n",
       "      <td>0.782579</td>\n",
       "      <td>7136.47560</td>\n",
       "      <td>2356.3298</td>\n",
       "      <td>0.0</td>\n",
       "      <td>Igf2</td>\n",
       "      <td>inf</td>\n",
       "      <td>461</td>\n",
       "      <td>86030</td>\n",
       "      <td>0.52001</td>\n",
       "      <td>1</td>\n",
       "      <td>0</td>\n",
       "    </tr>\n",
       "    <tr>\n",
       "      <th>1</th>\n",
       "      <td>1</td>\n",
       "      <td>7137.29300</td>\n",
       "      <td>2358.9102</td>\n",
       "      <td>3.766153</td>\n",
       "      <td>7138.10940</td>\n",
       "      <td>2360.3838</td>\n",
       "      <td>0.0</td>\n",
       "      <td>Cfp</td>\n",
       "      <td>inf</td>\n",
       "      <td>461</td>\n",
       "      <td>86030</td>\n",
       "      <td>0.86001</td>\n",
       "      <td>0</td>\n",
       "      <td>0</td>\n",
       "    </tr>\n",
       "    <tr>\n",
       "      <th>2</th>\n",
       "      <td>2</td>\n",
       "      <td>7134.17530</td>\n",
       "      <td>2359.4128</td>\n",
       "      <td>0.517902</td>\n",
       "      <td>7136.97270</td>\n",
       "      <td>2356.9917</td>\n",
       "      <td>0.0</td>\n",
       "      <td>Slc3a2</td>\n",
       "      <td>inf</td>\n",
       "      <td>461</td>\n",
       "      <td>4294967295</td>\n",
       "      <td>0.53000</td>\n",
       "      <td>0</td>\n",
       "      <td>0</td>\n",
       "    </tr>\n",
       "    <tr>\n",
       "      <th>3</th>\n",
       "      <td>3</td>\n",
       "      <td>7135.23970</td>\n",
       "      <td>2356.6104</td>\n",
       "      <td>1.509655</td>\n",
       "      <td>7135.13600</td>\n",
       "      <td>2357.4858</td>\n",
       "      <td>0.0</td>\n",
       "      <td>Slc3a2</td>\n",
       "      <td>inf</td>\n",
       "      <td>461</td>\n",
       "      <td>4294967295</td>\n",
       "      <td>0.33000</td>\n",
       "      <td>0</td>\n",
       "      <td>0</td>\n",
       "    </tr>\n",
       "    <tr>\n",
       "      <th>4</th>\n",
       "      <td>4</td>\n",
       "      <td>7138.23300</td>\n",
       "      <td>2358.5337</td>\n",
       "      <td>1.636675</td>\n",
       "      <td>7137.83640</td>\n",
       "      <td>2359.2458</td>\n",
       "      <td>0.0</td>\n",
       "      <td>Slc47a1</td>\n",
       "      <td>inf</td>\n",
       "      <td>461</td>\n",
       "      <td>86030</td>\n",
       "      <td>0.28001</td>\n",
       "      <td>0</td>\n",
       "      <td>1</td>\n",
       "    </tr>\n",
       "    <tr>\n",
       "      <th>...</th>\n",
       "      <td>...</td>\n",
       "      <td>...</td>\n",
       "      <td>...</td>\n",
       "      <td>...</td>\n",
       "      <td>...</td>\n",
       "      <td>...</td>\n",
       "      <td>...</td>\n",
       "      <td>...</td>\n",
       "      <td>...</td>\n",
       "      <td>...</td>\n",
       "      <td>...</td>\n",
       "      <td>...</td>\n",
       "      <td>...</td>\n",
       "      <td>...</td>\n",
       "    </tr>\n",
       "    <tr>\n",
       "      <th>66676075</th>\n",
       "      <td>66676350</td>\n",
       "      <td>366.67264</td>\n",
       "      <td>2474.5645</td>\n",
       "      <td>3.902482</td>\n",
       "      <td>365.51303</td>\n",
       "      <td>2480.4158</td>\n",
       "      <td>4.0</td>\n",
       "      <td>Slc7a11</td>\n",
       "      <td>inf</td>\n",
       "      <td>1302</td>\n",
       "      <td>4294967295</td>\n",
       "      <td>1.00001</td>\n",
       "      <td>1</td>\n",
       "      <td>0</td>\n",
       "    </tr>\n",
       "    <tr>\n",
       "      <th>66676076</th>\n",
       "      <td>66676351</td>\n",
       "      <td>348.59390</td>\n",
       "      <td>2396.3267</td>\n",
       "      <td>2.299710</td>\n",
       "      <td>354.38904</td>\n",
       "      <td>2393.4180</td>\n",
       "      <td>4.0</td>\n",
       "      <td>Spp1</td>\n",
       "      <td>inf</td>\n",
       "      <td>1302</td>\n",
       "      <td>4294967295</td>\n",
       "      <td>1.00001</td>\n",
       "      <td>1</td>\n",
       "      <td>0</td>\n",
       "    </tr>\n",
       "    <tr>\n",
       "      <th>66676077</th>\n",
       "      <td>66676352</td>\n",
       "      <td>332.20673</td>\n",
       "      <td>2545.5134</td>\n",
       "      <td>4.684248</td>\n",
       "      <td>333.12042</td>\n",
       "      <td>2543.9292</td>\n",
       "      <td>4.0</td>\n",
       "      <td>Xirp1</td>\n",
       "      <td>inf</td>\n",
       "      <td>1302</td>\n",
       "      <td>4294967295</td>\n",
       "      <td>1.00001</td>\n",
       "      <td>1</td>\n",
       "      <td>0</td>\n",
       "    </tr>\n",
       "    <tr>\n",
       "      <th>66676078</th>\n",
       "      <td>66676353</td>\n",
       "      <td>245.13930</td>\n",
       "      <td>2495.4607</td>\n",
       "      <td>4.407417</td>\n",
       "      <td>245.56311</td>\n",
       "      <td>2495.7786</td>\n",
       "      <td>5.0</td>\n",
       "      <td>Slc7a11</td>\n",
       "      <td>inf</td>\n",
       "      <td>1302</td>\n",
       "      <td>4294967295</td>\n",
       "      <td>1.00001</td>\n",
       "      <td>1</td>\n",
       "      <td>0</td>\n",
       "    </tr>\n",
       "    <tr>\n",
       "      <th>66676079</th>\n",
       "      <td>66676354</td>\n",
       "      <td>218.89857</td>\n",
       "      <td>2454.5640</td>\n",
       "      <td>4.216810</td>\n",
       "      <td>224.57304</td>\n",
       "      <td>2459.5230</td>\n",
       "      <td>6.0</td>\n",
       "      <td>C1qtnf4</td>\n",
       "      <td>inf</td>\n",
       "      <td>1302</td>\n",
       "      <td>4294967295</td>\n",
       "      <td>1.00001</td>\n",
       "      <td>1</td>\n",
       "      <td>0</td>\n",
       "    </tr>\n",
       "  </tbody>\n",
       "</table>\n",
       "<p>66676080 rows × 14 columns</p>\n",
       "</div>"
      ],
      "text/plain": [
       "          transcript_id           x          y         z  observed_x  \\\n",
       "0                     0  7136.75200  2356.6455  0.782579  7136.47560   \n",
       "1                     1  7137.29300  2358.9102  3.766153  7138.10940   \n",
       "2                     2  7134.17530  2359.4128  0.517902  7136.97270   \n",
       "3                     3  7135.23970  2356.6104  1.509655  7135.13600   \n",
       "4                     4  7138.23300  2358.5337  1.636675  7137.83640   \n",
       "...                 ...         ...        ...       ...         ...   \n",
       "66676075       66676350   366.67264  2474.5645  3.902482   365.51303   \n",
       "66676076       66676351   348.59390  2396.3267  2.299710   354.38904   \n",
       "66676077       66676352   332.20673  2545.5134  4.684248   333.12042   \n",
       "66676078       66676353   245.13930  2495.4607  4.407417   245.56311   \n",
       "66676079       66676354   218.89857  2454.5640  4.216810   224.57304   \n",
       "\n",
       "          observed_y  observed_z     gene   qv   fov  assignment  probability  \\\n",
       "0          2356.3298         0.0     Igf2  inf   461       86030      0.52001   \n",
       "1          2360.3838         0.0      Cfp  inf   461       86030      0.86001   \n",
       "2          2356.9917         0.0   Slc3a2  inf   461  4294967295      0.53000   \n",
       "3          2357.4858         0.0   Slc3a2  inf   461  4294967295      0.33000   \n",
       "4          2359.2458         0.0  Slc47a1  inf   461       86030      0.28001   \n",
       "...              ...         ...      ...  ...   ...         ...          ...   \n",
       "66676075   2480.4158         4.0  Slc7a11  inf  1302  4294967295      1.00001   \n",
       "66676076   2393.4180         4.0     Spp1  inf  1302  4294967295      1.00001   \n",
       "66676077   2543.9292         4.0    Xirp1  inf  1302  4294967295      1.00001   \n",
       "66676078   2495.7786         5.0  Slc7a11  inf  1302  4294967295      1.00001   \n",
       "66676079   2459.5230         6.0  C1qtnf4  inf  1302  4294967295      1.00001   \n",
       "\n",
       "          background  confusion  \n",
       "0                  1          0  \n",
       "1                  0          0  \n",
       "2                  0          0  \n",
       "3                  0          0  \n",
       "4                  0          1  \n",
       "...              ...        ...  \n",
       "66676075           1          0  \n",
       "66676076           1          0  \n",
       "66676077           1          0  \n",
       "66676078           1          0  \n",
       "66676079           1          0  \n",
       "\n",
       "[66676080 rows x 14 columns]"
      ]
     },
     "execution_count": 17,
     "metadata": {},
     "output_type": "execute_result"
    }
   ],
   "source": [
    "transcripts = pd.read_csv(\n",
    "    \"/Users/jonasflor/Desktop/test_Proseg3D_Paraview/transcript-metadata.csv\"\n",
    ")\n",
    "min_transcripts = transcripts.z.min()\n",
    "max_transcripts = transcripts.z.max()\n",
    "transcripts[\"z\"] = (\n",
    "    3.5 * 4 * (transcripts.z - min_transcripts) / (max_transcripts - min_transcripts)\n",
    ")\n",
    "transcripts"
   ]
  },
  {
   "cell_type": "code",
   "execution_count": 18,
   "id": "4f76a3eb6ee3c9b4",
   "metadata": {
    "ExecuteTime": {
     "end_time": "2025-04-14T11:49:39.962474Z",
     "start_time": "2025-04-14T11:49:39.956964Z"
    }
   },
   "outputs": [],
   "source": [
    "cell_types_mouse_brain = {\n",
    "    \"ECs\": [\"Cldn5\", \"Cdh5\", \"Pecam1\", \"Kdr\", \"Flt1\", \"Tie1\", \"Tek\", \"Nos3\"],\n",
    "    \"Pericytes\": [\"Vtn\", \"Kcnj8\", \"Rgs5\", \"Cd248\", \"Atp13a5\", \"Anpep\"],\n",
    "    \"SMCs\": [\"Acta2\", \"Pdlim3\", \"Tagln\", \"Myh11\", \"Sncg\", \"Cnn1\", \"Pln\", \"Adamts1\"],\n",
    "    \"Fibroblasts\": [\"Dcn\", \"Col1a1\", \"Lama1\", \"Fn1\", \"Slc7a11\", \"Il33\", \"Slc6a13\"],\n",
    "    \"Ependymal cells\": [\"Ccdc153\", \"Tmem212\", \"Pifo\", \"Foxj1\"],\n",
    "    \"Microglia_Macrophages\": [\n",
    "        \"Trem2\",\n",
    "        \"Cx3cr1\",\n",
    "        \"Aif1\",\n",
    "        \"Itgam\",\n",
    "        \"Itgax\",\n",
    "        \"C1qc\",\n",
    "        \"Ctss\",\n",
    "        \"C1qa\",\n",
    "        \"Cx3cr1\",\n",
    "        \"Ctss\",\n",
    "        \"Cd163\",\n",
    "    ],\n",
    "    \"Oligodendrocytes\": [\n",
    "        \"Plp1\",\n",
    "        \"Cnp\",\n",
    "        \"Cldn11\",\n",
    "        \"Mbp\",\n",
    "        \"Mag\",\n",
    "        \"Mog\",\n",
    "        \"Enpp2\",\n",
    "        \"Trf\",\n",
    "        \"Apod\",\n",
    "        \"Plxnb3\",\n",
    "    ],\n",
    "    \"OPCs\": [\n",
    "        \"Ptprz1\",\n",
    "        \"Pdgfra\",\n",
    "        \"Cspg4\",\n",
    "        \"Olig1\",\n",
    "        \"Cspg5\",\n",
    "        \"Rgcc\",\n",
    "        \"Olig2\",\n",
    "        \"Vcan\",\n",
    "        \"Cd9\",\n",
    "        \"Sox10\",\n",
    "        \"Apod\",\n",
    "    ],\n",
    "    \"Astrocytes\": [\"Aqp4\", \"Aldoc\", \"Apoe\", \"Clu\", \"Plpp3\", \"Slc1a3\"],\n",
    "    \"Neurons\": [\n",
    "        \"Meg3\",\n",
    "        \"Slc17a7\",\n",
    "        \"Ptprd\",\n",
    "        \"Gad2\",\n",
    "        \"Gad1\",\n",
    "        \"Galntl6\",\n",
    "        \"Rbfox3\",\n",
    "        \"Map2\",\n",
    "        \"Slc32a1\",\n",
    "    ],\n",
    "}"
   ]
  },
  {
   "cell_type": "code",
   "execution_count": 19,
   "id": "74e37c4dc1f8f3dc",
   "metadata": {
    "ExecuteTime": {
     "end_time": "2025-04-14T11:52:32.765046Z",
     "start_time": "2025-04-14T11:49:40.288686Z"
    }
   },
   "outputs": [
    {
     "data": {
      "application/vnd.jupyter.widget-view+json": {
       "model_id": "c1aa450bf0244dce9bfab61c0bcc857a",
       "version_major": 2,
       "version_minor": 0
      },
      "text/plain": [
       "IntProgress(value=0, max=10)"
      ]
     },
     "metadata": {},
     "output_type": "display_data"
    }
   ],
   "source": [
    "f = IntProgress(min=0, max=len(cell_types_mouse_brain.keys()))  # instantiate the bar\n",
    "display(f)\n",
    "for key in cell_types_mouse_brain.keys():\n",
    "    markers = cell_types_mouse_brain[key]\n",
    "    marker_genes = transcripts[[tr in markers for tr in transcripts.gene]][\n",
    "        [\"x\", \"y\", \"z\", \"gene\"]\n",
    "    ].values\n",
    "    points = pv.PolyData(marker_genes[:, :3].astype(float))\n",
    "    points[\"classification\"] = marker_genes[:, 3].astype(str)\n",
    "    points.save(\n",
    "        f\"/Users/jonasflor/Desktop/test_Proseg3D_Paraview/{key}_marker_transcripts.vtp\"\n",
    "    )\n",
    "    f.value += 1  # len(marker_genes)"
   ]
  },
  {
   "cell_type": "code",
   "execution_count": null,
   "id": "488522633d8c57d5",
   "metadata": {},
   "outputs": [],
   "source": []
  }
 ],
 "metadata": {
  "kernelspec": {
   "display_name": "Python 3 (ipykernel)",
   "language": "python",
   "name": "python3"
  },
  "language_info": {
   "codemirror_mode": {
    "name": "ipython",
    "version": 3
   },
   "file_extension": ".py",
   "mimetype": "text/x-python",
   "name": "python",
   "nbconvert_exporter": "python",
   "pygments_lexer": "ipython3",
   "version": "3.12.8"
  }
 },
 "nbformat": 4,
 "nbformat_minor": 5
}
