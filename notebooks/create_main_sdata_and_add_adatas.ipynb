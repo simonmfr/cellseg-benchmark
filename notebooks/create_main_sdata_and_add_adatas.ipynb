{
 "cells": [
  {
   "cell_type": "markdown",
   "id": "b95ba270",
   "metadata": {},
   "source": [
    "1. Load MERFISH output and export as spatialdata object.  \n",
    "Two approaches: sdata containing transcript table plus\n",
    "    1. images from z=3 plane\n",
    "    2. images from all z planes"
   ]
  },
  {
   "cell_type": "markdown",
   "id": "5bc5a1d5",
   "metadata": {},
   "source": [
    "2. Take boundaries and adata files from each segmentation approach and add to main sdata"
   ]
  },
  {
   "cell_type": "code",
   "execution_count": 1,
   "id": "dbaddce9",
   "metadata": {},
   "outputs": [
    {
     "name": "stderr",
     "output_type": "stream",
     "text": [
      "/dss/dsshome1/0C/ra98gaq/miniconda3/envs/sdata/lib/python3.11/site-packages/dask/dataframe/__init__.py:31: FutureWarning: The legacy Dask DataFrame implementation is deprecated and will be removed in a future version. Set the configuration option `dataframe.query-planning` to `True` or None to enable the new Dask Dataframe implementation and silence this warning.\n",
      "  warnings.warn(\n"
     ]
    }
   ],
   "source": [
    "import json\n",
    "import os\n",
    "\n",
    "import spatialdata as sd"
   ]
  },
  {
   "cell_type": "code",
   "execution_count": 2,
   "id": "94c91893",
   "metadata": {},
   "outputs": [
    {
     "name": "stderr",
     "output_type": "stream",
     "text": [
      "/dss/dsshome1/0C/ra98gaq/miniconda3/envs/sdata/lib/python3.11/site-packages/anndata/utils.py:429: FutureWarning: Importing read_text from `anndata` is deprecated. Import anndata.io.read_text instead.\n",
      "  warnings.warn(msg, FutureWarning)\n"
     ]
    }
   ],
   "source": [
    "import sys\n",
    "\n",
    "sys.path.append(\"/home\")\n",
    "import src.sdata_utils as sdata_utils"
   ]
  },
  {
   "cell_type": "code",
   "execution_count": 3,
   "id": "65c02ca9",
   "metadata": {},
   "outputs": [
    {
     "name": "stdout",
     "output_type": "stream",
     "text": [
      "lrwxrwxrwx 1 ra98gaq pn52ra 53 Mar 12 17:01 /dss/dsshome1/0C/ra98gaq/Git/cellseg-benchmark/data -> /dss/dssfs03/pn52re/pn52re-dss-0001/cellseg-benchmark\n"
     ]
    }
   ],
   "source": [
    "data_dir = os.path.abspath(\"../data\")\n",
    "!ls -l $data_dir"
   ]
  },
  {
   "cell_type": "code",
   "execution_count": 4,
   "id": "923dd28f",
   "metadata": {},
   "outputs": [
    {
     "name": "stdout",
     "output_type": "stream",
     "text": [
      "lrwxrwxrwx 1 ra98gaq pn52ra 35 Mar 12 17:02 /dss/dsshome1/0C/ra98gaq/Git/cellseg-benchmark/archive -> /dss/dssfs03/pn52re/pn52re-dss-0000\n"
     ]
    }
   ],
   "source": [
    "archive_dir = os.path.abspath(\"../archive\")\n",
    "!ls -l $archive_dir"
   ]
  },
  {
   "cell_type": "code",
   "execution_count": 5,
   "id": "d5312ea7",
   "metadata": {},
   "outputs": [],
   "source": [
    "with open(os.path.join(data_dir, \"sample_paths.json\")) as file:\n",
    "    sample_paths = json.load(file)"
   ]
  },
  {
   "cell_type": "markdown",
   "id": "1de1daf0",
   "metadata": {},
   "source": [
    "# Create main sdata (transcripts and images only)"
   ]
  },
  {
   "cell_type": "code",
   "execution_count": 6,
   "id": "b89da472",
   "metadata": {},
   "outputs": [],
   "source": [
    "#!rm -r \"{data_dir}/samples/foxf2_s2_r1/sdata_z3.zarr\""
   ]
  },
  {
   "cell_type": "code",
   "execution_count": 7,
   "id": "f9daa44c",
   "metadata": {},
   "outputs": [
    {
     "name": "stdout",
     "output_type": "stream",
     "text": [
      "Skipping foxf2_s2_r1: z3 file already exists\n",
      "Skipping foxf2_s2_r1: 3d file already exists\n"
     ]
    }
   ],
   "source": [
    "# sample foxf2_s2_r1 (z3 and 3d)\n",
    "sample_name = \"foxf2_s2_r1\"\n",
    "for zmode in [\"z3\", \"3d\"]:\n",
    "    sdata_utils.process_merscope(sample_name, data_dir, sample_paths, zmode)"
   ]
  },
  {
   "cell_type": "code",
   "execution_count": 8,
   "id": "3e158309",
   "metadata": {
    "scrolled": true
   },
   "outputs": [
    {
     "name": "stdout",
     "output_type": "stream",
     "text": [
      "Skipping foxf2_s1_r0: z3 file already exists\n",
      "Skipping foxf2_s1_r1: z3 file already exists\n",
      "Skipping foxf2_s2_r0: z3 file already exists\n",
      "Skipping foxf2_s2_r1: z3 file already exists\n",
      "Skipping foxf2_s2_r2: z3 file already exists\n",
      "Skipping foxf2_s3_r0: z3 file already exists\n",
      "Skipping foxf2_s3_r1: z3 file already exists\n",
      "Skipping foxf2_s4_r0: z3 file already exists\n",
      "Skipping foxf2_s4_r1: z3 file already exists\n",
      "Skipping foxf2_s5_r0: z3 file already exists\n",
      "Skipping foxf2_s5_r1: z3 file already exists\n",
      "Skipping foxf2_s6_r0: z3 file already exists\n",
      "Skipping foxf2_s6_r1: z3 file already exists\n",
      "Skipping foxf2_s6_r2: z3 file already exists\n",
      "Skipping foxf2_s7_r0: z3 file already exists\n",
      "Skipping foxf2_s7_r1: z3 file already exists\n"
     ]
    }
   ],
   "source": [
    "# all samples (z3 only)\n",
    "zmodes = [\"z3\"]\n",
    "for sample_name in sample_paths.keys():\n",
    "    for zmode in zmodes:\n",
    "        sdata_utils.process_merscope(sample_name, data_dir, sample_paths, zmode)"
   ]
  },
  {
   "cell_type": "markdown",
   "id": "158e9773",
   "metadata": {},
   "source": [
    "# Add data from segmentation outputs: shapes and adatas"
   ]
  },
  {
   "cell_type": "code",
   "execution_count": 9,
   "id": "c1044b0c",
   "metadata": {},
   "outputs": [],
   "source": [
    "sample_name = \"foxf2_s2_r1\""
   ]
  },
  {
   "cell_type": "code",
   "execution_count": 10,
   "id": "956d1419",
   "metadata": {},
   "outputs": [
    {
     "name": "stderr",
     "output_type": "stream",
     "text": [
      "/dss/dsshome1/0C/ra98gaq/miniconda3/envs/sdata/lib/python3.11/site-packages/zarr/creation.py:614: UserWarning: ignoring keyword argument 'read_only'\n",
      "  compressor, fill_value = _kwargs_compat(compressor, fill_value, kwargs)\n",
      "/dss/dsshome1/0C/ra98gaq/miniconda3/envs/sdata/lib/python3.11/site-packages/zarr/creation.py:614: UserWarning: ignoring keyword argument 'read_only'\n",
      "  compressor, fill_value = _kwargs_compat(compressor, fill_value, kwargs)\n",
      "/dss/dsshome1/0C/ra98gaq/miniconda3/envs/sdata/lib/python3.11/site-packages/zarr/creation.py:614: UserWarning: ignoring keyword argument 'read_only'\n",
      "  compressor, fill_value = _kwargs_compat(compressor, fill_value, kwargs)\n",
      "/dss/dsshome1/0C/ra98gaq/miniconda3/envs/sdata/lib/python3.11/site-packages/zarr/creation.py:614: UserWarning: ignoring keyword argument 'read_only'\n",
      "  compressor, fill_value = _kwargs_compat(compressor, fill_value, kwargs)\n",
      "/dss/dsshome1/0C/ra98gaq/miniconda3/envs/sdata/lib/python3.11/site-packages/zarr/creation.py:614: UserWarning: ignoring keyword argument 'read_only'\n",
      "  compressor, fill_value = _kwargs_compat(compressor, fill_value, kwargs)\n",
      "/dss/dsshome1/0C/ra98gaq/miniconda3/envs/sdata/lib/python3.11/site-packages/spatialdata/_core/spatialdata.py:185: UserWarning: The table is annotating 'baysor_boundaries', which is not present in the SpatialData object.\n",
      "  self.validate_table_in_spatialdata(v)\n",
      "/dss/dsshome1/0C/ra98gaq/miniconda3/envs/sdata/lib/python3.11/site-packages/spatialdata/_core/spatialdata.py:185: UserWarning: The table is annotating 'cellpose_boundaries', which is not present in the SpatialData object.\n",
      "  self.validate_table_in_spatialdata(v)\n",
      "/dss/dsshome1/0C/ra98gaq/miniconda3/envs/sdata/lib/python3.11/site-packages/spatialdata/_core/spatialdata.py:185: UserWarning: The table is annotating 'foxf2_s2_r1_polygons', which is not present in the SpatialData object.\n",
      "  self.validate_table_in_spatialdata(v)\n",
      "/dss/dsshome1/0C/ra98gaq/miniconda3/envs/sdata/lib/python3.11/site-packages/spatialdata/_core/spatialdata.py:185: UserWarning: The table is annotating 'comseg_boundaries', which is not present in the SpatialData object.\n",
      "  self.validate_table_in_spatialdata(v)\n",
      "/dss/dsshome1/0C/ra98gaq/miniconda3/envs/sdata/lib/python3.11/site-packages/spatialdata/_core/spatialdata.py:185: UserWarning: The table is annotating 'image_patches', which is not present in the SpatialData object.\n",
      "  self.validate_table_in_spatialdata(v)\n",
      "/dss/dsshome1/0C/ra98gaq/miniconda3/envs/sdata/lib/python3.11/site-packages/spatialdata/_core/spatialdata.py:185: UserWarning: The table is annotating '2D_boundaries', which is not present in the SpatialData object.\n",
      "  self.validate_table_in_spatialdata(v)\n"
     ]
    }
   ],
   "source": [
    "# load main sdata\n",
    "sdata_path = os.path.join(data_dir, \"samples\", sample_name, \"sdata_z3.zarr\")\n",
    "if \"sdata_main\" not in locals():\n",
    "    sdata_main = sd.read_zarr(sdata_path)"
   ]
  },
  {
   "cell_type": "code",
   "execution_count": 13,
   "id": "1d998e4c",
   "metadata": {},
   "outputs": [
    {
     "data": {
      "text/plain": [
       "SpatialData object, with associated Zarr store: /dss/dssfs03/pn52re/pn52re-dss-0001/cellseg-benchmark/samples/foxf2_s2_r1/sdata_z3.zarr\n",
       "├── Images\n",
       "│     └── 'foxf2_s2_r1_z3': DataTree[cyx] (8, 54456, 65675), (8, 27228, 32837), (8, 13614, 16418), (8, 6807, 8209), (8, 3403, 4104)\n",
       "├── Points\n",
       "│     └── 'foxf2_s2_r1_transcripts': DataFrame with shape: (<Delayed>, 9) (2D points)\n",
       "├── Shapes\n",
       "│     ├── 'boundaries_Baysor_2D_CP1Merlin_075': GeoDataFrame shape: (124658, 1) (2D shapes)\n",
       "│     ├── 'boundaries_Baysor_2D_CP1_020': GeoDataFrame shape: (145848, 1) (2D shapes)\n",
       "│     ├── 'boundaries_Baysor_2D_CP1_080': GeoDataFrame shape: (133435, 1) (2D shapes)\n",
       "│     ├── 'boundaries_Baysor_2D_CP2_020': GeoDataFrame shape: (148669, 1) (2D shapes)\n",
       "│     ├── 'boundaries_Baysor_2D_CP2_080': GeoDataFrame shape: (128401, 1) (2D shapes)\n",
       "│     ├── 'boundaries_Baysor_2D_nucleus_100': GeoDataFrame shape: (147154, 1) (2D shapes)\n",
       "│     ├── 'boundaries_Baysor_3D': GeoDataFrame shape: (149500, 1) (2D shapes)\n",
       "│     ├── 'boundaries_Cellpose_1_DAPI_PolyT': GeoDataFrame shape: (52516, 1) (2D shapes)\n",
       "│     ├── 'boundaries_Cellpose_1_DAPI_PolyT_microns': GeoDataFrame shape: (52516, 1) (2D shapes)\n",
       "│     ├── 'boundaries_Cellpose_1_Merlin': GeoDataFrame shape: (107013, 9) (2D shapes)\n",
       "│     ├── 'boundaries_Cellpose_1_nuclei_model': GeoDataFrame shape: (48759, 1) (2D shapes)\n",
       "│     ├── 'boundaries_Cellpose_1_nuclei_model_microns': GeoDataFrame shape: (48759, 1) (2D shapes)\n",
       "│     ├── 'boundaries_Cellpose_2_DAPI_PolyT': GeoDataFrame shape: (84722, 1) (2D shapes)\n",
       "│     ├── 'boundaries_Cellpose_2_DAPI_PolyT_microns': GeoDataFrame shape: (84722, 1) (2D shapes)\n",
       "│     ├── 'boundaries_Cellpose_2_DAPI_Transcripts': GeoDataFrame shape: (107532, 1) (2D shapes)\n",
       "│     ├── 'boundaries_Cellpose_2_DAPI_Transcripts_microns': GeoDataFrame shape: (107532, 1) (2D shapes)\n",
       "│     ├── 'boundaries_ComSeg': GeoDataFrame shape: (48178, 1) (2D shapes)\n",
       "│     ├── 'boundaries_Negative_Control_Rastered_10': GeoDataFrame shape: (1380358, 3) (2D shapes)\n",
       "│     ├── 'boundaries_Negative_Control_Rastered_20': GeoDataFrame shape: (345435, 3) (2D shapes)\n",
       "│     ├── 'boundaries_Negative_Control_Rastered_50': GeoDataFrame shape: (55379, 3) (2D shapes)\n",
       "│     ├── 'boundaries_Negative_Control_Voronoi': GeoDataFrame shape: (82568, 1) (2D shapes)\n",
       "│     ├── 'boundaries_Proseg': GeoDataFrame shape: (87915, 2) (2D shapes)\n",
       "│     └── 'transcripts_patches': GeoDataFrame shape: (43, 5) (2D shapes)\n",
       "└── Tables\n",
       "      ├── 'adata_Baysor_2D_CP1Merlin_075': AnnData (124658, 550)\n",
       "      ├── 'adata_Baysor_2D_CP1_020': AnnData (145848, 550)\n",
       "      ├── 'adata_Baysor_2D_CP1_080': AnnData (133435, 550)\n",
       "      ├── 'adata_Baysor_2D_CP2_020': AnnData (148669, 550)\n",
       "      ├── 'adata_Baysor_2D_CP2_080': AnnData (128401, 550)\n",
       "      ├── 'adata_Baysor_2D_nucleus_100': AnnData (147154, 550)\n",
       "      ├── 'adata_Baysor_3D': AnnData (149500, 550)\n",
       "      ├── 'adata_Cellpose_1_DAPI_PolyT': AnnData (52516, 550)\n",
       "      ├── 'adata_Cellpose_1_Merlin': AnnData (107013, 500)\n",
       "      ├── 'adata_Cellpose_1_nuclei_model': AnnData (48759, 550)\n",
       "      ├── 'adata_Cellpose_2_DAPI_PolyT': AnnData (84722, 550)\n",
       "      ├── 'adata_Cellpose_2_DAPI_Transcripts': AnnData (107532, 550)\n",
       "      ├── 'adata_ComSeg': AnnData (48178, 550)\n",
       "      ├── 'adata_Ficture': AnnData (107013, 500)\n",
       "      ├── 'adata_Negative_Control_Rastered_10': AnnData (1380358, 500)\n",
       "      ├── 'adata_Negative_Control_Rastered_20': AnnData (345435, 500)\n",
       "      ├── 'adata_Negative_Control_Rastered_50': AnnData (55379, 500)\n",
       "      ├── 'adata_Negative_Control_Voronoi': AnnData (82568, 550)\n",
       "      └── 'adata_Proseg': AnnData (87915, 550)\n",
       "with coordinate systems:\n",
       "    ▸ 'global', with elements:\n",
       "        foxf2_s2_r1_z3 (Images), foxf2_s2_r1_transcripts (Points), boundaries_Baysor_2D_CP1Merlin_075 (Shapes), boundaries_Baysor_2D_CP1_020 (Shapes), boundaries_Baysor_2D_CP1_080 (Shapes), boundaries_Baysor_2D_CP2_020 (Shapes), boundaries_Baysor_2D_CP2_080 (Shapes), boundaries_Baysor_2D_nucleus_100 (Shapes), boundaries_Baysor_3D (Shapes), boundaries_Cellpose_1_DAPI_PolyT (Shapes), boundaries_Cellpose_1_DAPI_PolyT_microns (Shapes), boundaries_Cellpose_1_Merlin (Shapes), boundaries_Cellpose_1_nuclei_model (Shapes), boundaries_Cellpose_1_nuclei_model_microns (Shapes), boundaries_Cellpose_2_DAPI_PolyT (Shapes), boundaries_Cellpose_2_DAPI_PolyT_microns (Shapes), boundaries_Cellpose_2_DAPI_Transcripts (Shapes), boundaries_Cellpose_2_DAPI_Transcripts_microns (Shapes), boundaries_ComSeg (Shapes), boundaries_Negative_Control_Rastered_10 (Shapes), boundaries_Negative_Control_Rastered_20 (Shapes), boundaries_Negative_Control_Rastered_50 (Shapes), boundaries_Negative_Control_Voronoi (Shapes), boundaries_Proseg (Shapes), transcripts_patches (Shapes)"
      ]
     },
     "execution_count": 13,
     "metadata": {},
     "output_type": "execute_result"
    }
   ],
   "source": [
    "sdata_main"
   ]
  },
  {
   "cell_type": "code",
   "execution_count": null,
   "id": "8e82be44",
   "metadata": {},
   "outputs": [],
   "source": [
    "# default MERLIN output from Merscope (cyto2 on DAPI/PolyT)\n",
    "sdata_utils.process_merlin_segmentation(\n",
    "    sample_name, sample_paths, sdata_main, write_to_disk=True\n",
    ")"
   ]
  },
  {
   "cell_type": "code",
   "execution_count": 14,
   "id": "dc965cda",
   "metadata": {},
   "outputs": [
    {
     "data": {
      "text/plain": [
       "['Baysor_2D_CP2_020',\n",
       " 'ComSeg',\n",
       " 'Cellpose_1_nuclei_model',\n",
       " 'Negative_Control_Rastered_50',\n",
       " 'Cellpose_2_DAPI_PolyT',\n",
       " 'Negative_Control_Rastered_20',\n",
       " '.ipynb_checkpoints',\n",
       " 'Baysor_2D_nucleus_100',\n",
       " 'rastered_segmentation.py',\n",
       " 'Ficture',\n",
       " 'Baysor_3D',\n",
       " 'Cellpose_1_DAPI_PolyT',\n",
       " 'Negative_Control_Rastered_10',\n",
       " 'Negative_Control_Voronoi',\n",
       " 'Baysor_2D_CP2_080',\n",
       " 'Cellpose_2_DAPI_Transcripts',\n",
       " 'Cellpose_1_Merlin',\n",
       " 'Baysor_2D_CP1_020',\n",
       " '_cell_type_annotation',\n",
       " 'Boms',\n",
       " 'Baysor_2D_CP1_080',\n",
       " 'Baysor_2D_CP1Merlin_075',\n",
       " 'Cellpose_1_DAPI_Transcripts',\n",
       " 'Proseg']"
      ]
     },
     "execution_count": 14,
     "metadata": {},
     "output_type": "execute_result"
    }
   ],
   "source": [
    "# other segmentation approaches\n",
    "seg_methods = os.listdir(os.path.join(data_dir, \"samples\", sample_name, \"results\"))\n",
    "seg_methods"
   ]
  },
  {
   "cell_type": "code",
   "execution_count": 15,
   "id": "9fdb26f4",
   "metadata": {},
   "outputs": [
    {
     "name": "stdout",
     "output_type": "stream",
     "text": [
      "Skipping boundary import of Baysor_2D_CP2_020 as boundaries_Baysor_2D_CP2_020 exist already.\n",
      "Skipping adata import of Baysor_2D_CP2_020 as adata_Baysor_2D_CP2_020 exist already.\n",
      "Skipping boundary import of ComSeg as boundaries_ComSeg exist already.\n",
      "Skipping adata import of ComSeg as adata_ComSeg exist already.\n",
      "Skipping boundary import of Cellpose_1_nuclei_model as boundaries_Cellpose_1_nuclei_model exist already.\n",
      "Skipping adata import of Cellpose_1_nuclei_model as adata_Cellpose_1_nuclei_model exist already.\n",
      "Skipping boundary import of Negative_Control_Rastered_50 as boundaries_Negative_Control_Rastered_50 exist already.\n",
      "Skipping adata import of Negative_Control_Rastered_50 as adata_Negative_Control_Rastered_50 exist already.\n",
      "Skipping boundary import of Cellpose_2_DAPI_PolyT as boundaries_Cellpose_2_DAPI_PolyT exist already.\n",
      "Skipping adata import of Cellpose_2_DAPI_PolyT as adata_Cellpose_2_DAPI_PolyT exist already.\n",
      "Skipping boundary import of Negative_Control_Rastered_20 as boundaries_Negative_Control_Rastered_20 exist already.\n",
      "Skipping adata import of Negative_Control_Rastered_20 as adata_Negative_Control_Rastered_20 exist already.\n",
      "No boundaries/adata files found for .ipynb_checkpoints. Skipping.\n",
      "Skipping boundary import of Baysor_2D_nucleus_100 as boundaries_Baysor_2D_nucleus_100 exist already.\n",
      "Skipping adata import of Baysor_2D_nucleus_100 as adata_Baysor_2D_nucleus_100 exist already.\n",
      "No boundaries/adata files found for rastered_segmentation.py. Skipping.\n",
      "Shapes file missing for Ficture. Skipping boundary import.\n",
      "Skipping adata import of Ficture as adata_Ficture exist already.\n",
      "Skipping boundary import of Baysor_3D as boundaries_Baysor_3D exist already.\n",
      "Skipping adata import of Baysor_3D as adata_Baysor_3D exist already.\n",
      "Skipping boundary import of Cellpose_1_DAPI_PolyT as boundaries_Cellpose_1_DAPI_PolyT exist already.\n",
      "Skipping adata import of Cellpose_1_DAPI_PolyT as adata_Cellpose_1_DAPI_PolyT exist already.\n",
      "Skipping boundary import of Negative_Control_Rastered_10 as boundaries_Negative_Control_Rastered_10 exist already.\n",
      "Skipping adata import of Negative_Control_Rastered_10 as adata_Negative_Control_Rastered_10 exist already.\n",
      "Skipping boundary import of Negative_Control_Voronoi as boundaries_Negative_Control_Voronoi exist already.\n",
      "Skipping adata import of Negative_Control_Voronoi as adata_Negative_Control_Voronoi exist already.\n",
      "Skipping boundary import of Baysor_2D_CP2_080 as boundaries_Baysor_2D_CP2_080 exist already.\n",
      "Skipping adata import of Baysor_2D_CP2_080 as adata_Baysor_2D_CP2_080 exist already.\n",
      "Skipping boundary import of Cellpose_2_DAPI_Transcripts as boundaries_Cellpose_2_DAPI_Transcripts exist already.\n",
      "Skipping adata import of Cellpose_2_DAPI_Transcripts as adata_Cellpose_2_DAPI_Transcripts exist already.\n",
      "No boundaries/adata files found for Cellpose_1_Merlin. Skipping.\n",
      "Skipping boundary import of Baysor_2D_CP1_020 as boundaries_Baysor_2D_CP1_020 exist already.\n",
      "Skipping adata import of Baysor_2D_CP1_020 as adata_Baysor_2D_CP1_020 exist already.\n",
      "No boundaries/adata files found for _cell_type_annotation. Skipping.\n",
      "No boundaries/adata files found for Boms. Skipping.\n",
      "Skipping boundary import of Baysor_2D_CP1_080 as boundaries_Baysor_2D_CP1_080 exist already.\n",
      "Skipping adata import of Baysor_2D_CP1_080 as adata_Baysor_2D_CP1_080 exist already.\n",
      "Skipping boundary import of Baysor_2D_CP1Merlin_075 as boundaries_Baysor_2D_CP1Merlin_075 exist already.\n",
      "Skipping adata import of Baysor_2D_CP1Merlin_075 as adata_Baysor_2D_CP1Merlin_075 exist already.\n"
     ]
    },
    {
     "name": "stderr",
     "output_type": "stream",
     "text": [
      "/dss/dsshome1/0C/ra98gaq/miniconda3/envs/sdata/lib/python3.11/site-packages/zarr/creation.py:614: UserWarning: ignoring keyword argument 'read_only'\n",
      "  compressor, fill_value = _kwargs_compat(compressor, fill_value, kwargs)\n",
      "/dss/dsshome1/0C/ra98gaq/miniconda3/envs/sdata/lib/python3.11/site-packages/zarr/creation.py:614: UserWarning: ignoring keyword argument 'read_only'\n",
      "  compressor, fill_value = _kwargs_compat(compressor, fill_value, kwargs)\n",
      "/dss/dsshome1/0C/ra98gaq/miniconda3/envs/sdata/lib/python3.11/site-packages/zarr/creation.py:614: UserWarning: ignoring keyword argument 'read_only'\n",
      "  compressor, fill_value = _kwargs_compat(compressor, fill_value, kwargs)\n",
      "/dss/dsshome1/0C/ra98gaq/miniconda3/envs/sdata/lib/python3.11/site-packages/zarr/creation.py:614: UserWarning: ignoring keyword argument 'read_only'\n",
      "  compressor, fill_value = _kwargs_compat(compressor, fill_value, kwargs)\n",
      "/dss/dsshome1/0C/ra98gaq/miniconda3/envs/sdata/lib/python3.11/site-packages/zarr/creation.py:614: UserWarning: ignoring keyword argument 'read_only'\n",
      "  compressor, fill_value = _kwargs_compat(compressor, fill_value, kwargs)\n"
     ]
    },
    {
     "name": "stdout",
     "output_type": "stream",
     "text": [
      "Skipping boundary import of Proseg as boundaries_Proseg exist already.\n",
      "Skipping adata import of Proseg as adata_Proseg exist already.\n"
     ]
    }
   ],
   "source": [
    "sdata_utils.integrate_segmentation_data(\n",
    "    data_dir, sample_name, seg_methods, sdata_main, write_to_disk=True\n",
    ");"
   ]
  },
  {
   "cell_type": "code",
   "execution_count": 17,
   "id": "112b0f9f",
   "metadata": {},
   "outputs": [
    {
     "data": {
      "text/plain": [
       "['images/foxf2_s2_r1_z3',\n",
       " 'points/foxf2_s2_r1_transcripts',\n",
       " 'shapes/boundaries_Baysor_2D_CP1Merlin_075',\n",
       " 'shapes/boundaries_Baysor_2D_CP1_020',\n",
       " 'shapes/boundaries_Baysor_2D_CP1_080',\n",
       " 'shapes/boundaries_Baysor_2D_CP2_020',\n",
       " 'shapes/boundaries_Baysor_2D_CP2_080',\n",
       " 'shapes/boundaries_Baysor_2D_nucleus_100',\n",
       " 'shapes/boundaries_Baysor_3D',\n",
       " 'shapes/boundaries_Cellpose_1_DAPI_PolyT',\n",
       " 'shapes/boundaries_Cellpose_1_DAPI_PolyT_microns',\n",
       " 'shapes/boundaries_Cellpose_1_DAPI_Transcripts',\n",
       " 'shapes/boundaries_Cellpose_1_Merlin',\n",
       " 'shapes/boundaries_Cellpose_1_nuclei_model',\n",
       " 'shapes/boundaries_Cellpose_1_nuclei_model_microns',\n",
       " 'shapes/boundaries_Cellpose_2_DAPI_PolyT',\n",
       " 'shapes/boundaries_Cellpose_2_DAPI_PolyT_microns',\n",
       " 'shapes/boundaries_Cellpose_2_DAPI_Transcripts',\n",
       " 'shapes/boundaries_Cellpose_2_DAPI_Transcripts_microns',\n",
       " 'shapes/boundaries_ComSeg',\n",
       " 'shapes/boundaries_Negative_Control_Rastered_10',\n",
       " 'shapes/boundaries_Negative_Control_Rastered_20',\n",
       " 'shapes/boundaries_Negative_Control_Rastered_50',\n",
       " 'shapes/boundaries_Negative_Control_Voronoi',\n",
       " 'shapes/boundaries_Proseg',\n",
       " 'shapes/transcripts_patches',\n",
       " 'tables/adata_Baysor_2D_CP1Merlin_075',\n",
       " 'tables/adata_Baysor_2D_CP1_020',\n",
       " 'tables/adata_Baysor_2D_CP1_080',\n",
       " 'tables/adata_Baysor_2D_CP2_020',\n",
       " 'tables/adata_Baysor_2D_CP2_080',\n",
       " 'tables/adata_Baysor_2D_nucleus_100',\n",
       " 'tables/adata_Baysor_3D',\n",
       " 'tables/adata_Cellpose_1_DAPI_PolyT',\n",
       " 'tables/adata_Cellpose_1_DAPI_Transcripts',\n",
       " 'tables/adata_Cellpose_1_Merlin',\n",
       " 'tables/adata_Cellpose_1_nuclei_model',\n",
       " 'tables/adata_Cellpose_2_DAPI_PolyT',\n",
       " 'tables/adata_Cellpose_2_DAPI_Transcripts',\n",
       " 'tables/adata_ComSeg',\n",
       " 'tables/adata_Ficture',\n",
       " 'tables/adata_Negative_Control_Rastered_10',\n",
       " 'tables/adata_Negative_Control_Rastered_20',\n",
       " 'tables/adata_Negative_Control_Rastered_50',\n",
       " 'tables/adata_Negative_Control_Voronoi',\n",
       " 'tables/adata_Proseg']"
      ]
     },
     "execution_count": 17,
     "metadata": {},
     "output_type": "execute_result"
    }
   ],
   "source": [
    "sdata_main.elements_paths_on_disk()"
   ]
  },
  {
   "cell_type": "code",
   "execution_count": null,
   "id": "481bf3e1",
   "metadata": {},
   "outputs": [],
   "source": []
  }
 ],
 "metadata": {
  "kernelspec": {
   "display_name": "sdata",
   "language": "python",
   "name": "sdata"
  },
  "language_info": {
   "codemirror_mode": {
    "name": "ipython",
    "version": 3
   },
   "file_extension": ".py",
   "mimetype": "text/x-python",
   "name": "python",
   "nbconvert_exporter": "python",
   "pygments_lexer": "ipython3",
   "version": "3.11.11"
  }
 },
 "nbformat": 4,
 "nbformat_minor": 5
}
