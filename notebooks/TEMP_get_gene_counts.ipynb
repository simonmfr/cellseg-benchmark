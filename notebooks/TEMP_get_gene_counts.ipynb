{
 "cells": [
  {
   "cell_type": "markdown",
   "id": "fe915e81-16ef-4ef1-af16-5d8082b4d318",
   "metadata": {},
   "source": [
    "Get number of counts per gene for gene panel of Alessio/Olga"
   ]
  },
  {
   "cell_type": "code",
   "execution_count": 10,
   "id": "6212183a-e9b6-4365-b0bd-460126c612a7",
   "metadata": {},
   "outputs": [],
   "source": [
    "import json\n",
    "import os\n",
    "\n",
    "import spatialdata as sd"
   ]
  },
  {
   "cell_type": "code",
   "execution_count": 2,
   "id": "df2783bc-082c-4a80-bbb5-cad479be3bd1",
   "metadata": {},
   "outputs": [
    {
     "name": "stderr",
     "output_type": "stream",
     "text": [
      "/dss/dsshome1/0C/ra98gaq/miniconda3/envs/sdata/lib/python3.11/site-packages/anndata/utils.py:429: FutureWarning: Importing read_text from `anndata` is deprecated. Import anndata.io.read_text instead.\n",
      "  warnings.warn(msg, FutureWarning)\n"
     ]
    }
   ],
   "source": [
    "import glob\n",
    "import os\n",
    "import re\n",
    "\n",
    "import spatialdata as sd\n",
    "import spatialdata_io"
   ]
  },
  {
   "cell_type": "code",
   "execution_count": 3,
   "id": "a1f3f89d-f349-41dc-a3e7-20bbf61fade9",
   "metadata": {},
   "outputs": [
    {
     "data": {
      "text/plain": [
       "<module 'src.sdata_utils' from '/home/src/sdata_utils.py'>"
      ]
     },
     "execution_count": 3,
     "metadata": {},
     "output_type": "execute_result"
    }
   ],
   "source": [
    "import sys\n",
    "\n",
    "sys.path.append(\"/home\")\n",
    "import src.sdata_utils as sdata_utils\n",
    "\n",
    "import importlib\n",
    "importlib.reload(sdata_utils)"
   ]
  },
  {
   "cell_type": "code",
   "execution_count": 4,
   "id": "ef8bad50-84ac-4153-8996-ff9e8ec862b4",
   "metadata": {},
   "outputs": [
    {
     "name": "stdout",
     "output_type": "stream",
     "text": [
      "lrwxrwxrwx 1 ra98gaq pn52ra 53 Mar 12 17:01 /home/data -> /dss/dssfs03/pn52re/pn52re-dss-0001/cellseg-benchmark\n"
     ]
    }
   ],
   "source": [
    "data_dir = os.path.abspath(\"/home/data\")\n",
    "!ls -l $data_dir"
   ]
  },
  {
   "cell_type": "code",
   "execution_count": 5,
   "id": "2ad001fe-76ab-486c-abb9-1a8f25949904",
   "metadata": {},
   "outputs": [
    {
     "name": "stdout",
     "output_type": "stream",
     "text": [
      "lrwxrwxrwx 1 ra98gaq pn52ra 35 Mar 12 17:02 /home/archive -> /dss/dssfs03/pn52re/pn52re-dss-0000\n"
     ]
    }
   ],
   "source": [
    "archive_dir = os.path.abspath(\"/home/archive\")\n",
    "!ls -l $archive_dir"
   ]
  },
  {
   "cell_type": "code",
   "execution_count": 6,
   "id": "62e9f22d-d0fb-4f5b-a284-d983d3d611e1",
   "metadata": {},
   "outputs": [],
   "source": [
    "with open(os.path.join(data_dir, \"sample_paths.json\")) as file:\n",
    "    sample_paths = json.load(file)"
   ]
  },
  {
   "cell_type": "code",
   "execution_count": 7,
   "id": "38d1666e-f72d-4b99-a9c3-b474016e6a5f",
   "metadata": {},
   "outputs": [],
   "source": [
    "sample_name = \"foxf2_s2_r1\""
   ]
  },
  {
   "cell_type": "code",
   "execution_count": 8,
   "id": "89862594-7639-4370-b3ef-aa1a5a719610",
   "metadata": {},
   "outputs": [
    {
     "name": "stderr",
     "output_type": "stream",
     "text": [
      "/dss/dsshome1/0C/ra98gaq/miniconda3/envs/sdata/lib/python3.11/site-packages/spatialdata/_core/spatialdata.py:185: UserWarning: The table is annotating 'baysor_boundaries', which is not present in the SpatialData object.\n",
      "  self.validate_table_in_spatialdata(v)\n",
      "/dss/dsshome1/0C/ra98gaq/miniconda3/envs/sdata/lib/python3.11/site-packages/spatialdata/_core/spatialdata.py:185: UserWarning: The table is annotating 'cellpose_boundaries', which is not present in the SpatialData object.\n",
      "  self.validate_table_in_spatialdata(v)\n",
      "/dss/dsshome1/0C/ra98gaq/miniconda3/envs/sdata/lib/python3.11/site-packages/spatialdata/_core/spatialdata.py:185: UserWarning: The table is annotating '20240322_Foxf2-Slide02-cp-WT-PCKO_region_1-WT536_polygons', which is not present in the SpatialData object.\n",
      "  self.validate_table_in_spatialdata(v)\n",
      "/dss/dsshome1/0C/ra98gaq/miniconda3/envs/sdata/lib/python3.11/site-packages/spatialdata/_core/spatialdata.py:185: UserWarning: The table is annotating 'comseg_boundaries', which is not present in the SpatialData object.\n",
      "  self.validate_table_in_spatialdata(v)\n",
      "/dss/dsshome1/0C/ra98gaq/miniconda3/envs/sdata/lib/python3.11/site-packages/spatialdata/_core/spatialdata.py:185: UserWarning: The table is annotating 'foxf2_s2_r1_polygons', which is not present in the SpatialData object.\n",
      "  self.validate_table_in_spatialdata(v)\n",
      "/dss/dsshome1/0C/ra98gaq/miniconda3/envs/sdata/lib/python3.11/site-packages/spatialdata/_core/spatialdata.py:185: UserWarning: The table is annotating 'image_patches', which is not present in the SpatialData object.\n",
      "  self.validate_table_in_spatialdata(v)\n",
      "/dss/dsshome1/0C/ra98gaq/miniconda3/envs/sdata/lib/python3.11/site-packages/spatialdata/_core/spatialdata.py:185: UserWarning: The table is annotating 'proseg_boundaries', which is not present in the SpatialData object.\n",
      "  self.validate_table_in_spatialdata(v)\n"
     ]
    }
   ],
   "source": [
    "# load main sdata\n",
    "sdata_path = os.path.join(data_dir, \"samples\", sample_name, \"sdata_z3_temp_SF.zarr\")\n",
    "if \"sdata_main\" not in locals():\n",
    "    sdata_main = sd.read_zarr(sdata_path)"
   ]
  },
  {
   "cell_type": "code",
   "execution_count": 9,
   "id": "4e0abe71-ddf0-4a2e-81b7-e62913fdeb1d",
   "metadata": {},
   "outputs": [
    {
     "data": {
      "text/plain": [
       "SpatialData object, with associated Zarr store: /dss/dssfs03/pn52re/pn52re-dss-0001/cellseg-benchmark/samples/foxf2_s2_r1/sdata_z3_temp_SF.zarr\n",
       "├── Points\n",
       "│     └── 'foxf2_s2_r1_transcripts': DataFrame with shape: (<Delayed>, 9) (2D points)\n",
       "├── Shapes\n",
       "│     ├── 'boundaries_Baysor_2D_Cellpose_1_DAPI_PolyT_0.2': GeoDataFrame shape: (181678, 1) (2D shapes)\n",
       "│     ├── 'boundaries_Baysor_2D_Cellpose_1_DAPI_PolyT_0.8': GeoDataFrame shape: (164856, 1) (2D shapes)\n",
       "│     ├── 'boundaries_Baysor_2D_Cellpose_1_DAPI_Transcripts_0.2': GeoDataFrame shape: (174569, 1) (2D shapes)\n",
       "│     ├── 'boundaries_Baysor_2D_Cellpose_1_DAPI_Transcripts_0.8': GeoDataFrame shape: (151323, 1) (2D shapes)\n",
       "│     ├── 'boundaries_Baysor_2D_Cellpose_1_nuclei_model_1.0': GeoDataFrame shape: (180656, 1) (2D shapes)\n",
       "│     ├── 'boundaries_Baysor_2D_Cellpose_2_DAPI_PolyT_0.2': GeoDataFrame shape: (174102, 1) (2D shapes)\n",
       "│     ├── 'boundaries_Baysor_2D_Cellpose_2_DAPI_PolyT_0.8': GeoDataFrame shape: (150218, 1) (2D shapes)\n",
       "│     ├── 'boundaries_Baysor_2D_Cellpose_2_DAPI_Transcripts_0.2': GeoDataFrame shape: (173855, 1) (2D shapes)\n",
       "│     ├── 'boundaries_Baysor_2D_Cellpose_2_DAPI_Transcripts_0.8': GeoDataFrame shape: (151895, 1) (2D shapes)\n",
       "│     ├── 'boundaries_Baysor_3D': GeoDataFrame shape: (149500, 1) (2D shapes)\n",
       "│     ├── 'boundaries_Cellpose_1_DAPI_PolyT': GeoDataFrame shape: (52521, 1) (2D shapes)\n",
       "│     ├── 'boundaries_Cellpose_1_DAPI_Transcripts': GeoDataFrame shape: (108387, 1) (2D shapes)\n",
       "│     ├── 'boundaries_Cellpose_1_nuclei_model': GeoDataFrame shape: (47686, 1) (2D shapes)\n",
       "│     ├── 'boundaries_Cellpose_2_DAPI_PolyT': GeoDataFrame shape: (84719, 1) (2D shapes)\n",
       "│     ├── 'boundaries_Cellpose_2_DAPI_Transcripts': GeoDataFrame shape: (108422, 1) (2D shapes)\n",
       "│     ├── 'boundaries_ComSeg': GeoDataFrame shape: (48178, 1) (2D shapes)\n",
       "│     ├── 'boundaries_Ficture': GeoDataFrame shape: (87915, 2) (2D shapes)\n",
       "│     ├── 'boundaries_Negative_Control_Rastered_5': GeoDataFrame shape: (1380358, 3) (2D shapes)\n",
       "│     ├── 'boundaries_Negative_Control_Rastered_10': GeoDataFrame shape: (345435, 3) (2D shapes)\n",
       "│     ├── 'boundaries_Negative_Control_Rastered_25': GeoDataFrame shape: (55379, 3) (2D shapes)\n",
       "│     ├── 'boundaries_Negative_Control_Voronoi': GeoDataFrame shape: (82568, 1) (2D shapes)\n",
       "│     ├── 'boundaries_Proseg_Cellpose_1_DAPI_PolyT': GeoDataFrame shape: (52420, 1) (2D shapes)\n",
       "│     ├── 'boundaries_Proseg_Cellpose_1_DAPI_Transcripts': GeoDataFrame shape: (107872, 1) (2D shapes)\n",
       "│     ├── 'boundaries_Proseg_Cellpose_1_nuclei_model': GeoDataFrame shape: (47626, 1) (2D shapes)\n",
       "│     ├── 'boundaries_Proseg_Cellpose_2_DAPI_PolyT': GeoDataFrame shape: (84556, 1) (2D shapes)\n",
       "│     ├── 'boundaries_Proseg_Cellpose_2_DAPI_Transcripts': GeoDataFrame shape: (107092, 1) (2D shapes)\n",
       "│     └── 'boundaries_Proseg_pure': GeoDataFrame shape: (74874, 1) (2D shapes)\n",
       "└── Tables\n",
       "      ├── 'adata_Baysor_2D_Cellpose_1_DAPI_PolyT_0.2': AnnData (181678, 500)\n",
       "      ├── 'adata_Baysor_2D_Cellpose_1_DAPI_PolyT_0.8': AnnData (164856, 500)\n",
       "      ├── 'adata_Baysor_2D_Cellpose_1_DAPI_Transcripts_0.2': AnnData (174569, 500)\n",
       "      ├── 'adata_Baysor_2D_Cellpose_1_DAPI_Transcripts_0.8': AnnData (151323, 500)\n",
       "      ├── 'adata_Baysor_2D_Cellpose_1_nuclei_model_1.0': AnnData (180656, 500)\n",
       "      ├── 'adata_Baysor_2D_Cellpose_2_DAPI_PolyT_0.2': AnnData (174102, 500)\n",
       "      ├── 'adata_Baysor_2D_Cellpose_2_DAPI_PolyT_0.8': AnnData (150218, 500)\n",
       "      ├── 'adata_Baysor_2D_Cellpose_2_DAPI_Transcripts_0.2': AnnData (173855, 500)\n",
       "      ├── 'adata_Baysor_2D_Cellpose_2_DAPI_Transcripts_0.8': AnnData (151895, 500)\n",
       "      ├── 'adata_Baysor_3D': AnnData (149500, 550)\n",
       "      ├── 'adata_Cellpose_1_DAPI_PolyT': AnnData (52521, 500)\n",
       "      ├── 'adata_Cellpose_1_DAPI_Transcripts': AnnData (108387, 500)\n",
       "      ├── 'adata_Cellpose_1_Merlin': AnnData (107013, 500)\n",
       "      ├── 'adata_Cellpose_1_nuclei_model': AnnData (47686, 500)\n",
       "      ├── 'adata_Cellpose_2_DAPI_PolyT': AnnData (84719, 500)\n",
       "      ├── 'adata_Cellpose_2_DAPI_Transcripts': AnnData (108422, 500)\n",
       "      ├── 'adata_ComSeg': AnnData (48178, 550)\n",
       "      ├── 'adata_Ficture': AnnData (107013, 500)\n",
       "      ├── 'adata_Negative_Control_Rastered_5': AnnData (1380358, 500)\n",
       "      ├── 'adata_Negative_Control_Rastered_10': AnnData (345435, 500)\n",
       "      ├── 'adata_Negative_Control_Rastered_25': AnnData (55379, 500)\n",
       "      ├── 'adata_Negative_Control_Voronoi': AnnData (82568, 550)\n",
       "      ├── 'adata_Proseg_Cellpose_1_DAPI_PolyT': AnnData (52420, 500)\n",
       "      ├── 'adata_Proseg_Cellpose_1_DAPI_Transcripts': AnnData (107872, 500)\n",
       "      ├── 'adata_Proseg_Cellpose_1_nuclei_model': AnnData (47626, 500)\n",
       "      ├── 'adata_Proseg_Cellpose_2_DAPI_PolyT': AnnData (84556, 500)\n",
       "      ├── 'adata_Proseg_Cellpose_2_DAPI_Transcripts': AnnData (107092, 500)\n",
       "      └── 'adata_Proseg_pure': AnnData (74874, 500)\n",
       "with coordinate systems:\n",
       "    ▸ 'global', with elements:\n",
       "        foxf2_s2_r1_transcripts (Points), boundaries_Baysor_2D_Cellpose_1_DAPI_PolyT_0.2 (Shapes), boundaries_Baysor_2D_Cellpose_1_DAPI_PolyT_0.8 (Shapes), boundaries_Baysor_2D_Cellpose_1_DAPI_Transcripts_0.2 (Shapes), boundaries_Baysor_2D_Cellpose_1_DAPI_Transcripts_0.8 (Shapes), boundaries_Baysor_2D_Cellpose_1_nuclei_model_1.0 (Shapes), boundaries_Baysor_2D_Cellpose_2_DAPI_PolyT_0.2 (Shapes), boundaries_Baysor_2D_Cellpose_2_DAPI_PolyT_0.8 (Shapes), boundaries_Baysor_2D_Cellpose_2_DAPI_Transcripts_0.2 (Shapes), boundaries_Baysor_2D_Cellpose_2_DAPI_Transcripts_0.8 (Shapes), boundaries_Baysor_3D (Shapes), boundaries_Cellpose_1_DAPI_PolyT (Shapes), boundaries_Cellpose_1_DAPI_Transcripts (Shapes), boundaries_Cellpose_1_nuclei_model (Shapes), boundaries_Cellpose_2_DAPI_PolyT (Shapes), boundaries_Cellpose_2_DAPI_Transcripts (Shapes), boundaries_ComSeg (Shapes), boundaries_Ficture (Shapes), boundaries_Negative_Control_Rastered_5 (Shapes), boundaries_Negative_Control_Rastered_10 (Shapes), boundaries_Negative_Control_Rastered_25 (Shapes), boundaries_Negative_Control_Voronoi (Shapes), boundaries_Proseg_Cellpose_1_DAPI_PolyT (Shapes), boundaries_Proseg_Cellpose_1_DAPI_Transcripts (Shapes), boundaries_Proseg_Cellpose_1_nuclei_model (Shapes), boundaries_Proseg_Cellpose_2_DAPI_PolyT (Shapes), boundaries_Proseg_Cellpose_2_DAPI_Transcripts (Shapes), boundaries_Proseg_pure (Shapes)"
      ]
     },
     "execution_count": 9,
     "metadata": {},
     "output_type": "execute_result"
    }
   ],
   "source": [
    "sdata_main"
   ]
  },
  {
   "cell_type": "code",
   "execution_count": 18,
   "id": "2341766e-ca3b-4588-84ae-247a7fc12f78",
   "metadata": {},
   "outputs": [
    {
     "data": {
      "text/html": [
       "<div>\n",
       "<style scoped>\n",
       "    .dataframe tbody tr th:only-of-type {\n",
       "        vertical-align: middle;\n",
       "    }\n",
       "\n",
       "    .dataframe tbody tr th {\n",
       "        vertical-align: top;\n",
       "    }\n",
       "\n",
       "    .dataframe thead th {\n",
       "        text-align: right;\n",
       "    }\n",
       "</style>\n",
       "<table border=\"1\" class=\"dataframe\">\n",
       "  <thead>\n",
       "    <tr style=\"text-align: right;\">\n",
       "      <th></th>\n",
       "      <th>gene</th>\n",
       "      <th>transcript_id</th>\n",
       "    </tr>\n",
       "  </thead>\n",
       "  <tbody>\n",
       "    <tr>\n",
       "      <th>0</th>\n",
       "      <td>Igf2</td>\n",
       "      <td>ENSMUST00000000033</td>\n",
       "    </tr>\n",
       "    <tr>\n",
       "      <th>1</th>\n",
       "      <td>Cfp</td>\n",
       "      <td>ENSMUST00000001156</td>\n",
       "    </tr>\n",
       "    <tr>\n",
       "      <th>2</th>\n",
       "      <td>Slc3a2</td>\n",
       "      <td>ENSMUST00000010239</td>\n",
       "    </tr>\n",
       "    <tr>\n",
       "      <th>3</th>\n",
       "      <td>Slc3a2</td>\n",
       "      <td>ENSMUST00000010239</td>\n",
       "    </tr>\n",
       "    <tr>\n",
       "      <th>4</th>\n",
       "      <td>Slc47a1</td>\n",
       "      <td>ENSMUST00000010267</td>\n",
       "    </tr>\n",
       "    <tr>\n",
       "      <th>...</th>\n",
       "      <td>...</td>\n",
       "      <td>...</td>\n",
       "    </tr>\n",
       "    <tr>\n",
       "      <th>682152</th>\n",
       "      <td>Slc7a11</td>\n",
       "      <td>ENSMUST00000029297</td>\n",
       "    </tr>\n",
       "    <tr>\n",
       "      <th>682153</th>\n",
       "      <td>Spp1</td>\n",
       "      <td>ENSMUST00000031243</td>\n",
       "    </tr>\n",
       "    <tr>\n",
       "      <th>682154</th>\n",
       "      <td>Xirp1</td>\n",
       "      <td>ENSMUST00000111635</td>\n",
       "    </tr>\n",
       "    <tr>\n",
       "      <th>682155</th>\n",
       "      <td>Slc7a11</td>\n",
       "      <td>ENSMUST00000029297</td>\n",
       "    </tr>\n",
       "    <tr>\n",
       "      <th>682156</th>\n",
       "      <td>C1qtnf4</td>\n",
       "      <td>ENSMUST00000111466</td>\n",
       "    </tr>\n",
       "  </tbody>\n",
       "</table>\n",
       "<p>66676355 rows × 2 columns</p>\n",
       "</div>"
      ],
      "text/plain": [
       "           gene       transcript_id\n",
       "0          Igf2  ENSMUST00000000033\n",
       "1           Cfp  ENSMUST00000001156\n",
       "2        Slc3a2  ENSMUST00000010239\n",
       "3        Slc3a2  ENSMUST00000010239\n",
       "4       Slc47a1  ENSMUST00000010267\n",
       "...         ...                 ...\n",
       "682152  Slc7a11  ENSMUST00000029297\n",
       "682153     Spp1  ENSMUST00000031243\n",
       "682154    Xirp1  ENSMUST00000111635\n",
       "682155  Slc7a11  ENSMUST00000029297\n",
       "682156  C1qtnf4  ENSMUST00000111466\n",
       "\n",
       "[66676355 rows x 2 columns]"
      ]
     },
     "execution_count": 18,
     "metadata": {},
     "output_type": "execute_result"
    }
   ],
   "source": [
    "gene_df = sdata_main['foxf2_s2_r1_transcripts'][[\"gene\", \"transcript_id\"]].compute()\n",
    "gene_df"
   ]
  },
  {
   "cell_type": "code",
   "execution_count": 25,
   "id": "41482d44-225d-40ca-998d-e54bd7a1ccd4",
   "metadata": {},
   "outputs": [],
   "source": [
    "from collections import Counter\n",
    "import pandas as pd\n",
    "\n",
    "filtered_gene_df = gene_df[~gene_df['gene'].str.contains('Blank', na=False)]\n",
    "\n",
    "# Count occurrences of each unique gene\n",
    "gene_counts = Counter(filtered_gene_df['gene'])\n",
    "\n",
    "# Convert to DataFrame for better display\n",
    "result_df = pd.DataFrame({\n",
    "    'gene': list(gene_counts.keys()),\n",
    "    'count': list(gene_counts.values())\n",
    "}).sort_values('count', ascending=False).reset_index(drop=True)"
   ]
  },
  {
   "cell_type": "code",
   "execution_count": 26,
   "id": "4bc06a93-f47f-4a44-a764-be27ca3a3f2b",
   "metadata": {},
   "outputs": [
    {
     "name": "stdout",
     "output_type": "stream",
     "text": [
      "Total unique genes: 500\n",
      "\n",
      "Top genes by frequency:\n"
     ]
    },
    {
     "data": {
      "text/html": [
       "<div>\n",
       "<style scoped>\n",
       "    .dataframe tbody tr th:only-of-type {\n",
       "        vertical-align: middle;\n",
       "    }\n",
       "\n",
       "    .dataframe tbody tr th {\n",
       "        vertical-align: top;\n",
       "    }\n",
       "\n",
       "    .dataframe thead th {\n",
       "        text-align: right;\n",
       "    }\n",
       "</style>\n",
       "<table border=\"1\" class=\"dataframe\">\n",
       "  <thead>\n",
       "    <tr style=\"text-align: right;\">\n",
       "      <th></th>\n",
       "      <th>gene</th>\n",
       "      <th>count</th>\n",
       "    </tr>\n",
       "  </thead>\n",
       "  <tbody>\n",
       "    <tr>\n",
       "      <th>0</th>\n",
       "      <td>Mbp</td>\n",
       "      <td>10696435</td>\n",
       "    </tr>\n",
       "    <tr>\n",
       "      <th>1</th>\n",
       "      <td>Meg3</td>\n",
       "      <td>3513827</td>\n",
       "    </tr>\n",
       "    <tr>\n",
       "      <th>2</th>\n",
       "      <td>Dnm1</td>\n",
       "      <td>2734052</td>\n",
       "    </tr>\n",
       "    <tr>\n",
       "      <th>3</th>\n",
       "      <td>Slc17a7</td>\n",
       "      <td>2649881</td>\n",
       "    </tr>\n",
       "    <tr>\n",
       "      <th>4</th>\n",
       "      <td>Nefl</td>\n",
       "      <td>1672107</td>\n",
       "    </tr>\n",
       "    <tr>\n",
       "      <th>5</th>\n",
       "      <td>Cnp</td>\n",
       "      <td>1223600</td>\n",
       "    </tr>\n",
       "    <tr>\n",
       "      <th>6</th>\n",
       "      <td>Map2</td>\n",
       "      <td>1184899</td>\n",
       "    </tr>\n",
       "    <tr>\n",
       "      <th>7</th>\n",
       "      <td>Apoe</td>\n",
       "      <td>1178807</td>\n",
       "    </tr>\n",
       "    <tr>\n",
       "      <th>8</th>\n",
       "      <td>Mapt</td>\n",
       "      <td>1038269</td>\n",
       "    </tr>\n",
       "    <tr>\n",
       "      <th>9</th>\n",
       "      <td>Rab6a</td>\n",
       "      <td>1019862</td>\n",
       "    </tr>\n",
       "  </tbody>\n",
       "</table>\n",
       "</div>"
      ],
      "text/plain": [
       "      gene     count\n",
       "0      Mbp  10696435\n",
       "1     Meg3   3513827\n",
       "2     Dnm1   2734052\n",
       "3  Slc17a7   2649881\n",
       "4     Nefl   1672107\n",
       "5      Cnp   1223600\n",
       "6     Map2   1184899\n",
       "7     Apoe   1178807\n",
       "8     Mapt   1038269\n",
       "9    Rab6a   1019862"
      ]
     },
     "execution_count": 26,
     "metadata": {},
     "output_type": "execute_result"
    }
   ],
   "source": [
    "print(f\"Total unique genes: {len(result_df)}\")\n",
    "print(\"\\nTop genes by frequency:\")\n",
    "result_df.head(10)"
   ]
  },
  {
   "cell_type": "code",
   "execution_count": 27,
   "id": "fa869072-41f6-4dbc-8895-a0d51e99bbbe",
   "metadata": {},
   "outputs": [
    {
     "data": {
      "text/html": [
       "<div>\n",
       "<style scoped>\n",
       "    .dataframe tbody tr th:only-of-type {\n",
       "        vertical-align: middle;\n",
       "    }\n",
       "\n",
       "    .dataframe tbody tr th {\n",
       "        vertical-align: top;\n",
       "    }\n",
       "\n",
       "    .dataframe thead th {\n",
       "        text-align: right;\n",
       "    }\n",
       "</style>\n",
       "<table border=\"1\" class=\"dataframe\">\n",
       "  <thead>\n",
       "    <tr style=\"text-align: right;\">\n",
       "      <th></th>\n",
       "      <th>gene</th>\n",
       "      <th>count</th>\n",
       "    </tr>\n",
       "  </thead>\n",
       "  <tbody>\n",
       "    <tr>\n",
       "      <th>490</th>\n",
       "      <td>Gata3</td>\n",
       "      <td>2907</td>\n",
       "    </tr>\n",
       "    <tr>\n",
       "      <th>491</th>\n",
       "      <td>Fgfbp1</td>\n",
       "      <td>2550</td>\n",
       "    </tr>\n",
       "    <tr>\n",
       "      <th>492</th>\n",
       "      <td>Myocd</td>\n",
       "      <td>2394</td>\n",
       "    </tr>\n",
       "    <tr>\n",
       "      <th>493</th>\n",
       "      <td>Ang4</td>\n",
       "      <td>2353</td>\n",
       "    </tr>\n",
       "    <tr>\n",
       "      <th>494</th>\n",
       "      <td>Tnf</td>\n",
       "      <td>1925</td>\n",
       "    </tr>\n",
       "    <tr>\n",
       "      <th>495</th>\n",
       "      <td>Ulk4</td>\n",
       "      <td>1859</td>\n",
       "    </tr>\n",
       "    <tr>\n",
       "      <th>496</th>\n",
       "      <td>Ereg</td>\n",
       "      <td>1727</td>\n",
       "    </tr>\n",
       "    <tr>\n",
       "      <th>497</th>\n",
       "      <td>H2-Aa</td>\n",
       "      <td>1691</td>\n",
       "    </tr>\n",
       "    <tr>\n",
       "      <th>498</th>\n",
       "      <td>Mmp12</td>\n",
       "      <td>1484</td>\n",
       "    </tr>\n",
       "    <tr>\n",
       "      <th>499</th>\n",
       "      <td>Foxq1</td>\n",
       "      <td>1415</td>\n",
       "    </tr>\n",
       "  </tbody>\n",
       "</table>\n",
       "</div>"
      ],
      "text/plain": [
       "       gene  count\n",
       "490   Gata3   2907\n",
       "491  Fgfbp1   2550\n",
       "492   Myocd   2394\n",
       "493    Ang4   2353\n",
       "494     Tnf   1925\n",
       "495    Ulk4   1859\n",
       "496    Ereg   1727\n",
       "497   H2-Aa   1691\n",
       "498   Mmp12   1484\n",
       "499   Foxq1   1415"
      ]
     },
     "execution_count": 27,
     "metadata": {},
     "output_type": "execute_result"
    }
   ],
   "source": [
    "result_df.tail(10)"
   ]
  },
  {
   "cell_type": "code",
   "execution_count": 31,
   "id": "e9a42321-2eac-4653-83db-042d0d418e10",
   "metadata": {},
   "outputs": [],
   "source": [
    "result_df.to_csv(os.path.join(data_dir, \"misc\", \"20250430_gene_counts_vascular_panel.csv\"), index=False)"
   ]
  },
  {
   "cell_type": "code",
   "execution_count": null,
   "id": "a0caa960-f596-48a8-a44d-aa4428277d50",
   "metadata": {},
   "outputs": [],
   "source": []
  },
  {
   "cell_type": "code",
   "execution_count": null,
   "id": "31577a2e-33da-4465-afa7-1681977c6024",
   "metadata": {},
   "outputs": [],
   "source": []
  },
  {
   "cell_type": "code",
   "execution_count": 36,
   "id": "c91ac2f9-886c-42b0-8b88-7b0919e1df68",
   "metadata": {},
   "outputs": [
    {
     "name": "stdout",
     "output_type": "stream",
     "text": [
      "\n",
      "Processing foxf2_s1_r0...\n"
     ]
    },
    {
     "name": "stderr",
     "output_type": "stream",
     "text": [
      "/dss/dsshome1/0C/ra98gaq/miniconda3/envs/sdata/lib/python3.11/site-packages/spatialdata/_core/spatialdata.py:185: UserWarning: The table is annotating 'baysor_boundaries', which is not present in the SpatialData object.\n",
      "  self.validate_table_in_spatialdata(v)\n",
      "/dss/dsshome1/0C/ra98gaq/miniconda3/envs/sdata/lib/python3.11/site-packages/spatialdata/_core/spatialdata.py:185: UserWarning: The table is annotating 'cellpose_boundaries', which is not present in the SpatialData object.\n",
      "  self.validate_table_in_spatialdata(v)\n",
      "/dss/dsshome1/0C/ra98gaq/miniconda3/envs/sdata/lib/python3.11/site-packages/spatialdata/_core/spatialdata.py:185: UserWarning: The table is annotating '20240229_Foxf2-Slide01-cp-WT-ECKO_region_0-ECKO000_polygons', which is not present in the SpatialData object.\n",
      "  self.validate_table_in_spatialdata(v)\n",
      "/dss/dsshome1/0C/ra98gaq/miniconda3/envs/sdata/lib/python3.11/site-packages/spatialdata/_core/spatialdata.py:185: UserWarning: The table is annotating 'image_patches', which is not present in the SpatialData object.\n",
      "  self.validate_table_in_spatialdata(v)\n",
      "/dss/dsshome1/0C/ra98gaq/miniconda3/envs/sdata/lib/python3.11/site-packages/spatialdata/_core/spatialdata.py:185: UserWarning: The table is annotating 'proseg_boundaries', which is not present in the SpatialData object.\n",
      "  self.validate_table_in_spatialdata(v)\n"
     ]
    },
    {
     "name": "stdout",
     "output_type": "stream",
     "text": [
      "\n",
      "Processing foxf2_s1_r1...\n"
     ]
    },
    {
     "name": "stderr",
     "output_type": "stream",
     "text": [
      "/dss/dsshome1/0C/ra98gaq/miniconda3/envs/sdata/lib/python3.11/site-packages/spatialdata/_core/spatialdata.py:185: UserWarning: The table is annotating 'baysor_boundaries', which is not present in the SpatialData object.\n",
      "  self.validate_table_in_spatialdata(v)\n",
      "/dss/dsshome1/0C/ra98gaq/miniconda3/envs/sdata/lib/python3.11/site-packages/spatialdata/_core/spatialdata.py:185: UserWarning: The table is annotating 'cellpose_boundaries', which is not present in the SpatialData object.\n",
      "  self.validate_table_in_spatialdata(v)\n",
      "/dss/dsshome1/0C/ra98gaq/miniconda3/envs/sdata/lib/python3.11/site-packages/spatialdata/_core/spatialdata.py:185: UserWarning: The table is annotating '20240229_Foxf2-Slide01-cp-WT-ECKO_region_1-WT000_polygons', which is not present in the SpatialData object.\n",
      "  self.validate_table_in_spatialdata(v)\n",
      "/dss/dsshome1/0C/ra98gaq/miniconda3/envs/sdata/lib/python3.11/site-packages/spatialdata/_core/spatialdata.py:185: UserWarning: The table is annotating 'image_patches', which is not present in the SpatialData object.\n",
      "  self.validate_table_in_spatialdata(v)\n",
      "/dss/dsshome1/0C/ra98gaq/miniconda3/envs/sdata/lib/python3.11/site-packages/spatialdata/_core/spatialdata.py:185: UserWarning: The table is annotating 'proseg_boundaries', which is not present in the SpatialData object.\n",
      "  self.validate_table_in_spatialdata(v)\n"
     ]
    },
    {
     "name": "stdout",
     "output_type": "stream",
     "text": [
      "\n",
      "Processing foxf2_s2_r1...\n"
     ]
    },
    {
     "name": "stderr",
     "output_type": "stream",
     "text": [
      "/dss/dsshome1/0C/ra98gaq/miniconda3/envs/sdata/lib/python3.11/site-packages/spatialdata/_core/spatialdata.py:185: UserWarning: The table is annotating 'baysor_boundaries', which is not present in the SpatialData object.\n",
      "  self.validate_table_in_spatialdata(v)\n",
      "/dss/dsshome1/0C/ra98gaq/miniconda3/envs/sdata/lib/python3.11/site-packages/spatialdata/_core/spatialdata.py:185: UserWarning: The table is annotating 'cellpose_boundaries', which is not present in the SpatialData object.\n",
      "  self.validate_table_in_spatialdata(v)\n",
      "/dss/dsshome1/0C/ra98gaq/miniconda3/envs/sdata/lib/python3.11/site-packages/spatialdata/_core/spatialdata.py:185: UserWarning: The table is annotating '20240322_Foxf2-Slide02-cp-WT-PCKO_region_1-WT536_polygons', which is not present in the SpatialData object.\n",
      "  self.validate_table_in_spatialdata(v)\n",
      "/dss/dsshome1/0C/ra98gaq/miniconda3/envs/sdata/lib/python3.11/site-packages/spatialdata/_core/spatialdata.py:185: UserWarning: The table is annotating 'comseg_boundaries', which is not present in the SpatialData object.\n",
      "  self.validate_table_in_spatialdata(v)\n",
      "/dss/dsshome1/0C/ra98gaq/miniconda3/envs/sdata/lib/python3.11/site-packages/spatialdata/_core/spatialdata.py:185: UserWarning: The table is annotating 'foxf2_s2_r1_polygons', which is not present in the SpatialData object.\n",
      "  self.validate_table_in_spatialdata(v)\n",
      "/dss/dsshome1/0C/ra98gaq/miniconda3/envs/sdata/lib/python3.11/site-packages/spatialdata/_core/spatialdata.py:185: UserWarning: The table is annotating 'image_patches', which is not present in the SpatialData object.\n",
      "  self.validate_table_in_spatialdata(v)\n",
      "/dss/dsshome1/0C/ra98gaq/miniconda3/envs/sdata/lib/python3.11/site-packages/spatialdata/_core/spatialdata.py:185: UserWarning: The table is annotating 'proseg_boundaries', which is not present in the SpatialData object.\n",
      "  self.validate_table_in_spatialdata(v)\n"
     ]
    },
    {
     "name": "stdout",
     "output_type": "stream",
     "text": [
      "\n",
      "Processing foxf2_s2_r2...\n"
     ]
    },
    {
     "name": "stderr",
     "output_type": "stream",
     "text": [
      "/dss/dsshome1/0C/ra98gaq/miniconda3/envs/sdata/lib/python3.11/site-packages/spatialdata/_core/spatialdata.py:185: UserWarning: The table is annotating 'baysor_boundaries', which is not present in the SpatialData object.\n",
      "  self.validate_table_in_spatialdata(v)\n",
      "/dss/dsshome1/0C/ra98gaq/miniconda3/envs/sdata/lib/python3.11/site-packages/spatialdata/_core/spatialdata.py:185: UserWarning: The table is annotating 'cellpose_boundaries', which is not present in the SpatialData object.\n",
      "  self.validate_table_in_spatialdata(v)\n",
      "/dss/dsshome1/0C/ra98gaq/miniconda3/envs/sdata/lib/python3.11/site-packages/spatialdata/_core/spatialdata.py:185: UserWarning: The table is annotating '20240322_Foxf2-Slide02-cp-WT-PCKO_region_2-PCKO239_polygons', which is not present in the SpatialData object.\n",
      "  self.validate_table_in_spatialdata(v)\n",
      "/dss/dsshome1/0C/ra98gaq/miniconda3/envs/sdata/lib/python3.11/site-packages/spatialdata/_core/spatialdata.py:185: UserWarning: The table is annotating 'image_patches', which is not present in the SpatialData object.\n",
      "  self.validate_table_in_spatialdata(v)\n",
      "/dss/dsshome1/0C/ra98gaq/miniconda3/envs/sdata/lib/python3.11/site-packages/spatialdata/_core/spatialdata.py:185: UserWarning: The table is annotating 'proseg_boundaries', which is not present in the SpatialData object.\n",
      "  self.validate_table_in_spatialdata(v)\n"
     ]
    },
    {
     "name": "stdout",
     "output_type": "stream",
     "text": [
      "\n",
      "Processing foxf2_s3_r0...\n"
     ]
    },
    {
     "name": "stderr",
     "output_type": "stream",
     "text": [
      "/dss/dsshome1/0C/ra98gaq/miniconda3/envs/sdata/lib/python3.11/site-packages/spatialdata/_core/spatialdata.py:185: UserWarning: The table is annotating 'baysor_boundaries', which is not present in the SpatialData object.\n",
      "  self.validate_table_in_spatialdata(v)\n",
      "/dss/dsshome1/0C/ra98gaq/miniconda3/envs/sdata/lib/python3.11/site-packages/spatialdata/_core/spatialdata.py:185: UserWarning: The table is annotating 'cellpose_boundaries', which is not present in the SpatialData object.\n",
      "  self.validate_table_in_spatialdata(v)\n",
      "/dss/dsshome1/0C/ra98gaq/miniconda3/envs/sdata/lib/python3.11/site-packages/spatialdata/_core/spatialdata.py:185: UserWarning: The table is annotating '20240325_Foxf2-Slide03-cp-ECKO-PCKO_region_0-ECKO544_polygons', which is not present in the SpatialData object.\n",
      "  self.validate_table_in_spatialdata(v)\n",
      "/dss/dsshome1/0C/ra98gaq/miniconda3/envs/sdata/lib/python3.11/site-packages/spatialdata/_core/spatialdata.py:185: UserWarning: The table is annotating 'image_patches', which is not present in the SpatialData object.\n",
      "  self.validate_table_in_spatialdata(v)\n",
      "/dss/dsshome1/0C/ra98gaq/miniconda3/envs/sdata/lib/python3.11/site-packages/spatialdata/_core/spatialdata.py:185: UserWarning: The table is annotating 'proseg_boundaries', which is not present in the SpatialData object.\n",
      "  self.validate_table_in_spatialdata(v)\n"
     ]
    },
    {
     "name": "stdout",
     "output_type": "stream",
     "text": [
      "\n",
      "Processing foxf2_s3_r1...\n"
     ]
    },
    {
     "name": "stderr",
     "output_type": "stream",
     "text": [
      "/dss/dsshome1/0C/ra98gaq/miniconda3/envs/sdata/lib/python3.11/site-packages/spatialdata/_core/spatialdata.py:185: UserWarning: The table is annotating 'baysor_boundaries', which is not present in the SpatialData object.\n",
      "  self.validate_table_in_spatialdata(v)\n",
      "/dss/dsshome1/0C/ra98gaq/miniconda3/envs/sdata/lib/python3.11/site-packages/spatialdata/_core/spatialdata.py:185: UserWarning: The table is annotating 'cellpose_boundaries', which is not present in the SpatialData object.\n",
      "  self.validate_table_in_spatialdata(v)\n",
      "/dss/dsshome1/0C/ra98gaq/miniconda3/envs/sdata/lib/python3.11/site-packages/spatialdata/_core/spatialdata.py:185: UserWarning: The table is annotating '20240325_Foxf2-Slide03-cp-ECKO-PCKO_region_1-PCKO238_polygons', which is not present in the SpatialData object.\n",
      "  self.validate_table_in_spatialdata(v)\n",
      "/dss/dsshome1/0C/ra98gaq/miniconda3/envs/sdata/lib/python3.11/site-packages/spatialdata/_core/spatialdata.py:185: UserWarning: The table is annotating 'image_patches', which is not present in the SpatialData object.\n",
      "  self.validate_table_in_spatialdata(v)\n",
      "/dss/dsshome1/0C/ra98gaq/miniconda3/envs/sdata/lib/python3.11/site-packages/spatialdata/_core/spatialdata.py:185: UserWarning: The table is annotating 'proseg_boundaries', which is not present in the SpatialData object.\n",
      "  self.validate_table_in_spatialdata(v)\n"
     ]
    },
    {
     "name": "stdout",
     "output_type": "stream",
     "text": [
      "\n",
      "Processing foxf2_s4_r0...\n"
     ]
    },
    {
     "name": "stderr",
     "output_type": "stream",
     "text": [
      "/dss/dsshome1/0C/ra98gaq/miniconda3/envs/sdata/lib/python3.11/site-packages/spatialdata/_core/spatialdata.py:185: UserWarning: The table is annotating 'baysor_boundaries', which is not present in the SpatialData object.\n",
      "  self.validate_table_in_spatialdata(v)\n",
      "/dss/dsshome1/0C/ra98gaq/miniconda3/envs/sdata/lib/python3.11/site-packages/spatialdata/_core/spatialdata.py:185: UserWarning: The table is annotating 'cellpose_boundaries', which is not present in the SpatialData object.\n",
      "  self.validate_table_in_spatialdata(v)\n",
      "/dss/dsshome1/0C/ra98gaq/miniconda3/envs/sdata/lib/python3.11/site-packages/spatialdata/_core/spatialdata.py:185: UserWarning: The table is annotating '20240304_Foxf2-Slide04-cp-ECKO-PCKO_region_0-PCKO421_polygons', which is not present in the SpatialData object.\n",
      "  self.validate_table_in_spatialdata(v)\n",
      "/dss/dsshome1/0C/ra98gaq/miniconda3/envs/sdata/lib/python3.11/site-packages/spatialdata/_core/spatialdata.py:185: UserWarning: The table is annotating 'image_patches', which is not present in the SpatialData object.\n",
      "  self.validate_table_in_spatialdata(v)\n",
      "/dss/dsshome1/0C/ra98gaq/miniconda3/envs/sdata/lib/python3.11/site-packages/spatialdata/_core/spatialdata.py:185: UserWarning: The table is annotating 'proseg_boundaries', which is not present in the SpatialData object.\n",
      "  self.validate_table_in_spatialdata(v)\n"
     ]
    },
    {
     "name": "stdout",
     "output_type": "stream",
     "text": [
      "\n",
      "Processing foxf2_s4_r1...\n"
     ]
    },
    {
     "name": "stderr",
     "output_type": "stream",
     "text": [
      "/dss/dsshome1/0C/ra98gaq/miniconda3/envs/sdata/lib/python3.11/site-packages/spatialdata/_core/spatialdata.py:185: UserWarning: The table is annotating 'baysor_boundaries', which is not present in the SpatialData object.\n",
      "  self.validate_table_in_spatialdata(v)\n",
      "/dss/dsshome1/0C/ra98gaq/miniconda3/envs/sdata/lib/python3.11/site-packages/spatialdata/_core/spatialdata.py:185: UserWarning: The table is annotating 'cellpose_boundaries', which is not present in the SpatialData object.\n",
      "  self.validate_table_in_spatialdata(v)\n",
      "/dss/dsshome1/0C/ra98gaq/miniconda3/envs/sdata/lib/python3.11/site-packages/spatialdata/_core/spatialdata.py:185: UserWarning: The table is annotating '20240304_Foxf2-Slide04-cp-ECKO-PCKO_region_1-ECKO557_polygons', which is not present in the SpatialData object.\n",
      "  self.validate_table_in_spatialdata(v)\n",
      "/dss/dsshome1/0C/ra98gaq/miniconda3/envs/sdata/lib/python3.11/site-packages/spatialdata/_core/spatialdata.py:185: UserWarning: The table is annotating 'image_patches', which is not present in the SpatialData object.\n",
      "  self.validate_table_in_spatialdata(v)\n",
      "/dss/dsshome1/0C/ra98gaq/miniconda3/envs/sdata/lib/python3.11/site-packages/spatialdata/_core/spatialdata.py:185: UserWarning: The table is annotating 'proseg_boundaries', which is not present in the SpatialData object.\n",
      "  self.validate_table_in_spatialdata(v)\n"
     ]
    },
    {
     "name": "stdout",
     "output_type": "stream",
     "text": [
      "\n",
      "Processing foxf2_s5_r0...\n"
     ]
    },
    {
     "name": "stderr",
     "output_type": "stream",
     "text": [
      "/dss/dsshome1/0C/ra98gaq/miniconda3/envs/sdata/lib/python3.11/site-packages/spatialdata/_core/spatialdata.py:185: UserWarning: The table is annotating 'baysor_boundaries', which is not present in the SpatialData object.\n",
      "  self.validate_table_in_spatialdata(v)\n",
      "/dss/dsshome1/0C/ra98gaq/miniconda3/envs/sdata/lib/python3.11/site-packages/spatialdata/_core/spatialdata.py:185: UserWarning: The table is annotating 'cellpose_boundaries', which is not present in the SpatialData object.\n",
      "  self.validate_table_in_spatialdata(v)\n",
      "/dss/dsshome1/0C/ra98gaq/miniconda3/envs/sdata/lib/python3.11/site-packages/spatialdata/_core/spatialdata.py:185: UserWarning: The table is annotating '20240628_Foxf2-Slide05-cp-PCKO-ECKO_region_0-PCKO238_polygons', which is not present in the SpatialData object.\n",
      "  self.validate_table_in_spatialdata(v)\n",
      "/dss/dsshome1/0C/ra98gaq/miniconda3/envs/sdata/lib/python3.11/site-packages/spatialdata/_core/spatialdata.py:185: UserWarning: The table is annotating 'image_patches', which is not present in the SpatialData object.\n",
      "  self.validate_table_in_spatialdata(v)\n",
      "/dss/dsshome1/0C/ra98gaq/miniconda3/envs/sdata/lib/python3.11/site-packages/spatialdata/_core/spatialdata.py:185: UserWarning: The table is annotating 'proseg_boundaries', which is not present in the SpatialData object.\n",
      "  self.validate_table_in_spatialdata(v)\n"
     ]
    },
    {
     "name": "stdout",
     "output_type": "stream",
     "text": [
      "\n",
      "Processing foxf2_s5_r1...\n"
     ]
    },
    {
     "name": "stderr",
     "output_type": "stream",
     "text": [
      "/dss/dsshome1/0C/ra98gaq/miniconda3/envs/sdata/lib/python3.11/site-packages/spatialdata/_core/spatialdata.py:185: UserWarning: The table is annotating 'baysor_boundaries', which is not present in the SpatialData object.\n",
      "  self.validate_table_in_spatialdata(v)\n",
      "/dss/dsshome1/0C/ra98gaq/miniconda3/envs/sdata/lib/python3.11/site-packages/spatialdata/_core/spatialdata.py:185: UserWarning: The table is annotating 'cellpose_boundaries', which is not present in the SpatialData object.\n",
      "  self.validate_table_in_spatialdata(v)\n",
      "/dss/dsshome1/0C/ra98gaq/miniconda3/envs/sdata/lib/python3.11/site-packages/spatialdata/_core/spatialdata.py:185: UserWarning: The table is annotating '20240628_Foxf2-Slide05-cp-PCKO-ECKO_region_1-ECKO544_polygons', which is not present in the SpatialData object.\n",
      "  self.validate_table_in_spatialdata(v)\n",
      "/dss/dsshome1/0C/ra98gaq/miniconda3/envs/sdata/lib/python3.11/site-packages/spatialdata/_core/spatialdata.py:185: UserWarning: The table is annotating 'image_patches', which is not present in the SpatialData object.\n",
      "  self.validate_table_in_spatialdata(v)\n",
      "/dss/dsshome1/0C/ra98gaq/miniconda3/envs/sdata/lib/python3.11/site-packages/spatialdata/_core/spatialdata.py:185: UserWarning: The table is annotating 'proseg_boundaries', which is not present in the SpatialData object.\n",
      "  self.validate_table_in_spatialdata(v)\n"
     ]
    },
    {
     "name": "stdout",
     "output_type": "stream",
     "text": [
      "\n",
      "Processing foxf2_s6_r0...\n"
     ]
    },
    {
     "name": "stderr",
     "output_type": "stream",
     "text": [
      "/dss/dsshome1/0C/ra98gaq/miniconda3/envs/sdata/lib/python3.11/site-packages/spatialdata/_core/spatialdata.py:185: UserWarning: The table is annotating 'baysor_boundaries', which is not present in the SpatialData object.\n",
      "  self.validate_table_in_spatialdata(v)\n",
      "/dss/dsshome1/0C/ra98gaq/miniconda3/envs/sdata/lib/python3.11/site-packages/spatialdata/_core/spatialdata.py:185: UserWarning: The table is annotating 'cellpose_boundaries', which is not present in the SpatialData object.\n",
      "  self.validate_table_in_spatialdata(v)\n",
      "/dss/dsshome1/0C/ra98gaq/miniconda3/envs/sdata/lib/python3.11/site-packages/spatialdata/_core/spatialdata.py:185: UserWarning: The table is annotating '20240729_Foxf2-Slide06-cp-WT-GLKO-GLKO_region_0-KO890_polygons', which is not present in the SpatialData object.\n",
      "  self.validate_table_in_spatialdata(v)\n",
      "/dss/dsshome1/0C/ra98gaq/miniconda3/envs/sdata/lib/python3.11/site-packages/spatialdata/_core/spatialdata.py:185: UserWarning: The table is annotating 'image_patches', which is not present in the SpatialData object.\n",
      "  self.validate_table_in_spatialdata(v)\n",
      "/dss/dsshome1/0C/ra98gaq/miniconda3/envs/sdata/lib/python3.11/site-packages/spatialdata/_core/spatialdata.py:185: UserWarning: The table is annotating 'proseg_boundaries', which is not present in the SpatialData object.\n",
      "  self.validate_table_in_spatialdata(v)\n"
     ]
    },
    {
     "name": "stdout",
     "output_type": "stream",
     "text": [
      "\n",
      "Processing foxf2_s6_r1...\n"
     ]
    },
    {
     "name": "stderr",
     "output_type": "stream",
     "text": [
      "/dss/dsshome1/0C/ra98gaq/miniconda3/envs/sdata/lib/python3.11/site-packages/spatialdata/_core/spatialdata.py:185: UserWarning: The table is annotating 'baysor_boundaries', which is not present in the SpatialData object.\n",
      "  self.validate_table_in_spatialdata(v)\n",
      "/dss/dsshome1/0C/ra98gaq/miniconda3/envs/sdata/lib/python3.11/site-packages/spatialdata/_core/spatialdata.py:185: UserWarning: The table is annotating 'cellpose_boundaries', which is not present in the SpatialData object.\n",
      "  self.validate_table_in_spatialdata(v)\n",
      "/dss/dsshome1/0C/ra98gaq/miniconda3/envs/sdata/lib/python3.11/site-packages/spatialdata/_core/spatialdata.py:185: UserWarning: The table is annotating '20240729_Foxf2-Slide06-cp-WT-GLKO-GLKO_region_1-KO883_polygons', which is not present in the SpatialData object.\n",
      "  self.validate_table_in_spatialdata(v)\n",
      "/dss/dsshome1/0C/ra98gaq/miniconda3/envs/sdata/lib/python3.11/site-packages/spatialdata/_core/spatialdata.py:185: UserWarning: The table is annotating 'image_patches', which is not present in the SpatialData object.\n",
      "  self.validate_table_in_spatialdata(v)\n",
      "/dss/dsshome1/0C/ra98gaq/miniconda3/envs/sdata/lib/python3.11/site-packages/spatialdata/_core/spatialdata.py:185: UserWarning: The table is annotating 'proseg_boundaries', which is not present in the SpatialData object.\n",
      "  self.validate_table_in_spatialdata(v)\n"
     ]
    },
    {
     "name": "stdout",
     "output_type": "stream",
     "text": [
      "\n",
      "Processing foxf2_s6_r2...\n"
     ]
    },
    {
     "name": "stderr",
     "output_type": "stream",
     "text": [
      "/dss/dsshome1/0C/ra98gaq/miniconda3/envs/sdata/lib/python3.11/site-packages/spatialdata/_core/spatialdata.py:185: UserWarning: The table is annotating 'baysor_boundaries', which is not present in the SpatialData object.\n",
      "  self.validate_table_in_spatialdata(v)\n",
      "/dss/dsshome1/0C/ra98gaq/miniconda3/envs/sdata/lib/python3.11/site-packages/spatialdata/_core/spatialdata.py:185: UserWarning: The table is annotating 'cellpose_boundaries', which is not present in the SpatialData object.\n",
      "  self.validate_table_in_spatialdata(v)\n",
      "/dss/dsshome1/0C/ra98gaq/miniconda3/envs/sdata/lib/python3.11/site-packages/spatialdata/_core/spatialdata.py:185: UserWarning: The table is annotating '20240729_Foxf2-Slide06-cp-WT-GLKO-GLKO_region_2-WT897_polygons', which is not present in the SpatialData object.\n",
      "  self.validate_table_in_spatialdata(v)\n",
      "/dss/dsshome1/0C/ra98gaq/miniconda3/envs/sdata/lib/python3.11/site-packages/spatialdata/_core/spatialdata.py:185: UserWarning: The table is annotating 'image_patches', which is not present in the SpatialData object.\n",
      "  self.validate_table_in_spatialdata(v)\n",
      "/dss/dsshome1/0C/ra98gaq/miniconda3/envs/sdata/lib/python3.11/site-packages/spatialdata/_core/spatialdata.py:185: UserWarning: The table is annotating 'proseg_boundaries', which is not present in the SpatialData object.\n",
      "  self.validate_table_in_spatialdata(v)\n"
     ]
    },
    {
     "name": "stdout",
     "output_type": "stream",
     "text": [
      "\n",
      "Processing foxf2_s7_r0...\n"
     ]
    },
    {
     "name": "stderr",
     "output_type": "stream",
     "text": [
      "/dss/dsshome1/0C/ra98gaq/miniconda3/envs/sdata/lib/python3.11/site-packages/spatialdata/_core/spatialdata.py:185: UserWarning: The table is annotating 'baysor_boundaries', which is not present in the SpatialData object.\n",
      "  self.validate_table_in_spatialdata(v)\n",
      "/dss/dsshome1/0C/ra98gaq/miniconda3/envs/sdata/lib/python3.11/site-packages/spatialdata/_core/spatialdata.py:185: UserWarning: The table is annotating 'cellpose_boundaries', which is not present in the SpatialData object.\n",
      "  self.validate_table_in_spatialdata(v)\n",
      "/dss/dsshome1/0C/ra98gaq/miniconda3/envs/sdata/lib/python3.11/site-packages/spatialdata/_core/spatialdata.py:185: UserWarning: The table is annotating '20240805_Foxf2-Slide07-cp-WT-GLKO_region_0-WT886_polygons', which is not present in the SpatialData object.\n",
      "  self.validate_table_in_spatialdata(v)\n",
      "/dss/dsshome1/0C/ra98gaq/miniconda3/envs/sdata/lib/python3.11/site-packages/spatialdata/_core/spatialdata.py:185: UserWarning: The table is annotating 'image_patches', which is not present in the SpatialData object.\n",
      "  self.validate_table_in_spatialdata(v)\n",
      "/dss/dsshome1/0C/ra98gaq/miniconda3/envs/sdata/lib/python3.11/site-packages/spatialdata/_core/spatialdata.py:185: UserWarning: The table is annotating 'proseg_boundaries', which is not present in the SpatialData object.\n",
      "  self.validate_table_in_spatialdata(v)\n"
     ]
    },
    {
     "name": "stdout",
     "output_type": "stream",
     "text": [
      "\n",
      "Processing foxf2_s7_r1...\n"
     ]
    },
    {
     "name": "stderr",
     "output_type": "stream",
     "text": [
      "/dss/dsshome1/0C/ra98gaq/miniconda3/envs/sdata/lib/python3.11/site-packages/spatialdata/_core/spatialdata.py:185: UserWarning: The table is annotating 'baysor_boundaries', which is not present in the SpatialData object.\n",
      "  self.validate_table_in_spatialdata(v)\n",
      "/dss/dsshome1/0C/ra98gaq/miniconda3/envs/sdata/lib/python3.11/site-packages/spatialdata/_core/spatialdata.py:185: UserWarning: The table is annotating 'cellpose_boundaries', which is not present in the SpatialData object.\n",
      "  self.validate_table_in_spatialdata(v)\n",
      "/dss/dsshome1/0C/ra98gaq/miniconda3/envs/sdata/lib/python3.11/site-packages/spatialdata/_core/spatialdata.py:185: UserWarning: The table is annotating '20240805_Foxf2-Slide07-cp-WT-GLKO_region_1-KO885_polygons', which is not present in the SpatialData object.\n",
      "  self.validate_table_in_spatialdata(v)\n",
      "/dss/dsshome1/0C/ra98gaq/miniconda3/envs/sdata/lib/python3.11/site-packages/spatialdata/_core/spatialdata.py:185: UserWarning: The table is annotating 'image_patches', which is not present in the SpatialData object.\n",
      "  self.validate_table_in_spatialdata(v)\n",
      "/dss/dsshome1/0C/ra98gaq/miniconda3/envs/sdata/lib/python3.11/site-packages/spatialdata/_core/spatialdata.py:185: UserWarning: The table is annotating 'proseg_boundaries', which is not present in the SpatialData object.\n",
      "  self.validate_table_in_spatialdata(v)\n"
     ]
    }
   ],
   "source": [
    "# Initialize an empty DataFrame to store all results\n",
    "all_counts_df = pd.DataFrame()\n",
    "\n",
    "for sample_name in sample_paths.keys():\n",
    "    print(f\"\\nProcessing {sample_name}...\")\n",
    "    \n",
    "    # Load main sdata\n",
    "    sdata_path = os.path.join(data_dir, \"samples\", sample_name, \"sdata_z3_temp_SF.zarr\")\n",
    "    sdata_main = sd.read_zarr(sdata_path)\n",
    "    gene_df = sdata_main[sample_name+'_transcripts'][[\"gene\", \"transcript_id\"]].compute()\n",
    "    \n",
    "    # Filter out genes containing \"Blank\"\n",
    "    filtered_gene_df = gene_df[~gene_df['gene'].str.contains('Blank', na=False)]\n",
    "    \n",
    "    # Count occurrences of each unique gene\n",
    "    gene_counts = Counter(filtered_gene_df['gene'])\n",
    "    \n",
    "    # Convert to Series for easier merging\n",
    "    count_series = pd.Series(gene_counts, name=sample_name)\n",
    "    \n",
    "    # Merge with main results DataFrame\n",
    "    if all_counts_df.empty:\n",
    "        all_counts_df = pd.DataFrame({'gene': list(gene_counts.keys())})\n",
    "        all_counts_df[sample_name] = all_counts_df['gene'].map(gene_counts)\n",
    "    else:\n",
    "        all_counts_df = all_counts_df.merge(\n",
    "            pd.DataFrame({'gene': list(gene_counts.keys()), \n",
    "                         sample_name: list(gene_counts.values())}),\n",
    "            on='gene', how='outer'\n",
    "        )\n",
    "\n",
    "# Fill NaN values with 0 (genes not found in some samples)\n",
    "all_counts_df = all_counts_df.fillna(0)\n",
    "\n",
    "# Add sum column\n",
    "all_counts_df['total'] = all_counts_df.drop('gene', axis=1).sum(axis=1)\n",
    "\n",
    "# Reorder columns to put 'total' right after 'gene'\n",
    "cols = ['gene', 'total'] + [col for col in all_counts_df.columns if col not in ['gene', 'total']]\n",
    "all_counts_df = all_counts_df[cols]\n",
    "\n",
    "# Sort by total count in descending order\n",
    "all_counts_df = all_counts_df.sort_values('total', ascending=False).reset_index(drop=True)\n",
    "\n",
    "# Convert count columns to integers\n",
    "count_columns = [col for col in all_counts_df.columns if col != 'gene']\n",
    "all_counts_df[count_columns] = all_counts_df[count_columns].astype(int)"
   ]
  },
  {
   "cell_type": "code",
   "execution_count": 37,
   "id": "edfd48ce-6805-4de5-8739-de686942a11c",
   "metadata": {},
   "outputs": [
    {
     "name": "stdout",
     "output_type": "stream",
     "text": [
      "\n",
      "Total unique genes across all samples: 501\n",
      "\n",
      "Top genes by total frequency:\n",
      "      gene      total  foxf2_s1_r0  foxf2_s1_r1  foxf2_s2_r1  foxf2_s2_r2  \\\n",
      "0      Mbp  149495775     13369047     13532921     10696435     11304200   \n",
      "1     Dnm1   43163594      3675887      3306699      2734052      2884489   \n",
      "2  Slc17a7   40675091      3942469      3106326      2649881      2744432   \n",
      "3     Meg3   39337440      3123098      2872947      3513827      3001511   \n",
      "4     Nefl   22321019      1668214      1787068      1672107      1636356   \n",
      "5     Apoe   19609988      2050732      1594961      1178807      1342418   \n",
      "6      Cnp   16987859      1511524      1567742      1223600      1099579   \n",
      "7   Ctnnb1   15708406      1070323      1165997      1003095      1202933   \n",
      "8     Map2   14909493      1727583      1463026      1184899      1651774   \n",
      "9     Mapt   14322509      1035642      1200200      1038269      1055679   \n",
      "\n",
      "   foxf2_s3_r0  foxf2_s3_r1  foxf2_s4_r0  foxf2_s4_r1  foxf2_s5_r0  \\\n",
      "0       413725       256279     12579359     12384851      9496530   \n",
      "1       875748       659420      4181130      3332955      2638507   \n",
      "2      1001061       719034      3716474      3480829      2466541   \n",
      "3       785976       644774      4027182      2753455      2884352   \n",
      "4        52021        45676      1990222      1915678      1354236   \n",
      "5       175723       128459      1833198      1468652       909607   \n",
      "6        26637        30634      1484295      1228869      1103786   \n",
      "7       184762       174244      1458421      1183688       963848   \n",
      "8       194855       182191      1743522      1344368      1095535   \n",
      "9       223825       190747      1262278      1094816       781289   \n",
      "\n",
      "   foxf2_s5_r1  foxf2_s6_r0  foxf2_s6_r1  foxf2_s6_r2  foxf2_s7_r0  \\\n",
      "0      5440477     11364154     11689069     12031486     12657432   \n",
      "1      1414398      3094369      3126801      3642114      3898897   \n",
      "2      1214170      2543831      2638607      3074569      3651872   \n",
      "3      2105343      2360372      2439030      2667956      3323532   \n",
      "4       766593      1612350      1752677      1968212      2097929   \n",
      "5       494102      1428710      1891796      1570127      1849114   \n",
      "6       641362      1316522      1293623      1411985      1611307   \n",
      "7       685857      1051267      1098655      1235421      1649736   \n",
      "8       670796       362543       562477       300260      1260247   \n",
      "9       534891      1014898      1001139      1217635      1391625   \n",
      "\n",
      "   foxf2_s7_r1  \n",
      "0     12279810  \n",
      "1      3698128  \n",
      "2      3724995  \n",
      "3      2834085  \n",
      "4      2001680  \n",
      "5      1693582  \n",
      "6      1436394  \n",
      "7      1580159  \n",
      "8      1165417  \n",
      "9      1279576  \n"
     ]
    }
   ],
   "source": [
    "# Display the results\n",
    "print(f\"\\nTotal unique genes across all samples: {len(all_counts_df)}\")\n",
    "print(\"\\nTop genes by total frequency:\")\n",
    "print(all_counts_df.head(10))"
   ]
  },
  {
   "cell_type": "code",
   "execution_count": null,
   "id": "7a64cf6a-b412-4ebc-a984-40467b4219a1",
   "metadata": {},
   "outputs": [],
   "source": []
  },
  {
   "cell_type": "code",
   "execution_count": 44,
   "id": "4cc1ec06-e5a7-43f0-a368-42a56b1803c8",
   "metadata": {},
   "outputs": [],
   "source": [
    "all_counts_df.to_excel(os.path.join(data_dir, \"misc\", \"20250430_gene_counts_vascular_panel.xlsx\"), index=False)"
   ]
  },
  {
   "cell_type": "code",
   "execution_count": 43,
   "id": "67d4425d-b94b-4f2c-82ae-5bed902f15cb",
   "metadata": {},
   "outputs": [],
   "source": [
    "import openpyxl"
   ]
  },
  {
   "cell_type": "code",
   "execution_count": null,
   "id": "b7692044-9792-4534-b3a0-8b63dd4553bc",
   "metadata": {},
   "outputs": [],
   "source": []
  }
 ],
 "metadata": {
  "kernelspec": {
   "display_name": "sdata",
   "language": "python",
   "name": "sdata"
  },
  "language_info": {
   "codemirror_mode": {
    "name": "ipython",
    "version": 3
   },
   "file_extension": ".py",
   "mimetype": "text/x-python",
   "name": "python",
   "nbconvert_exporter": "python",
   "pygments_lexer": "ipython3",
   "version": "3.11.11"
  }
 },
 "nbformat": 4,
 "nbformat_minor": 5
}
