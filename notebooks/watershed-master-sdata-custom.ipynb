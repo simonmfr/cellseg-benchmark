{
 "cells": [
  {
   "cell_type": "code",
   "execution_count": 1,
   "id": "43c24735-6ed3-48ae-ba63-55ad600e99a0",
   "metadata": {},
   "outputs": [],
   "source": [
    "# custom watershed master-sdata creation"
   ]
  },
  {
   "cell_type": "code",
   "execution_count": 2,
   "id": "841f3cb3-a4ae-431d-b54e-68e3800c2b85",
   "metadata": {},
   "outputs": [],
   "source": [
    "# once: adjust image locations\n",
    "# s4_r0\n",
    "#! cp /dss/dssfs03/pn52re/pn52re-dss-0000/202402-Foxf2/merfish_output/20240304_Foxf2-Slide04-cp-ECKO-PCKO/region_0-PCKO421/images/mosaic_DAPI_z3.tif /dss/dssfs03/pn52re/pn52re-dss-0000/202402-Foxf2/merfish_output/watershed-outdated/20240304_mousebrain-Slide04-ws-ECKO-PCKO/region_0-PCKO421/images/mosaic_DAPI_z3.tif\n",
    "#! cp /dss/dssfs03/pn52re/pn52re-dss-0000/202402-Foxf2/merfish_output/20240304_Foxf2-Slide04-cp-ECKO-PCKO/region_0-PCKO421/images/mosaic_PolyT_z3.tif /dss/dssfs03/pn52re/pn52re-dss-0000/202402-Foxf2/merfish_output/watershed-outdated/20240304_mousebrain-Slide04-ws-ECKO-PCKO/region_0-PCKO421/images/mosaic_PolyT_z3.tif\n",
    "#! cp /dss/dssfs03/pn52re/pn52re-dss-0000/202402-Foxf2/merfish_output/20240304_Foxf2-Slide04-cp-ECKO-PCKO/region_0-PCKO421/images/mosaic_Transcripts_z3.tif /dss/dssfs03/pn52re/pn52re-dss-0000/202402-Foxf2/merfish_output/watershed-outdated/20240304_mousebrain-Slide04-ws-ECKO-PCKO/region_0-PCKO421/images''/mosaic_Transcripts_z3.tif"
   ]
  },
  {
   "cell_type": "code",
   "execution_count": 3,
   "id": "405f47ff-e46d-4fb3-b2ce-87d562a20a5f",
   "metadata": {},
   "outputs": [],
   "source": [
    "# s4_r1\n",
    "#! cp /dss/dssfs03/pn52re/pn52re-dss-0000/202402-Foxf2/merfish_output/20240304_Foxf2-Slide04-cp-ECKO-PCKO/region_1-ECKO557/images/mosaic_DAPI_z3.tif /dss/dssfs03/pn52re/pn52re-dss-0000/202402-Foxf2/merfish_output/watershed-outdated/20240304_mousebrain-Slide04-ws-ECKO-PCKO/region_1-ECKO557/images/mosaic_DAPI_z3.tif\n",
    "#! cp /dss/dssfs03/pn52re/pn52re-dss-0000/202402-Foxf2/merfish_output/20240304_Foxf2-Slide04-cp-ECKO-PCKO/region_1-ECKO557/images/mosaic_PolyT_z3.tif /dss/dssfs03/pn52re/pn52re-dss-0000/202402-Foxf2/merfish_output/watershed-outdated/20240304_mousebrain-Slide04-ws-ECKO-PCKO/region_1-ECKO557/images/mosaic_PolyT_z3.tif\n",
    "#! cp /dss/dssfs03/pn52re/pn52re-dss-0000/202402-Foxf2/merfish_output/20240304_Foxf2-Slide04-cp-ECKO-PCKO/region_1-ECKO557/images/mosaic_Transcripts_z3.tif /dss/dssfs03/pn52re/pn52re-dss-0000/202402-Foxf2/merfish_output/watershed-outdated/20240304_mousebrain-Slide04-ws-ECKO-PCKO/region_1-ECKO557/images''/mosaic_Transcripts_z3.tif"
   ]
  },
  {
   "cell_type": "code",
   "execution_count": 4,
   "id": "020f3e29-4bbc-42ea-9432-22e10c595b50",
   "metadata": {},
   "outputs": [],
   "source": [
    "import sys\n",
    "\n",
    "sys.path.insert(1, \"/dss/dssfs03/pn52re/pn52re-dss-0001/cellseg-benchmark\")"
   ]
  },
  {
   "cell_type": "code",
   "execution_count": 5,
   "id": "599b7ec5-3029-4d5b-8f05-52bcebd12f25",
   "metadata": {},
   "outputs": [
    {
     "name": "stderr",
     "output_type": "stream",
     "text": [
      "/home/ubuntu/miniforge3/envs/cellseg_benchmark/lib/python3.12/site-packages/dask/dataframe/__init__.py:31: FutureWarning: The legacy Dask DataFrame implementation is deprecated and will be removed in a future version. Set the configuration option `dataframe.query-planning` to `True` or None to enable the new Dask Dataframe implementation and silence this warning.\n",
      "  warnings.warn(\n",
      "/home/ubuntu/miniforge3/envs/cellseg_benchmark/lib/python3.12/site-packages/xarray_schema/__init__.py:1: UserWarning: pkg_resources is deprecated as an API. See https://setuptools.pypa.io/en/latest/pkg_resources.html. The pkg_resources package is slated for removal as early as 2025-11-30. Refrain from using this package or pin to Setuptools<81.\n",
      "  from pkg_resources import DistributionNotFound, get_distribution\n",
      "/home/ubuntu/miniforge3/envs/cellseg_benchmark/lib/python3.12/site-packages/anndata/__init__.py:44: FutureWarning: Importing read_text from `anndata` is deprecated. Import anndata.io.read_text instead.\n",
      "  return module_get_attr_redirect(attr_name, deprecated_mapping=_DEPRECATED)\n"
     ]
    }
   ],
   "source": [
    "import argparse\n",
    "import logging\n",
    "import os\n",
    "from os.path import join\n",
    "from pathlib import Path\n",
    "\n",
    "from spatialdata import read_zarr"
   ]
  },
  {
   "cell_type": "code",
   "execution_count": 6,
   "id": "086f5f04-2536-4ffc-be05-2061f3cdf0bc",
   "metadata": {},
   "outputs": [],
   "source": [
    "# warnings.filterwarnings(\"ignore\")\n",
    "\n",
    "logger = logging.getLogger(\"shape_mapping\")\n",
    "logger.setLevel(logging.INFO)\n",
    "handler = logging.StreamHandler()\n",
    "handler.setFormatter(logging.Formatter(\"%(asctime)s [%(levelname)s]: %(message)s\"))\n",
    "logger.addHandler(handler)"
   ]
  },
  {
   "cell_type": "code",
   "execution_count": 7,
   "id": "9cf50499-130f-4397-933b-3324e994d1ae",
   "metadata": {},
   "outputs": [
    {
     "name": "stdout",
     "output_type": "stream",
     "text": [
      "foxf2_s4_r0\n",
      "/dss/dssfs03/pn52re/pn52re-dss-0000/202402-Foxf2/merfish_output/watershed-outdated/20240304_mousebrain-Slide04-ws-ECKO-PCKO/region_0-PCKO421\n",
      "/dss/dssfs03/pn52re/pn52re-dss-0001/cellseg-benchmark-ws\n"
     ]
    }
   ],
   "source": [
    "parser = argparse.ArgumentParser(\n",
    "    description=\"Creates the master sdata, collecting all segmentations from subfolders.\"\n",
    ")\n",
    "parser.add_argument(\"sample\", help=\"sample name.\")\n",
    "parser.add_argument(\n",
    "    \"data_path\",\n",
    "    help=\"Path to folder with merscope output data (e.g. /cohort1/slide2/region0).\",\n",
    ")\n",
    "parser.add_argument(\n",
    "    \"zmode\", choices=[\"z3\", \"3d\"], help=\"mode of master sdata. Either 'z3' or '3d'.\"\n",
    ")\n",
    "parser.add_argument(\"data_dir\", help=\"Output data folder.\")\n",
    "parser.add_argument(\n",
    "    \"--n_ficture\",\n",
    "    default=21,\n",
    "    type=int,\n",
    "    help=\"Consider Ficture model with n_ficture factors.\",\n",
    ")\n",
    "# args = parser.parse_args()\n",
    "\n",
    "# Simulate CLI args in Jupyter\n",
    "args = parser.parse_args(\n",
    "    [\n",
    "        \"foxf2_s4_r0\",\n",
    "        \"/dss/dssfs03/pn52re/pn52re-dss-0000/202402-Foxf2/merfish_output/watershed-outdated/20240304_mousebrain-Slide04-ws-ECKO-PCKO/region_0-PCKO421\",\n",
    "        \"z3\",\n",
    "        \"/dss/dssfs03/pn52re/pn52re-dss-0001/cellseg-benchmark-ws\",\n",
    "    ]\n",
    ")\n",
    "print(args.sample)\n",
    "print(args.data_path)\n",
    "print(args.data_dir)"
   ]
  },
  {
   "cell_type": "code",
   "execution_count": 8,
   "id": "0bc38303-5934-4390-8c30-4a9718c1914f",
   "metadata": {},
   "outputs": [],
   "source": [
    "# Note: We dont want to update the actual master-sdatas currently.\n",
    "# instead: create \"fake\" sdata only containing merlin\n",
    "# then transform boundaries, re-compute volumes, run merge, run vasc subclustering"
   ]
  },
  {
   "cell_type": "code",
   "execution_count": 9,
   "id": "b413707b-e47e-4e74-86af-da8dfb1b6ce5",
   "metadata": {},
   "outputs": [],
   "source": [
    "path = Path(\"/dss/dssfs03/pn52re/pn52re-dss-0001/cellseg-benchmark-ws\")\n",
    "path.mkdir(parents=True, exist_ok=True)"
   ]
  },
  {
   "cell_type": "code",
   "execution_count": 10,
   "id": "e132a61f-7951-49d1-a7a0-dc2b60dcb093",
   "metadata": {},
   "outputs": [
    {
     "name": "stderr",
     "output_type": "stream",
     "text": [
      "2025-08-05 12:30:58,370 [INFO]: Importing images and points...\n"
     ]
    },
    {
     "name": "stdout",
     "output_type": "stream",
     "text": [
      "\u001b[34mINFO    \u001b[0m The column \u001b[32m\"global_x\"\u001b[0m has now been renamed to \u001b[32m\"x\"\u001b[0m; the column \u001b[32m\"x\"\u001b[0m was already present in the dataframe,   \n",
      "         and will be dropped.                                                                                      \n",
      "\u001b[34mINFO    \u001b[0m The column \u001b[32m\"global_y\"\u001b[0m has now been renamed to \u001b[32m\"y\"\u001b[0m; the column \u001b[32m\"y\"\u001b[0m was already present in the dataframe,   \n",
      "         and will be dropped.                                                                                      \n"
     ]
    },
    {
     "name": "stderr",
     "output_type": "stream",
     "text": [
      "/home/ubuntu/miniforge3/envs/cellseg_benchmark/lib/python3.12/functools.py:949: UserWarning: The index of the dataframe is not monotonic increasing. It is recommended to sort the data to adjust the order of the index before calling .parse() (or call `parse(sort=True)`) to avoid possible problems due to unknown divisions.\n",
      "  return method.__get__(obj, cls)(*args, **kwargs)\n"
     ]
    },
    {
     "name": "stdout",
     "output_type": "stream",
     "text": [
      "\u001b[34mINFO    \u001b[0m The Zarr backing store has been changed from \u001b[3;35mNone\u001b[0m the new file path:                                      \n",
      "         \u001b[35m/dss/dssfs03/pn52re/pn52re-dss-0001/cellseg-benchmark-ws/samples/foxf2_s4_r0/\u001b[0m\u001b[95msdata_z3.zarr\u001b[0m                \n"
     ]
    },
    {
     "name": "stderr",
     "output_type": "stream",
     "text": [
      "version mismatch: detected: RasterFormatV02, requested: FormatV04\n",
      "/home/ubuntu/miniforge3/envs/cellseg_benchmark/lib/python3.12/site-packages/zarr/creation.py:610: UserWarning: ignoring keyword argument 'read_only'\n",
      "  compressor, fill_value = _kwargs_compat(compressor, fill_value, kwargs)\n",
      "/home/ubuntu/miniforge3/envs/cellseg_benchmark/lib/python3.12/site-packages/zarr/creation.py:610: UserWarning: ignoring keyword argument 'read_only'\n",
      "  compressor, fill_value = _kwargs_compat(compressor, fill_value, kwargs)\n",
      "/home/ubuntu/miniforge3/envs/cellseg_benchmark/lib/python3.12/site-packages/zarr/creation.py:610: UserWarning: ignoring keyword argument 'read_only'\n",
      "  compressor, fill_value = _kwargs_compat(compressor, fill_value, kwargs)\n",
      "/home/ubuntu/miniforge3/envs/cellseg_benchmark/lib/python3.12/site-packages/zarr/creation.py:610: UserWarning: ignoring keyword argument 'read_only'\n",
      "  compressor, fill_value = _kwargs_compat(compressor, fill_value, kwargs)\n",
      "/home/ubuntu/miniforge3/envs/cellseg_benchmark/lib/python3.12/site-packages/zarr/creation.py:610: UserWarning: ignoring keyword argument 'read_only'\n",
      "  compressor, fill_value = _kwargs_compat(compressor, fill_value, kwargs)\n"
     ]
    }
   ],
   "source": [
    "logger.info(\"Importing images and points...\")\n",
    "# su.process_merscope(args.sample, args.data_dir, args.data_path, zmode=args.zmode)"
   ]
  },
  {
   "cell_type": "code",
   "execution_count": 11,
   "id": "b2a306de-b3a9-4ef9-8031-5eabf9185f4a",
   "metadata": {},
   "outputs": [
    {
     "name": "stdout",
     "output_type": "stream",
     "text": [
      "\u001b[34mINFO    \u001b[0m The column \u001b[32m\"global_x\"\u001b[0m has now been renamed to \u001b[32m\"x\"\u001b[0m; the column \u001b[32m\"x\"\u001b[0m was already present in the dataframe,   \n",
      "         and will be dropped.                                                                                      \n",
      "\u001b[34mINFO    \u001b[0m The column \u001b[32m\"global_y\"\u001b[0m has now been renamed to \u001b[32m\"y\"\u001b[0m; the column \u001b[32m\"y\"\u001b[0m was already present in the dataframe,   \n",
      "         and will be dropped.                                                                                      \n"
     ]
    },
    {
     "name": "stderr",
     "output_type": "stream",
     "text": [
      "/home/ubuntu/miniforge3/envs/cellseg_benchmark/lib/python3.12/functools.py:949: UserWarning: The index of the dataframe is not monotonic increasing. It is recommended to sort the data to adjust the order of the index before calling .parse() (or call `parse(sort=True)`) to avoid possible problems due to unknown divisions.\n",
      "  return method.__get__(obj, cls)(*args, **kwargs)\n"
     ]
    }
   ],
   "source": [
    "import spatialdata_io\n",
    "\n",
    "sdata = spatialdata_io.merscope(\n",
    "    args.data_path,\n",
    "    z_layers=3 if args.zmode == \"z3\" else range(7),\n",
    "    backend=None,\n",
    "    cells_boundaries=False,\n",
    "    cells_table=False,\n",
    "    mosaic_images=True,\n",
    "    transcripts=True,\n",
    "    slide_name=\"_\".join(args.sample.split(\"_\")[:2]),\n",
    "    region_name=args.sample.split(\"_\")[2],\n",
    ")"
   ]
  },
  {
   "cell_type": "code",
   "execution_count": 12,
   "id": "47228fe7-2972-4929-9676-4f783609f728",
   "metadata": {},
   "outputs": [
    {
     "data": {
      "text/plain": [
       "SpatialData object\n",
       "├── Images\n",
       "│     └── 'foxf2_s4_r0_z3': DataTree[cyx] (3, 61959, 73042), (3, 30979, 36521), (3, 15489, 18260), (3, 7744, 9130), (3, 3872, 4565)\n",
       "└── Points\n",
       "      └── 'foxf2_s4_r0_transcripts': DataFrame with shape: (<Delayed>, 9) (2D points)\n",
       "with coordinate systems:\n",
       "    ▸ 'global', with elements:\n",
       "        foxf2_s4_r0_z3 (Images), foxf2_s4_r0_transcripts (Points)"
      ]
     },
     "execution_count": 12,
     "metadata": {},
     "output_type": "execute_result"
    }
   ],
   "source": [
    "sdata"
   ]
  },
  {
   "cell_type": "code",
   "execution_count": 13,
   "id": "9be67219-e528-44a7-8b51-441a8237b5de",
   "metadata": {},
   "outputs": [
    {
     "data": {
      "text/plain": [
       "'/dss/dssfs03/pn52re/pn52re-dss-0001/cellseg-benchmark-ws/samples/foxf2_s4_r0/sdata_z3.zarr'"
      ]
     },
     "execution_count": 13,
     "metadata": {},
     "output_type": "execute_result"
    }
   ],
   "source": [
    "sdata_file = os.path.join(\n",
    "    args.data_dir, \"samples\", args.sample, f\"sdata_{args.zmode}.zarr\"\n",
    ")\n",
    "sdata_file"
   ]
  },
  {
   "cell_type": "code",
   "execution_count": 14,
   "id": "f84c4c9e-7d83-4295-a3a1-d3636843a762",
   "metadata": {},
   "outputs": [],
   "source": [
    "import logging\n",
    "import os\n",
    "\n",
    "import spatialdata as sd\n",
    "import spatialdata_io\n",
    "from spatialdata.transformations import Identity, get_transformation, set_transformation"
   ]
  },
  {
   "cell_type": "code",
   "execution_count": 16,
   "id": "9dee1fda-2cd1-4903-8724-43a3eab6671f",
   "metadata": {},
   "outputs": [
    {
     "name": "stderr",
     "output_type": "stream",
     "text": [
      "version mismatch: detected: RasterFormatV02, requested: FormatV04\n",
      "/home/ubuntu/miniforge3/envs/cellseg_benchmark/lib/python3.12/site-packages/zarr/creation.py:610: UserWarning: ignoring keyword argument 'read_only'\n",
      "  compressor, fill_value = _kwargs_compat(compressor, fill_value, kwargs)\n",
      "/home/ubuntu/miniforge3/envs/cellseg_benchmark/lib/python3.12/site-packages/zarr/creation.py:610: UserWarning: ignoring keyword argument 'read_only'\n",
      "  compressor, fill_value = _kwargs_compat(compressor, fill_value, kwargs)\n",
      "/home/ubuntu/miniforge3/envs/cellseg_benchmark/lib/python3.12/site-packages/zarr/creation.py:610: UserWarning: ignoring keyword argument 'read_only'\n",
      "  compressor, fill_value = _kwargs_compat(compressor, fill_value, kwargs)\n",
      "/home/ubuntu/miniforge3/envs/cellseg_benchmark/lib/python3.12/site-packages/zarr/creation.py:610: UserWarning: ignoring keyword argument 'read_only'\n",
      "  compressor, fill_value = _kwargs_compat(compressor, fill_value, kwargs)\n",
      "/home/ubuntu/miniforge3/envs/cellseg_benchmark/lib/python3.12/site-packages/zarr/creation.py:610: UserWarning: ignoring keyword argument 'read_only'\n",
      "  compressor, fill_value = _kwargs_compat(compressor, fill_value, kwargs)\n"
     ]
    }
   ],
   "source": [
    "# os.makedirs(os.path.dirname(sdata_file), exist_ok=True) #not necessary\n",
    "# sdata.write(sdata_file, overwrite=False)\n",
    "sdata = sd.read_zarr(sdata_file)"
   ]
  },
  {
   "cell_type": "code",
   "execution_count": 17,
   "id": "615d27d6-c72b-4702-beab-dd8a7f75f15f",
   "metadata": {},
   "outputs": [],
   "source": [
    "# set coordinates system\n",
    "transformation_to_pixel = get_transformation(\n",
    "    sdata[list(sdata.points.keys())[0]], \"global\"\n",
    ")"
   ]
  },
  {
   "cell_type": "code",
   "execution_count": 18,
   "id": "bf47c1d7-861c-464d-b1cd-afc55538cb65",
   "metadata": {},
   "outputs": [],
   "source": [
    "set_transformation(\n",
    "    sdata[list(sdata.points.keys())[0]], Identity(), \"micron\", write_to_sdata=sdata\n",
    ")"
   ]
  },
  {
   "cell_type": "code",
   "execution_count": 19,
   "id": "c48aba34-e631-428b-9187-02a8b3317d41",
   "metadata": {},
   "outputs": [],
   "source": [
    "set_transformation(\n",
    "    sdata[list(sdata.points.keys())[0]],\n",
    "    transformation_to_pixel,\n",
    "    \"pixel\",\n",
    "    write_to_sdata=sdata,\n",
    ")"
   ]
  },
  {
   "cell_type": "code",
   "execution_count": 20,
   "id": "e60a7b7b-72a5-46db-982b-405f083117b3",
   "metadata": {},
   "outputs": [],
   "source": [
    "set_transformation(\n",
    "    sdata[list(sdata.images.keys())[0]],\n",
    "    transformation_to_pixel.inverse(),\n",
    "    \"micron\",\n",
    "    write_to_sdata=sdata,\n",
    ")"
   ]
  },
  {
   "cell_type": "code",
   "execution_count": 22,
   "id": "122fbec5-14e0-4d2f-b48d-71535ef76254",
   "metadata": {},
   "outputs": [],
   "source": [
    "set_transformation(\n",
    "    sdata[list(sdata.images.keys())[0]], Identity(), \"pixel\", write_to_sdata=sdata\n",
    ")"
   ]
  },
  {
   "cell_type": "code",
   "execution_count": 25,
   "id": "0c6b7bdf-2611-4440-a0f7-cc614dcefe05",
   "metadata": {},
   "outputs": [
    {
     "data": {
      "text/plain": [
       "SpatialData object, with associated Zarr store: /dss/dssfs03/pn52re/pn52re-dss-0001/cellseg-benchmark-ws/samples/foxf2_s4_r0/sdata_z3.zarr\n",
       "├── Images\n",
       "│     └── 'foxf2_s4_r0_z3': DataTree[cyx] (3, 61959, 73042), (3, 30979, 36521), (3, 15489, 18260), (3, 7744, 9130), (3, 3872, 4565)\n",
       "└── Points\n",
       "      └── 'foxf2_s4_r0_transcripts': DataFrame with shape: (<Delayed>, 9) (2D points)\n",
       "with coordinate systems:\n",
       "    ▸ 'global', with elements:\n",
       "        foxf2_s4_r0_z3 (Images), foxf2_s4_r0_transcripts (Points)\n",
       "    ▸ 'micron', with elements:\n",
       "        foxf2_s4_r0_z3 (Images), foxf2_s4_r0_transcripts (Points)\n",
       "    ▸ 'pixel', with elements:\n",
       "        foxf2_s4_r0_z3 (Images), foxf2_s4_r0_transcripts (Points)"
      ]
     },
     "execution_count": 25,
     "metadata": {},
     "output_type": "execute_result"
    }
   ],
   "source": [
    "sdata"
   ]
  },
  {
   "cell_type": "code",
   "execution_count": 27,
   "id": "df903b74-daf3-488a-89af-d3af4a2a6b54",
   "metadata": {},
   "outputs": [
    {
     "name": "stderr",
     "output_type": "stream",
     "text": [
      "version mismatch: detected: RasterFormatV02, requested: FormatV04\n",
      "/home/ubuntu/miniforge3/envs/cellseg_benchmark/lib/python3.12/site-packages/zarr/creation.py:610: UserWarning: ignoring keyword argument 'read_only'\n",
      "  compressor, fill_value = _kwargs_compat(compressor, fill_value, kwargs)\n",
      "/home/ubuntu/miniforge3/envs/cellseg_benchmark/lib/python3.12/site-packages/zarr/creation.py:610: UserWarning: ignoring keyword argument 'read_only'\n",
      "  compressor, fill_value = _kwargs_compat(compressor, fill_value, kwargs)\n",
      "/home/ubuntu/miniforge3/envs/cellseg_benchmark/lib/python3.12/site-packages/zarr/creation.py:610: UserWarning: ignoring keyword argument 'read_only'\n",
      "  compressor, fill_value = _kwargs_compat(compressor, fill_value, kwargs)\n",
      "/home/ubuntu/miniforge3/envs/cellseg_benchmark/lib/python3.12/site-packages/zarr/creation.py:610: UserWarning: ignoring keyword argument 'read_only'\n",
      "  compressor, fill_value = _kwargs_compat(compressor, fill_value, kwargs)\n",
      "/home/ubuntu/miniforge3/envs/cellseg_benchmark/lib/python3.12/site-packages/zarr/creation.py:610: UserWarning: ignoring keyword argument 'read_only'\n",
      "  compressor, fill_value = _kwargs_compat(compressor, fill_value, kwargs)\n"
     ]
    }
   ],
   "source": [
    "sdata_path = join(args.data_dir, \"samples\", args.sample)\n",
    "sdata_main = read_zarr(join(sdata_path, \"sdata_z3.zarr\"))"
   ]
  },
  {
   "cell_type": "code",
   "execution_count": 28,
   "id": "f1faaf81-e38f-4c08-8008-45d13fe8dd0f",
   "metadata": {},
   "outputs": [
    {
     "name": "stderr",
     "output_type": "stream",
     "text": [
      "2025-08-05 13:36:31,994 [INFO]: Integrating segmentation data from available methods into main sdata...\n"
     ]
    },
    {
     "ename": "FileNotFoundError",
     "evalue": "[Errno 2] No such file or directory: '/dss/dssfs03/pn52re/pn52re-dss-0001/cellseg-benchmark-ws/samples/foxf2_s4_r0/results'",
     "output_type": "error",
     "traceback": [
      "\u001b[31m---------------------------------------------------------------------------\u001b[39m",
      "\u001b[31mFileNotFoundError\u001b[39m                         Traceback (most recent call last)",
      "\u001b[36mCell\u001b[39m\u001b[36m \u001b[39m\u001b[32mIn[28]\u001b[39m\u001b[32m, line 5\u001b[39m\n\u001b[32m      1\u001b[39m logger.info(\u001b[33m\"\u001b[39m\u001b[33mIntegrating segmentation data from available methods into main sdata...\u001b[39m\u001b[33m\"\u001b[39m)\n\u001b[32m      2\u001b[39m \u001b[38;5;66;03m# only work on methods with actual data available\u001b[39;00m\n\u001b[32m      3\u001b[39m seg_methods = [\n\u001b[32m      4\u001b[39m     method\n\u001b[32m----> \u001b[39m\u001b[32m5\u001b[39m     \u001b[38;5;28;01mfor\u001b[39;00m method \u001b[38;5;129;01min\u001b[39;00m \u001b[43mos\u001b[49m\u001b[43m.\u001b[49m\u001b[43mlistdir\u001b[49m\u001b[43m(\u001b[49m\u001b[43mjoin\u001b[49m\u001b[43m(\u001b[49m\u001b[43msdata_path\u001b[49m\u001b[43m,\u001b[49m\u001b[43m \u001b[49m\u001b[33;43m\"\u001b[39;49m\u001b[33;43mresults\u001b[39;49m\u001b[33;43m\"\u001b[39;49m\u001b[43m)\u001b[49m\u001b[43m)\u001b[49m\n\u001b[32m      6\u001b[39m     \u001b[38;5;28;01mif\u001b[39;00m os.path.isdir(join(sdata_path, \u001b[33m\"\u001b[39m\u001b[33mresults\u001b[39m\u001b[33m\"\u001b[39m, method, \u001b[33m\"\u001b[39m\u001b[33msdata.zarr\u001b[39m\u001b[33m\"\u001b[39m))\n\u001b[32m      7\u001b[39m ]\n",
      "\u001b[31mFileNotFoundError\u001b[39m: [Errno 2] No such file or directory: '/dss/dssfs03/pn52re/pn52re-dss-0001/cellseg-benchmark-ws/samples/foxf2_s4_r0/results'"
     ]
    }
   ],
   "source": [
    "logger.info(\"Integrating segmentation data from available methods into main sdata...\")\n",
    "# only work on methods with actual data available\n",
    "seg_methods = [\n",
    "    method\n",
    "    for method in os.listdir(join(sdata_path, \"results\"))\n",
    "    if os.path.isdir(join(sdata_path, \"results\", method, \"sdata.zarr\"))\n",
    "]"
   ]
  },
  {
   "cell_type": "code",
   "execution_count": 29,
   "id": "19ee4e69-8f57-427f-a2d5-40d7438d2671",
   "metadata": {},
   "outputs": [
    {
     "data": {
      "text/plain": [
       "SpatialData object, with associated Zarr store: /dss/dssfs03/pn52re/pn52re-dss-0001/cellseg-benchmark-ws/samples/foxf2_s4_r0/sdata_z3.zarr\n",
       "├── Images\n",
       "│     └── 'foxf2_s4_r0_z3': DataTree[cyx] (3, 61959, 73042), (3, 30979, 36521), (3, 15489, 18260), (3, 7744, 9130), (3, 3872, 4565)\n",
       "└── Points\n",
       "      └── 'foxf2_s4_r0_transcripts': DataFrame with shape: (<Delayed>, 9) (2D points)\n",
       "with coordinate systems:\n",
       "    ▸ 'global', with elements:\n",
       "        foxf2_s4_r0_z3 (Images), foxf2_s4_r0_transcripts (Points)\n",
       "    ▸ 'micron', with elements:\n",
       "        foxf2_s4_r0_z3 (Images), foxf2_s4_r0_transcripts (Points)\n",
       "    ▸ 'pixel', with elements:\n",
       "        foxf2_s4_r0_z3 (Images), foxf2_s4_r0_transcripts (Points)"
      ]
     },
     "execution_count": 29,
     "metadata": {},
     "output_type": "execute_result"
    }
   ],
   "source": [
    "sdata"
   ]
  },
  {
   "cell_type": "code",
   "execution_count": null,
   "id": "06d5e5c1-6184-4fc1-9259-9e6f0f564dc1",
   "metadata": {},
   "outputs": [],
   "source": []
  },
  {
   "cell_type": "code",
   "execution_count": null,
   "id": "a30b988f-5617-46fc-867e-a244e76a187c",
   "metadata": {},
   "outputs": [],
   "source": []
  },
  {
   "cell_type": "code",
   "execution_count": 33,
   "id": "7f063621-85f0-4c0f-90cb-a1829835d1e6",
   "metadata": {},
   "outputs": [
    {
     "data": {
      "text/plain": [
       "'/dss/dssfs03/pn52re/pn52re-dss-0000/202402-Foxf2/merfish_output/watershed-outdated/20240304_mousebrain-Slide04-ws-ECKO-PCKO/region_0-PCKO421'"
      ]
     },
     "execution_count": 33,
     "metadata": {},
     "output_type": "execute_result"
    }
   ],
   "source": [
    "args.data_path"
   ]
  },
  {
   "cell_type": "code",
   "execution_count": 36,
   "id": "0298d9ad-3044-42b2-a81c-798242ed0c45",
   "metadata": {},
   "outputs": [
    {
     "name": "stdout",
     "output_type": "stream",
     "text": [
      "\u001b[33mWARNING \u001b[0m At least one of the following files does not exist:                                                       \n",
      "         \u001b[35m/dss/dssfs03/pn52re/pn52re-dss-0001/cellseg-benchmark-ws/samples/foxf2_s4_r0/results/Watershed_Merlin/anal\u001b[0m\n",
      "         \u001b[35mysis_outputs/\u001b[0m\u001b[95mcell_by_gene.csv\u001b[0m,                                                                            \n",
      "         \u001b[35m/dss/dssfs03/pn52re/pn52re-dss-0001/cellseg-benchmark-ws/samples/foxf2_s4_r0/results/Watershed_Merlin/anal\u001b[0m\n",
      "         \u001b[35mysis_outputs/\u001b[0m\u001b[95mcell_metadata.csv.\u001b[0m The table is not loaded.                                                  \n"
     ]
    }
   ],
   "source": [
    "sdata = spatialdata_io.merscope(\n",
    "    args.data_path,\n",
    "    transcripts=False,\n",
    "    mosaic_images=False,\n",
    "    cells_boundaries=False,\n",
    "    vpt_outputs={\n",
    "        \"cell_by_gene\": Path(\n",
    "            join(\n",
    "                \"/dss/dssfs03/pn52re/pn52re-dss-0001/cellseg-benchmark-ws/samples/foxf2_s4_r0/results/Watershed_Merlin\",\n",
    "                \"analysis_outputs\",\n",
    "                \"cell_by_gene.csv\",\n",
    "            )\n",
    "        ),\n",
    "        \"cell_metadata\": Path(\n",
    "            join(\n",
    "                \"/dss/dssfs03/pn52re/pn52re-dss-0001/cellseg-benchmark-ws/samples/foxf2_s4_r0/results/Watershed_Merlin\",\n",
    "                \"analysis_outputs\",\n",
    "                \"cell_metadata.csv\",\n",
    "            )\n",
    "        ),\n",
    "        \"cell_boundaries\": Path(\n",
    "            join(\n",
    "                \"/dss/dssfs03/pn52re/pn52re-dss-0001/cellseg-benchmark-ws/samples/foxf2_s4_r0/results/Watershed_Merlin\",\n",
    "                \"analysis_outputs\",\n",
    "                \"cellpose2_micron_space.parquet\",\n",
    "            )\n",
    "        ),\n",
    "    },\n",
    "    z_layers=[0, 1, 2, 3, 4, 5, 6],\n",
    ")"
   ]
  },
  {
   "cell_type": "code",
   "execution_count": 34,
   "id": "64b6c380-4254-4130-8a93-896c65df5c4b",
   "metadata": {},
   "outputs": [
    {
     "data": {
      "text/plain": [
       "SpatialData object\n",
       "with coordinate systems:"
      ]
     },
     "execution_count": 34,
     "metadata": {},
     "output_type": "execute_result"
    }
   ],
   "source": [
    "sdata"
   ]
  },
  {
   "cell_type": "code",
   "execution_count": null,
   "id": "0051288b-de1d-4f30-8a34-191596883b97",
   "metadata": {},
   "outputs": [],
   "source": []
  }
 ],
 "metadata": {
  "kernelspec": {
   "display_name": "cellseg_benchmark",
   "language": "python",
   "name": "cellseg_benchmark"
  },
  "language_info": {
   "codemirror_mode": {
    "name": "ipython",
    "version": 3
   },
   "file_extension": ".py",
   "mimetype": "text/x-python",
   "name": "python",
   "nbconvert_exporter": "python",
   "pygments_lexer": "ipython3",
   "version": "3.12.11"
  }
 },
 "nbformat": 4,
 "nbformat_minor": 5
}
