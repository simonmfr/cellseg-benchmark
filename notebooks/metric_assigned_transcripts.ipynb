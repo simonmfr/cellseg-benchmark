{
 "cells": [
  {
   "cell_type": "code",
   "execution_count": 1,
   "id": "072bc763-8a2b-4149-9c4a-a639c639551a",
   "metadata": {},
   "outputs": [],
   "source": [
    "import os\n",
    "\n",
    "import matplotlib.pyplot as plt\n",
    "import pandas as pd\n",
    "import seaborn as sns"
   ]
  },
  {
   "cell_type": "code",
   "execution_count": 10,
   "id": "49592bb3-6c58-4ec5-a63f-82fd548cf390",
   "metadata": {},
   "outputs": [],
   "source": [
    "import argparse\n",
    "import logging\n",
    "\n",
    "# TODO: ADD TO CONTAINER\n",
    "from pathlib import Path\n",
    "\n",
    "from spatialdata import read_zarr"
   ]
  },
  {
   "cell_type": "code",
   "execution_count": 2,
   "id": "74459cfe-4314-40b6-97db-7442f2c63204",
   "metadata": {},
   "outputs": [],
   "source": [
    "# noqa: E402\n",
    "\n",
    "import datetime\n",
    "\n",
    "date_var = datetime.datetime.now().strftime(\"%Y%m%d\")"
   ]
  },
  {
   "cell_type": "code",
   "execution_count": 3,
   "id": "1d31ea22-2ffe-455b-9a7a-449628cb9982",
   "metadata": {},
   "outputs": [
    {
     "name": "stderr",
     "output_type": "stream",
     "text": [
      "/home/ubuntu/miniforge3/envs/cellseg_benchmark/lib/python3.12/site-packages/dask/dataframe/__init__.py:31: FutureWarning: The legacy Dask DataFrame implementation is deprecated and will be removed in a future version. Set the configuration option `dataframe.query-planning` to `True` or None to enable the new Dask Dataframe implementation and silence this warning.\n",
      "  warnings.warn(\n",
      "/home/ubuntu/miniforge3/envs/cellseg_benchmark/lib/python3.12/site-packages/xarray_schema/__init__.py:1: UserWarning: pkg_resources is deprecated as an API. See https://setuptools.pypa.io/en/latest/pkg_resources.html. The pkg_resources package is slated for removal as early as 2025-11-30. Refrain from using this package or pin to Setuptools<81.\n",
      "  from pkg_resources import DistributionNotFound, get_distribution\n"
     ]
    }
   ],
   "source": [
    "# noqa: E402\n",
    "\n",
    "import spatialdata as sd"
   ]
  },
  {
   "cell_type": "code",
   "execution_count": 4,
   "id": "b5732949-b9e7-4bbc-910c-f29b74bb23aa",
   "metadata": {},
   "outputs": [],
   "source": [
    "# noqa: E402\n",
    "\n",
    "import sys\n",
    "\n",
    "sys.path.insert(1, \"/dss/dssfs03/pn52re/pn52re-dss-0001/cellseg-benchmark\")"
   ]
  },
  {
   "cell_type": "code",
   "execution_count": 5,
   "id": "29cb0a36-1223-4bb5-bd80-754d5bca8c4d",
   "metadata": {},
   "outputs": [],
   "source": [
    "# noqa: E402\n",
    "\n",
    "import geopandas as gpd\n",
    "from spatialdata.models import PointsModel\n",
    "\n",
    "\n",
    "def count_assigned_transcripts(\n",
    "    sdata, sdata_transcripts_key, boundaries_to_process=None\n",
    "):\n",
    "    \"\"\"Calculate transcript assignment to cells across boundaries, handling 3D z-planes.\"\"\"\n",
    "    # Load transcripts\n",
    "    transcripts_df = PointsModel.parse(\n",
    "        sdata[sdata_transcripts_key], sort=True\n",
    "    ).compute()[[\"x\", \"y\", \"gene\", \"transcript_id\", \"global_z\"]]\n",
    "    transcripts_gdf = gpd.GeoDataFrame(\n",
    "        transcripts_df, geometry=gpd.points_from_xy(transcripts_df.x, transcripts_df.y)\n",
    "    )\n",
    "    print(f\"Loaded {len(transcripts_gdf)} transcripts\")\n",
    "\n",
    "    # Filter boundaries\n",
    "    available_boundaries = {\n",
    "        k: v for k, v in sdata.shapes.items() if k.startswith(\"boundaries_\")\n",
    "    }\n",
    "    if boundaries_to_process:\n",
    "        boundary_keys = [\n",
    "            name if name.startswith(\"boundaries_\") else f\"boundaries_{name}\"\n",
    "            for name in boundaries_to_process\n",
    "        ]\n",
    "        available_boundaries = {\n",
    "            k: v for k, v in available_boundaries.items() if k in boundary_keys\n",
    "        }\n",
    "\n",
    "    results = {}\n",
    "\n",
    "    for boundaries_name, boundaries in available_boundaries.items():\n",
    "        dataset_name = boundaries_name.replace(\"boundaries_\", \"\")\n",
    "        print(f\"Processing {dataset_name}\")\n",
    "\n",
    "        if (\n",
    "            boundaries is None\n",
    "            or boundaries.empty\n",
    "            or \"geometry\" not in boundaries.columns\n",
    "        ):\n",
    "            print(\"  Skipping - invalid geometry\")\n",
    "            continue\n",
    "\n",
    "        try:\n",
    "            if \"ZIndex\" not in boundaries.columns:\n",
    "                # 2D case\n",
    "                assigned, total = _process_boundaries(boundaries, transcripts_gdf)\n",
    "                dimension = \"2d\"\n",
    "            else:\n",
    "                unique_z = boundaries[\"ZIndex\"].unique()\n",
    "                if len(unique_z) == 1:\n",
    "                    # Single z-plane\n",
    "                    z_boundaries = boundaries[boundaries[\"ZIndex\"] == unique_z[0]]\n",
    "                    z_transcripts = transcripts_gdf[\n",
    "                        transcripts_gdf[\"global_z\"] == unique_z[0]\n",
    "                    ]\n",
    "                    assigned, total = _process_boundaries(z_boundaries, z_transcripts)\n",
    "                    dimension = \"2d\"\n",
    "                else:\n",
    "                    # Multiple z-planes\n",
    "                    print(f\"  Processing {len(unique_z)} z-planes\")\n",
    "                    total_assigned, total_transcripts = 0, 0\n",
    "\n",
    "                    for z_index in sorted(unique_z):\n",
    "                        z_boundaries = boundaries[boundaries[\"ZIndex\"] == z_index]\n",
    "                        z_transcripts = transcripts_gdf[\n",
    "                            transcripts_gdf[\"global_z\"] == z_index\n",
    "                        ]\n",
    "\n",
    "                        z_assigned, z_total = _process_boundaries(\n",
    "                            z_boundaries, z_transcripts\n",
    "                        )\n",
    "                        total_assigned += z_assigned\n",
    "                        total_transcripts += z_total\n",
    "\n",
    "                    assigned, total = total_assigned, total_transcripts\n",
    "                    dimension = \"3d\"\n",
    "\n",
    "            results[dataset_name] = {\n",
    "                \"assigned_count\": assigned,\n",
    "                \"unassigned_count\": total - assigned,\n",
    "                \"total_count\": total,\n",
    "                \"pct_assigned\": round((assigned / total) * 100, 2) if total > 0 else 0,\n",
    "                \"dimension\": dimension,\n",
    "            }\n",
    "            print(\n",
    "                f\"  {assigned}/{total} assigned ({results[dataset_name]['pct_assigned']}%) - {dimension}\"\n",
    "            )\n",
    "\n",
    "        except Exception as e:\n",
    "            print(f\"  Error: {e}\")\n",
    "\n",
    "    return results\n",
    "\n",
    "\n",
    "def _process_boundaries(boundaries_gdf, transcripts_subset):\n",
    "    \"\"\"Helper to process boundaries and return assigned count.\"\"\"\n",
    "    if boundaries_gdf.empty or transcripts_subset.empty:\n",
    "        return 0, len(transcripts_subset)\n",
    "\n",
    "    boundaries_unified = gpd.GeoDataFrame(\n",
    "        geometry=[boundaries_gdf[\"geometry\"].union_all(method=\"unary\")]\n",
    "    )\n",
    "    joined = gpd.sjoin(\n",
    "        transcripts_subset, boundaries_unified, how=\"left\", predicate=\"within\"\n",
    "    )\n",
    "    assigned = joined[\"index_right\"].notna().sum()\n",
    "    return assigned, len(transcripts_subset)"
   ]
  },
  {
   "cell_type": "code",
   "execution_count": 6,
   "id": "3665bf10-b414-4a7b-ac9c-633145276151",
   "metadata": {},
   "outputs": [
    {
     "name": "stdout",
     "output_type": "stream",
     "text": [
      "lrwxrwxrwx 1 ra98gaq pn52ra 53 Aug  1 17:38 /home/ubuntu/gitrepos/cellseg-benchmark/data -> /dss/dssfs03/pn52re/pn52re-dss-0001/cellseg-benchmark\n"
     ]
    }
   ],
   "source": [
    "data_dir = os.path.abspath(\"/home/ubuntu/gitrepos/cellseg-benchmark/data\")\n",
    "!ls -l $data_dir"
   ]
  },
  {
   "cell_type": "code",
   "execution_count": 7,
   "id": "0cd43a19-7059-4c13-bc9b-457f33872629",
   "metadata": {},
   "outputs": [],
   "source": [
    "sample_name = \"foxf2_s4_r1\"\n",
    "sample_name = \"foxf2_s2_r1\""
   ]
  },
  {
   "cell_type": "markdown",
   "id": "636a2548-f1f8-4557-b6a6-fc229a17da52",
   "metadata": {},
   "source": [
    "# Load sdata"
   ]
  },
  {
   "cell_type": "code",
   "execution_count": null,
   "id": "d2784fd1-69e8-4b17-9e15-15b5bd798e0f",
   "metadata": {},
   "outputs": [
    {
     "name": "stderr",
     "output_type": "stream",
     "text": [
      "/home/ubuntu/miniforge3/envs/cellseg_benchmark/lib/python3.12/site-packages/zarr/creation.py:610: UserWarning: ignoring keyword argument 'read_only'\n",
      "  compressor, fill_value = _kwargs_compat(compressor, fill_value, kwargs)\n",
      "/home/ubuntu/miniforge3/envs/cellseg_benchmark/lib/python3.12/site-packages/zarr/creation.py:610: UserWarning: ignoring keyword argument 'read_only'\n",
      "  compressor, fill_value = _kwargs_compat(compressor, fill_value, kwargs)\n",
      "/home/ubuntu/miniforge3/envs/cellseg_benchmark/lib/python3.12/site-packages/zarr/creation.py:610: UserWarning: ignoring keyword argument 'read_only'\n",
      "  compressor, fill_value = _kwargs_compat(compressor, fill_value, kwargs)\n",
      "/home/ubuntu/miniforge3/envs/cellseg_benchmark/lib/python3.12/site-packages/zarr/creation.py:610: UserWarning: ignoring keyword argument 'read_only'\n",
      "  compressor, fill_value = _kwargs_compat(compressor, fill_value, kwargs)\n",
      "/home/ubuntu/miniforge3/envs/cellseg_benchmark/lib/python3.12/site-packages/zarr/creation.py:610: UserWarning: ignoring keyword argument 'read_only'\n",
      "  compressor, fill_value = _kwargs_compat(compressor, fill_value, kwargs)\n"
     ]
    }
   ],
   "source": [
    "sdata_path = os.path.join(data_dir, \"samples\", sample_name, \"sdata_z3.zarr\")\n",
    "if \"sdata\" not in locals():\n",
    "    sdata = sd.read_zarr(sdata_path)"
   ]
  },
  {
   "cell_type": "code",
   "execution_count": null,
   "id": "648b73f7-e4bb-4b01-b855-671b9d44d525",
   "metadata": {
    "scrolled": true
   },
   "outputs": [],
   "source": [
    "sdata"
   ]
  },
  {
   "cell_type": "code",
   "execution_count": null,
   "id": "5f7d88f6-7129-44ff-8c2d-3bfa74c6083e",
   "metadata": {},
   "outputs": [],
   "source": []
  },
  {
   "cell_type": "code",
   "execution_count": null,
   "id": "03c45ff3-58a3-467c-af9e-3bd2b809449c",
   "metadata": {},
   "outputs": [],
   "source": [
    "adata_keys = list(sdata.tables.keys())\n",
    "shapes_keys = list(sdata.shapes.keys())\n",
    "shapes_keys"
   ]
  },
  {
   "cell_type": "code",
   "execution_count": null,
   "id": "b24f991f-4300-4a8d-bf02-370cbc40c19d",
   "metadata": {},
   "outputs": [],
   "source": [
    "len(shapes_keys)"
   ]
  },
  {
   "cell_type": "code",
   "execution_count": null,
   "id": "a477ad6e-ad60-4477-8ad1-b957f70b6ce2",
   "metadata": {},
   "outputs": [],
   "source": [
    "# check which adata keys don't have a column containing \"slide\" in their obs dataframe\n",
    "missing_outlier_keys = []\n",
    "for key in adata_keys:\n",
    "    if not any(\"slide\" in col for col in sdata[key].obs.columns):\n",
    "        missing_outlier_keys.append(key)\n",
    "missing_outlier_keys"
   ]
  },
  {
   "cell_type": "code",
   "execution_count": null,
   "id": "559e5804-d9b8-46bc-9d17-461ef7d430bf",
   "metadata": {},
   "outputs": [],
   "source": [
    "sdata[\"boundaries_vpt_3D_DAPI_nuclei\"]  # .obs.head(5)"
   ]
  },
  {
   "cell_type": "code",
   "execution_count": null,
   "id": "686ed21f-9a44-4d54-ac99-6ce7456dab19",
   "metadata": {},
   "outputs": [],
   "source": [
    "sdata[sample_name + \"_transcripts\"].head(5)"
   ]
  },
  {
   "cell_type": "code",
   "execution_count": null,
   "id": "55b0cc5d-7572-436d-b51c-0e5157e7e1b9",
   "metadata": {},
   "outputs": [],
   "source": [
    "sdata[sample_name + \"_transcripts\"].y.compute().max()  # is in microns"
   ]
  },
  {
   "cell_type": "code",
   "execution_count": null,
   "id": "1c786d89-85e1-405d-afb6-948fe199a6fd",
   "metadata": {},
   "outputs": [],
   "source": []
  },
  {
   "cell_type": "markdown",
   "id": "06f187dd-ebe1-4633-8f01-b290d7417a73",
   "metadata": {},
   "source": [
    "# 2D"
   ]
  },
  {
   "cell_type": "code",
   "execution_count": 36,
   "id": "7ef4b9b2-2d22-40a5-9064-e775512dc052",
   "metadata": {},
   "outputs": [],
   "source": [
    "def count_assigned_transcripts_z3(\n",
    "    sdata, sdata_transcripts_key, boundaries_to_process=None\n",
    "):\n",
    "    \"\"\"Calculate the percentage of transcripts assigned and not assigned to any cell, across specified boundaries in sdata.\n",
    "\n",
    "    Parameters:\n",
    "        sdata: SpatialData object containing transcript data and boundaries\n",
    "        sdata_transcripts_key (str): Key for transcript data in sdata\n",
    "        boundaries_to_process (list, optional): List of boundary dataset names to process.\n",
    "                                               If None, processes all boundaries.\n",
    "\n",
    "    Returns:\n",
    "        dict: Dictionary with results for each dataset containing:\n",
    "            - assigned_count: Number of transcripts assigned to cells\n",
    "            - unassigned_count: Number of transcripts not assigned to any cell\n",
    "            - total_count: Total number of transcripts\n",
    "            - pct_assigned: Percentage of transcripts assigned to cells\n",
    "    \"\"\"\n",
    "\n",
    "    # Load transcripts as GeoDataFrame\n",
    "    transcripts_df = PointsModel.parse(\n",
    "        sdata[sdata_transcripts_key], sort=True\n",
    "    ).compute()[[\"x\", \"y\", \"gene\", \"transcript_id\"]]\n",
    "    transcripts_gdf = gpd.GeoDataFrame(\n",
    "        transcripts_df, geometry=gpd.points_from_xy(transcripts_df.x, transcripts_df.y)\n",
    "    )\n",
    "    print(f\"Loaded {len(transcripts_gdf)} transcripts\")\n",
    "\n",
    "    results = {}\n",
    "    # Get boundaries\n",
    "    boundary_count = 0\n",
    "\n",
    "    # Filter available boundaries based on boundaries_to_process\n",
    "    available_boundaries = {\n",
    "        k: v for k, v in sdata.shapes.items() if k.startswith(\"boundaries_\")\n",
    "    }\n",
    "    if boundaries_to_process is not None:\n",
    "        # Convert dataset names to boundary keys if needed\n",
    "        boundary_keys = []\n",
    "        for name in boundaries_to_process:\n",
    "            if name.startswith(\"boundaries_\"):\n",
    "                boundary_keys.append(name)\n",
    "            else:\n",
    "                boundary_keys.append(f\"boundaries_{name}\")\n",
    "\n",
    "        # Filter to only requested boundaries\n",
    "        available_boundaries = {\n",
    "            k: v for k, v in available_boundaries.items() if k in boundary_keys\n",
    "        }\n",
    "        if not available_boundaries:\n",
    "            print(\n",
    "                f\"Warning: None of the specified boundaries {boundaries_to_process} were found.\"\n",
    "            )\n",
    "\n",
    "    for boundaries_name, boundaries in available_boundaries.items():\n",
    "        dataset_name = boundaries_name.replace(\"boundaries_\", \"\")\n",
    "        print(f\"Processing dataset: {dataset_name}\")\n",
    "\n",
    "        # Check if boundaries is empty or doesn't have geometry column\n",
    "        if (\n",
    "            boundaries is None\n",
    "            or boundaries.empty\n",
    "            or \"geometry\" not in boundaries.columns\n",
    "        ):\n",
    "            print(\n",
    "                f\"Warning: Empty or invalid geometry data in {boundaries_name}. Skipping dataset.\"\n",
    "            )\n",
    "            continue\n",
    "\n",
    "        boundary_count += 1\n",
    "\n",
    "        # Handle ZIndex if present\n",
    "        if \"ZIndex\" in boundaries.columns:\n",
    "            unique_z = boundaries[\"ZIndex\"].unique()\n",
    "            if len(unique_z) == 1:\n",
    "                zindex_0 = unique_z[0]\n",
    "                print(\n",
    "                    f\"Only one z-plane detected for {dataset_name}. Using zindex {zindex_0}.\"\n",
    "                )\n",
    "                boundaries = boundaries[boundaries[\"ZIndex\"] == zindex_0]\n",
    "            else:\n",
    "                print(\n",
    "                    f\"Multiple z-planes detected for {dataset_name}. Using all planes.\"\n",
    "                )\n",
    "\n",
    "        try:\n",
    "            # Create union of all boundary polygons to prevent overlaps and thus duplications in join below\n",
    "            boundaries_unified = gpd.GeoDataFrame(\n",
    "                geometry=[boundaries[\"geometry\"].union_all(method=\"unary\")]\n",
    "            )\n",
    "            assert boundaries_unified.shape == (1, 1)\n",
    "\n",
    "            # Spatial point-in-polygon join with rtree index for speed\n",
    "            joined = gpd.sjoin(\n",
    "                transcripts_gdf, boundaries_unified, how=\"left\", predicate=\"within\"\n",
    "            )\n",
    "\n",
    "            assigned = joined[\"index_right\"].notna().sum()\n",
    "            unassigned = joined[\"index_right\"].isna().sum()\n",
    "            assert len(joined) == len(transcripts_gdf) == assigned + unassigned, (\n",
    "                \"Join count mismatch\"\n",
    "            )\n",
    "\n",
    "            total = len(transcripts_gdf)\n",
    "            results[dataset_name] = {\n",
    "                \"assigned_count\": assigned,\n",
    "                \"unassigned_count\": unassigned,\n",
    "                \"total_count\": total,\n",
    "                \"pct_assigned\": round((assigned / total) * 100, 2),\n",
    "            }\n",
    "            print(\n",
    "                f\"Results for {dataset_name}: {assigned}/{total} transcripts assigned ({results[dataset_name]['pct_assigned']}%)\"\n",
    "            )\n",
    "        except Exception as e:\n",
    "            print(f\"Error processing {dataset_name}: {str(e)}\")\n",
    "\n",
    "    if boundary_count == 0:\n",
    "        print(\n",
    "            \"No boundary datasets found. Check that boundary data exists with 'boundaries_' prefix\"\n",
    "        )\n",
    "    else:\n",
    "        print(f\"Processed {boundary_count} boundary datasets\")\n",
    "\n",
    "    return results"
   ]
  },
  {
   "cell_type": "code",
   "execution_count": 23,
   "id": "cfc1bc87-76b3-405c-bf58-76e215527176",
   "metadata": {},
   "outputs": [
    {
     "data": {
      "text/plain": [
       "['boundaries_Negative_Control_Rastered_10',\n",
       " 'boundaries_Negative_Control_Rastered_20',\n",
       " 'boundaries_Negative_Control_Rastered_50',\n",
       " 'boundaries_Negative_Control_Voronoi']"
      ]
     },
     "execution_count": 23,
     "metadata": {},
     "output_type": "execute_result"
    }
   ],
   "source": [
    "control_keys = [k for k in sdata.shapes.keys() if \"Negative_Control\" in k]\n",
    "control_keys"
   ]
  },
  {
   "cell_type": "code",
   "execution_count": 27,
   "id": "62edbc6c-a1d4-46ed-83b3-ec34d3e38fc3",
   "metadata": {},
   "outputs": [
    {
     "name": "stdout",
     "output_type": "stream",
     "text": [
      "Loaded 66676355 transcripts\n",
      "Processing dataset: Negative_Control_Rastered_10\n",
      "Results for Negative_Control_Rastered_10: 66676355/66676355 transcripts assigned (100.0%)\n",
      "Processing dataset: Negative_Control_Rastered_20\n",
      "Results for Negative_Control_Rastered_20: 66676355/66676355 transcripts assigned (100.0%)\n",
      "Processing dataset: Negative_Control_Rastered_50\n",
      "Results for Negative_Control_Rastered_50: 66676355/66676355 transcripts assigned (100.0%)\n",
      "Processing dataset: Negative_Control_Voronoi\n",
      "Results for Negative_Control_Voronoi: 66676352/66676355 transcripts assigned (100.0%)\n",
      "Processed 4 boundary datasets\n"
     ]
    }
   ],
   "source": [
    "ass_transc = count_assigned_transcripts_z3(\n",
    "    sdata,\n",
    "    sdata_transcripts_key=next(iter(sdata.points.keys())),\n",
    "    boundaries_to_process=control_keys,\n",
    ")"
   ]
  },
  {
   "cell_type": "code",
   "execution_count": 37,
   "id": "2639eac8-f3b7-4698-921b-98debdd4b489",
   "metadata": {},
   "outputs": [
    {
     "name": "stdout",
     "output_type": "stream",
     "text": [
      "Loaded 80528580 transcripts\n",
      "Processing dataset: Cellpose_1_nuclei_model\n",
      "Results for Cellpose_1_nuclei_model: 0/80528580 transcripts assigned (0.0%)\n",
      "Processed 1 boundary datasets\n"
     ]
    }
   ],
   "source": [
    "ass_transc = count_assigned_transcripts_z3(\n",
    "    sdata,\n",
    "    sdata_transcripts_key=next(iter(sdata.points.keys())),\n",
    "    boundaries_to_process=None,  # none to loop over all boundaries\n",
    ")"
   ]
  },
  {
   "cell_type": "code",
   "execution_count": null,
   "id": "25dd06c1-e453-47d0-9cb1-d9c771434df2",
   "metadata": {},
   "outputs": [],
   "source": []
  },
  {
   "cell_type": "code",
   "execution_count": 38,
   "id": "a10eaf5a-2991-49df-8b6c-814227ecb3be",
   "metadata": {},
   "outputs": [],
   "source": [
    "results_df = pd.DataFrame.from_dict(ass_transc, orient=\"index\")\n",
    "results_df.to_csv(\n",
    "    os.path.join(\n",
    "        data_dir,\n",
    "        \"samples\",\n",
    "        sample_name,\n",
    "        \"results\",\n",
    "        \"metrics\",\n",
    "        date_var + \"_assigned_transcripts.csv\",\n",
    "    )\n",
    ")"
   ]
  },
  {
   "cell_type": "code",
   "execution_count": 132,
   "id": "a2cf96ef-32a4-4b95-a9a4-d728d78681b9",
   "metadata": {},
   "outputs": [
    {
     "data": {
      "text/html": [
       "<div>\n",
       "<style scoped>\n",
       "    .dataframe tbody tr th:only-of-type {\n",
       "        vertical-align: middle;\n",
       "    }\n",
       "\n",
       "    .dataframe tbody tr th {\n",
       "        vertical-align: top;\n",
       "    }\n",
       "\n",
       "    .dataframe thead th {\n",
       "        text-align: right;\n",
       "    }\n",
       "</style>\n",
       "<table border=\"1\" class=\"dataframe\">\n",
       "  <thead>\n",
       "    <tr style=\"text-align: right;\">\n",
       "      <th></th>\n",
       "      <th>dataset</th>\n",
       "      <th>assigned_count</th>\n",
       "      <th>unassigned_count</th>\n",
       "      <th>total_count</th>\n",
       "      <th>pct_assigned</th>\n",
       "    </tr>\n",
       "  </thead>\n",
       "  <tbody>\n",
       "    <tr>\n",
       "      <th>0</th>\n",
       "      <td>Baysor_2D_CP1Merlin_075</td>\n",
       "      <td>58691283</td>\n",
       "      <td>7985072</td>\n",
       "      <td>66676355</td>\n",
       "      <td>88.02</td>\n",
       "    </tr>\n",
       "    <tr>\n",
       "      <th>1</th>\n",
       "      <td>Baysor_2D_CP1_020</td>\n",
       "      <td>62914674</td>\n",
       "      <td>3761681</td>\n",
       "      <td>66676355</td>\n",
       "      <td>94.36</td>\n",
       "    </tr>\n",
       "    <tr>\n",
       "      <th>2</th>\n",
       "      <td>Baysor_2D_CP1_080</td>\n",
       "      <td>64016809</td>\n",
       "      <td>2659546</td>\n",
       "      <td>66676355</td>\n",
       "      <td>96.01</td>\n",
       "    </tr>\n",
       "    <tr>\n",
       "      <th>3</th>\n",
       "      <td>Baysor_2D_CP2_020</td>\n",
       "      <td>63486436</td>\n",
       "      <td>3189919</td>\n",
       "      <td>66676355</td>\n",
       "      <td>95.22</td>\n",
       "    </tr>\n",
       "    <tr>\n",
       "      <th>4</th>\n",
       "      <td>Baysor_2D_CP2_080</td>\n",
       "      <td>64269019</td>\n",
       "      <td>2407336</td>\n",
       "      <td>66676355</td>\n",
       "      <td>96.39</td>\n",
       "    </tr>\n",
       "    <tr>\n",
       "      <th>5</th>\n",
       "      <td>Baysor_2D_nucleus_100</td>\n",
       "      <td>63672125</td>\n",
       "      <td>3004230</td>\n",
       "      <td>66676355</td>\n",
       "      <td>95.49</td>\n",
       "    </tr>\n",
       "    <tr>\n",
       "      <th>6</th>\n",
       "      <td>Baysor_3D</td>\n",
       "      <td>63062131</td>\n",
       "      <td>3614224</td>\n",
       "      <td>66676355</td>\n",
       "      <td>94.58</td>\n",
       "    </tr>\n",
       "    <tr>\n",
       "      <th>7</th>\n",
       "      <td>Cellpose_1_DAPI_PolyT</td>\n",
       "      <td>41086771</td>\n",
       "      <td>25589584</td>\n",
       "      <td>66676355</td>\n",
       "      <td>61.62</td>\n",
       "    </tr>\n",
       "    <tr>\n",
       "      <th>8</th>\n",
       "      <td>Cellpose_1_DAPI_Transcripts</td>\n",
       "      <td>59367235</td>\n",
       "      <td>7309120</td>\n",
       "      <td>66676355</td>\n",
       "      <td>89.04</td>\n",
       "    </tr>\n",
       "    <tr>\n",
       "      <th>9</th>\n",
       "      <td>Cellpose_1_Merlin</td>\n",
       "      <td>49389857</td>\n",
       "      <td>17286498</td>\n",
       "      <td>66676355</td>\n",
       "      <td>74.07</td>\n",
       "    </tr>\n",
       "    <tr>\n",
       "      <th>10</th>\n",
       "      <td>Cellpose_1_nuclei_model</td>\n",
       "      <td>35554661</td>\n",
       "      <td>31121694</td>\n",
       "      <td>66676355</td>\n",
       "      <td>53.32</td>\n",
       "    </tr>\n",
       "    <tr>\n",
       "      <th>11</th>\n",
       "      <td>Cellpose_2_DAPI_PolyT</td>\n",
       "      <td>54527971</td>\n",
       "      <td>12148384</td>\n",
       "      <td>66676355</td>\n",
       "      <td>81.78</td>\n",
       "    </tr>\n",
       "    <tr>\n",
       "      <th>12</th>\n",
       "      <td>Cellpose_2_DAPI_Transcripts</td>\n",
       "      <td>57126763</td>\n",
       "      <td>9549592</td>\n",
       "      <td>66676355</td>\n",
       "      <td>85.68</td>\n",
       "    </tr>\n",
       "    <tr>\n",
       "      <th>13</th>\n",
       "      <td>ComSeg</td>\n",
       "      <td>59910624</td>\n",
       "      <td>6765731</td>\n",
       "      <td>66676355</td>\n",
       "      <td>89.85</td>\n",
       "    </tr>\n",
       "    <tr>\n",
       "      <th>14</th>\n",
       "      <td>Proseg</td>\n",
       "      <td>64931514</td>\n",
       "      <td>1744841</td>\n",
       "      <td>66676355</td>\n",
       "      <td>97.38</td>\n",
       "    </tr>\n",
       "    <tr>\n",
       "      <th>15</th>\n",
       "      <td>Negative_Control_Rastered_10</td>\n",
       "      <td>66676355</td>\n",
       "      <td>0</td>\n",
       "      <td>66676355</td>\n",
       "      <td>100.00</td>\n",
       "    </tr>\n",
       "    <tr>\n",
       "      <th>16</th>\n",
       "      <td>Negative_Control_Rastered_20</td>\n",
       "      <td>66676355</td>\n",
       "      <td>0</td>\n",
       "      <td>66676355</td>\n",
       "      <td>100.00</td>\n",
       "    </tr>\n",
       "    <tr>\n",
       "      <th>17</th>\n",
       "      <td>Negative_Control_Rastered_50</td>\n",
       "      <td>66676355</td>\n",
       "      <td>0</td>\n",
       "      <td>66676355</td>\n",
       "      <td>100.00</td>\n",
       "    </tr>\n",
       "    <tr>\n",
       "      <th>18</th>\n",
       "      <td>Negative_Control_Voronoi</td>\n",
       "      <td>66676352</td>\n",
       "      <td>3</td>\n",
       "      <td>66676355</td>\n",
       "      <td>100.00</td>\n",
       "    </tr>\n",
       "  </tbody>\n",
       "</table>\n",
       "</div>"
      ],
      "text/plain": [
       "                         dataset  assigned_count  unassigned_count  \\\n",
       "0        Baysor_2D_CP1Merlin_075        58691283           7985072   \n",
       "1              Baysor_2D_CP1_020        62914674           3761681   \n",
       "2              Baysor_2D_CP1_080        64016809           2659546   \n",
       "3              Baysor_2D_CP2_020        63486436           3189919   \n",
       "4              Baysor_2D_CP2_080        64269019           2407336   \n",
       "5          Baysor_2D_nucleus_100        63672125           3004230   \n",
       "6                      Baysor_3D        63062131           3614224   \n",
       "7          Cellpose_1_DAPI_PolyT        41086771          25589584   \n",
       "8    Cellpose_1_DAPI_Transcripts        59367235           7309120   \n",
       "9              Cellpose_1_Merlin        49389857          17286498   \n",
       "10       Cellpose_1_nuclei_model        35554661          31121694   \n",
       "11         Cellpose_2_DAPI_PolyT        54527971          12148384   \n",
       "12   Cellpose_2_DAPI_Transcripts        57126763           9549592   \n",
       "13                        ComSeg        59910624           6765731   \n",
       "14                        Proseg        64931514           1744841   \n",
       "15  Negative_Control_Rastered_10        66676355                 0   \n",
       "16  Negative_Control_Rastered_20        66676355                 0   \n",
       "17  Negative_Control_Rastered_50        66676355                 0   \n",
       "18      Negative_Control_Voronoi        66676352                 3   \n",
       "\n",
       "    total_count  pct_assigned  \n",
       "0      66676355         88.02  \n",
       "1      66676355         94.36  \n",
       "2      66676355         96.01  \n",
       "3      66676355         95.22  \n",
       "4      66676355         96.39  \n",
       "5      66676355         95.49  \n",
       "6      66676355         94.58  \n",
       "7      66676355         61.62  \n",
       "8      66676355         89.04  \n",
       "9      66676355         74.07  \n",
       "10     66676355         53.32  \n",
       "11     66676355         81.78  \n",
       "12     66676355         85.68  \n",
       "13     66676355         89.85  \n",
       "14     66676355         97.38  \n",
       "15     66676355        100.00  \n",
       "16     66676355        100.00  \n",
       "17     66676355        100.00  \n",
       "18     66676355        100.00  "
      ]
     },
     "execution_count": 132,
     "metadata": {},
     "output_type": "execute_result"
    }
   ],
   "source": [
    "date_set = \"20250319\"\n",
    "ta = pd.read_csv(\n",
    "    os.path.join(\n",
    "        data_dir,\n",
    "        \"samples\",\n",
    "        sample_name,\n",
    "        \"results\",\n",
    "        \"metrics\",\n",
    "        date_set + \"_assigned_transcripts.csv\",\n",
    "    ),\n",
    "    index_col=0,\n",
    ")\n",
    "ta = ta.rename(columns={\"Unnamed: 0\": \"dataset\"})\n",
    "ta"
   ]
  },
  {
   "cell_type": "code",
   "execution_count": 133,
   "id": "53d3aab1-cc35-4354-9543-6ec1e9398f82",
   "metadata": {},
   "outputs": [],
   "source": [
    "ta[\"dataset\"] = ta[\"dataset\"].replace(\n",
    "    {\n",
    "        \"Negative_Control_\": \"\",\n",
    "        \"Transcripts\": \"Transc\",\n",
    "        \"Baysor\": \"Bay\",\n",
    "        \"Cellpose\": \"CP\",\n",
    "        \"nuclei\": \"nuc\",\n",
    "        \"nucleus\": \"nuc\",\n",
    "        \"Merlin\": \"Mer\",\n",
    "    },\n",
    "    regex=True,\n",
    ")"
   ]
  },
  {
   "cell_type": "code",
   "execution_count": 134,
   "id": "c41aaa80-83f2-48a6-82a3-908895162a5c",
   "metadata": {},
   "outputs": [
    {
     "data": {
      "image/png": "[encoded data removed]",
      "text/plain": [
       "<Figure size 2100x1200 with 1 Axes>"
      ]
     },
     "metadata": {},
     "output_type": "display_data"
    }
   ],
   "source": [
    "plot_data = ta.sort_values(by=\"pct_assigned\")\n",
    "\n",
    "plt.figure(figsize=(7, 4), dpi=300)\n",
    "ax = sns.barplot(x=\"dataset\", y=\"pct_assigned\", data=plot_data)\n",
    "ax.axhline(y=100, color=\"grey\", linestyle=\"-\", alpha=0.2)\n",
    "plt.ylabel(\"Assigned Transcripts (%)\")\n",
    "plt.xlabel(\"\")\n",
    "plt.xticks(rotation=-45, ha=\"left\")\n",
    "plt.tight_layout()\n",
    "plt.show()"
   ]
  },
  {
   "cell_type": "code",
   "execution_count": null,
   "id": "53c1a5f6-b3cb-44d5-adbc-6067a05cadad",
   "metadata": {},
   "outputs": [],
   "source": []
  },
  {
   "cell_type": "code",
   "execution_count": null,
   "id": "326eff59-de38-4911-bad3-3af65d073623",
   "metadata": {},
   "outputs": [],
   "source": []
  },
  {
   "cell_type": "code",
   "execution_count": null,
   "id": "c5a8bf79-1645-4bb0-badf-f106c9c8c93f",
   "metadata": {},
   "outputs": [],
   "source": []
  },
  {
   "cell_type": "code",
   "execution_count": null,
   "id": "e4cf09ef-528d-4c16-8320-c8ba92526688",
   "metadata": {},
   "outputs": [],
   "source": []
  },
  {
   "cell_type": "code",
   "execution_count": null,
   "id": "1c9b8d6e-d4e8-4a70-bc9a-8b912388d821",
   "metadata": {},
   "outputs": [],
   "source": []
  },
  {
   "cell_type": "markdown",
   "id": "c1e6a1cb-f501-4f8f-bde1-521d6ca038c5",
   "metadata": {},
   "source": [
    "# 2D + 3D"
   ]
  },
  {
   "cell_type": "code",
   "execution_count": 8,
   "id": "5f8b338e-5fba-4eae-bb24-48acbb6e15c3",
   "metadata": {
    "scrolled": true
   },
   "outputs": [
    {
     "name": "stdout",
     "output_type": "stream",
     "text": [
      "Channels:\n",
      " - conda-forge\n",
      "Platform: linux-64\n",
      "Collecting package metadata (repodata.json): done\n",
      "Solving environment: done\n",
      "\n",
      "\n",
      "==> WARNING: A newer version of conda exists. <==\n",
      "    current version: 24.11.3\n",
      "    latest version: 25.5.1\n",
      "\n",
      "Please update conda by running\n",
      "\n",
      "    $ conda update -n base -c conda-forge conda\n",
      "\n",
      "\n",
      "\n",
      "## Package Plan ##\n",
      "\n",
      "  environment location: /home/ubuntu/miniforge3/envs/cellseg_benchmark\n",
      "\n",
      "  added / updated specs:\n",
      "    - rtree\n",
      "\n",
      "\n",
      "The following packages will be downloaded:\n",
      "\n",
      "    package                    |            build\n",
      "    ---------------------------|-----------------\n",
      "    libspatialindex-2.1.0      |       he57a185_0         390 KB  conda-forge\n",
      "    rtree-1.4.0                |     pyh11ca60a_1          39 KB  conda-forge\n",
      "    ------------------------------------------------------------\n",
      "                                           Total:         429 KB\n",
      "\n",
      "The following NEW packages will be INSTALLED:\n",
      "\n",
      "  libspatialindex    conda-forge/linux-64::libspatialindex-2.1.0-he57a185_0 \n",
      "  rtree              conda-forge/noarch::rtree-1.4.0-pyh11ca60a_1 \n",
      "\n",
      "\n",
      "\n",
      "Downloading and Extracting Packages:\n",
      "libspatialindex-2.1. | 390 KB    |                                       |   0% \n",
      "rtree-1.4.0          | 39 KB     |                                       |   0% \u001b[A\n",
      "libspatialindex-2.1. | 390 KB    | #5                                    |   4% \u001b[A\n",
      "rtree-1.4.0          | 39 KB     | ##################################### | 100% \u001b[A\n",
      "                                                                                \u001b[A\n",
      "                                                                                \u001b[A\n",
      "Preparing transaction: done\n",
      "Verifying transaction: done\n",
      "Executing transaction: done\n"
     ]
    }
   ],
   "source": [
    "!conda install -n cellseg_benchmark -c conda-forge rtree -y"
   ]
  },
  {
   "cell_type": "code",
   "execution_count": 11,
   "id": "1e93c899-a27d-4af9-8942-c6197fbdb6db",
   "metadata": {},
   "outputs": [],
   "source": [
    "# Logger setup\n",
    "logger = logging.getLogger(\"compute_assigned_transcripts\")\n",
    "logger.setLevel(logging.INFO)\n",
    "handler = logging.StreamHandler()\n",
    "handler.setFormatter(logging.Formatter(\"%(asctime)s [%(levelname)s]: %(message)s\"))\n",
    "logger.addHandler(handler)"
   ]
  },
  {
   "cell_type": "code",
   "execution_count": 12,
   "id": "61de2270-c441-4b9e-b864-4c9839f53273",
   "metadata": {},
   "outputs": [
    {
     "name": "stdout",
     "output_type": "stream",
     "text": [
      "foxf2_s2_r1\n"
     ]
    }
   ],
   "source": [
    "# CLI args\n",
    "parser = argparse.ArgumentParser(\n",
    "    description=\"Compute fraction of cell-assigned transcripts for all segmentation methods from a master-sdata.\"\n",
    ")\n",
    "parser.add_argument(\"sample\", help=\"Sample, e.g., 'foxf2_s2_r1'\")\n",
    "# args = parser.parse_args()\n",
    "\n",
    "# Simulate CLI args in Jupyter\n",
    "args = parser.parse_args([\"foxf2_s2_r1\"])\n",
    "print(args.sample)"
   ]
  },
  {
   "cell_type": "code",
   "execution_count": null,
   "id": "73a556fc-c002-4fdb-8ad7-bc4dcc43d35d",
   "metadata": {},
   "outputs": [],
   "source": []
  },
  {
   "cell_type": "code",
   "execution_count": 13,
   "id": "d7f2fd8d-e686-4b3c-8e5f-48c2148d6e25",
   "metadata": {},
   "outputs": [],
   "source": [
    "# Paths\n",
    "base_path = Path(\"/dss/dssfs03/pn52re/pn52re-dss-0001/cellseg-benchmark\")\n",
    "sample_path = base_path / \"samples\" / args.sample\n",
    "save_path = base_path / \"samples\" / args.sample / \"misc\"\n",
    "save_path.mkdir(parents=True, exist_ok=True)"
   ]
  },
  {
   "cell_type": "code",
   "execution_count": 14,
   "id": "38c97763-1db9-4427-85e0-4b3f7f5a3ae9",
   "metadata": {
    "scrolled": true
   },
   "outputs": [
    {
     "name": "stderr",
     "output_type": "stream",
     "text": [
      "2025-08-05 12:08:44,690 [INFO]: Loading sdata...\n",
      "/home/ubuntu/miniforge3/envs/cellseg_benchmark/lib/python3.12/site-packages/zarr/creation.py:610: UserWarning: ignoring keyword argument 'read_only'\n",
      "  compressor, fill_value = _kwargs_compat(compressor, fill_value, kwargs)\n",
      "/home/ubuntu/miniforge3/envs/cellseg_benchmark/lib/python3.12/site-packages/zarr/creation.py:610: UserWarning: ignoring keyword argument 'read_only'\n",
      "  compressor, fill_value = _kwargs_compat(compressor, fill_value, kwargs)\n",
      "/home/ubuntu/miniforge3/envs/cellseg_benchmark/lib/python3.12/site-packages/zarr/creation.py:610: UserWarning: ignoring keyword argument 'read_only'\n",
      "  compressor, fill_value = _kwargs_compat(compressor, fill_value, kwargs)\n",
      "/home/ubuntu/miniforge3/envs/cellseg_benchmark/lib/python3.12/site-packages/zarr/creation.py:610: UserWarning: ignoring keyword argument 'read_only'\n",
      "  compressor, fill_value = _kwargs_compat(compressor, fill_value, kwargs)\n",
      "/home/ubuntu/miniforge3/envs/cellseg_benchmark/lib/python3.12/site-packages/zarr/creation.py:610: UserWarning: ignoring keyword argument 'read_only'\n",
      "  compressor, fill_value = _kwargs_compat(compressor, fill_value, kwargs)\n"
     ]
    }
   ],
   "source": [
    "# Load sdata\n",
    "logger.info(\"Loading sdata...\")\n",
    "sdata = read_zarr(sample_path / \"sdata_z3.zarr\")"
   ]
  },
  {
   "cell_type": "code",
   "execution_count": null,
   "id": "41d9f953-8f3f-49a4-9303-201f2348f73e",
   "metadata": {
    "scrolled": true
   },
   "outputs": [
    {
     "name": "stderr",
     "output_type": "stream",
     "text": [
      "2025-08-05 12:12:32,720 [INFO]: Computing assigned transcripts...\n"
     ]
    },
    {
     "name": "stdout",
     "output_type": "stream",
     "text": [
      "Loaded 66676355 transcripts\n",
      "Processing Baysor_2D_Cellpose_1_DAPI_PolyT_0.2\n",
      "  63428543/66676355 assigned (95.13%) - 2d\n",
      "Processing Baysor_2D_Cellpose_1_DAPI_PolyT_0.8\n",
      "  64424505/66676355 assigned (96.62%) - 2d\n",
      "Processing Baysor_2D_Cellpose_1_DAPI_Transcripts_0.2\n",
      "  63974928/66676355 assigned (95.95%) - 2d\n",
      "Processing Baysor_2D_Cellpose_1_DAPI_Transcripts_0.8\n",
      "  64525259/66676355 assigned (96.77%) - 2d\n",
      "Processing Baysor_2D_Cellpose_1_nuclei_model_1.0\n",
      "  64158244/66676355 assigned (96.22%) - 2d\n",
      "Processing Baysor_2D_Cellpose_2_DAPI_PolyT_0.2\n",
      "  63822923/66676355 assigned (95.72%) - 2d\n",
      "Processing Baysor_2D_Cellpose_2_DAPI_PolyT_0.8\n",
      "  64587204/66676355 assigned (96.87%) - 2d\n",
      "Processing Baysor_2D_Cellpose_2_DAPI_Transcripts_0.2\n",
      "  63969061/66676355 assigned (95.94%) - 2d\n",
      "Processing Baysor_2D_Cellpose_2_DAPI_Transcripts_0.8\n"
     ]
    }
   ],
   "source": [
    "logger.info(\"Computing assigned transcripts...\")\n",
    "assigned_transcripts_results = count_assigned_transcripts(\n",
    "    sdata, sdata_transcripts_key=next(iter(sdata.points.keys()))\n",
    ")"
   ]
  },
  {
   "cell_type": "code",
   "execution_count": null,
   "id": "f67a98c0-9155-4609-9123-3f2b1b46a4ed",
   "metadata": {},
   "outputs": [],
   "source": [
    "# Flatten to df and save\n",
    "df = pd.DataFrame.from_dict(assigned_transcripts_results, orient=\"index\")\n",
    "df.reset_index(inplace=True)\n",
    "df = df.rename(columns={\"index\": \"seg_method\"})\n",
    "logger.info(\"Saving results...\")\n",
    "df.to_csv(os.path.join(save_path, \"assigned_transcripts_results.csv\"), index=False)\n",
    "logger.info(\"Done.\")"
   ]
  },
  {
   "cell_type": "code",
   "execution_count": null,
   "id": "ed1bf91a-96e4-47ca-8f51-b548c04f1a02",
   "metadata": {},
   "outputs": [],
   "source": []
  },
  {
   "cell_type": "code",
   "execution_count": null,
   "id": "10cbf940-e66c-419e-a8b8-a6defa2222dc",
   "metadata": {},
   "outputs": [],
   "source": []
  },
  {
   "cell_type": "code",
   "execution_count": null,
   "id": "cb6ad802-c293-4fef-9c6b-cceca6a715e9",
   "metadata": {},
   "outputs": [],
   "source": []
  },
  {
   "cell_type": "code",
   "execution_count": null,
   "id": "f72278d7-c488-4975-8de6-3f662dea87a5",
   "metadata": {},
   "outputs": [],
   "source": []
  },
  {
   "cell_type": "code",
   "execution_count": null,
   "id": "7e66cf66-8c00-4b72-9943-54bd927e177d",
   "metadata": {},
   "outputs": [],
   "source": [
    "# dev:"
   ]
  },
  {
   "cell_type": "code",
   "execution_count": null,
   "id": "2109b905-ebb0-474c-9c86-4053af39246a",
   "metadata": {},
   "outputs": [],
   "source": [
    "def count_assigned_transcripts(\n",
    "    sdata, sdata_transcripts_key, boundaries_to_process=None\n",
    "):\n",
    "    \"\"\"Calculate transcript assignment to cells across boundaries, handling 3D z-planes.\"\"\"\n",
    "\n",
    "    # Load transcripts\n",
    "    transcripts_df = PointsModel.parse(\n",
    "        sdata[sdata_transcripts_key], sort=True\n",
    "    ).compute()[[\"x\", \"y\", \"gene\", \"transcript_id\", \"global_z\"]]\n",
    "    transcripts_gdf = gpd.GeoDataFrame(\n",
    "        transcripts_df, geometry=gpd.points_from_xy(transcripts_df.x, transcripts_df.y)\n",
    "    )\n",
    "    print(f\"Loaded {len(transcripts_gdf)} transcripts\")\n",
    "\n",
    "    # Filter boundaries\n",
    "    available_boundaries = {\n",
    "        k: v for k, v in sdata.shapes.items() if k.startswith(\"boundaries_\")\n",
    "    }\n",
    "    if boundaries_to_process:\n",
    "        boundary_keys = [\n",
    "            name if name.startswith(\"boundaries_\") else f\"boundaries_{name}\"\n",
    "            for name in boundaries_to_process\n",
    "        ]\n",
    "        available_boundaries = {\n",
    "            k: v for k, v in available_boundaries.items() if k in boundary_keys\n",
    "        }\n",
    "\n",
    "    results = {}\n",
    "\n",
    "    def process_boundaries(boundaries_gdf, transcripts_subset):\n",
    "        \"\"\"Helper to process boundaries and return assigned count.\"\"\"\n",
    "        if boundaries_gdf.empty or transcripts_subset.empty:\n",
    "            return 0, len(transcripts_subset)\n",
    "\n",
    "        boundaries_unified = gpd.GeoDataFrame(\n",
    "            geometry=[boundaries_gdf[\"geometry\"].union_all(method=\"unary\")]\n",
    "        )\n",
    "        joined = gpd.sjoin(\n",
    "            transcripts_subset, boundaries_unified, how=\"left\", predicate=\"within\"\n",
    "        )\n",
    "        assigned = joined[\"index_right\"].notna().sum()\n",
    "        return assigned, len(transcripts_subset)\n",
    "\n",
    "    for boundaries_name, boundaries in available_boundaries.items():\n",
    "        dataset_name = boundaries_name.replace(\"boundaries_\", \"\")\n",
    "        print(f\"Processing {dataset_name}\")\n",
    "\n",
    "        if (\n",
    "            boundaries is None\n",
    "            or boundaries.empty\n",
    "            or \"geometry\" not in boundaries.columns\n",
    "        ):\n",
    "            print(\"  Skipping - invalid geometry\")\n",
    "            continue\n",
    "\n",
    "        try:\n",
    "            if \"ZIndex\" not in boundaries.columns:\n",
    "                # 2D case\n",
    "                assigned, total = process_boundaries(boundaries, transcripts_gdf)\n",
    "                dimension = \"2d\"\n",
    "            else:\n",
    "                unique_z = boundaries[\"ZIndex\"].unique()\n",
    "                if len(unique_z) == 1:\n",
    "                    # Single z-plane\n",
    "                    z_boundaries = boundaries[boundaries[\"ZIndex\"] == unique_z[0]]\n",
    "                    z_transcripts = transcripts_gdf[\n",
    "                        transcripts_gdf[\"global_z\"] == unique_z[0]\n",
    "                    ]\n",
    "                    assigned, total = process_boundaries(z_boundaries, z_transcripts)\n",
    "                    dimension = \"2d\"\n",
    "                else:\n",
    "                    # Multiple z-planes\n",
    "                    print(f\"  Processing {len(unique_z)} z-planes\")\n",
    "                    total_assigned, total_transcripts = 0, 0\n",
    "\n",
    "                    for z_index in sorted(unique_z):\n",
    "                        z_boundaries = boundaries[boundaries[\"ZIndex\"] == z_index]\n",
    "                        z_transcripts = transcripts_gdf[\n",
    "                            transcripts_gdf[\"global_z\"] == z_index\n",
    "                        ]\n",
    "\n",
    "                        z_assigned, z_total = process_boundaries(\n",
    "                            z_boundaries, z_transcripts\n",
    "                        )\n",
    "                        total_assigned += z_assigned\n",
    "                        total_transcripts += z_total\n",
    "\n",
    "                    assigned, total = total_assigned, total_transcripts\n",
    "                    dimension = \"3d\"\n",
    "\n",
    "            results[dataset_name] = {\n",
    "                \"assigned_count\": assigned,\n",
    "                \"unassigned_count\": total - assigned,\n",
    "                \"total_count\": total,\n",
    "                \"pct_assigned\": round((assigned / total) * 100, 2) if total > 0 else 0,\n",
    "                \"dimension\": dimension,\n",
    "            }\n",
    "            print(\n",
    "                f\"  {assigned}/{total} assigned ({results[dataset_name]['pct_assigned']}%) - {dimension}\"\n",
    "            )\n",
    "\n",
    "        except Exception as e:\n",
    "            print(f\"  Error: {e}\")\n",
    "\n",
    "    return results"
   ]
  },
  {
   "cell_type": "code",
   "execution_count": null,
   "id": "763e86c4-8a84-49a6-b068-e1a677b7e909",
   "metadata": {},
   "outputs": [],
   "source": [
    "next(iter(sdata.points.keys()))"
   ]
  },
  {
   "cell_type": "code",
   "execution_count": null,
   "id": "443040dc-a058-4fef-89c6-9d2859d846fc",
   "metadata": {},
   "outputs": [],
   "source": []
  },
  {
   "cell_type": "code",
   "execution_count": 70,
   "id": "b872f57e-c1da-455d-9f05-1ef5233eb78c",
   "metadata": {},
   "outputs": [],
   "source": [
    "boundaries_to_process = [\"boundaries_vpt_2D_DAPI_PolyT\"]\n",
    "boundaries_to_process = [\"boundaries_vpt_3D_DAPI_nuclei\"]\n",
    "# boundaries_to_process = [\"boundaries_vpt_3D_DAPI_PolyT_nuclei\"]\n",
    "# boundaries_to_process = [\"boundaries_vpt_2D_DAPI_PolyT_nuclei\"]"
   ]
  },
  {
   "cell_type": "code",
   "execution_count": 71,
   "id": "4333a300-780a-43dc-9cbb-cb4d6ca3abff",
   "metadata": {},
   "outputs": [
    {
     "name": "stdout",
     "output_type": "stream",
     "text": [
      "Loaded 66676355 transcripts\n",
      "Processing vpt_3D_DAPI_nuclei\n",
      "  Processing 7 z-planes\n",
      "  22369193/66676355 assigned (33.55%) - 3d\n",
      "CPU times: user 8min 12s, sys: 17.5 s, total: 8min 29s\n",
      "Wall time: 8min 15s\n"
     ]
    }
   ],
   "source": [
    "%%time\n",
    "assigned_transcripts_results = count_assigned_transcripts(\n",
    "    sdata,\n",
    "    sdata_transcripts_key=next(iter(sdata.points.keys())),\n",
    "    # boundaries_to_process=boundaries_to_process,\n",
    ")"
   ]
  },
  {
   "cell_type": "code",
   "execution_count": 35,
   "id": "9c935991-d8d6-4582-a7e0-3d9ff820f4b5",
   "metadata": {},
   "outputs": [
    {
     "data": {
      "text/plain": [
       "{'Cellpose_1_nuclei_model': {'assigned_count': np.int64(0),\n",
       "  'unassigned_count': np.int64(80528580),\n",
       "  'total_count': 80528580,\n",
       "  'pct_assigned': np.float64(0.0)}}"
      ]
     },
     "execution_count": 35,
     "metadata": {},
     "output_type": "execute_result"
    }
   ],
   "source": [
    "assigned_transcripts_results"
   ]
  },
  {
   "cell_type": "code",
   "execution_count": null,
   "id": "76ede16b-dbe2-4c06-a63d-901c9bf168d0",
   "metadata": {},
   "outputs": [],
   "source": []
  },
  {
   "cell_type": "code",
   "execution_count": null,
   "id": "524f2c7e-8dd0-4e90-8e99-c1ff780e9977",
   "metadata": {},
   "outputs": [],
   "source": [
    "# s4r1"
   ]
  },
  {
   "cell_type": "code",
   "execution_count": 37,
   "id": "a9a77f34-a71a-4109-b722-e9dba757e308",
   "metadata": {},
   "outputs": [
    {
     "data": {
      "text/plain": [
       "{'vpt_3D_DAPI_nuclei': {'assigned_count': np.int64(26150852),\n",
       "  'unassigned_count': np.int64(54377728),\n",
       "  'total_count': 80528580,\n",
       "  'pct_assigned': np.float64(32.47),\n",
       "  'dimension': '3d'}}"
      ]
     },
     "execution_count": 37,
     "metadata": {},
     "output_type": "execute_result"
    }
   ],
   "source": [
    "# boundaries_vpt_3D_DAPI_nuclei\n",
    "assigned_transcripts_results"
   ]
  },
  {
   "cell_type": "code",
   "execution_count": 40,
   "id": "de1e6d39-5b3a-4aa9-9855-87dedf20cfac",
   "metadata": {},
   "outputs": [
    {
     "data": {
      "text/plain": [
       "{'vpt_3D_DAPI_PolyT': {'assigned_count': np.int64(20347385),\n",
       "  'unassigned_count': np.int64(60181195),\n",
       "  'total_count': 80528580,\n",
       "  'pct_assigned': np.float64(25.27),\n",
       "  'dimension': '3d'}}"
      ]
     },
     "execution_count": 40,
     "metadata": {},
     "output_type": "execute_result"
    }
   ],
   "source": [
    "# boundaries_vpt_3D_DAPI_PolyT\n",
    "assigned_transcripts_results"
   ]
  },
  {
   "cell_type": "code",
   "execution_count": 43,
   "id": "1301e03d-80d8-43b4-937a-053c8a26a2e3",
   "metadata": {},
   "outputs": [
    {
     "data": {
      "text/plain": [
       "{'vpt_3D_DAPI_PolyT_nuclei': {'assigned_count': np.int64(30763406),\n",
       "  'unassigned_count': np.int64(49765174),\n",
       "  'total_count': 80528580,\n",
       "  'pct_assigned': np.float64(38.2),\n",
       "  'dimension': '3d'}}"
      ]
     },
     "execution_count": 43,
     "metadata": {},
     "output_type": "execute_result"
    }
   ],
   "source": [
    "# boundaries_vpt_3D_DAPI_PolyT_nuclei\n",
    "assigned_transcripts_results"
   ]
  },
  {
   "cell_type": "code",
   "execution_count": null,
   "id": "0dae266c-5968-4105-92d6-42a39ec9869b",
   "metadata": {},
   "outputs": [],
   "source": []
  },
  {
   "cell_type": "code",
   "execution_count": null,
   "id": "38dac9b8-0aa0-4cc8-a732-eaeb447a2ac9",
   "metadata": {},
   "outputs": [],
   "source": []
  },
  {
   "cell_type": "code",
   "execution_count": 65,
   "id": "87153cb1-bcc4-4013-bb9e-d7ba4c03fa91",
   "metadata": {},
   "outputs": [],
   "source": [
    "# s2r1"
   ]
  },
  {
   "cell_type": "code",
   "execution_count": null,
   "id": "ecfa5f41-717b-456d-b11a-704e8212bc5f",
   "metadata": {},
   "outputs": [],
   "source": []
  },
  {
   "cell_type": "code",
   "execution_count": 66,
   "id": "f3ea2e61-6454-479b-bbdd-c08c5a601fe6",
   "metadata": {},
   "outputs": [
    {
     "data": {
      "text/plain": [
       "{'vpt_3D_DAPI_PolyT_nuclei': {'assigned_count': np.int64(26380072),\n",
       "  'unassigned_count': np.int64(40296283),\n",
       "  'total_count': 66676355,\n",
       "  'pct_assigned': np.float64(39.56),\n",
       "  'dimension': '3d'}}"
      ]
     },
     "execution_count": 66,
     "metadata": {},
     "output_type": "execute_result"
    }
   ],
   "source": [
    "# boundaries_vpt_3D_DAPI_PolyT_nuclei\n",
    "assigned_transcripts_results"
   ]
  },
  {
   "cell_type": "code",
   "execution_count": 69,
   "id": "fec3b7ca-ddd6-449d-9170-90c988ce59c4",
   "metadata": {},
   "outputs": [
    {
     "data": {
      "text/plain": [
       "{'vpt_2D_DAPI_PolyT_nuclei': {'assigned_count': np.int64(8370793),\n",
       "  'unassigned_count': np.int64(2873316),\n",
       "  'total_count': 11244109,\n",
       "  'pct_assigned': np.float64(74.45),\n",
       "  'dimension': '2d'}}"
      ]
     },
     "execution_count": 69,
     "metadata": {},
     "output_type": "execute_result"
    }
   ],
   "source": [
    "# boundaries_vpt_2D_DAPI_PolyT_nuclei\n",
    "assigned_transcripts_results"
   ]
  },
  {
   "cell_type": "code",
   "execution_count": 72,
   "id": "49042e32-1f9c-42a2-800f-47fb6eac7b31",
   "metadata": {},
   "outputs": [
    {
     "data": {
      "text/plain": [
       "{'vpt_3D_DAPI_nuclei': {'assigned_count': np.int64(22369193),\n",
       "  'unassigned_count': np.int64(44307162),\n",
       "  'total_count': 66676355,\n",
       "  'pct_assigned': np.float64(33.55),\n",
       "  'dimension': '3d'}}"
      ]
     },
     "execution_count": 72,
     "metadata": {},
     "output_type": "execute_result"
    }
   ],
   "source": [
    "# boundaries_vpt_3D_DAPI_nuclei\n",
    "assigned_transcripts_results"
   ]
  },
  {
   "cell_type": "code",
   "execution_count": 75,
   "id": "af8fe497-31a1-4509-a7f1-70802fcd4021",
   "metadata": {},
   "outputs": [],
   "source": [
    "# Flatten to DataFrame\n",
    "df = pd.DataFrame.from_dict(assigned_transcripts_results, orient=\"index\")\n",
    "df.reset_index(inplace=True)\n",
    "df = df.rename(columns={\"index\": \"seg_method\"})"
   ]
  },
  {
   "cell_type": "code",
   "execution_count": 76,
   "id": "026c220f-64df-4a93-9fdf-bd3b615a9808",
   "metadata": {},
   "outputs": [
    {
     "data": {
      "text/html": [
       "<div>\n",
       "<style scoped>\n",
       "    .dataframe tbody tr th:only-of-type {\n",
       "        vertical-align: middle;\n",
       "    }\n",
       "\n",
       "    .dataframe tbody tr th {\n",
       "        vertical-align: top;\n",
       "    }\n",
       "\n",
       "    .dataframe thead th {\n",
       "        text-align: right;\n",
       "    }\n",
       "</style>\n",
       "<table border=\"1\" class=\"dataframe\">\n",
       "  <thead>\n",
       "    <tr style=\"text-align: right;\">\n",
       "      <th></th>\n",
       "      <th>seg_method</th>\n",
       "      <th>assigned_count</th>\n",
       "      <th>unassigned_count</th>\n",
       "      <th>total_count</th>\n",
       "      <th>pct_assigned</th>\n",
       "      <th>dimension</th>\n",
       "    </tr>\n",
       "  </thead>\n",
       "  <tbody>\n",
       "    <tr>\n",
       "      <th>0</th>\n",
       "      <td>vpt_3D_DAPI_nuclei</td>\n",
       "      <td>22369193</td>\n",
       "      <td>44307162</td>\n",
       "      <td>66676355</td>\n",
       "      <td>33.55</td>\n",
       "      <td>3d</td>\n",
       "    </tr>\n",
       "  </tbody>\n",
       "</table>\n",
       "</div>"
      ],
      "text/plain": [
       "           seg_method  assigned_count  unassigned_count  total_count  \\\n",
       "0  vpt_3D_DAPI_nuclei        22369193          44307162     66676355   \n",
       "\n",
       "   pct_assigned dimension  \n",
       "0         33.55        3d  "
      ]
     },
     "execution_count": 76,
     "metadata": {},
     "output_type": "execute_result"
    }
   ],
   "source": [
    "df"
   ]
  },
  {
   "cell_type": "code",
   "execution_count": null,
   "id": "5332054e-86dd-48f7-8f82-d8e1de8f659c",
   "metadata": {},
   "outputs": [],
   "source": []
  },
  {
   "cell_type": "code",
   "execution_count": null,
   "id": "27494f1b-04c9-4ab1-88b3-9aa12db049e6",
   "metadata": {},
   "outputs": [],
   "source": []
  },
  {
   "cell_type": "code",
   "execution_count": null,
   "id": "99864f1a-6555-490e-ba1f-8776d6c46a62",
   "metadata": {},
   "outputs": [],
   "source": []
  },
  {
   "cell_type": "code",
   "execution_count": 83,
   "id": "d5732612-845a-44d7-9690-92650456defa",
   "metadata": {},
   "outputs": [],
   "source": [
    "output_path = os.path.join(\n",
    "    data_dir, \"samples\", sample_name, \"misc\", \"assigned_transcripts_results.csv\"\n",
    ")\n",
    "os.makedirs(os.path.dirname(output_path), exist_ok=True)\n",
    "df.to_csv(output_path, index=False)"
   ]
  },
  {
   "cell_type": "code",
   "execution_count": null,
   "id": "bad4a122-58d8-470a-a07c-f0767de6dea8",
   "metadata": {},
   "outputs": [],
   "source": []
  },
  {
   "cell_type": "code",
   "execution_count": null,
   "id": "b3f33ee8-47ca-4024-9178-1aaab40a15a5",
   "metadata": {},
   "outputs": [],
   "source": []
  }
 ],
 "metadata": {
  "kernelspec": {
   "display_name": "Python 3 (ipykernel)",
   "language": "python",
   "name": "python3"
  },
  "language_info": {
   "codemirror_mode": {
    "name": "ipython",
    "version": 3
   },
   "file_extension": ".py",
   "mimetype": "text/x-python",
   "name": "python",
   "nbconvert_exporter": "python",
   "pygments_lexer": "ipython3",
   "version": "3.12.8"
  }
 },
 "nbformat": 4,
 "nbformat_minor": 5
}
