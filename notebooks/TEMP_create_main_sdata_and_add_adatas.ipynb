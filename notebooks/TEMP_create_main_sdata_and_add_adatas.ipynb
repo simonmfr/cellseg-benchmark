{
 "cells": [
  {
   "cell_type": "markdown",
   "id": "b95ba270",
   "metadata": {},
   "source": [
    "1. Load MERFISH output and export as spatialdata object.  \n",
    "Two approaches: sdata containing transcript table plus\n",
    "    1. images from z=3 plane\n",
    "    2. images from all z planes"
   ]
  },
  {
   "cell_type": "markdown",
   "id": "5bc5a1d5",
   "metadata": {},
   "source": [
    "2. Take boundaries and adata files from each segmentation approach and add to main sdata"
   ]
  },
  {
   "cell_type": "code",
   "execution_count": 1,
   "id": "dbaddce9",
   "metadata": {},
   "outputs": [
    {
     "name": "stderr",
     "output_type": "stream",
     "text": [
      "/dss/dsshome1/0C/ra98gaq/miniconda3/envs/sdata/lib/python3.11/site-packages/dask/dataframe/__init__.py:31: FutureWarning: The legacy Dask DataFrame implementation is deprecated and will be removed in a future version. Set the configuration option `dataframe.query-planning` to `True` or None to enable the new Dask Dataframe implementation and silence this warning.\n",
      "  warnings.warn(\n"
     ]
    }
   ],
   "source": [
    "import json\n",
    "import os\n",
    "\n",
    "import spatialdata as sd"
   ]
  },
  {
   "cell_type": "code",
   "execution_count": 2,
   "id": "edb45ec4-c306-4b78-9ea7-a6219f65e292",
   "metadata": {},
   "outputs": [
    {
     "name": "stderr",
     "output_type": "stream",
     "text": [
      "/dss/dsshome1/0C/ra98gaq/miniconda3/envs/sdata/lib/python3.11/site-packages/anndata/utils.py:429: FutureWarning: Importing read_text from `anndata` is deprecated. Import anndata.io.read_text instead.\n",
      "  warnings.warn(msg, FutureWarning)\n"
     ]
    }
   ],
   "source": [
    "import glob\n",
    "import os\n",
    "import re\n",
    "\n",
    "import spatialdata as sd\n",
    "import spatialdata_io"
   ]
  },
  {
   "cell_type": "code",
   "execution_count": 3,
   "id": "94c91893",
   "metadata": {},
   "outputs": [
    {
     "data": {
      "text/plain": [
       "<module 'src.sdata_utils' from '/home/src/sdata_utils.py'>"
      ]
     },
     "execution_count": 3,
     "metadata": {},
     "output_type": "execute_result"
    }
   ],
   "source": [
    "import sys\n",
    "\n",
    "sys.path.append(\"/home\")\n",
    "import src.sdata_utils as sdata_utils\n",
    "\n",
    "import importlib\n",
    "importlib.reload(sdata_utils)"
   ]
  },
  {
   "cell_type": "code",
   "execution_count": 4,
   "id": "65c02ca9",
   "metadata": {},
   "outputs": [
    {
     "name": "stdout",
     "output_type": "stream",
     "text": [
      "lrwxrwxrwx 1 ra98gaq pn52ra 53 Mar 12 17:01 /home/data -> /dss/dssfs03/pn52re/pn52re-dss-0001/cellseg-benchmark\n"
     ]
    }
   ],
   "source": [
    "data_dir = os.path.abspath(\"/home/data\")\n",
    "!ls -l $data_dir"
   ]
  },
  {
   "cell_type": "code",
   "execution_count": 5,
   "id": "923dd28f",
   "metadata": {},
   "outputs": [
    {
     "name": "stdout",
     "output_type": "stream",
     "text": [
      "lrwxrwxrwx 1 ra98gaq pn52ra 35 Mar 12 17:02 /home/archive -> /dss/dssfs03/pn52re/pn52re-dss-0000\n"
     ]
    }
   ],
   "source": [
    "archive_dir = os.path.abspath(\"/home/archive\")\n",
    "!ls -l $archive_dir"
   ]
  },
  {
   "cell_type": "code",
   "execution_count": 6,
   "id": "d5312ea7",
   "metadata": {},
   "outputs": [],
   "source": [
    "with open(os.path.join(data_dir, \"sample_paths.json\")) as file:\n",
    "    sample_paths = json.load(file)"
   ]
  },
  {
   "cell_type": "markdown",
   "id": "1de1daf0",
   "metadata": {},
   "source": [
    "# Create main sdata (transcripts and images only)"
   ]
  },
  {
   "cell_type": "code",
   "execution_count": 7,
   "id": "b89da472",
   "metadata": {},
   "outputs": [],
   "source": [
    "#!rm -r \"{data_dir}/samples/foxf2_s2_r1/sdata_z3.zarr\""
   ]
  },
  {
   "cell_type": "code",
   "execution_count": 15,
   "id": "17733c1e-4a63-4a7b-ba36-8642d440a9c9",
   "metadata": {},
   "outputs": [],
   "source": [
    "def process_merscope(sample_name, sdata_file, sample_paths, zmode):\n",
    "    \"\"\"Load and save a MERSCOPE sample as sdata with specified z_layers configuration. Only loads transcripts and mosaic_images.\"\"\"\n",
    "\n",
    "    if zmode not in {\"z3\", \"3d\"}:\n",
    "        raise ValueError(f\"Invalid zmode: {zmode}\")\n",
    "    if os.path.exists(sdata_file):\n",
    "        print(f\"Skipping {sample_name}: {zmode} file already exists\")\n",
    "        return\n",
    "    sdata = spatialdata_io.merscope(\n",
    "        sample_paths[sample_name],\n",
    "        z_layers=3 if zmode == \"z3\" else range(7),\n",
    "        backend=None,\n",
    "        cells_boundaries=False,\n",
    "        cells_table=False,\n",
    "        mosaic_images=False,\n",
    "        transcripts=True,\n",
    "        slide_name=\"_\".join(sample_name.split(\"_\")[:2]),\n",
    "        region_name=sample_name.split(\"_\")[2],\n",
    "    )\n",
    "    os.makedirs(os.path.dirname(sdata_file), exist_ok=True)\n",
    "    sdata.write(sdata_file, overwrite=False)"
   ]
  },
  {
   "cell_type": "code",
   "execution_count": null,
   "id": "74750234-a3c8-4a2f-b332-eb7db3f45f31",
   "metadata": {},
   "outputs": [],
   "source": [
    "# sample foxf2_s2_r1 (z3 and 3d)\n",
    "sample_name = \"foxf2_s2_r1\"\n",
    "for zmode in [\"z3\", \"3d\"]:\n",
    "    sdata_utils.process_merscope(sample_name, \n",
    "                                 sdata_file = os.path.join(data_dir, \"samples\", sample_name, f\"sdata_{zmode}_temp_SF.zarr\"),\n",
    "                                 sample_paths = sample_paths, \n",
    "                                 zmode = zmode\n",
    "                                )"
   ]
  },
  {
   "cell_type": "code",
   "execution_count": 19,
   "id": "3e158309",
   "metadata": {
    "scrolled": true
   },
   "outputs": [
    {
     "name": "stdout",
     "output_type": "stream",
     "text": [
      "Processing foxf2_s1_r0\n",
      "\u001b[34mINFO    \u001b[0m The column \u001b[32m\"global_x\"\u001b[0m has now been renamed to \u001b[32m\"x\"\u001b[0m; the column \u001b[32m\"x\"\u001b[0m was already present in the dataframe,   \n",
      "         and will be dropped.                                                                                      \n",
      "\u001b[34mINFO    \u001b[0m The column \u001b[32m\"global_y\"\u001b[0m has now been renamed to \u001b[32m\"y\"\u001b[0m; the column \u001b[32m\"y\"\u001b[0m was already present in the dataframe,   \n",
      "         and will be dropped.                                                                                      \n"
     ]
    },
    {
     "name": "stderr",
     "output_type": "stream",
     "text": [
      "/dss/dsshome1/0C/ra98gaq/miniconda3/envs/sdata/lib/python3.11/functools.py:946: UserWarning: The index of the dataframe is not monotonic increasing. It is recommended to sort the data to adjust the order of the index before calling .parse() (or call `parse(sort=True)`) to avoid possible problems due to unknown divisions.\n",
      "  return method.__get__(obj, cls)(*args, **kwargs)\n"
     ]
    },
    {
     "name": "stdout",
     "output_type": "stream",
     "text": [
      "\u001b[34mINFO    \u001b[0m The Zarr backing store has been changed from \u001b[3;35mNone\u001b[0m the new file path:                                      \n",
      "         \u001b[35m/home/data/samples/foxf2_s1_r0/\u001b[0m\u001b[95msdata_z3_temp_SF.zarr\u001b[0m                                                      \n",
      "Processing foxf2_s1_r1\n",
      "\u001b[34mINFO    \u001b[0m The column \u001b[32m\"global_x\"\u001b[0m has now been renamed to \u001b[32m\"x\"\u001b[0m; the column \u001b[32m\"x\"\u001b[0m was already present in the dataframe,   \n",
      "         and will be dropped.                                                                                      \n",
      "\u001b[34mINFO    \u001b[0m The column \u001b[32m\"global_y\"\u001b[0m has now been renamed to \u001b[32m\"y\"\u001b[0m; the column \u001b[32m\"y\"\u001b[0m was already present in the dataframe,   \n",
      "         and will be dropped.                                                                                      \n"
     ]
    },
    {
     "name": "stderr",
     "output_type": "stream",
     "text": [
      "/dss/dsshome1/0C/ra98gaq/miniconda3/envs/sdata/lib/python3.11/functools.py:946: UserWarning: The index of the dataframe is not monotonic increasing. It is recommended to sort the data to adjust the order of the index before calling .parse() (or call `parse(sort=True)`) to avoid possible problems due to unknown divisions.\n",
      "  return method.__get__(obj, cls)(*args, **kwargs)\n"
     ]
    },
    {
     "name": "stdout",
     "output_type": "stream",
     "text": [
      "\u001b[34mINFO    \u001b[0m The Zarr backing store has been changed from \u001b[3;35mNone\u001b[0m the new file path:                                      \n",
      "         \u001b[35m/home/data/samples/foxf2_s1_r1/\u001b[0m\u001b[95msdata_z3_temp_SF.zarr\u001b[0m                                                      \n",
      "Processing foxf2_s2_r1\n",
      "\u001b[34mINFO    \u001b[0m The column \u001b[32m\"global_x\"\u001b[0m has now been renamed to \u001b[32m\"x\"\u001b[0m; the column \u001b[32m\"x\"\u001b[0m was already present in the dataframe,   \n",
      "         and will be dropped.                                                                                      \n",
      "\u001b[34mINFO    \u001b[0m The column \u001b[32m\"global_y\"\u001b[0m has now been renamed to \u001b[32m\"y\"\u001b[0m; the column \u001b[32m\"y\"\u001b[0m was already present in the dataframe,   \n",
      "         and will be dropped.                                                                                      \n"
     ]
    },
    {
     "name": "stderr",
     "output_type": "stream",
     "text": [
      "/dss/dsshome1/0C/ra98gaq/miniconda3/envs/sdata/lib/python3.11/functools.py:946: UserWarning: The index of the dataframe is not monotonic increasing. It is recommended to sort the data to adjust the order of the index before calling .parse() (or call `parse(sort=True)`) to avoid possible problems due to unknown divisions.\n",
      "  return method.__get__(obj, cls)(*args, **kwargs)\n"
     ]
    },
    {
     "name": "stdout",
     "output_type": "stream",
     "text": [
      "\u001b[34mINFO    \u001b[0m The Zarr backing store has been changed from \u001b[3;35mNone\u001b[0m the new file path:                                      \n",
      "         \u001b[35m/home/data/samples/foxf2_s2_r1/\u001b[0m\u001b[95msdata_z3_temp_SF.zarr\u001b[0m                                                      \n",
      "Processing foxf2_s2_r2\n",
      "\u001b[34mINFO    \u001b[0m The column \u001b[32m\"global_x\"\u001b[0m has now been renamed to \u001b[32m\"x\"\u001b[0m; the column \u001b[32m\"x\"\u001b[0m was already present in the dataframe,   \n",
      "         and will be dropped.                                                                                      \n",
      "\u001b[34mINFO    \u001b[0m The column \u001b[32m\"global_y\"\u001b[0m has now been renamed to \u001b[32m\"y\"\u001b[0m; the column \u001b[32m\"y\"\u001b[0m was already present in the dataframe,   \n",
      "         and will be dropped.                                                                                      \n"
     ]
    },
    {
     "name": "stderr",
     "output_type": "stream",
     "text": [
      "/dss/dsshome1/0C/ra98gaq/miniconda3/envs/sdata/lib/python3.11/functools.py:946: UserWarning: The index of the dataframe is not monotonic increasing. It is recommended to sort the data to adjust the order of the index before calling .parse() (or call `parse(sort=True)`) to avoid possible problems due to unknown divisions.\n",
      "  return method.__get__(obj, cls)(*args, **kwargs)\n"
     ]
    },
    {
     "name": "stdout",
     "output_type": "stream",
     "text": [
      "\u001b[34mINFO    \u001b[0m The Zarr backing store has been changed from \u001b[3;35mNone\u001b[0m the new file path:                                      \n",
      "         \u001b[35m/home/data/samples/foxf2_s2_r2/\u001b[0m\u001b[95msdata_z3_temp_SF.zarr\u001b[0m                                                      \n",
      "Processing foxf2_s3_r0\n",
      "\u001b[34mINFO    \u001b[0m The column \u001b[32m\"global_x\"\u001b[0m has now been renamed to \u001b[32m\"x\"\u001b[0m; the column \u001b[32m\"x\"\u001b[0m was already present in the dataframe,   \n",
      "         and will be dropped.                                                                                      \n",
      "\u001b[34mINFO    \u001b[0m The column \u001b[32m\"global_y\"\u001b[0m has now been renamed to \u001b[32m\"y\"\u001b[0m; the column \u001b[32m\"y\"\u001b[0m was already present in the dataframe,   \n",
      "         and will be dropped.                                                                                      \n"
     ]
    },
    {
     "name": "stderr",
     "output_type": "stream",
     "text": [
      "/dss/dsshome1/0C/ra98gaq/miniconda3/envs/sdata/lib/python3.11/functools.py:946: UserWarning: The index of the dataframe is not monotonic increasing. It is recommended to sort the data to adjust the order of the index before calling .parse() (or call `parse(sort=True)`) to avoid possible problems due to unknown divisions.\n",
      "  return method.__get__(obj, cls)(*args, **kwargs)\n"
     ]
    },
    {
     "name": "stdout",
     "output_type": "stream",
     "text": [
      "\u001b[34mINFO    \u001b[0m The Zarr backing store has been changed from \u001b[3;35mNone\u001b[0m the new file path:                                      \n",
      "         \u001b[35m/home/data/samples/foxf2_s3_r0/\u001b[0m\u001b[95msdata_z3_temp_SF.zarr\u001b[0m                                                      \n",
      "Processing foxf2_s3_r1\n",
      "\u001b[34mINFO    \u001b[0m The column \u001b[32m\"global_x\"\u001b[0m has now been renamed to \u001b[32m\"x\"\u001b[0m; the column \u001b[32m\"x\"\u001b[0m was already present in the dataframe,   \n",
      "         and will be dropped.                                                                                      \n",
      "\u001b[34mINFO    \u001b[0m The column \u001b[32m\"global_y\"\u001b[0m has now been renamed to \u001b[32m\"y\"\u001b[0m; the column \u001b[32m\"y\"\u001b[0m was already present in the dataframe,   \n",
      "         and will be dropped.                                                                                      \n"
     ]
    },
    {
     "name": "stderr",
     "output_type": "stream",
     "text": [
      "/dss/dsshome1/0C/ra98gaq/miniconda3/envs/sdata/lib/python3.11/functools.py:946: UserWarning: The index of the dataframe is not monotonic increasing. It is recommended to sort the data to adjust the order of the index before calling .parse() (or call `parse(sort=True)`) to avoid possible problems due to unknown divisions.\n",
      "  return method.__get__(obj, cls)(*args, **kwargs)\n"
     ]
    },
    {
     "name": "stdout",
     "output_type": "stream",
     "text": [
      "\u001b[34mINFO    \u001b[0m The Zarr backing store has been changed from \u001b[3;35mNone\u001b[0m the new file path:                                      \n",
      "         \u001b[35m/home/data/samples/foxf2_s3_r1/\u001b[0m\u001b[95msdata_z3_temp_SF.zarr\u001b[0m                                                      \n",
      "Processing foxf2_s4_r0\n",
      "\u001b[34mINFO    \u001b[0m The column \u001b[32m\"global_x\"\u001b[0m has now been renamed to \u001b[32m\"x\"\u001b[0m; the column \u001b[32m\"x\"\u001b[0m was already present in the dataframe,   \n",
      "         and will be dropped.                                                                                      \n",
      "\u001b[34mINFO    \u001b[0m The column \u001b[32m\"global_y\"\u001b[0m has now been renamed to \u001b[32m\"y\"\u001b[0m; the column \u001b[32m\"y\"\u001b[0m was already present in the dataframe,   \n",
      "         and will be dropped.                                                                                      \n"
     ]
    },
    {
     "name": "stderr",
     "output_type": "stream",
     "text": [
      "/dss/dsshome1/0C/ra98gaq/miniconda3/envs/sdata/lib/python3.11/functools.py:946: UserWarning: The index of the dataframe is not monotonic increasing. It is recommended to sort the data to adjust the order of the index before calling .parse() (or call `parse(sort=True)`) to avoid possible problems due to unknown divisions.\n",
      "  return method.__get__(obj, cls)(*args, **kwargs)\n"
     ]
    },
    {
     "name": "stdout",
     "output_type": "stream",
     "text": [
      "\u001b[34mINFO    \u001b[0m The Zarr backing store has been changed from \u001b[3;35mNone\u001b[0m the new file path:                                      \n",
      "         \u001b[35m/home/data/samples/foxf2_s4_r0/\u001b[0m\u001b[95msdata_z3_temp_SF.zarr\u001b[0m                                                      \n",
      "Processing foxf2_s4_r1\n",
      "\u001b[34mINFO    \u001b[0m The column \u001b[32m\"global_x\"\u001b[0m has now been renamed to \u001b[32m\"x\"\u001b[0m; the column \u001b[32m\"x\"\u001b[0m was already present in the dataframe,   \n",
      "         and will be dropped.                                                                                      \n",
      "\u001b[34mINFO    \u001b[0m The column \u001b[32m\"global_y\"\u001b[0m has now been renamed to \u001b[32m\"y\"\u001b[0m; the column \u001b[32m\"y\"\u001b[0m was already present in the dataframe,   \n",
      "         and will be dropped.                                                                                      \n"
     ]
    },
    {
     "name": "stderr",
     "output_type": "stream",
     "text": [
      "/dss/dsshome1/0C/ra98gaq/miniconda3/envs/sdata/lib/python3.11/functools.py:946: UserWarning: The index of the dataframe is not monotonic increasing. It is recommended to sort the data to adjust the order of the index before calling .parse() (or call `parse(sort=True)`) to avoid possible problems due to unknown divisions.\n",
      "  return method.__get__(obj, cls)(*args, **kwargs)\n"
     ]
    },
    {
     "name": "stdout",
     "output_type": "stream",
     "text": [
      "\u001b[34mINFO    \u001b[0m The Zarr backing store has been changed from \u001b[3;35mNone\u001b[0m the new file path:                                      \n",
      "         \u001b[35m/home/data/samples/foxf2_s4_r1/\u001b[0m\u001b[95msdata_z3_temp_SF.zarr\u001b[0m                                                      \n",
      "Processing foxf2_s5_r0\n",
      "\u001b[34mINFO    \u001b[0m The column \u001b[32m\"global_x\"\u001b[0m has now been renamed to \u001b[32m\"x\"\u001b[0m; the column \u001b[32m\"x\"\u001b[0m was already present in the dataframe,   \n",
      "         and will be dropped.                                                                                      \n",
      "\u001b[34mINFO    \u001b[0m The column \u001b[32m\"global_y\"\u001b[0m has now been renamed to \u001b[32m\"y\"\u001b[0m; the column \u001b[32m\"y\"\u001b[0m was already present in the dataframe,   \n",
      "         and will be dropped.                                                                                      \n"
     ]
    },
    {
     "name": "stderr",
     "output_type": "stream",
     "text": [
      "/dss/dsshome1/0C/ra98gaq/miniconda3/envs/sdata/lib/python3.11/functools.py:946: UserWarning: The index of the dataframe is not monotonic increasing. It is recommended to sort the data to adjust the order of the index before calling .parse() (or call `parse(sort=True)`) to avoid possible problems due to unknown divisions.\n",
      "  return method.__get__(obj, cls)(*args, **kwargs)\n"
     ]
    },
    {
     "name": "stdout",
     "output_type": "stream",
     "text": [
      "\u001b[34mINFO    \u001b[0m The Zarr backing store has been changed from \u001b[3;35mNone\u001b[0m the new file path:                                      \n",
      "         \u001b[35m/home/data/samples/foxf2_s5_r0/\u001b[0m\u001b[95msdata_z3_temp_SF.zarr\u001b[0m                                                      \n",
      "Processing foxf2_s5_r1\n",
      "\u001b[34mINFO    \u001b[0m The column \u001b[32m\"global_x\"\u001b[0m has now been renamed to \u001b[32m\"x\"\u001b[0m; the column \u001b[32m\"x\"\u001b[0m was already present in the dataframe,   \n",
      "         and will be dropped.                                                                                      \n",
      "\u001b[34mINFO    \u001b[0m The column \u001b[32m\"global_y\"\u001b[0m has now been renamed to \u001b[32m\"y\"\u001b[0m; the column \u001b[32m\"y\"\u001b[0m was already present in the dataframe,   \n",
      "         and will be dropped.                                                                                      \n"
     ]
    },
    {
     "name": "stderr",
     "output_type": "stream",
     "text": [
      "/dss/dsshome1/0C/ra98gaq/miniconda3/envs/sdata/lib/python3.11/functools.py:946: UserWarning: The index of the dataframe is not monotonic increasing. It is recommended to sort the data to adjust the order of the index before calling .parse() (or call `parse(sort=True)`) to avoid possible problems due to unknown divisions.\n",
      "  return method.__get__(obj, cls)(*args, **kwargs)\n"
     ]
    },
    {
     "name": "stdout",
     "output_type": "stream",
     "text": [
      "\u001b[34mINFO    \u001b[0m The Zarr backing store has been changed from \u001b[3;35mNone\u001b[0m the new file path:                                      \n",
      "         \u001b[35m/home/data/samples/foxf2_s5_r1/\u001b[0m\u001b[95msdata_z3_temp_SF.zarr\u001b[0m                                                      \n",
      "Processing foxf2_s6_r0\n",
      "\u001b[34mINFO    \u001b[0m The column \u001b[32m\"global_x\"\u001b[0m has now been renamed to \u001b[32m\"x\"\u001b[0m; the column \u001b[32m\"x\"\u001b[0m was already present in the dataframe,   \n",
      "         and will be dropped.                                                                                      \n",
      "\u001b[34mINFO    \u001b[0m The column \u001b[32m\"global_y\"\u001b[0m has now been renamed to \u001b[32m\"y\"\u001b[0m; the column \u001b[32m\"y\"\u001b[0m was already present in the dataframe,   \n",
      "         and will be dropped.                                                                                      \n"
     ]
    },
    {
     "name": "stderr",
     "output_type": "stream",
     "text": [
      "/dss/dsshome1/0C/ra98gaq/miniconda3/envs/sdata/lib/python3.11/functools.py:946: UserWarning: The index of the dataframe is not monotonic increasing. It is recommended to sort the data to adjust the order of the index before calling .parse() (or call `parse(sort=True)`) to avoid possible problems due to unknown divisions.\n",
      "  return method.__get__(obj, cls)(*args, **kwargs)\n"
     ]
    },
    {
     "name": "stdout",
     "output_type": "stream",
     "text": [
      "\u001b[34mINFO    \u001b[0m The Zarr backing store has been changed from \u001b[3;35mNone\u001b[0m the new file path:                                      \n",
      "         \u001b[35m/home/data/samples/foxf2_s6_r0/\u001b[0m\u001b[95msdata_z3_temp_SF.zarr\u001b[0m                                                      \n",
      "Processing foxf2_s6_r1\n",
      "\u001b[34mINFO    \u001b[0m The column \u001b[32m\"global_x\"\u001b[0m has now been renamed to \u001b[32m\"x\"\u001b[0m; the column \u001b[32m\"x\"\u001b[0m was already present in the dataframe,   \n",
      "         and will be dropped.                                                                                      \n",
      "\u001b[34mINFO    \u001b[0m The column \u001b[32m\"global_y\"\u001b[0m has now been renamed to \u001b[32m\"y\"\u001b[0m; the column \u001b[32m\"y\"\u001b[0m was already present in the dataframe,   \n",
      "         and will be dropped.                                                                                      \n"
     ]
    },
    {
     "name": "stderr",
     "output_type": "stream",
     "text": [
      "/dss/dsshome1/0C/ra98gaq/miniconda3/envs/sdata/lib/python3.11/functools.py:946: UserWarning: The index of the dataframe is not monotonic increasing. It is recommended to sort the data to adjust the order of the index before calling .parse() (or call `parse(sort=True)`) to avoid possible problems due to unknown divisions.\n",
      "  return method.__get__(obj, cls)(*args, **kwargs)\n"
     ]
    },
    {
     "name": "stdout",
     "output_type": "stream",
     "text": [
      "\u001b[34mINFO    \u001b[0m The Zarr backing store has been changed from \u001b[3;35mNone\u001b[0m the new file path:                                      \n",
      "         \u001b[35m/home/data/samples/foxf2_s6_r1/\u001b[0m\u001b[95msdata_z3_temp_SF.zarr\u001b[0m                                                      \n",
      "Processing foxf2_s6_r2\n",
      "\u001b[34mINFO    \u001b[0m The column \u001b[32m\"global_x\"\u001b[0m has now been renamed to \u001b[32m\"x\"\u001b[0m; the column \u001b[32m\"x\"\u001b[0m was already present in the dataframe,   \n",
      "         and will be dropped.                                                                                      \n",
      "\u001b[34mINFO    \u001b[0m The column \u001b[32m\"global_y\"\u001b[0m has now been renamed to \u001b[32m\"y\"\u001b[0m; the column \u001b[32m\"y\"\u001b[0m was already present in the dataframe,   \n",
      "         and will be dropped.                                                                                      \n"
     ]
    },
    {
     "name": "stderr",
     "output_type": "stream",
     "text": [
      "/dss/dsshome1/0C/ra98gaq/miniconda3/envs/sdata/lib/python3.11/functools.py:946: UserWarning: The index of the dataframe is not monotonic increasing. It is recommended to sort the data to adjust the order of the index before calling .parse() (or call `parse(sort=True)`) to avoid possible problems due to unknown divisions.\n",
      "  return method.__get__(obj, cls)(*args, **kwargs)\n"
     ]
    },
    {
     "name": "stdout",
     "output_type": "stream",
     "text": [
      "\u001b[34mINFO    \u001b[0m The Zarr backing store has been changed from \u001b[3;35mNone\u001b[0m the new file path:                                      \n",
      "         \u001b[35m/home/data/samples/foxf2_s6_r2/\u001b[0m\u001b[95msdata_z3_temp_SF.zarr\u001b[0m                                                      \n",
      "Processing foxf2_s7_r0\n",
      "\u001b[34mINFO    \u001b[0m The column \u001b[32m\"global_x\"\u001b[0m has now been renamed to \u001b[32m\"x\"\u001b[0m; the column \u001b[32m\"x\"\u001b[0m was already present in the dataframe,   \n",
      "         and will be dropped.                                                                                      \n",
      "\u001b[34mINFO    \u001b[0m The column \u001b[32m\"global_y\"\u001b[0m has now been renamed to \u001b[32m\"y\"\u001b[0m; the column \u001b[32m\"y\"\u001b[0m was already present in the dataframe,   \n",
      "         and will be dropped.                                                                                      \n"
     ]
    },
    {
     "name": "stderr",
     "output_type": "stream",
     "text": [
      "/dss/dsshome1/0C/ra98gaq/miniconda3/envs/sdata/lib/python3.11/functools.py:946: UserWarning: The index of the dataframe is not monotonic increasing. It is recommended to sort the data to adjust the order of the index before calling .parse() (or call `parse(sort=True)`) to avoid possible problems due to unknown divisions.\n",
      "  return method.__get__(obj, cls)(*args, **kwargs)\n"
     ]
    },
    {
     "name": "stdout",
     "output_type": "stream",
     "text": [
      "\u001b[34mINFO    \u001b[0m The Zarr backing store has been changed from \u001b[3;35mNone\u001b[0m the new file path:                                      \n",
      "         \u001b[35m/home/data/samples/foxf2_s7_r0/\u001b[0m\u001b[95msdata_z3_temp_SF.zarr\u001b[0m                                                      \n",
      "Processing foxf2_s7_r1\n",
      "\u001b[34mINFO    \u001b[0m The column \u001b[32m\"global_x\"\u001b[0m has now been renamed to \u001b[32m\"x\"\u001b[0m; the column \u001b[32m\"x\"\u001b[0m was already present in the dataframe,   \n",
      "         and will be dropped.                                                                                      \n",
      "\u001b[34mINFO    \u001b[0m The column \u001b[32m\"global_y\"\u001b[0m has now been renamed to \u001b[32m\"y\"\u001b[0m; the column \u001b[32m\"y\"\u001b[0m was already present in the dataframe,   \n",
      "         and will be dropped.                                                                                      \n"
     ]
    },
    {
     "name": "stderr",
     "output_type": "stream",
     "text": [
      "/dss/dsshome1/0C/ra98gaq/miniconda3/envs/sdata/lib/python3.11/functools.py:946: UserWarning: The index of the dataframe is not monotonic increasing. It is recommended to sort the data to adjust the order of the index before calling .parse() (or call `parse(sort=True)`) to avoid possible problems due to unknown divisions.\n",
      "  return method.__get__(obj, cls)(*args, **kwargs)\n"
     ]
    },
    {
     "name": "stdout",
     "output_type": "stream",
     "text": [
      "\u001b[34mINFO    \u001b[0m The Zarr backing store has been changed from \u001b[3;35mNone\u001b[0m the new file path:                                      \n",
      "         \u001b[35m/home/data/samples/foxf2_s7_r1/\u001b[0m\u001b[95msdata_z3_temp_SF.zarr\u001b[0m                                                      \n"
     ]
    }
   ],
   "source": [
    "# all samples (z3 only)\n",
    "zmodes = [\"z3\"]\n",
    "for sample_name in sample_paths.keys():\n",
    "    print(\"/nProcessing \"+sample_name)\n",
    "    for zmode in zmodes:\n",
    "        process_merscope(sample_name, \n",
    "                         sdata_file = os.path.join(data_dir, \"samples\", sample_name, f\"sdata_{zmode}_temp_SF.zarr\"),\n",
    "                         sample_paths = sample_paths, \n",
    "                         zmode = zmode\n",
    "                        )"
   ]
  },
  {
   "cell_type": "markdown",
   "id": "158e9773",
   "metadata": {},
   "source": [
    "# Add data from segmentation outputs: shapes and adatas"
   ]
  },
  {
   "cell_type": "code",
   "execution_count": 7,
   "id": "c1044b0c",
   "metadata": {},
   "outputs": [],
   "source": [
    "sample_name = \"foxf2_s2_r1\""
   ]
  },
  {
   "cell_type": "code",
   "execution_count": 8,
   "id": "956d1419",
   "metadata": {},
   "outputs": [
    {
     "name": "stderr",
     "output_type": "stream",
     "text": [
      "/dss/dsshome1/0C/ra98gaq/miniconda3/envs/sdata/lib/python3.11/site-packages/spatialdata/_core/spatialdata.py:185: UserWarning: The table is annotating 'baysor_boundaries', which is not present in the SpatialData object.\n",
      "  self.validate_table_in_spatialdata(v)\n",
      "/dss/dsshome1/0C/ra98gaq/miniconda3/envs/sdata/lib/python3.11/site-packages/spatialdata/_core/spatialdata.py:185: UserWarning: The table is annotating 'cellpose_boundaries', which is not present in the SpatialData object.\n",
      "  self.validate_table_in_spatialdata(v)\n",
      "/dss/dsshome1/0C/ra98gaq/miniconda3/envs/sdata/lib/python3.11/site-packages/spatialdata/_core/spatialdata.py:185: UserWarning: The table is annotating '20240322_Foxf2-Slide02-cp-WT-PCKO_region_1-WT536_polygons', which is not present in the SpatialData object.\n",
      "  self.validate_table_in_spatialdata(v)\n",
      "/dss/dsshome1/0C/ra98gaq/miniconda3/envs/sdata/lib/python3.11/site-packages/spatialdata/_core/spatialdata.py:185: UserWarning: The table is annotating 'comseg_boundaries', which is not present in the SpatialData object.\n",
      "  self.validate_table_in_spatialdata(v)\n",
      "/dss/dsshome1/0C/ra98gaq/miniconda3/envs/sdata/lib/python3.11/site-packages/spatialdata/_core/spatialdata.py:185: UserWarning: The table is annotating 'foxf2_s2_r1_polygons', which is not present in the SpatialData object.\n",
      "  self.validate_table_in_spatialdata(v)\n",
      "/dss/dsshome1/0C/ra98gaq/miniconda3/envs/sdata/lib/python3.11/site-packages/spatialdata/_core/spatialdata.py:185: UserWarning: The table is annotating 'image_patches', which is not present in the SpatialData object.\n",
      "  self.validate_table_in_spatialdata(v)\n",
      "/dss/dsshome1/0C/ra98gaq/miniconda3/envs/sdata/lib/python3.11/site-packages/spatialdata/_core/spatialdata.py:185: UserWarning: The table is annotating 'proseg_boundaries', which is not present in the SpatialData object.\n",
      "  self.validate_table_in_spatialdata(v)\n"
     ]
    }
   ],
   "source": [
    "# load main sdata\n",
    "sdata_path = os.path.join(data_dir, \"samples\", sample_name, \"sdata_z3_temp_SF.zarr\")\n",
    "if \"sdata_main\" not in locals():\n",
    "    sdata_main = sd.read_zarr(sdata_path)"
   ]
  },
  {
   "cell_type": "code",
   "execution_count": 9,
   "id": "1d998e4c",
   "metadata": {},
   "outputs": [
    {
     "data": {
      "text/plain": [
       "SpatialData object, with associated Zarr store: /dss/dssfs03/pn52re/pn52re-dss-0001/cellseg-benchmark/samples/foxf2_s2_r1/sdata_z3_temp_SF.zarr\n",
       "├── Points\n",
       "│     └── 'foxf2_s2_r1_transcripts': DataFrame with shape: (<Delayed>, 9) (2D points)\n",
       "├── Shapes\n",
       "│     ├── 'boundaries_Baysor_2D_Cellpose_1_DAPI_PolyT_0.2': GeoDataFrame shape: (181678, 1) (2D shapes)\n",
       "│     ├── 'boundaries_Baysor_2D_Cellpose_1_DAPI_PolyT_0.8': GeoDataFrame shape: (164856, 1) (2D shapes)\n",
       "│     ├── 'boundaries_Baysor_2D_Cellpose_1_DAPI_Transcripts_0.2': GeoDataFrame shape: (174569, 1) (2D shapes)\n",
       "│     ├── 'boundaries_Baysor_2D_Cellpose_1_DAPI_Transcripts_0.8': GeoDataFrame shape: (151323, 1) (2D shapes)\n",
       "│     ├── 'boundaries_Baysor_2D_Cellpose_1_nuclei_model_1.0': GeoDataFrame shape: (180656, 1) (2D shapes)\n",
       "│     ├── 'boundaries_Baysor_2D_Cellpose_2_DAPI_PolyT_0.2': GeoDataFrame shape: (174102, 1) (2D shapes)\n",
       "│     ├── 'boundaries_Baysor_2D_Cellpose_2_DAPI_PolyT_0.8': GeoDataFrame shape: (150218, 1) (2D shapes)\n",
       "│     ├── 'boundaries_Baysor_2D_Cellpose_2_DAPI_Transcripts_0.2': GeoDataFrame shape: (173855, 1) (2D shapes)\n",
       "│     ├── 'boundaries_Baysor_2D_Cellpose_2_DAPI_Transcripts_0.8': GeoDataFrame shape: (151895, 1) (2D shapes)\n",
       "│     ├── 'boundaries_Baysor_3D': GeoDataFrame shape: (149500, 1) (2D shapes)\n",
       "│     ├── 'boundaries_Cellpose_1_DAPI_PolyT': GeoDataFrame shape: (52521, 1) (2D shapes)\n",
       "│     ├── 'boundaries_Cellpose_1_DAPI_Transcripts': GeoDataFrame shape: (108387, 1) (2D shapes)\n",
       "│     ├── 'boundaries_Cellpose_1_nuclei_model': GeoDataFrame shape: (47686, 1) (2D shapes)\n",
       "│     ├── 'boundaries_Cellpose_2_DAPI_PolyT': GeoDataFrame shape: (84719, 1) (2D shapes)\n",
       "│     ├── 'boundaries_Cellpose_2_DAPI_Transcripts': GeoDataFrame shape: (108422, 1) (2D shapes)\n",
       "│     ├── 'boundaries_ComSeg': GeoDataFrame shape: (48178, 1) (2D shapes)\n",
       "│     ├── 'boundaries_Ficture': GeoDataFrame shape: (87915, 2) (2D shapes)\n",
       "│     ├── 'boundaries_Negative_Control_Rastered_5': GeoDataFrame shape: (1380358, 3) (2D shapes)\n",
       "│     ├── 'boundaries_Negative_Control_Rastered_10': GeoDataFrame shape: (345435, 3) (2D shapes)\n",
       "│     ├── 'boundaries_Negative_Control_Rastered_25': GeoDataFrame shape: (55379, 3) (2D shapes)\n",
       "│     ├── 'boundaries_Negative_Control_Voronoi': GeoDataFrame shape: (82568, 1) (2D shapes)\n",
       "│     ├── 'boundaries_Proseg_Cellpose_1_DAPI_PolyT': GeoDataFrame shape: (52420, 1) (2D shapes)\n",
       "│     ├── 'boundaries_Proseg_Cellpose_1_DAPI_Transcripts': GeoDataFrame shape: (107872, 1) (2D shapes)\n",
       "│     ├── 'boundaries_Proseg_Cellpose_1_nuclei_model': GeoDataFrame shape: (47626, 1) (2D shapes)\n",
       "│     ├── 'boundaries_Proseg_Cellpose_2_DAPI_PolyT': GeoDataFrame shape: (84556, 1) (2D shapes)\n",
       "│     ├── 'boundaries_Proseg_Cellpose_2_DAPI_Transcripts': GeoDataFrame shape: (107092, 1) (2D shapes)\n",
       "│     └── 'boundaries_Proseg_pure': GeoDataFrame shape: (74874, 1) (2D shapes)\n",
       "└── Tables\n",
       "      ├── 'adata_Baysor_2D_Cellpose_1_DAPI_PolyT_0.2': AnnData (181678, 500)\n",
       "      ├── 'adata_Baysor_2D_Cellpose_1_DAPI_PolyT_0.8': AnnData (164856, 500)\n",
       "      ├── 'adata_Baysor_2D_Cellpose_1_DAPI_Transcripts_0.2': AnnData (174569, 500)\n",
       "      ├── 'adata_Baysor_2D_Cellpose_1_DAPI_Transcripts_0.8': AnnData (151323, 500)\n",
       "      ├── 'adata_Baysor_2D_Cellpose_1_nuclei_model_1.0': AnnData (180656, 500)\n",
       "      ├── 'adata_Baysor_2D_Cellpose_2_DAPI_PolyT_0.2': AnnData (174102, 500)\n",
       "      ├── 'adata_Baysor_2D_Cellpose_2_DAPI_PolyT_0.8': AnnData (150218, 500)\n",
       "      ├── 'adata_Baysor_2D_Cellpose_2_DAPI_Transcripts_0.2': AnnData (173855, 500)\n",
       "      ├── 'adata_Baysor_2D_Cellpose_2_DAPI_Transcripts_0.8': AnnData (151895, 500)\n",
       "      ├── 'adata_Baysor_3D': AnnData (149500, 550)\n",
       "      ├── 'adata_Cellpose_1_DAPI_PolyT': AnnData (52521, 500)\n",
       "      ├── 'adata_Cellpose_1_DAPI_Transcripts': AnnData (108387, 500)\n",
       "      ├── 'adata_Cellpose_1_Merlin': AnnData (107013, 500)\n",
       "      ├── 'adata_Cellpose_1_nuclei_model': AnnData (47686, 500)\n",
       "      ├── 'adata_Cellpose_2_DAPI_PolyT': AnnData (84719, 500)\n",
       "      ├── 'adata_Cellpose_2_DAPI_Transcripts': AnnData (108422, 500)\n",
       "      ├── 'adata_ComSeg': AnnData (48178, 550)\n",
       "      ├── 'adata_Ficture': AnnData (107013, 500)\n",
       "      ├── 'adata_Negative_Control_Rastered_5': AnnData (1380358, 500)\n",
       "      ├── 'adata_Negative_Control_Rastered_10': AnnData (345435, 500)\n",
       "      ├── 'adata_Negative_Control_Rastered_25': AnnData (55379, 500)\n",
       "      ├── 'adata_Negative_Control_Voronoi': AnnData (82568, 550)\n",
       "      ├── 'adata_Proseg_Cellpose_1_DAPI_PolyT': AnnData (52420, 500)\n",
       "      ├── 'adata_Proseg_Cellpose_1_DAPI_Transcripts': AnnData (107872, 500)\n",
       "      ├── 'adata_Proseg_Cellpose_1_nuclei_model': AnnData (47626, 500)\n",
       "      ├── 'adata_Proseg_Cellpose_2_DAPI_PolyT': AnnData (84556, 500)\n",
       "      ├── 'adata_Proseg_Cellpose_2_DAPI_Transcripts': AnnData (107092, 500)\n",
       "      └── 'adata_Proseg_pure': AnnData (74874, 500)\n",
       "with coordinate systems:\n",
       "    ▸ 'global', with elements:\n",
       "        foxf2_s2_r1_transcripts (Points), boundaries_Baysor_2D_Cellpose_1_DAPI_PolyT_0.2 (Shapes), boundaries_Baysor_2D_Cellpose_1_DAPI_PolyT_0.8 (Shapes), boundaries_Baysor_2D_Cellpose_1_DAPI_Transcripts_0.2 (Shapes), boundaries_Baysor_2D_Cellpose_1_DAPI_Transcripts_0.8 (Shapes), boundaries_Baysor_2D_Cellpose_1_nuclei_model_1.0 (Shapes), boundaries_Baysor_2D_Cellpose_2_DAPI_PolyT_0.2 (Shapes), boundaries_Baysor_2D_Cellpose_2_DAPI_PolyT_0.8 (Shapes), boundaries_Baysor_2D_Cellpose_2_DAPI_Transcripts_0.2 (Shapes), boundaries_Baysor_2D_Cellpose_2_DAPI_Transcripts_0.8 (Shapes), boundaries_Baysor_3D (Shapes), boundaries_Cellpose_1_DAPI_PolyT (Shapes), boundaries_Cellpose_1_DAPI_Transcripts (Shapes), boundaries_Cellpose_1_nuclei_model (Shapes), boundaries_Cellpose_2_DAPI_PolyT (Shapes), boundaries_Cellpose_2_DAPI_Transcripts (Shapes), boundaries_ComSeg (Shapes), boundaries_Ficture (Shapes), boundaries_Negative_Control_Rastered_5 (Shapes), boundaries_Negative_Control_Rastered_10 (Shapes), boundaries_Negative_Control_Rastered_25 (Shapes), boundaries_Negative_Control_Voronoi (Shapes), boundaries_Proseg_Cellpose_1_DAPI_PolyT (Shapes), boundaries_Proseg_Cellpose_1_DAPI_Transcripts (Shapes), boundaries_Proseg_Cellpose_1_nuclei_model (Shapes), boundaries_Proseg_Cellpose_2_DAPI_PolyT (Shapes), boundaries_Proseg_Cellpose_2_DAPI_Transcripts (Shapes), boundaries_Proseg_pure (Shapes)"
      ]
     },
     "execution_count": 9,
     "metadata": {},
     "output_type": "execute_result"
    }
   ],
   "source": [
    "sdata_main"
   ]
  },
  {
   "cell_type": "code",
   "execution_count": 10,
   "id": "8e82be44",
   "metadata": {},
   "outputs": [
    {
     "name": "stdout",
     "output_type": "stream",
     "text": [
      "Skipping Cellpose_1_Merlin as boundaries_Cellpose_1_Merlin exist already.\n",
      "Skipping Cellpose_1_Merlin as adata_Cellpose_1_Merlin exist already.\n"
     ]
    }
   ],
   "source": [
    "# default MERLIN output from Merscope (cyto2 on DAPI/PolyT)\n",
    "sdata_utils.process_merlin_segmentation(\n",
    "    sample_name, sample_paths, sdata_main, write_to_disk=True\n",
    ")"
   ]
  },
  {
   "cell_type": "code",
   "execution_count": 10,
   "id": "dc965cda",
   "metadata": {},
   "outputs": [
    {
     "data": {
      "text/plain": [
       "['Baysor_2D_Cellpose_2_DAPI_Transcripts_0.8',\n",
       " 'ComSeg_Cellpose_1_DAPI_Transcripts',\n",
       " 'Proseg_Cellpose_1_nuclei_model_vxl_2',\n",
       " 'ComSeg',\n",
       " 'Cellpose_1_nuclei_model',\n",
       " 'Baysor_2D_Cellpose_2_DAPI_PolyT_0.2',\n",
       " 'Baysor_2D_Cellpose_1_DAPI_Transcripts_0.8',\n",
       " 'Proseg_Cellpose_1_DAPI_Transcripts_vxl_2',\n",
       " 'Negative_Control_Rastered_5',\n",
       " 'Cellpose_2_DAPI_PolyT',\n",
       " '.ipynb_checkpoints',\n",
       " 'Proseg_Cellpose_2_DAPI_PolyT_vxl_2',\n",
       " 'Proseg_pure',\n",
       " 'metrics',\n",
       " 'Proseg_Cellpose_1_DAPI_Transcripts',\n",
       " 'Baysor_2D_Cellpose_1_DAPI_Transcripts_0.2',\n",
       " 'Ficture',\n",
       " 'Baysor_3D',\n",
       " 'Baysor_2D_Cellpose_1_DAPI_PolyT_0.2',\n",
       " 'Baysor_2D_Cellpose_2_DAPI_Transcripts_0.2',\n",
       " 'Cellpose_1_DAPI_PolyT',\n",
       " 'Proseg_Cellpose_2_DAPI_Transcripts_vxl_2',\n",
       " 'Negative_Control_Rastered_10',\n",
       " 'Negative_Control_Voronoi',\n",
       " 'Proseg_Cellpose_1_DAPI_PolyT_vxl_2',\n",
       " 'Proseg_Cellpose_2_DAPI_Transcripts',\n",
       " 'Proseg_Cellpose_1_nuclei_model',\n",
       " 'Cellpose_2_DAPI_Transcripts',\n",
       " 'Cellpose_1_Merlin',\n",
       " 'Negative_Control_Rastered_25',\n",
       " 'Boms',\n",
       " 'ComSeg_Cellpose_2_DAPI_Transcripts',\n",
       " 'Cellpose_1_DAPI_Transcripts',\n",
       " 'Baysor_2D_Cellpose_2_DAPI_PolyT_0.8',\n",
       " 'Baysor_2D_Cellpose_1_nuclei_model_1.0',\n",
       " 'Proseg_Cellpose_2_DAPI_PolyT',\n",
       " 'Baysor_2D_Cellpose_1_DAPI_PolyT_0.8',\n",
       " 'Proseg_Cellpose_1_DAPI_PolyT']"
      ]
     },
     "execution_count": 10,
     "metadata": {},
     "output_type": "execute_result"
    }
   ],
   "source": [
    "# other segmentation approaches\n",
    "seg_methods = os.listdir(os.path.join(data_dir, \"samples\", sample_name, \"results\"))\n",
    "seg_methods"
   ]
  },
  {
   "cell_type": "code",
   "execution_count": 11,
   "id": "9fdb26f4",
   "metadata": {},
   "outputs": [
    {
     "name": "stdout",
     "output_type": "stream",
     "text": [
      "Skipping boundary import of Baysor_2D_Cellpose_2_DAPI_Transcripts_0.8 as boundaries_Baysor_2D_Cellpose_2_DAPI_Transcripts_0.8 exist already.\n",
      "Skipping adata import of Baysor_2D_Cellpose_2_DAPI_Transcripts_0.8 as adata_Baysor_2D_Cellpose_2_DAPI_Transcripts_0.8 exist already.\n",
      "No boundaries/adata files found for ComSeg_Cellpose_1_DAPI_Transcripts. Skipping.\n",
      "No boundaries/adata files found for Proseg_Cellpose_1_nuclei_model_vxl_2. Skipping.\n",
      "Skipping boundary import of ComSeg as boundaries_ComSeg exist already.\n",
      "Skipping adata import of ComSeg as adata_ComSeg exist already.\n",
      "Skipping boundary import of Cellpose_1_nuclei_model as boundaries_Cellpose_1_nuclei_model exist already.\n",
      "Skipping adata import of Cellpose_1_nuclei_model as adata_Cellpose_1_nuclei_model exist already.\n",
      "Skipping boundary import of Baysor_2D_Cellpose_2_DAPI_PolyT_0.2 as boundaries_Baysor_2D_Cellpose_2_DAPI_PolyT_0.2 exist already.\n",
      "Skipping adata import of Baysor_2D_Cellpose_2_DAPI_PolyT_0.2 as adata_Baysor_2D_Cellpose_2_DAPI_PolyT_0.2 exist already.\n",
      "Skipping boundary import of Baysor_2D_Cellpose_1_DAPI_Transcripts_0.8 as boundaries_Baysor_2D_Cellpose_1_DAPI_Transcripts_0.8 exist already.\n",
      "Skipping adata import of Baysor_2D_Cellpose_1_DAPI_Transcripts_0.8 as adata_Baysor_2D_Cellpose_1_DAPI_Transcripts_0.8 exist already.\n",
      "No boundaries/adata files found for Proseg_Cellpose_1_DAPI_Transcripts_vxl_2. Skipping.\n",
      "Skipping boundary import of Negative_Control_Rastered_5 as boundaries_Negative_Control_Rastered_5 exist already.\n",
      "Skipping adata import of Negative_Control_Rastered_5 as adata_Negative_Control_Rastered_5 exist already.\n",
      "Skipping boundary import of Cellpose_2_DAPI_PolyT as boundaries_Cellpose_2_DAPI_PolyT exist already.\n",
      "Skipping adata import of Cellpose_2_DAPI_PolyT as adata_Cellpose_2_DAPI_PolyT exist already.\n",
      "No boundaries/adata files found for .ipynb_checkpoints. Skipping.\n",
      "No boundaries/adata files found for Proseg_Cellpose_2_DAPI_PolyT_vxl_2. Skipping.\n",
      "Skipping boundary import of Proseg_pure as boundaries_Proseg_pure exist already.\n",
      "Skipping adata import of Proseg_pure as adata_Proseg_pure exist already.\n",
      "No boundaries/adata files found for metrics. Skipping.\n",
      "Skipping boundary import of Proseg_Cellpose_1_DAPI_Transcripts as boundaries_Proseg_Cellpose_1_DAPI_Transcripts exist already.\n",
      "Skipping adata import of Proseg_Cellpose_1_DAPI_Transcripts as adata_Proseg_Cellpose_1_DAPI_Transcripts exist already.\n",
      "Skipping boundary import of Baysor_2D_Cellpose_1_DAPI_Transcripts_0.2 as boundaries_Baysor_2D_Cellpose_1_DAPI_Transcripts_0.2 exist already.\n",
      "Skipping adata import of Baysor_2D_Cellpose_1_DAPI_Transcripts_0.2 as adata_Baysor_2D_Cellpose_1_DAPI_Transcripts_0.2 exist already.\n",
      "Skipping boundary import of Ficture as boundaries_Ficture exist already.\n",
      "Skipping adata import of Ficture as adata_Ficture exist already.\n",
      "Skipping boundary import of Baysor_3D as boundaries_Baysor_3D exist already.\n",
      "Skipping adata import of Baysor_3D as adata_Baysor_3D exist already.\n",
      "Skipping boundary import of Baysor_2D_Cellpose_1_DAPI_PolyT_0.2 as boundaries_Baysor_2D_Cellpose_1_DAPI_PolyT_0.2 exist already.\n",
      "Skipping adata import of Baysor_2D_Cellpose_1_DAPI_PolyT_0.2 as adata_Baysor_2D_Cellpose_1_DAPI_PolyT_0.2 exist already.\n",
      "Skipping boundary import of Baysor_2D_Cellpose_2_DAPI_Transcripts_0.2 as boundaries_Baysor_2D_Cellpose_2_DAPI_Transcripts_0.2 exist already.\n",
      "Skipping adata import of Baysor_2D_Cellpose_2_DAPI_Transcripts_0.2 as adata_Baysor_2D_Cellpose_2_DAPI_Transcripts_0.2 exist already.\n",
      "Skipping boundary import of Cellpose_1_DAPI_PolyT as boundaries_Cellpose_1_DAPI_PolyT exist already.\n",
      "Skipping adata import of Cellpose_1_DAPI_PolyT as adata_Cellpose_1_DAPI_PolyT exist already.\n",
      "No boundaries/adata files found for Proseg_Cellpose_2_DAPI_Transcripts_vxl_2. Skipping.\n",
      "Skipping boundary import of Negative_Control_Rastered_10 as boundaries_Negative_Control_Rastered_10 exist already.\n",
      "Skipping adata import of Negative_Control_Rastered_10 as adata_Negative_Control_Rastered_10 exist already.\n",
      "Skipping boundary import of Negative_Control_Voronoi as boundaries_Negative_Control_Voronoi exist already.\n",
      "Skipping adata import of Negative_Control_Voronoi as adata_Negative_Control_Voronoi exist already.\n",
      "No boundaries/adata files found for Proseg_Cellpose_1_DAPI_PolyT_vxl_2. Skipping.\n",
      "Skipping boundary import of Proseg_Cellpose_2_DAPI_Transcripts as boundaries_Proseg_Cellpose_2_DAPI_Transcripts exist already.\n",
      "Skipping adata import of Proseg_Cellpose_2_DAPI_Transcripts as adata_Proseg_Cellpose_2_DAPI_Transcripts exist already.\n",
      "Skipping boundary import of Proseg_Cellpose_1_nuclei_model as boundaries_Proseg_Cellpose_1_nuclei_model exist already.\n",
      "Skipping adata import of Proseg_Cellpose_1_nuclei_model as adata_Proseg_Cellpose_1_nuclei_model exist already.\n",
      "Skipping boundary import of Cellpose_2_DAPI_Transcripts as boundaries_Cellpose_2_DAPI_Transcripts exist already.\n",
      "Skipping adata import of Cellpose_2_DAPI_Transcripts as adata_Cellpose_2_DAPI_Transcripts exist already.\n",
      "Shapes file missing for Cellpose_1_Merlin. Skipping boundary import.\n",
      "Skipping adata import of Cellpose_1_Merlin as adata_Cellpose_1_Merlin exist already.\n",
      "Skipping boundary import of Negative_Control_Rastered_25 as boundaries_Negative_Control_Rastered_25 exist already.\n",
      "Skipping adata import of Negative_Control_Rastered_25 as adata_Negative_Control_Rastered_25 exist already.\n",
      "No boundaries/adata files found for Boms. Skipping.\n",
      "No boundaries/adata files found for ComSeg_Cellpose_2_DAPI_Transcripts. Skipping.\n",
      "Skipping boundary import of Cellpose_1_DAPI_Transcripts as boundaries_Cellpose_1_DAPI_Transcripts exist already.\n",
      "Skipping adata import of Cellpose_1_DAPI_Transcripts as adata_Cellpose_1_DAPI_Transcripts exist already.\n",
      "Skipping boundary import of Baysor_2D_Cellpose_2_DAPI_PolyT_0.8 as boundaries_Baysor_2D_Cellpose_2_DAPI_PolyT_0.8 exist already.\n",
      "Skipping adata import of Baysor_2D_Cellpose_2_DAPI_PolyT_0.8 as adata_Baysor_2D_Cellpose_2_DAPI_PolyT_0.8 exist already.\n",
      "Skipping boundary import of Baysor_2D_Cellpose_1_nuclei_model_1.0 as boundaries_Baysor_2D_Cellpose_1_nuclei_model_1.0 exist already.\n",
      "Skipping adata import of Baysor_2D_Cellpose_1_nuclei_model_1.0 as adata_Baysor_2D_Cellpose_1_nuclei_model_1.0 exist already.\n",
      "Skipping boundary import of Proseg_Cellpose_2_DAPI_PolyT as boundaries_Proseg_Cellpose_2_DAPI_PolyT exist already.\n",
      "Skipping adata import of Proseg_Cellpose_2_DAPI_PolyT as adata_Proseg_Cellpose_2_DAPI_PolyT exist already.\n",
      "Skipping boundary import of Baysor_2D_Cellpose_1_DAPI_PolyT_0.8 as boundaries_Baysor_2D_Cellpose_1_DAPI_PolyT_0.8 exist already.\n",
      "Skipping adata import of Baysor_2D_Cellpose_1_DAPI_PolyT_0.8 as adata_Baysor_2D_Cellpose_1_DAPI_PolyT_0.8 exist already.\n",
      "Skipping boundary import of Proseg_Cellpose_1_DAPI_PolyT as boundaries_Proseg_Cellpose_1_DAPI_PolyT exist already.\n",
      "Skipping adata import of Proseg_Cellpose_1_DAPI_PolyT as adata_Proseg_Cellpose_1_DAPI_PolyT exist already.\n"
     ]
    }
   ],
   "source": [
    "sdata_utils.integrate_segmentation_data(\n",
    "    data_dir, sample_name, seg_methods, sdata_main, write_to_disk=True\n",
    ");"
   ]
  },
  {
   "cell_type": "code",
   "execution_count": 12,
   "id": "112b0f9f",
   "metadata": {},
   "outputs": [
    {
     "data": {
      "text/plain": [
       "['points/foxf2_s2_r1_transcripts',\n",
       " 'shapes/boundaries_Baysor_2D_Cellpose_1_DAPI_PolyT_0.2',\n",
       " 'shapes/boundaries_Baysor_2D_Cellpose_1_DAPI_PolyT_0.8',\n",
       " 'shapes/boundaries_Baysor_2D_Cellpose_1_DAPI_Transcripts_0.2',\n",
       " 'shapes/boundaries_Baysor_2D_Cellpose_1_DAPI_Transcripts_0.8',\n",
       " 'shapes/boundaries_Baysor_2D_Cellpose_1_nuclei_model_1.0',\n",
       " 'shapes/boundaries_Baysor_2D_Cellpose_2_DAPI_PolyT_0.2',\n",
       " 'shapes/boundaries_Baysor_2D_Cellpose_2_DAPI_PolyT_0.8',\n",
       " 'shapes/boundaries_Baysor_2D_Cellpose_2_DAPI_Transcripts_0.2',\n",
       " 'shapes/boundaries_Baysor_2D_Cellpose_2_DAPI_Transcripts_0.8',\n",
       " 'shapes/boundaries_Baysor_3D',\n",
       " 'shapes/boundaries_Cellpose_1_DAPI_PolyT',\n",
       " 'shapes/boundaries_Cellpose_1_DAPI_Transcripts',\n",
       " 'shapes/boundaries_Cellpose_1_nuclei_model',\n",
       " 'shapes/boundaries_Cellpose_2_DAPI_PolyT',\n",
       " 'shapes/boundaries_Cellpose_2_DAPI_Transcripts',\n",
       " 'shapes/boundaries_ComSeg',\n",
       " 'shapes/boundaries_Ficture',\n",
       " 'shapes/boundaries_Negative_Control_Rastered_10',\n",
       " 'shapes/boundaries_Negative_Control_Rastered_25',\n",
       " 'shapes/boundaries_Negative_Control_Rastered_5',\n",
       " 'shapes/boundaries_Negative_Control_Voronoi',\n",
       " 'shapes/boundaries_Proseg_Cellpose_1_DAPI_PolyT',\n",
       " 'shapes/boundaries_Proseg_Cellpose_1_DAPI_Transcripts',\n",
       " 'shapes/boundaries_Proseg_Cellpose_1_nuclei_model',\n",
       " 'shapes/boundaries_Proseg_Cellpose_2_DAPI_PolyT',\n",
       " 'shapes/boundaries_Proseg_Cellpose_2_DAPI_Transcripts',\n",
       " 'shapes/boundaries_Proseg_pure',\n",
       " 'tables/adata_Baysor_2D_Cellpose_1_DAPI_PolyT_0.2',\n",
       " 'tables/adata_Baysor_2D_Cellpose_1_DAPI_PolyT_0.8',\n",
       " 'tables/adata_Baysor_2D_Cellpose_1_DAPI_Transcripts_0.2',\n",
       " 'tables/adata_Baysor_2D_Cellpose_1_DAPI_Transcripts_0.8',\n",
       " 'tables/adata_Baysor_2D_Cellpose_1_nuclei_model_1.0',\n",
       " 'tables/adata_Baysor_2D_Cellpose_2_DAPI_PolyT_0.2',\n",
       " 'tables/adata_Baysor_2D_Cellpose_2_DAPI_PolyT_0.8',\n",
       " 'tables/adata_Baysor_2D_Cellpose_2_DAPI_Transcripts_0.2',\n",
       " 'tables/adata_Baysor_2D_Cellpose_2_DAPI_Transcripts_0.8',\n",
       " 'tables/adata_Baysor_3D',\n",
       " 'tables/adata_Cellpose_1_DAPI_PolyT',\n",
       " 'tables/adata_Cellpose_1_DAPI_Transcripts',\n",
       " 'tables/adata_Cellpose_1_Merlin',\n",
       " 'tables/adata_Cellpose_1_nuclei_model',\n",
       " 'tables/adata_Cellpose_2_DAPI_PolyT',\n",
       " 'tables/adata_Cellpose_2_DAPI_Transcripts',\n",
       " 'tables/adata_ComSeg',\n",
       " 'tables/adata_Ficture',\n",
       " 'tables/adata_Negative_Control_Rastered_10',\n",
       " 'tables/adata_Negative_Control_Rastered_25',\n",
       " 'tables/adata_Negative_Control_Rastered_5',\n",
       " 'tables/adata_Negative_Control_Voronoi',\n",
       " 'tables/adata_Proseg_Cellpose_1_DAPI_PolyT',\n",
       " 'tables/adata_Proseg_Cellpose_1_DAPI_Transcripts',\n",
       " 'tables/adata_Proseg_Cellpose_1_nuclei_model',\n",
       " 'tables/adata_Proseg_Cellpose_2_DAPI_PolyT',\n",
       " 'tables/adata_Proseg_Cellpose_2_DAPI_Transcripts',\n",
       " 'tables/adata_Proseg_pure']"
      ]
     },
     "execution_count": 12,
     "metadata": {},
     "output_type": "execute_result"
    }
   ],
   "source": [
    "sdata_main.elements_paths_on_disk()"
   ]
  },
  {
   "cell_type": "code",
   "execution_count": null,
   "id": "481bf3e1",
   "metadata": {},
   "outputs": [],
   "source": []
  },
  {
   "cell_type": "code",
   "execution_count": 13,
   "id": "692bdbb7-919d-4881-bdf7-038b6f127cf9",
   "metadata": {},
   "outputs": [
    {
     "name": "stdout",
     "output_type": "stream",
     "text": [
      "\n",
      "Processing foxf2_s1_r0...\n"
     ]
    },
    {
     "name": "stderr",
     "output_type": "stream",
     "text": [
      "/dss/dsshome1/0C/ra98gaq/miniconda3/envs/sdata/lib/python3.11/site-packages/spatialdata/_core/spatialdata.py:185: UserWarning: The table is annotating 'baysor_boundaries', which is not present in the SpatialData object.\n",
      "  self.validate_table_in_spatialdata(v)\n",
      "/dss/dsshome1/0C/ra98gaq/miniconda3/envs/sdata/lib/python3.11/site-packages/spatialdata/_core/spatialdata.py:185: UserWarning: The table is annotating 'cellpose_boundaries', which is not present in the SpatialData object.\n",
      "  self.validate_table_in_spatialdata(v)\n",
      "/dss/dsshome1/0C/ra98gaq/miniconda3/envs/sdata/lib/python3.11/site-packages/spatialdata/_core/spatialdata.py:185: UserWarning: The table is annotating '20240229_Foxf2-Slide01-cp-WT-ECKO_region_0-ECKO000_polygons', which is not present in the SpatialData object.\n",
      "  self.validate_table_in_spatialdata(v)\n",
      "/dss/dsshome1/0C/ra98gaq/miniconda3/envs/sdata/lib/python3.11/site-packages/spatialdata/_core/spatialdata.py:185: UserWarning: The table is annotating 'image_patches', which is not present in the SpatialData object.\n",
      "  self.validate_table_in_spatialdata(v)\n",
      "/dss/dsshome1/0C/ra98gaq/miniconda3/envs/sdata/lib/python3.11/site-packages/spatialdata/_core/spatialdata.py:185: UserWarning: The table is annotating 'proseg_boundaries', which is not present in the SpatialData object.\n",
      "  self.validate_table_in_spatialdata(v)\n"
     ]
    },
    {
     "name": "stdout",
     "output_type": "stream",
     "text": [
      "Skipping boundary import of Baysor_2D_Cellpose_2_DAPI_Transcripts_0.8 as boundaries_Baysor_2D_Cellpose_2_DAPI_Transcripts_0.8 exist already.\n",
      "Skipping adata import of Baysor_2D_Cellpose_2_DAPI_Transcripts_0.8 as adata_Baysor_2D_Cellpose_2_DAPI_Transcripts_0.8 exist already.\n",
      "No boundaries/adata files found for ComSeg_Cellpose_1_DAPI_Transcripts. Skipping.\n",
      "No boundaries/adata files found for Proseg_Cellpose_1_nuclei_model_vxl_2. Skipping.\n",
      "Skipping boundary import of Cellpose_1_nuclei_model as boundaries_Cellpose_1_nuclei_model exist already.\n",
      "Skipping adata import of Cellpose_1_nuclei_model as adata_Cellpose_1_nuclei_model exist already.\n",
      "Skipping boundary import of Baysor_2D_Cellpose_2_DAPI_PolyT_0.2 as boundaries_Baysor_2D_Cellpose_2_DAPI_PolyT_0.2 exist already.\n",
      "Skipping adata import of Baysor_2D_Cellpose_2_DAPI_PolyT_0.2 as adata_Baysor_2D_Cellpose_2_DAPI_PolyT_0.2 exist already.\n",
      "Skipping boundary import of Baysor_2D_Cellpose_1_DAPI_Transcripts_0.8 as boundaries_Baysor_2D_Cellpose_1_DAPI_Transcripts_0.8 exist already.\n",
      "Skipping adata import of Baysor_2D_Cellpose_1_DAPI_Transcripts_0.8 as adata_Baysor_2D_Cellpose_1_DAPI_Transcripts_0.8 exist already.\n",
      "No boundaries/adata files found for Proseg_Cellpose_1_DAPI_Transcripts_vxl_2. Skipping.\n",
      "Skipping boundary import of Negative_Control_Rastered_5 as boundaries_Negative_Control_Rastered_5 exist already.\n",
      "Skipping adata import of Negative_Control_Rastered_5 as adata_Negative_Control_Rastered_5 exist already.\n",
      "Skipping boundary import of Cellpose_2_DAPI_PolyT as boundaries_Cellpose_2_DAPI_PolyT exist already.\n",
      "Skipping adata import of Cellpose_2_DAPI_PolyT as adata_Cellpose_2_DAPI_PolyT exist already.\n",
      "No boundaries/adata files found for Proseg_Cellpose_2_DAPI_PolyT_vxl_2. Skipping.\n",
      "Skipping boundary import of Proseg_pure as boundaries_Proseg_pure exist already.\n",
      "Skipping adata import of Proseg_pure as adata_Proseg_pure exist already.\n",
      "Skipping boundary import of Proseg_Cellpose_1_DAPI_Transcripts as boundaries_Proseg_Cellpose_1_DAPI_Transcripts exist already.\n",
      "Skipping adata import of Proseg_Cellpose_1_DAPI_Transcripts as adata_Proseg_Cellpose_1_DAPI_Transcripts exist already.\n",
      "Skipping boundary import of Baysor_2D_Cellpose_1_DAPI_Transcripts_0.2 as boundaries_Baysor_2D_Cellpose_1_DAPI_Transcripts_0.2 exist already.\n",
      "Skipping adata import of Baysor_2D_Cellpose_1_DAPI_Transcripts_0.2 as adata_Baysor_2D_Cellpose_1_DAPI_Transcripts_0.2 exist already.\n",
      "Skipping boundary import of Baysor_2D_Cellpose_1_DAPI_PolyT_0.2 as boundaries_Baysor_2D_Cellpose_1_DAPI_PolyT_0.2 exist already.\n",
      "Skipping adata import of Baysor_2D_Cellpose_1_DAPI_PolyT_0.2 as adata_Baysor_2D_Cellpose_1_DAPI_PolyT_0.2 exist already.\n",
      "Skipping boundary import of Baysor_2D_Cellpose_2_DAPI_Transcripts_0.2 as boundaries_Baysor_2D_Cellpose_2_DAPI_Transcripts_0.2 exist already.\n",
      "Skipping adata import of Baysor_2D_Cellpose_2_DAPI_Transcripts_0.2 as adata_Baysor_2D_Cellpose_2_DAPI_Transcripts_0.2 exist already.\n",
      "Skipping boundary import of Cellpose_1_DAPI_PolyT as boundaries_Cellpose_1_DAPI_PolyT exist already.\n",
      "Skipping adata import of Cellpose_1_DAPI_PolyT as adata_Cellpose_1_DAPI_PolyT exist already.\n",
      "No boundaries/adata files found for Proseg_Cellpose_2_DAPI_Transcripts_vxl_2. Skipping.\n",
      "Skipping boundary import of Negative_Control_Rastered_10 as boundaries_Negative_Control_Rastered_10 exist already.\n",
      "Skipping adata import of Negative_Control_Rastered_10 as adata_Negative_Control_Rastered_10 exist already.\n",
      "No boundaries/adata files found for Proseg_Cellpose_1_DAPI_PolyT_vxl_2. Skipping.\n",
      "Skipping boundary import of Proseg_Cellpose_2_DAPI_Transcripts as boundaries_Proseg_Cellpose_2_DAPI_Transcripts exist already.\n",
      "Skipping adata import of Proseg_Cellpose_2_DAPI_Transcripts as adata_Proseg_Cellpose_2_DAPI_Transcripts exist already.\n",
      "Skipping boundary import of Proseg_Cellpose_1_nuclei_model as boundaries_Proseg_Cellpose_1_nuclei_model exist already.\n",
      "Skipping adata import of Proseg_Cellpose_1_nuclei_model as adata_Proseg_Cellpose_1_nuclei_model exist already.\n",
      "Skipping boundary import of Cellpose_2_DAPI_Transcripts as boundaries_Cellpose_2_DAPI_Transcripts exist already.\n",
      "Skipping adata import of Cellpose_2_DAPI_Transcripts as adata_Cellpose_2_DAPI_Transcripts exist already.\n",
      "Shapes file missing for Cellpose_1_Merlin. Skipping boundary import.\n",
      "Skipping adata import of Cellpose_1_Merlin as adata_Cellpose_1_Merlin exist already.\n",
      "Skipping boundary import of Negative_Control_Rastered_25 as boundaries_Negative_Control_Rastered_25 exist already.\n",
      "Skipping adata import of Negative_Control_Rastered_25 as adata_Negative_Control_Rastered_25 exist already.\n",
      "No boundaries/adata files found for ComSeg_Cellpose_2_DAPI_Transcripts. Skipping.\n",
      "Skipping boundary import of Cellpose_1_DAPI_Transcripts as boundaries_Cellpose_1_DAPI_Transcripts exist already.\n",
      "Skipping adata import of Cellpose_1_DAPI_Transcripts as adata_Cellpose_1_DAPI_Transcripts exist already.\n",
      "Skipping boundary import of Baysor_2D_Cellpose_2_DAPI_PolyT_0.8 as boundaries_Baysor_2D_Cellpose_2_DAPI_PolyT_0.8 exist already.\n",
      "Skipping adata import of Baysor_2D_Cellpose_2_DAPI_PolyT_0.8 as adata_Baysor_2D_Cellpose_2_DAPI_PolyT_0.8 exist already.\n",
      "Skipping boundary import of Baysor_2D_Cellpose_1_nuclei_model_1.0 as boundaries_Baysor_2D_Cellpose_1_nuclei_model_1.0 exist already.\n",
      "Skipping adata import of Baysor_2D_Cellpose_1_nuclei_model_1.0 as adata_Baysor_2D_Cellpose_1_nuclei_model_1.0 exist already.\n",
      "Skipping boundary import of Proseg_Cellpose_2_DAPI_PolyT as boundaries_Proseg_Cellpose_2_DAPI_PolyT exist already.\n",
      "Skipping adata import of Proseg_Cellpose_2_DAPI_PolyT as adata_Proseg_Cellpose_2_DAPI_PolyT exist already.\n",
      "Skipping boundary import of Baysor_2D_Cellpose_1_DAPI_PolyT_0.8 as boundaries_Baysor_2D_Cellpose_1_DAPI_PolyT_0.8 exist already.\n",
      "Skipping adata import of Baysor_2D_Cellpose_1_DAPI_PolyT_0.8 as adata_Baysor_2D_Cellpose_1_DAPI_PolyT_0.8 exist already.\n",
      "Skipping boundary import of Proseg_Cellpose_1_DAPI_PolyT as boundaries_Proseg_Cellpose_1_DAPI_PolyT exist already.\n",
      "Skipping adata import of Proseg_Cellpose_1_DAPI_PolyT as adata_Proseg_Cellpose_1_DAPI_PolyT exist already.\n",
      "\n",
      "Processing foxf2_s1_r1...\n"
     ]
    },
    {
     "name": "stderr",
     "output_type": "stream",
     "text": [
      "/dss/dsshome1/0C/ra98gaq/miniconda3/envs/sdata/lib/python3.11/site-packages/spatialdata/_core/spatialdata.py:185: UserWarning: The table is annotating 'baysor_boundaries', which is not present in the SpatialData object.\n",
      "  self.validate_table_in_spatialdata(v)\n",
      "/dss/dsshome1/0C/ra98gaq/miniconda3/envs/sdata/lib/python3.11/site-packages/spatialdata/_core/spatialdata.py:185: UserWarning: The table is annotating 'cellpose_boundaries', which is not present in the SpatialData object.\n",
      "  self.validate_table_in_spatialdata(v)\n",
      "/dss/dsshome1/0C/ra98gaq/miniconda3/envs/sdata/lib/python3.11/site-packages/spatialdata/_core/spatialdata.py:185: UserWarning: The table is annotating '20240229_Foxf2-Slide01-cp-WT-ECKO_region_1-WT000_polygons', which is not present in the SpatialData object.\n",
      "  self.validate_table_in_spatialdata(v)\n",
      "/dss/dsshome1/0C/ra98gaq/miniconda3/envs/sdata/lib/python3.11/site-packages/spatialdata/_core/spatialdata.py:185: UserWarning: The table is annotating 'image_patches', which is not present in the SpatialData object.\n",
      "  self.validate_table_in_spatialdata(v)\n",
      "/dss/dsshome1/0C/ra98gaq/miniconda3/envs/sdata/lib/python3.11/site-packages/spatialdata/_core/spatialdata.py:185: UserWarning: The table is annotating 'proseg_boundaries', which is not present in the SpatialData object.\n",
      "  self.validate_table_in_spatialdata(v)\n"
     ]
    },
    {
     "name": "stdout",
     "output_type": "stream",
     "text": [
      "Skipping boundary import of Baysor_2D_Cellpose_2_DAPI_Transcripts_0.8 as boundaries_Baysor_2D_Cellpose_2_DAPI_Transcripts_0.8 exist already.\n",
      "Skipping adata import of Baysor_2D_Cellpose_2_DAPI_Transcripts_0.8 as adata_Baysor_2D_Cellpose_2_DAPI_Transcripts_0.8 exist already.\n",
      "No boundaries/adata files found for ComSeg_Cellpose_1_DAPI_Transcripts. Skipping.\n",
      "No boundaries/adata files found for Proseg_Cellpose_1_nuclei_model_vxl_2. Skipping.\n",
      "Skipping boundary import of Cellpose_1_nuclei_model as boundaries_Cellpose_1_nuclei_model exist already.\n",
      "Skipping adata import of Cellpose_1_nuclei_model as adata_Cellpose_1_nuclei_model exist already.\n",
      "Skipping boundary import of Baysor_2D_Cellpose_2_DAPI_PolyT_0.2 as boundaries_Baysor_2D_Cellpose_2_DAPI_PolyT_0.2 exist already.\n",
      "Skipping adata import of Baysor_2D_Cellpose_2_DAPI_PolyT_0.2 as adata_Baysor_2D_Cellpose_2_DAPI_PolyT_0.2 exist already.\n",
      "Skipping boundary import of Baysor_2D_Cellpose_1_DAPI_Transcripts_0.8 as boundaries_Baysor_2D_Cellpose_1_DAPI_Transcripts_0.8 exist already.\n",
      "Skipping adata import of Baysor_2D_Cellpose_1_DAPI_Transcripts_0.8 as adata_Baysor_2D_Cellpose_1_DAPI_Transcripts_0.8 exist already.\n",
      "No boundaries/adata files found for Proseg_Cellpose_1_DAPI_Transcripts_vxl_2. Skipping.\n",
      "Skipping boundary import of Negative_Control_Rastered_5 as boundaries_Negative_Control_Rastered_5 exist already.\n",
      "Skipping adata import of Negative_Control_Rastered_5 as adata_Negative_Control_Rastered_5 exist already.\n",
      "Skipping boundary import of Cellpose_2_DAPI_PolyT as boundaries_Cellpose_2_DAPI_PolyT exist already.\n",
      "Skipping adata import of Cellpose_2_DAPI_PolyT as adata_Cellpose_2_DAPI_PolyT exist already.\n",
      "No boundaries/adata files found for Proseg_Cellpose_2_DAPI_PolyT_vxl_2. Skipping.\n",
      "Skipping boundary import of Proseg_Cellpose_1_DAPI_Transcripts as boundaries_Proseg_Cellpose_1_DAPI_Transcripts exist already.\n",
      "Skipping adata import of Proseg_Cellpose_1_DAPI_Transcripts as adata_Proseg_Cellpose_1_DAPI_Transcripts exist already.\n",
      "Skipping boundary import of Baysor_2D_Cellpose_1_DAPI_Transcripts_0.2 as boundaries_Baysor_2D_Cellpose_1_DAPI_Transcripts_0.2 exist already.\n",
      "Skipping adata import of Baysor_2D_Cellpose_1_DAPI_Transcripts_0.2 as adata_Baysor_2D_Cellpose_1_DAPI_Transcripts_0.2 exist already.\n",
      "Skipping boundary import of Baysor_2D_Cellpose_1_DAPI_PolyT_0.2 as boundaries_Baysor_2D_Cellpose_1_DAPI_PolyT_0.2 exist already.\n",
      "Skipping adata import of Baysor_2D_Cellpose_1_DAPI_PolyT_0.2 as adata_Baysor_2D_Cellpose_1_DAPI_PolyT_0.2 exist already.\n",
      "Skipping boundary import of Baysor_2D_Cellpose_2_DAPI_Transcripts_0.2 as boundaries_Baysor_2D_Cellpose_2_DAPI_Transcripts_0.2 exist already.\n",
      "Skipping adata import of Baysor_2D_Cellpose_2_DAPI_Transcripts_0.2 as adata_Baysor_2D_Cellpose_2_DAPI_Transcripts_0.2 exist already.\n",
      "Skipping boundary import of Cellpose_1_DAPI_PolyT as boundaries_Cellpose_1_DAPI_PolyT exist already.\n",
      "Skipping adata import of Cellpose_1_DAPI_PolyT as adata_Cellpose_1_DAPI_PolyT exist already.\n",
      "No boundaries/adata files found for Proseg_Cellpose_2_DAPI_Transcripts_vxl_2. Skipping.\n",
      "Skipping boundary import of Negative_Control_Rastered_10 as boundaries_Negative_Control_Rastered_10 exist already.\n",
      "Skipping adata import of Negative_Control_Rastered_10 as adata_Negative_Control_Rastered_10 exist already.\n",
      "No boundaries/adata files found for Proseg_Cellpose_1_DAPI_PolyT_vxl_2. Skipping.\n",
      "Skipping boundary import of Proseg_Cellpose_2_DAPI_Transcripts as boundaries_Proseg_Cellpose_2_DAPI_Transcripts exist already.\n",
      "Skipping adata import of Proseg_Cellpose_2_DAPI_Transcripts as adata_Proseg_Cellpose_2_DAPI_Transcripts exist already.\n",
      "Skipping boundary import of Proseg_Cellpose_1_nuclei_model as boundaries_Proseg_Cellpose_1_nuclei_model exist already.\n",
      "Skipping adata import of Proseg_Cellpose_1_nuclei_model as adata_Proseg_Cellpose_1_nuclei_model exist already.\n",
      "Skipping boundary import of Cellpose_2_DAPI_Transcripts as boundaries_Cellpose_2_DAPI_Transcripts exist already.\n",
      "Skipping adata import of Cellpose_2_DAPI_Transcripts as adata_Cellpose_2_DAPI_Transcripts exist already.\n",
      "Shapes file missing for Cellpose_1_Merlin. Skipping boundary import.\n",
      "Skipping adata import of Cellpose_1_Merlin as adata_Cellpose_1_Merlin exist already.\n",
      "Skipping boundary import of Negative_Control_Rastered_25 as boundaries_Negative_Control_Rastered_25 exist already.\n",
      "Skipping adata import of Negative_Control_Rastered_25 as adata_Negative_Control_Rastered_25 exist already.\n",
      "No boundaries/adata files found for ComSeg_Cellpose_2_DAPI_Transcripts. Skipping.\n",
      "Skipping boundary import of Cellpose_1_DAPI_Transcripts as boundaries_Cellpose_1_DAPI_Transcripts exist already.\n",
      "Skipping adata import of Cellpose_1_DAPI_Transcripts as adata_Cellpose_1_DAPI_Transcripts exist already.\n",
      "Skipping boundary import of Baysor_2D_Cellpose_2_DAPI_PolyT_0.8 as boundaries_Baysor_2D_Cellpose_2_DAPI_PolyT_0.8 exist already.\n",
      "Skipping adata import of Baysor_2D_Cellpose_2_DAPI_PolyT_0.8 as adata_Baysor_2D_Cellpose_2_DAPI_PolyT_0.8 exist already.\n",
      "Skipping boundary import of Baysor_2D_Cellpose_1_nuclei_model_1.0 as boundaries_Baysor_2D_Cellpose_1_nuclei_model_1.0 exist already.\n",
      "Skipping adata import of Baysor_2D_Cellpose_1_nuclei_model_1.0 as adata_Baysor_2D_Cellpose_1_nuclei_model_1.0 exist already.\n",
      "Skipping boundary import of Proseg_Cellpose_2_DAPI_PolyT as boundaries_Proseg_Cellpose_2_DAPI_PolyT exist already.\n",
      "Skipping adata import of Proseg_Cellpose_2_DAPI_PolyT as adata_Proseg_Cellpose_2_DAPI_PolyT exist already.\n",
      "Skipping boundary import of Baysor_2D_Cellpose_1_DAPI_PolyT_0.8 as boundaries_Baysor_2D_Cellpose_1_DAPI_PolyT_0.8 exist already.\n",
      "Skipping adata import of Baysor_2D_Cellpose_1_DAPI_PolyT_0.8 as adata_Baysor_2D_Cellpose_1_DAPI_PolyT_0.8 exist already.\n",
      "Skipping boundary import of Proseg_Cellpose_1_DAPI_PolyT as boundaries_Proseg_Cellpose_1_DAPI_PolyT exist already.\n",
      "Skipping adata import of Proseg_Cellpose_1_DAPI_PolyT as adata_Proseg_Cellpose_1_DAPI_PolyT exist already.\n",
      "\n",
      "Processing foxf2_s2_r1...\n"
     ]
    },
    {
     "name": "stderr",
     "output_type": "stream",
     "text": [
      "/dss/dsshome1/0C/ra98gaq/miniconda3/envs/sdata/lib/python3.11/site-packages/spatialdata/_core/spatialdata.py:185: UserWarning: The table is annotating 'baysor_boundaries', which is not present in the SpatialData object.\n",
      "  self.validate_table_in_spatialdata(v)\n",
      "/dss/dsshome1/0C/ra98gaq/miniconda3/envs/sdata/lib/python3.11/site-packages/spatialdata/_core/spatialdata.py:185: UserWarning: The table is annotating 'cellpose_boundaries', which is not present in the SpatialData object.\n",
      "  self.validate_table_in_spatialdata(v)\n",
      "/dss/dsshome1/0C/ra98gaq/miniconda3/envs/sdata/lib/python3.11/site-packages/spatialdata/_core/spatialdata.py:185: UserWarning: The table is annotating '20240322_Foxf2-Slide02-cp-WT-PCKO_region_1-WT536_polygons', which is not present in the SpatialData object.\n",
      "  self.validate_table_in_spatialdata(v)\n",
      "/dss/dsshome1/0C/ra98gaq/miniconda3/envs/sdata/lib/python3.11/site-packages/spatialdata/_core/spatialdata.py:185: UserWarning: The table is annotating 'comseg_boundaries', which is not present in the SpatialData object.\n",
      "  self.validate_table_in_spatialdata(v)\n",
      "/dss/dsshome1/0C/ra98gaq/miniconda3/envs/sdata/lib/python3.11/site-packages/spatialdata/_core/spatialdata.py:185: UserWarning: The table is annotating 'foxf2_s2_r1_polygons', which is not present in the SpatialData object.\n",
      "  self.validate_table_in_spatialdata(v)\n",
      "/dss/dsshome1/0C/ra98gaq/miniconda3/envs/sdata/lib/python3.11/site-packages/spatialdata/_core/spatialdata.py:185: UserWarning: The table is annotating 'image_patches', which is not present in the SpatialData object.\n",
      "  self.validate_table_in_spatialdata(v)\n",
      "/dss/dsshome1/0C/ra98gaq/miniconda3/envs/sdata/lib/python3.11/site-packages/spatialdata/_core/spatialdata.py:185: UserWarning: The table is annotating 'proseg_boundaries', which is not present in the SpatialData object.\n",
      "  self.validate_table_in_spatialdata(v)\n"
     ]
    },
    {
     "name": "stdout",
     "output_type": "stream",
     "text": [
      "Skipping boundary import of Baysor_2D_Cellpose_2_DAPI_Transcripts_0.8 as boundaries_Baysor_2D_Cellpose_2_DAPI_Transcripts_0.8 exist already.\n",
      "Skipping adata import of Baysor_2D_Cellpose_2_DAPI_Transcripts_0.8 as adata_Baysor_2D_Cellpose_2_DAPI_Transcripts_0.8 exist already.\n",
      "No boundaries/adata files found for ComSeg_Cellpose_1_DAPI_Transcripts. Skipping.\n",
      "No boundaries/adata files found for Proseg_Cellpose_1_nuclei_model_vxl_2. Skipping.\n",
      "Skipping boundary import of ComSeg as boundaries_ComSeg exist already.\n",
      "Skipping adata import of ComSeg as adata_ComSeg exist already.\n",
      "Skipping boundary import of Cellpose_1_nuclei_model as boundaries_Cellpose_1_nuclei_model exist already.\n",
      "Skipping adata import of Cellpose_1_nuclei_model as adata_Cellpose_1_nuclei_model exist already.\n",
      "Skipping boundary import of Baysor_2D_Cellpose_2_DAPI_PolyT_0.2 as boundaries_Baysor_2D_Cellpose_2_DAPI_PolyT_0.2 exist already.\n",
      "Skipping adata import of Baysor_2D_Cellpose_2_DAPI_PolyT_0.2 as adata_Baysor_2D_Cellpose_2_DAPI_PolyT_0.2 exist already.\n",
      "Skipping boundary import of Baysor_2D_Cellpose_1_DAPI_Transcripts_0.8 as boundaries_Baysor_2D_Cellpose_1_DAPI_Transcripts_0.8 exist already.\n",
      "Skipping adata import of Baysor_2D_Cellpose_1_DAPI_Transcripts_0.8 as adata_Baysor_2D_Cellpose_1_DAPI_Transcripts_0.8 exist already.\n",
      "No boundaries/adata files found for Proseg_Cellpose_1_DAPI_Transcripts_vxl_2. Skipping.\n",
      "Skipping boundary import of Negative_Control_Rastered_5 as boundaries_Negative_Control_Rastered_5 exist already.\n",
      "Skipping adata import of Negative_Control_Rastered_5 as adata_Negative_Control_Rastered_5 exist already.\n",
      "Skipping boundary import of Cellpose_2_DAPI_PolyT as boundaries_Cellpose_2_DAPI_PolyT exist already.\n",
      "Skipping adata import of Cellpose_2_DAPI_PolyT as adata_Cellpose_2_DAPI_PolyT exist already.\n",
      "No boundaries/adata files found for .ipynb_checkpoints. Skipping.\n",
      "No boundaries/adata files found for Proseg_Cellpose_2_DAPI_PolyT_vxl_2. Skipping.\n",
      "Skipping boundary import of Proseg_pure as boundaries_Proseg_pure exist already.\n",
      "Skipping adata import of Proseg_pure as adata_Proseg_pure exist already.\n",
      "No boundaries/adata files found for metrics. Skipping.\n",
      "Skipping boundary import of Proseg_Cellpose_1_DAPI_Transcripts as boundaries_Proseg_Cellpose_1_DAPI_Transcripts exist already.\n",
      "Skipping adata import of Proseg_Cellpose_1_DAPI_Transcripts as adata_Proseg_Cellpose_1_DAPI_Transcripts exist already.\n",
      "Skipping boundary import of Baysor_2D_Cellpose_1_DAPI_Transcripts_0.2 as boundaries_Baysor_2D_Cellpose_1_DAPI_Transcripts_0.2 exist already.\n",
      "Skipping adata import of Baysor_2D_Cellpose_1_DAPI_Transcripts_0.2 as adata_Baysor_2D_Cellpose_1_DAPI_Transcripts_0.2 exist already.\n",
      "Skipping boundary import of Ficture as boundaries_Ficture exist already.\n",
      "Skipping adata import of Ficture as adata_Ficture exist already.\n",
      "Skipping boundary import of Baysor_3D as boundaries_Baysor_3D exist already.\n",
      "Skipping adata import of Baysor_3D as adata_Baysor_3D exist already.\n",
      "Skipping boundary import of Baysor_2D_Cellpose_1_DAPI_PolyT_0.2 as boundaries_Baysor_2D_Cellpose_1_DAPI_PolyT_0.2 exist already.\n",
      "Skipping adata import of Baysor_2D_Cellpose_1_DAPI_PolyT_0.2 as adata_Baysor_2D_Cellpose_1_DAPI_PolyT_0.2 exist already.\n",
      "Skipping boundary import of Baysor_2D_Cellpose_2_DAPI_Transcripts_0.2 as boundaries_Baysor_2D_Cellpose_2_DAPI_Transcripts_0.2 exist already.\n",
      "Skipping adata import of Baysor_2D_Cellpose_2_DAPI_Transcripts_0.2 as adata_Baysor_2D_Cellpose_2_DAPI_Transcripts_0.2 exist already.\n",
      "Skipping boundary import of Cellpose_1_DAPI_PolyT as boundaries_Cellpose_1_DAPI_PolyT exist already.\n",
      "Skipping adata import of Cellpose_1_DAPI_PolyT as adata_Cellpose_1_DAPI_PolyT exist already.\n",
      "No boundaries/adata files found for Proseg_Cellpose_2_DAPI_Transcripts_vxl_2. Skipping.\n",
      "Skipping boundary import of Negative_Control_Rastered_10 as boundaries_Negative_Control_Rastered_10 exist already.\n",
      "Skipping adata import of Negative_Control_Rastered_10 as adata_Negative_Control_Rastered_10 exist already.\n",
      "Skipping boundary import of Negative_Control_Voronoi as boundaries_Negative_Control_Voronoi exist already.\n",
      "Skipping adata import of Negative_Control_Voronoi as adata_Negative_Control_Voronoi exist already.\n",
      "No boundaries/adata files found for Proseg_Cellpose_1_DAPI_PolyT_vxl_2. Skipping.\n",
      "Skipping boundary import of Proseg_Cellpose_2_DAPI_Transcripts as boundaries_Proseg_Cellpose_2_DAPI_Transcripts exist already.\n",
      "Skipping adata import of Proseg_Cellpose_2_DAPI_Transcripts as adata_Proseg_Cellpose_2_DAPI_Transcripts exist already.\n",
      "Skipping boundary import of Proseg_Cellpose_1_nuclei_model as boundaries_Proseg_Cellpose_1_nuclei_model exist already.\n",
      "Skipping adata import of Proseg_Cellpose_1_nuclei_model as adata_Proseg_Cellpose_1_nuclei_model exist already.\n",
      "Skipping boundary import of Cellpose_2_DAPI_Transcripts as boundaries_Cellpose_2_DAPI_Transcripts exist already.\n",
      "Skipping adata import of Cellpose_2_DAPI_Transcripts as adata_Cellpose_2_DAPI_Transcripts exist already.\n",
      "Shapes file missing for Cellpose_1_Merlin. Skipping boundary import.\n",
      "Skipping adata import of Cellpose_1_Merlin as adata_Cellpose_1_Merlin exist already.\n",
      "Skipping boundary import of Negative_Control_Rastered_25 as boundaries_Negative_Control_Rastered_25 exist already.\n",
      "Skipping adata import of Negative_Control_Rastered_25 as adata_Negative_Control_Rastered_25 exist already.\n",
      "No boundaries/adata files found for Boms. Skipping.\n",
      "No boundaries/adata files found for ComSeg_Cellpose_2_DAPI_Transcripts. Skipping.\n",
      "Skipping boundary import of Cellpose_1_DAPI_Transcripts as boundaries_Cellpose_1_DAPI_Transcripts exist already.\n",
      "Skipping adata import of Cellpose_1_DAPI_Transcripts as adata_Cellpose_1_DAPI_Transcripts exist already.\n",
      "Skipping boundary import of Baysor_2D_Cellpose_2_DAPI_PolyT_0.8 as boundaries_Baysor_2D_Cellpose_2_DAPI_PolyT_0.8 exist already.\n",
      "Skipping adata import of Baysor_2D_Cellpose_2_DAPI_PolyT_0.8 as adata_Baysor_2D_Cellpose_2_DAPI_PolyT_0.8 exist already.\n",
      "Skipping boundary import of Baysor_2D_Cellpose_1_nuclei_model_1.0 as boundaries_Baysor_2D_Cellpose_1_nuclei_model_1.0 exist already.\n",
      "Skipping adata import of Baysor_2D_Cellpose_1_nuclei_model_1.0 as adata_Baysor_2D_Cellpose_1_nuclei_model_1.0 exist already.\n",
      "Skipping boundary import of Proseg_Cellpose_2_DAPI_PolyT as boundaries_Proseg_Cellpose_2_DAPI_PolyT exist already.\n",
      "Skipping adata import of Proseg_Cellpose_2_DAPI_PolyT as adata_Proseg_Cellpose_2_DAPI_PolyT exist already.\n",
      "Skipping boundary import of Baysor_2D_Cellpose_1_DAPI_PolyT_0.8 as boundaries_Baysor_2D_Cellpose_1_DAPI_PolyT_0.8 exist already.\n",
      "Skipping adata import of Baysor_2D_Cellpose_1_DAPI_PolyT_0.8 as adata_Baysor_2D_Cellpose_1_DAPI_PolyT_0.8 exist already.\n",
      "Skipping boundary import of Proseg_Cellpose_1_DAPI_PolyT as boundaries_Proseg_Cellpose_1_DAPI_PolyT exist already.\n",
      "Skipping adata import of Proseg_Cellpose_1_DAPI_PolyT as adata_Proseg_Cellpose_1_DAPI_PolyT exist already.\n",
      "\n",
      "Processing foxf2_s2_r2...\n"
     ]
    },
    {
     "name": "stderr",
     "output_type": "stream",
     "text": [
      "/dss/dsshome1/0C/ra98gaq/miniconda3/envs/sdata/lib/python3.11/site-packages/spatialdata/_core/spatialdata.py:185: UserWarning: The table is annotating 'baysor_boundaries', which is not present in the SpatialData object.\n",
      "  self.validate_table_in_spatialdata(v)\n",
      "/dss/dsshome1/0C/ra98gaq/miniconda3/envs/sdata/lib/python3.11/site-packages/spatialdata/_core/spatialdata.py:185: UserWarning: The table is annotating 'cellpose_boundaries', which is not present in the SpatialData object.\n",
      "  self.validate_table_in_spatialdata(v)\n",
      "/dss/dsshome1/0C/ra98gaq/miniconda3/envs/sdata/lib/python3.11/site-packages/spatialdata/_core/spatialdata.py:185: UserWarning: The table is annotating '20240322_Foxf2-Slide02-cp-WT-PCKO_region_2-PCKO239_polygons', which is not present in the SpatialData object.\n",
      "  self.validate_table_in_spatialdata(v)\n",
      "/dss/dsshome1/0C/ra98gaq/miniconda3/envs/sdata/lib/python3.11/site-packages/spatialdata/_core/spatialdata.py:185: UserWarning: The table is annotating 'image_patches', which is not present in the SpatialData object.\n",
      "  self.validate_table_in_spatialdata(v)\n",
      "/dss/dsshome1/0C/ra98gaq/miniconda3/envs/sdata/lib/python3.11/site-packages/spatialdata/_core/spatialdata.py:185: UserWarning: The table is annotating 'proseg_boundaries', which is not present in the SpatialData object.\n",
      "  self.validate_table_in_spatialdata(v)\n"
     ]
    },
    {
     "name": "stdout",
     "output_type": "stream",
     "text": [
      "Skipping boundary import of Baysor_2D_Cellpose_2_DAPI_Transcripts_0.8 as boundaries_Baysor_2D_Cellpose_2_DAPI_Transcripts_0.8 exist already.\n",
      "Skipping adata import of Baysor_2D_Cellpose_2_DAPI_Transcripts_0.8 as adata_Baysor_2D_Cellpose_2_DAPI_Transcripts_0.8 exist already.\n",
      "No boundaries/adata files found for ComSeg_Cellpose_1_DAPI_Transcripts. Skipping.\n",
      "No boundaries/adata files found for Proseg_Cellpose_1_nuclei_model_vxl_2. Skipping.\n",
      "Skipping boundary import of Cellpose_1_nuclei_model as boundaries_Cellpose_1_nuclei_model exist already.\n",
      "Skipping adata import of Cellpose_1_nuclei_model as adata_Cellpose_1_nuclei_model exist already.\n",
      "Skipping boundary import of Baysor_2D_Cellpose_2_DAPI_PolyT_0.2 as boundaries_Baysor_2D_Cellpose_2_DAPI_PolyT_0.2 exist already.\n",
      "Skipping adata import of Baysor_2D_Cellpose_2_DAPI_PolyT_0.2 as adata_Baysor_2D_Cellpose_2_DAPI_PolyT_0.2 exist already.\n",
      "Skipping boundary import of Baysor_2D_Cellpose_1_DAPI_Transcripts_0.8 as boundaries_Baysor_2D_Cellpose_1_DAPI_Transcripts_0.8 exist already.\n",
      "Skipping adata import of Baysor_2D_Cellpose_1_DAPI_Transcripts_0.8 as adata_Baysor_2D_Cellpose_1_DAPI_Transcripts_0.8 exist already.\n",
      "No boundaries/adata files found for Proseg_Cellpose_1_DAPI_Transcripts_vxl_2. Skipping.\n",
      "Skipping boundary import of Negative_Control_Rastered_5 as boundaries_Negative_Control_Rastered_5 exist already.\n",
      "Skipping adata import of Negative_Control_Rastered_5 as adata_Negative_Control_Rastered_5 exist already.\n",
      "Skipping boundary import of Cellpose_2_DAPI_PolyT as boundaries_Cellpose_2_DAPI_PolyT exist already.\n",
      "Skipping adata import of Cellpose_2_DAPI_PolyT as adata_Cellpose_2_DAPI_PolyT exist already.\n",
      "No boundaries/adata files found for Proseg_Cellpose_2_DAPI_PolyT_vxl_2. Skipping.\n",
      "Skipping boundary import of Proseg_Cellpose_1_DAPI_Transcripts as boundaries_Proseg_Cellpose_1_DAPI_Transcripts exist already.\n",
      "Skipping adata import of Proseg_Cellpose_1_DAPI_Transcripts as adata_Proseg_Cellpose_1_DAPI_Transcripts exist already.\n",
      "Skipping boundary import of Baysor_2D_Cellpose_1_DAPI_Transcripts_0.2 as boundaries_Baysor_2D_Cellpose_1_DAPI_Transcripts_0.2 exist already.\n",
      "Skipping adata import of Baysor_2D_Cellpose_1_DAPI_Transcripts_0.2 as adata_Baysor_2D_Cellpose_1_DAPI_Transcripts_0.2 exist already.\n",
      "Skipping boundary import of Baysor_2D_Cellpose_1_DAPI_PolyT_0.2 as boundaries_Baysor_2D_Cellpose_1_DAPI_PolyT_0.2 exist already.\n",
      "Skipping adata import of Baysor_2D_Cellpose_1_DAPI_PolyT_0.2 as adata_Baysor_2D_Cellpose_1_DAPI_PolyT_0.2 exist already.\n",
      "Skipping boundary import of Baysor_2D_Cellpose_2_DAPI_Transcripts_0.2 as boundaries_Baysor_2D_Cellpose_2_DAPI_Transcripts_0.2 exist already.\n",
      "Skipping adata import of Baysor_2D_Cellpose_2_DAPI_Transcripts_0.2 as adata_Baysor_2D_Cellpose_2_DAPI_Transcripts_0.2 exist already.\n",
      "Skipping boundary import of Cellpose_1_DAPI_PolyT as boundaries_Cellpose_1_DAPI_PolyT exist already.\n",
      "Skipping adata import of Cellpose_1_DAPI_PolyT as adata_Cellpose_1_DAPI_PolyT exist already.\n",
      "No boundaries/adata files found for Proseg_Cellpose_2_DAPI_Transcripts_vxl_2. Skipping.\n",
      "Skipping boundary import of Negative_Control_Rastered_10 as boundaries_Negative_Control_Rastered_10 exist already.\n",
      "Skipping adata import of Negative_Control_Rastered_10 as adata_Negative_Control_Rastered_10 exist already.\n",
      "No boundaries/adata files found for Proseg_Cellpose_1_DAPI_PolyT_vxl_2. Skipping.\n",
      "Skipping boundary import of Proseg_Cellpose_2_DAPI_Transcripts as boundaries_Proseg_Cellpose_2_DAPI_Transcripts exist already.\n",
      "Skipping adata import of Proseg_Cellpose_2_DAPI_Transcripts as adata_Proseg_Cellpose_2_DAPI_Transcripts exist already.\n",
      "Skipping boundary import of Proseg_Cellpose_1_nuclei_model as boundaries_Proseg_Cellpose_1_nuclei_model exist already.\n",
      "Skipping adata import of Proseg_Cellpose_1_nuclei_model as adata_Proseg_Cellpose_1_nuclei_model exist already.\n",
      "Skipping boundary import of Cellpose_2_DAPI_Transcripts as boundaries_Cellpose_2_DAPI_Transcripts exist already.\n",
      "Skipping adata import of Cellpose_2_DAPI_Transcripts as adata_Cellpose_2_DAPI_Transcripts exist already.\n",
      "Shapes file missing for Cellpose_1_Merlin. Skipping boundary import.\n",
      "Skipping adata import of Cellpose_1_Merlin as adata_Cellpose_1_Merlin exist already.\n",
      "Skipping boundary import of Negative_Control_Rastered_25 as boundaries_Negative_Control_Rastered_25 exist already.\n",
      "Skipping adata import of Negative_Control_Rastered_25 as adata_Negative_Control_Rastered_25 exist already.\n",
      "No boundaries/adata files found for ComSeg_Cellpose_2_DAPI_Transcripts. Skipping.\n",
      "Skipping boundary import of Cellpose_1_DAPI_Transcripts as boundaries_Cellpose_1_DAPI_Transcripts exist already.\n",
      "Skipping adata import of Cellpose_1_DAPI_Transcripts as adata_Cellpose_1_DAPI_Transcripts exist already.\n",
      "Skipping boundary import of Baysor_2D_Cellpose_2_DAPI_PolyT_0.8 as boundaries_Baysor_2D_Cellpose_2_DAPI_PolyT_0.8 exist already.\n",
      "Skipping adata import of Baysor_2D_Cellpose_2_DAPI_PolyT_0.8 as adata_Baysor_2D_Cellpose_2_DAPI_PolyT_0.8 exist already.\n",
      "Skipping boundary import of Baysor_2D_Cellpose_1_nuclei_model_1.0 as boundaries_Baysor_2D_Cellpose_1_nuclei_model_1.0 exist already.\n",
      "Skipping adata import of Baysor_2D_Cellpose_1_nuclei_model_1.0 as adata_Baysor_2D_Cellpose_1_nuclei_model_1.0 exist already.\n",
      "Skipping boundary import of Proseg_Cellpose_2_DAPI_PolyT as boundaries_Proseg_Cellpose_2_DAPI_PolyT exist already.\n",
      "Skipping adata import of Proseg_Cellpose_2_DAPI_PolyT as adata_Proseg_Cellpose_2_DAPI_PolyT exist already.\n",
      "Skipping boundary import of Baysor_2D_Cellpose_1_DAPI_PolyT_0.8 as boundaries_Baysor_2D_Cellpose_1_DAPI_PolyT_0.8 exist already.\n",
      "Skipping adata import of Baysor_2D_Cellpose_1_DAPI_PolyT_0.8 as adata_Baysor_2D_Cellpose_1_DAPI_PolyT_0.8 exist already.\n",
      "Skipping boundary import of Proseg_Cellpose_1_DAPI_PolyT as boundaries_Proseg_Cellpose_1_DAPI_PolyT exist already.\n",
      "Skipping adata import of Proseg_Cellpose_1_DAPI_PolyT as adata_Proseg_Cellpose_1_DAPI_PolyT exist already.\n",
      "\n",
      "Processing foxf2_s3_r0...\n"
     ]
    },
    {
     "name": "stderr",
     "output_type": "stream",
     "text": [
      "/dss/dsshome1/0C/ra98gaq/miniconda3/envs/sdata/lib/python3.11/site-packages/spatialdata/_core/spatialdata.py:185: UserWarning: The table is annotating 'baysor_boundaries', which is not present in the SpatialData object.\n",
      "  self.validate_table_in_spatialdata(v)\n",
      "/dss/dsshome1/0C/ra98gaq/miniconda3/envs/sdata/lib/python3.11/site-packages/spatialdata/_core/spatialdata.py:185: UserWarning: The table is annotating 'cellpose_boundaries', which is not present in the SpatialData object.\n",
      "  self.validate_table_in_spatialdata(v)\n",
      "/dss/dsshome1/0C/ra98gaq/miniconda3/envs/sdata/lib/python3.11/site-packages/spatialdata/_core/spatialdata.py:185: UserWarning: The table is annotating '20240325_Foxf2-Slide03-cp-ECKO-PCKO_region_0-ECKO544_polygons', which is not present in the SpatialData object.\n",
      "  self.validate_table_in_spatialdata(v)\n",
      "/dss/dsshome1/0C/ra98gaq/miniconda3/envs/sdata/lib/python3.11/site-packages/spatialdata/_core/spatialdata.py:185: UserWarning: The table is annotating 'image_patches', which is not present in the SpatialData object.\n",
      "  self.validate_table_in_spatialdata(v)\n",
      "/dss/dsshome1/0C/ra98gaq/miniconda3/envs/sdata/lib/python3.11/site-packages/spatialdata/_core/spatialdata.py:185: UserWarning: The table is annotating 'proseg_boundaries', which is not present in the SpatialData object.\n",
      "  self.validate_table_in_spatialdata(v)\n"
     ]
    },
    {
     "name": "stdout",
     "output_type": "stream",
     "text": [
      "Skipping boundary import of Baysor_2D_Cellpose_2_DAPI_Transcripts_0.8 as boundaries_Baysor_2D_Cellpose_2_DAPI_Transcripts_0.8 exist already.\n",
      "Skipping adata import of Baysor_2D_Cellpose_2_DAPI_Transcripts_0.8 as adata_Baysor_2D_Cellpose_2_DAPI_Transcripts_0.8 exist already.\n",
      "No boundaries/adata files found for ComSeg_Cellpose_1_DAPI_Transcripts. Skipping.\n",
      "No boundaries/adata files found for Proseg_Cellpose_1_nuclei_model_vxl_2. Skipping.\n",
      "Skipping boundary import of Cellpose_1_nuclei_model as boundaries_Cellpose_1_nuclei_model exist already.\n",
      "Skipping adata import of Cellpose_1_nuclei_model as adata_Cellpose_1_nuclei_model exist already.\n",
      "Skipping boundary import of Baysor_2D_Cellpose_2_DAPI_PolyT_0.2 as boundaries_Baysor_2D_Cellpose_2_DAPI_PolyT_0.2 exist already.\n",
      "Skipping adata import of Baysor_2D_Cellpose_2_DAPI_PolyT_0.2 as adata_Baysor_2D_Cellpose_2_DAPI_PolyT_0.2 exist already.\n",
      "Skipping boundary import of Baysor_2D_Cellpose_1_DAPI_Transcripts_0.8 as boundaries_Baysor_2D_Cellpose_1_DAPI_Transcripts_0.8 exist already.\n",
      "Skipping adata import of Baysor_2D_Cellpose_1_DAPI_Transcripts_0.8 as adata_Baysor_2D_Cellpose_1_DAPI_Transcripts_0.8 exist already.\n",
      "No boundaries/adata files found for Proseg_Cellpose_1_DAPI_Transcripts_vxl_2. Skipping.\n",
      "Skipping boundary import of Negative_Control_Rastered_5 as boundaries_Negative_Control_Rastered_5 exist already.\n",
      "Skipping adata import of Negative_Control_Rastered_5 as adata_Negative_Control_Rastered_5 exist already.\n",
      "Skipping boundary import of Cellpose_2_DAPI_PolyT as boundaries_Cellpose_2_DAPI_PolyT exist already.\n",
      "Skipping adata import of Cellpose_2_DAPI_PolyT as adata_Cellpose_2_DAPI_PolyT exist already.\n",
      "No boundaries/adata files found for Proseg_Cellpose_2_DAPI_PolyT_vxl_2. Skipping.\n",
      "Skipping boundary import of Proseg_Cellpose_1_DAPI_Transcripts as boundaries_Proseg_Cellpose_1_DAPI_Transcripts exist already.\n",
      "Skipping adata import of Proseg_Cellpose_1_DAPI_Transcripts as adata_Proseg_Cellpose_1_DAPI_Transcripts exist already.\n",
      "Skipping boundary import of Baysor_2D_Cellpose_1_DAPI_Transcripts_0.2 as boundaries_Baysor_2D_Cellpose_1_DAPI_Transcripts_0.2 exist already.\n",
      "Skipping adata import of Baysor_2D_Cellpose_1_DAPI_Transcripts_0.2 as adata_Baysor_2D_Cellpose_1_DAPI_Transcripts_0.2 exist already.\n",
      "Skipping boundary import of Baysor_2D_Cellpose_1_DAPI_PolyT_0.2 as boundaries_Baysor_2D_Cellpose_1_DAPI_PolyT_0.2 exist already.\n",
      "Skipping adata import of Baysor_2D_Cellpose_1_DAPI_PolyT_0.2 as adata_Baysor_2D_Cellpose_1_DAPI_PolyT_0.2 exist already.\n",
      "Skipping boundary import of Baysor_2D_Cellpose_2_DAPI_Transcripts_0.2 as boundaries_Baysor_2D_Cellpose_2_DAPI_Transcripts_0.2 exist already.\n",
      "Skipping adata import of Baysor_2D_Cellpose_2_DAPI_Transcripts_0.2 as adata_Baysor_2D_Cellpose_2_DAPI_Transcripts_0.2 exist already.\n",
      "Skipping boundary import of Cellpose_1_DAPI_PolyT as boundaries_Cellpose_1_DAPI_PolyT exist already.\n",
      "Skipping adata import of Cellpose_1_DAPI_PolyT as adata_Cellpose_1_DAPI_PolyT exist already.\n",
      "No boundaries/adata files found for Proseg_Cellpose_2_DAPI_Transcripts_vxl_2. Skipping.\n",
      "Skipping boundary import of Negative_Control_Rastered_10 as boundaries_Negative_Control_Rastered_10 exist already.\n",
      "Skipping adata import of Negative_Control_Rastered_10 as adata_Negative_Control_Rastered_10 exist already.\n",
      "No boundaries/adata files found for Proseg_Cellpose_1_DAPI_PolyT_vxl_2. Skipping.\n",
      "Skipping boundary import of Proseg_Cellpose_2_DAPI_Transcripts as boundaries_Proseg_Cellpose_2_DAPI_Transcripts exist already.\n",
      "Skipping adata import of Proseg_Cellpose_2_DAPI_Transcripts as adata_Proseg_Cellpose_2_DAPI_Transcripts exist already.\n",
      "Skipping boundary import of Proseg_Cellpose_1_nuclei_model as boundaries_Proseg_Cellpose_1_nuclei_model exist already.\n",
      "Skipping adata import of Proseg_Cellpose_1_nuclei_model as adata_Proseg_Cellpose_1_nuclei_model exist already.\n",
      "Skipping boundary import of Cellpose_2_DAPI_Transcripts as boundaries_Cellpose_2_DAPI_Transcripts exist already.\n",
      "Skipping adata import of Cellpose_2_DAPI_Transcripts as adata_Cellpose_2_DAPI_Transcripts exist already.\n",
      "Shapes file missing for Cellpose_1_Merlin. Skipping boundary import.\n",
      "Skipping adata import of Cellpose_1_Merlin as adata_Cellpose_1_Merlin exist already.\n",
      "Skipping boundary import of Negative_Control_Rastered_25 as boundaries_Negative_Control_Rastered_25 exist already.\n",
      "Skipping adata import of Negative_Control_Rastered_25 as adata_Negative_Control_Rastered_25 exist already.\n",
      "No boundaries/adata files found for ComSeg_Cellpose_2_DAPI_Transcripts. Skipping.\n",
      "Skipping boundary import of Cellpose_1_DAPI_Transcripts as boundaries_Cellpose_1_DAPI_Transcripts exist already.\n",
      "Skipping adata import of Cellpose_1_DAPI_Transcripts as adata_Cellpose_1_DAPI_Transcripts exist already.\n",
      "Skipping boundary import of Baysor_2D_Cellpose_2_DAPI_PolyT_0.8 as boundaries_Baysor_2D_Cellpose_2_DAPI_PolyT_0.8 exist already.\n",
      "Skipping adata import of Baysor_2D_Cellpose_2_DAPI_PolyT_0.8 as adata_Baysor_2D_Cellpose_2_DAPI_PolyT_0.8 exist already.\n",
      "Skipping boundary import of Baysor_2D_Cellpose_1_nuclei_model_1.0 as boundaries_Baysor_2D_Cellpose_1_nuclei_model_1.0 exist already.\n",
      "Skipping adata import of Baysor_2D_Cellpose_1_nuclei_model_1.0 as adata_Baysor_2D_Cellpose_1_nuclei_model_1.0 exist already.\n",
      "Skipping boundary import of Proseg_Cellpose_2_DAPI_PolyT as boundaries_Proseg_Cellpose_2_DAPI_PolyT exist already.\n",
      "Skipping adata import of Proseg_Cellpose_2_DAPI_PolyT as adata_Proseg_Cellpose_2_DAPI_PolyT exist already.\n",
      "Skipping boundary import of Baysor_2D_Cellpose_1_DAPI_PolyT_0.8 as boundaries_Baysor_2D_Cellpose_1_DAPI_PolyT_0.8 exist already.\n",
      "Skipping adata import of Baysor_2D_Cellpose_1_DAPI_PolyT_0.8 as adata_Baysor_2D_Cellpose_1_DAPI_PolyT_0.8 exist already.\n",
      "Skipping boundary import of Proseg_Cellpose_1_DAPI_PolyT as boundaries_Proseg_Cellpose_1_DAPI_PolyT exist already.\n",
      "Skipping adata import of Proseg_Cellpose_1_DAPI_PolyT as adata_Proseg_Cellpose_1_DAPI_PolyT exist already.\n",
      "\n",
      "Processing foxf2_s3_r1...\n"
     ]
    },
    {
     "name": "stderr",
     "output_type": "stream",
     "text": [
      "/dss/dsshome1/0C/ra98gaq/miniconda3/envs/sdata/lib/python3.11/site-packages/spatialdata/_core/spatialdata.py:185: UserWarning: The table is annotating 'baysor_boundaries', which is not present in the SpatialData object.\n",
      "  self.validate_table_in_spatialdata(v)\n",
      "/dss/dsshome1/0C/ra98gaq/miniconda3/envs/sdata/lib/python3.11/site-packages/spatialdata/_core/spatialdata.py:185: UserWarning: The table is annotating 'cellpose_boundaries', which is not present in the SpatialData object.\n",
      "  self.validate_table_in_spatialdata(v)\n",
      "/dss/dsshome1/0C/ra98gaq/miniconda3/envs/sdata/lib/python3.11/site-packages/spatialdata/_core/spatialdata.py:185: UserWarning: The table is annotating '20240325_Foxf2-Slide03-cp-ECKO-PCKO_region_1-PCKO238_polygons', which is not present in the SpatialData object.\n",
      "  self.validate_table_in_spatialdata(v)\n",
      "/dss/dsshome1/0C/ra98gaq/miniconda3/envs/sdata/lib/python3.11/site-packages/spatialdata/_core/spatialdata.py:185: UserWarning: The table is annotating 'image_patches', which is not present in the SpatialData object.\n",
      "  self.validate_table_in_spatialdata(v)\n",
      "/dss/dsshome1/0C/ra98gaq/miniconda3/envs/sdata/lib/python3.11/site-packages/spatialdata/_core/spatialdata.py:185: UserWarning: The table is annotating 'proseg_boundaries', which is not present in the SpatialData object.\n",
      "  self.validate_table_in_spatialdata(v)\n"
     ]
    },
    {
     "name": "stdout",
     "output_type": "stream",
     "text": [
      "Skipping boundary import of Baysor_2D_Cellpose_2_DAPI_Transcripts_0.8 as boundaries_Baysor_2D_Cellpose_2_DAPI_Transcripts_0.8 exist already.\n",
      "Skipping adata import of Baysor_2D_Cellpose_2_DAPI_Transcripts_0.8 as adata_Baysor_2D_Cellpose_2_DAPI_Transcripts_0.8 exist already.\n",
      "No boundaries/adata files found for ComSeg_Cellpose_1_DAPI_Transcripts. Skipping.\n",
      "No boundaries/adata files found for Proseg_Cellpose_1_nuclei_model_vxl_2. Skipping.\n",
      "Skipping boundary import of Cellpose_1_nuclei_model as boundaries_Cellpose_1_nuclei_model exist already.\n",
      "Skipping adata import of Cellpose_1_nuclei_model as adata_Cellpose_1_nuclei_model exist already.\n",
      "Skipping boundary import of Baysor_2D_Cellpose_2_DAPI_PolyT_0.2 as boundaries_Baysor_2D_Cellpose_2_DAPI_PolyT_0.2 exist already.\n",
      "Skipping adata import of Baysor_2D_Cellpose_2_DAPI_PolyT_0.2 as adata_Baysor_2D_Cellpose_2_DAPI_PolyT_0.2 exist already.\n",
      "Skipping boundary import of Baysor_2D_Cellpose_1_DAPI_Transcripts_0.8 as boundaries_Baysor_2D_Cellpose_1_DAPI_Transcripts_0.8 exist already.\n",
      "Skipping adata import of Baysor_2D_Cellpose_1_DAPI_Transcripts_0.8 as adata_Baysor_2D_Cellpose_1_DAPI_Transcripts_0.8 exist already.\n",
      "No boundaries/adata files found for Proseg_Cellpose_1_DAPI_Transcripts_vxl_2. Skipping.\n",
      "Skipping boundary import of Negative_Control_Rastered_5 as boundaries_Negative_Control_Rastered_5 exist already.\n",
      "Skipping adata import of Negative_Control_Rastered_5 as adata_Negative_Control_Rastered_5 exist already.\n",
      "Skipping boundary import of Cellpose_2_DAPI_PolyT as boundaries_Cellpose_2_DAPI_PolyT exist already.\n",
      "Skipping adata import of Cellpose_2_DAPI_PolyT as adata_Cellpose_2_DAPI_PolyT exist already.\n",
      "No boundaries/adata files found for Proseg_Cellpose_2_DAPI_PolyT_vxl_2. Skipping.\n",
      "Skipping boundary import of Proseg_Cellpose_1_DAPI_Transcripts as boundaries_Proseg_Cellpose_1_DAPI_Transcripts exist already.\n",
      "Skipping adata import of Proseg_Cellpose_1_DAPI_Transcripts as adata_Proseg_Cellpose_1_DAPI_Transcripts exist already.\n",
      "Skipping boundary import of Baysor_2D_Cellpose_1_DAPI_Transcripts_0.2 as boundaries_Baysor_2D_Cellpose_1_DAPI_Transcripts_0.2 exist already.\n",
      "Skipping adata import of Baysor_2D_Cellpose_1_DAPI_Transcripts_0.2 as adata_Baysor_2D_Cellpose_1_DAPI_Transcripts_0.2 exist already.\n",
      "Skipping boundary import of Baysor_2D_Cellpose_1_DAPI_PolyT_0.2 as boundaries_Baysor_2D_Cellpose_1_DAPI_PolyT_0.2 exist already.\n",
      "Skipping adata import of Baysor_2D_Cellpose_1_DAPI_PolyT_0.2 as adata_Baysor_2D_Cellpose_1_DAPI_PolyT_0.2 exist already.\n",
      "Skipping boundary import of Baysor_2D_Cellpose_2_DAPI_Transcripts_0.2 as boundaries_Baysor_2D_Cellpose_2_DAPI_Transcripts_0.2 exist already.\n",
      "Skipping adata import of Baysor_2D_Cellpose_2_DAPI_Transcripts_0.2 as adata_Baysor_2D_Cellpose_2_DAPI_Transcripts_0.2 exist already.\n",
      "Skipping boundary import of Cellpose_1_DAPI_PolyT as boundaries_Cellpose_1_DAPI_PolyT exist already.\n",
      "Skipping adata import of Cellpose_1_DAPI_PolyT as adata_Cellpose_1_DAPI_PolyT exist already.\n",
      "No boundaries/adata files found for Proseg_Cellpose_2_DAPI_Transcripts_vxl_2. Skipping.\n",
      "Skipping boundary import of Negative_Control_Rastered_10 as boundaries_Negative_Control_Rastered_10 exist already.\n",
      "Skipping adata import of Negative_Control_Rastered_10 as adata_Negative_Control_Rastered_10 exist already.\n",
      "No boundaries/adata files found for Proseg_Cellpose_1_DAPI_PolyT_vxl_2. Skipping.\n",
      "Skipping boundary import of Proseg_Cellpose_2_DAPI_Transcripts as boundaries_Proseg_Cellpose_2_DAPI_Transcripts exist already.\n",
      "Skipping adata import of Proseg_Cellpose_2_DAPI_Transcripts as adata_Proseg_Cellpose_2_DAPI_Transcripts exist already.\n",
      "Skipping boundary import of Proseg_Cellpose_1_nuclei_model as boundaries_Proseg_Cellpose_1_nuclei_model exist already.\n",
      "Skipping adata import of Proseg_Cellpose_1_nuclei_model as adata_Proseg_Cellpose_1_nuclei_model exist already.\n",
      "Skipping boundary import of Cellpose_2_DAPI_Transcripts as boundaries_Cellpose_2_DAPI_Transcripts exist already.\n",
      "Skipping adata import of Cellpose_2_DAPI_Transcripts as adata_Cellpose_2_DAPI_Transcripts exist already.\n"
     ]
    },
    {
     "name": "stderr",
     "output_type": "stream",
     "text": [
      "/dss/dsshome1/0C/ra98gaq/miniconda3/envs/sdata/lib/python3.11/site-packages/zarr/creation.py:614: UserWarning: ignoring keyword argument 'read_only'\n",
      "  compressor, fill_value = _kwargs_compat(compressor, fill_value, kwargs)\n",
      "/dss/dsshome1/0C/ra98gaq/miniconda3/envs/sdata/lib/python3.11/site-packages/zarr/creation.py:614: UserWarning: ignoring keyword argument 'read_only'\n",
      "  compressor, fill_value = _kwargs_compat(compressor, fill_value, kwargs)\n",
      "/dss/dsshome1/0C/ra98gaq/miniconda3/envs/sdata/lib/python3.11/site-packages/zarr/creation.py:614: UserWarning: ignoring keyword argument 'read_only'\n",
      "  compressor, fill_value = _kwargs_compat(compressor, fill_value, kwargs)\n",
      "/dss/dsshome1/0C/ra98gaq/miniconda3/envs/sdata/lib/python3.11/site-packages/zarr/creation.py:614: UserWarning: ignoring keyword argument 'read_only'\n",
      "  compressor, fill_value = _kwargs_compat(compressor, fill_value, kwargs)\n",
      "/dss/dsshome1/0C/ra98gaq/miniconda3/envs/sdata/lib/python3.11/site-packages/zarr/creation.py:614: UserWarning: ignoring keyword argument 'read_only'\n",
      "  compressor, fill_value = _kwargs_compat(compressor, fill_value, kwargs)\n"
     ]
    },
    {
     "name": "stdout",
     "output_type": "stream",
     "text": [
      "Shapes file missing for Cellpose_1_Merlin. Skipping boundary import.\n",
      "Skipping adata import of Cellpose_1_Merlin as adata_Cellpose_1_Merlin exist already.\n",
      "Skipping boundary import of Negative_Control_Rastered_25 as boundaries_Negative_Control_Rastered_25 exist already.\n",
      "Skipping adata import of Negative_Control_Rastered_25 as adata_Negative_Control_Rastered_25 exist already.\n",
      "No boundaries/adata files found for ComSeg_Cellpose_2_DAPI_Transcripts. Skipping.\n",
      "Skipping boundary import of Cellpose_1_DAPI_Transcripts as boundaries_Cellpose_1_DAPI_Transcripts exist already.\n",
      "Skipping adata import of Cellpose_1_DAPI_Transcripts as adata_Cellpose_1_DAPI_Transcripts exist already.\n",
      "Skipping boundary import of Baysor_2D_Cellpose_2_DAPI_PolyT_0.8 as boundaries_Baysor_2D_Cellpose_2_DAPI_PolyT_0.8 exist already.\n",
      "Skipping adata import of Baysor_2D_Cellpose_2_DAPI_PolyT_0.8 as adata_Baysor_2D_Cellpose_2_DAPI_PolyT_0.8 exist already.\n",
      "Skipping boundary import of Baysor_2D_Cellpose_1_nuclei_model_1.0 as boundaries_Baysor_2D_Cellpose_1_nuclei_model_1.0 exist already.\n",
      "Skipping adata import of Baysor_2D_Cellpose_1_nuclei_model_1.0 as adata_Baysor_2D_Cellpose_1_nuclei_model_1.0 exist already.\n",
      "Skipping boundary import of Proseg_Cellpose_2_DAPI_PolyT as boundaries_Proseg_Cellpose_2_DAPI_PolyT exist already.\n",
      "Skipping adata import of Proseg_Cellpose_2_DAPI_PolyT as adata_Proseg_Cellpose_2_DAPI_PolyT exist already.\n",
      "Skipping boundary import of Baysor_2D_Cellpose_1_DAPI_PolyT_0.8 as boundaries_Baysor_2D_Cellpose_1_DAPI_PolyT_0.8 exist already.\n",
      "Skipping adata import of Baysor_2D_Cellpose_1_DAPI_PolyT_0.8 as adata_Baysor_2D_Cellpose_1_DAPI_PolyT_0.8 exist already.\n",
      "Skipping boundary import of Proseg_Cellpose_1_DAPI_PolyT as boundaries_Proseg_Cellpose_1_DAPI_PolyT exist already.\n",
      "Skipping adata import of Proseg_Cellpose_1_DAPI_PolyT as adata_Proseg_Cellpose_1_DAPI_PolyT exist already.\n",
      "\n",
      "Processing foxf2_s4_r0...\n"
     ]
    },
    {
     "name": "stderr",
     "output_type": "stream",
     "text": [
      "/dss/dsshome1/0C/ra98gaq/miniconda3/envs/sdata/lib/python3.11/site-packages/spatialdata/_core/spatialdata.py:185: UserWarning: The table is annotating 'baysor_boundaries', which is not present in the SpatialData object.\n",
      "  self.validate_table_in_spatialdata(v)\n",
      "/dss/dsshome1/0C/ra98gaq/miniconda3/envs/sdata/lib/python3.11/site-packages/spatialdata/_core/spatialdata.py:185: UserWarning: The table is annotating 'cellpose_boundaries', which is not present in the SpatialData object.\n",
      "  self.validate_table_in_spatialdata(v)\n",
      "/dss/dsshome1/0C/ra98gaq/miniconda3/envs/sdata/lib/python3.11/site-packages/spatialdata/_core/spatialdata.py:185: UserWarning: The table is annotating '20240304_Foxf2-Slide04-cp-ECKO-PCKO_region_0-PCKO421_polygons', which is not present in the SpatialData object.\n",
      "  self.validate_table_in_spatialdata(v)\n",
      "/dss/dsshome1/0C/ra98gaq/miniconda3/envs/sdata/lib/python3.11/site-packages/spatialdata/_core/spatialdata.py:185: UserWarning: The table is annotating 'image_patches', which is not present in the SpatialData object.\n",
      "  self.validate_table_in_spatialdata(v)\n",
      "/dss/dsshome1/0C/ra98gaq/miniconda3/envs/sdata/lib/python3.11/site-packages/spatialdata/_core/spatialdata.py:185: UserWarning: The table is annotating 'proseg_boundaries', which is not present in the SpatialData object.\n",
      "  self.validate_table_in_spatialdata(v)\n"
     ]
    },
    {
     "name": "stdout",
     "output_type": "stream",
     "text": [
      "Skipping boundary import of Baysor_2D_Cellpose_2_DAPI_Transcripts_0.8 as boundaries_Baysor_2D_Cellpose_2_DAPI_Transcripts_0.8 exist already.\n",
      "Skipping adata import of Baysor_2D_Cellpose_2_DAPI_Transcripts_0.8 as adata_Baysor_2D_Cellpose_2_DAPI_Transcripts_0.8 exist already.\n",
      "No boundaries/adata files found for ComSeg_Cellpose_1_DAPI_Transcripts. Skipping.\n",
      "No boundaries/adata files found for Proseg_Cellpose_1_nuclei_model_vxl_2. Skipping.\n",
      "Skipping boundary import of Cellpose_1_nuclei_model as boundaries_Cellpose_1_nuclei_model exist already.\n",
      "Skipping adata import of Cellpose_1_nuclei_model as adata_Cellpose_1_nuclei_model exist already.\n",
      "Skipping boundary import of Baysor_2D_Cellpose_2_DAPI_PolyT_0.2 as boundaries_Baysor_2D_Cellpose_2_DAPI_PolyT_0.2 exist already.\n",
      "Skipping adata import of Baysor_2D_Cellpose_2_DAPI_PolyT_0.2 as adata_Baysor_2D_Cellpose_2_DAPI_PolyT_0.2 exist already.\n",
      "Skipping boundary import of Baysor_2D_Cellpose_1_DAPI_Transcripts_0.8 as boundaries_Baysor_2D_Cellpose_1_DAPI_Transcripts_0.8 exist already.\n",
      "Skipping adata import of Baysor_2D_Cellpose_1_DAPI_Transcripts_0.8 as adata_Baysor_2D_Cellpose_1_DAPI_Transcripts_0.8 exist already.\n",
      "No boundaries/adata files found for Proseg_Cellpose_1_DAPI_Transcripts_vxl_2. Skipping.\n",
      "Skipping boundary import of Negative_Control_Rastered_5 as boundaries_Negative_Control_Rastered_5 exist already.\n",
      "Skipping adata import of Negative_Control_Rastered_5 as adata_Negative_Control_Rastered_5 exist already.\n",
      "Skipping boundary import of Cellpose_2_DAPI_PolyT as boundaries_Cellpose_2_DAPI_PolyT exist already.\n",
      "Skipping adata import of Cellpose_2_DAPI_PolyT as adata_Cellpose_2_DAPI_PolyT exist already.\n",
      "No boundaries/adata files found for Proseg_Cellpose_2_DAPI_PolyT_vxl_2. Skipping.\n",
      "Skipping boundary import of Proseg_Cellpose_1_DAPI_Transcripts as boundaries_Proseg_Cellpose_1_DAPI_Transcripts exist already.\n",
      "Skipping adata import of Proseg_Cellpose_1_DAPI_Transcripts as adata_Proseg_Cellpose_1_DAPI_Transcripts exist already.\n",
      "Skipping boundary import of Baysor_2D_Cellpose_1_DAPI_Transcripts_0.2 as boundaries_Baysor_2D_Cellpose_1_DAPI_Transcripts_0.2 exist already.\n",
      "Skipping adata import of Baysor_2D_Cellpose_1_DAPI_Transcripts_0.2 as adata_Baysor_2D_Cellpose_1_DAPI_Transcripts_0.2 exist already.\n"
     ]
    },
    {
     "name": "stderr",
     "output_type": "stream",
     "text": [
      "/dss/dsshome1/0C/ra98gaq/miniconda3/envs/sdata/lib/python3.11/site-packages/zarr/creation.py:614: UserWarning: ignoring keyword argument 'read_only'\n",
      "  compressor, fill_value = _kwargs_compat(compressor, fill_value, kwargs)\n",
      "/dss/dsshome1/0C/ra98gaq/miniconda3/envs/sdata/lib/python3.11/site-packages/zarr/creation.py:614: UserWarning: ignoring keyword argument 'read_only'\n",
      "  compressor, fill_value = _kwargs_compat(compressor, fill_value, kwargs)\n",
      "/dss/dsshome1/0C/ra98gaq/miniconda3/envs/sdata/lib/python3.11/site-packages/zarr/creation.py:614: UserWarning: ignoring keyword argument 'read_only'\n",
      "  compressor, fill_value = _kwargs_compat(compressor, fill_value, kwargs)\n",
      "/dss/dsshome1/0C/ra98gaq/miniconda3/envs/sdata/lib/python3.11/site-packages/zarr/creation.py:614: UserWarning: ignoring keyword argument 'read_only'\n",
      "  compressor, fill_value = _kwargs_compat(compressor, fill_value, kwargs)\n",
      "/dss/dsshome1/0C/ra98gaq/miniconda3/envs/sdata/lib/python3.11/site-packages/zarr/creation.py:614: UserWarning: ignoring keyword argument 'read_only'\n",
      "  compressor, fill_value = _kwargs_compat(compressor, fill_value, kwargs)\n"
     ]
    },
    {
     "name": "stdout",
     "output_type": "stream",
     "text": [
      "Shapes file missing for Baysor_3D. Skipping boundary import.\n",
      "Table file missing for Baysor_3D. Skipping adata import.\n",
      "Skipping boundary import of Baysor_2D_Cellpose_1_DAPI_PolyT_0.2 as boundaries_Baysor_2D_Cellpose_1_DAPI_PolyT_0.2 exist already.\n",
      "Skipping adata import of Baysor_2D_Cellpose_1_DAPI_PolyT_0.2 as adata_Baysor_2D_Cellpose_1_DAPI_PolyT_0.2 exist already.\n",
      "Skipping boundary import of Baysor_2D_Cellpose_2_DAPI_Transcripts_0.2 as boundaries_Baysor_2D_Cellpose_2_DAPI_Transcripts_0.2 exist already.\n",
      "Skipping adata import of Baysor_2D_Cellpose_2_DAPI_Transcripts_0.2 as adata_Baysor_2D_Cellpose_2_DAPI_Transcripts_0.2 exist already.\n",
      "Skipping boundary import of Cellpose_1_DAPI_PolyT as boundaries_Cellpose_1_DAPI_PolyT exist already.\n",
      "Skipping adata import of Cellpose_1_DAPI_PolyT as adata_Cellpose_1_DAPI_PolyT exist already.\n",
      "No boundaries/adata files found for Proseg_Cellpose_2_DAPI_Transcripts_vxl_2. Skipping.\n",
      "Skipping boundary import of Negative_Control_Rastered_10 as boundaries_Negative_Control_Rastered_10 exist already.\n",
      "Skipping adata import of Negative_Control_Rastered_10 as adata_Negative_Control_Rastered_10 exist already.\n",
      "No boundaries/adata files found for Proseg_Cellpose_1_DAPI_PolyT_vxl_2. Skipping.\n",
      "Skipping boundary import of Proseg_Cellpose_2_DAPI_Transcripts as boundaries_Proseg_Cellpose_2_DAPI_Transcripts exist already.\n",
      "Skipping adata import of Proseg_Cellpose_2_DAPI_Transcripts as adata_Proseg_Cellpose_2_DAPI_Transcripts exist already.\n",
      "Skipping boundary import of Proseg_Cellpose_1_nuclei_model as boundaries_Proseg_Cellpose_1_nuclei_model exist already.\n",
      "Skipping adata import of Proseg_Cellpose_1_nuclei_model as adata_Proseg_Cellpose_1_nuclei_model exist already.\n",
      "Skipping boundary import of Cellpose_2_DAPI_Transcripts as boundaries_Cellpose_2_DAPI_Transcripts exist already.\n",
      "Skipping adata import of Cellpose_2_DAPI_Transcripts as adata_Cellpose_2_DAPI_Transcripts exist already.\n",
      "Shapes file missing for Cellpose_1_Merlin. Skipping boundary import.\n",
      "Skipping adata import of Cellpose_1_Merlin as adata_Cellpose_1_Merlin exist already.\n",
      "Skipping boundary import of Negative_Control_Rastered_25 as boundaries_Negative_Control_Rastered_25 exist already.\n",
      "Skipping adata import of Negative_Control_Rastered_25 as adata_Negative_Control_Rastered_25 exist already.\n",
      "No boundaries/adata files found for ComSeg_Cellpose_2_DAPI_Transcripts. Skipping.\n",
      "Skipping boundary import of Cellpose_1_DAPI_Transcripts as boundaries_Cellpose_1_DAPI_Transcripts exist already.\n",
      "Skipping adata import of Cellpose_1_DAPI_Transcripts as adata_Cellpose_1_DAPI_Transcripts exist already.\n",
      "Skipping boundary import of Baysor_2D_Cellpose_2_DAPI_PolyT_0.8 as boundaries_Baysor_2D_Cellpose_2_DAPI_PolyT_0.8 exist already.\n",
      "Skipping adata import of Baysor_2D_Cellpose_2_DAPI_PolyT_0.8 as adata_Baysor_2D_Cellpose_2_DAPI_PolyT_0.8 exist already.\n",
      "Skipping boundary import of Baysor_2D_Cellpose_1_nuclei_model_1.0 as boundaries_Baysor_2D_Cellpose_1_nuclei_model_1.0 exist already.\n",
      "Skipping adata import of Baysor_2D_Cellpose_1_nuclei_model_1.0 as adata_Baysor_2D_Cellpose_1_nuclei_model_1.0 exist already.\n",
      "Skipping boundary import of Proseg_Cellpose_2_DAPI_PolyT as boundaries_Proseg_Cellpose_2_DAPI_PolyT exist already.\n",
      "Skipping adata import of Proseg_Cellpose_2_DAPI_PolyT as adata_Proseg_Cellpose_2_DAPI_PolyT exist already.\n",
      "Skipping boundary import of Baysor_2D_Cellpose_1_DAPI_PolyT_0.8 as boundaries_Baysor_2D_Cellpose_1_DAPI_PolyT_0.8 exist already.\n",
      "Skipping adata import of Baysor_2D_Cellpose_1_DAPI_PolyT_0.8 as adata_Baysor_2D_Cellpose_1_DAPI_PolyT_0.8 exist already.\n",
      "Skipping boundary import of Proseg_Cellpose_1_DAPI_PolyT as boundaries_Proseg_Cellpose_1_DAPI_PolyT exist already.\n",
      "Skipping adata import of Proseg_Cellpose_1_DAPI_PolyT as adata_Proseg_Cellpose_1_DAPI_PolyT exist already.\n",
      "\n",
      "Processing foxf2_s4_r1...\n"
     ]
    },
    {
     "name": "stderr",
     "output_type": "stream",
     "text": [
      "/dss/dsshome1/0C/ra98gaq/miniconda3/envs/sdata/lib/python3.11/site-packages/spatialdata/_core/spatialdata.py:185: UserWarning: The table is annotating 'baysor_boundaries', which is not present in the SpatialData object.\n",
      "  self.validate_table_in_spatialdata(v)\n",
      "/dss/dsshome1/0C/ra98gaq/miniconda3/envs/sdata/lib/python3.11/site-packages/spatialdata/_core/spatialdata.py:185: UserWarning: The table is annotating 'cellpose_boundaries', which is not present in the SpatialData object.\n",
      "  self.validate_table_in_spatialdata(v)\n",
      "/dss/dsshome1/0C/ra98gaq/miniconda3/envs/sdata/lib/python3.11/site-packages/spatialdata/_core/spatialdata.py:185: UserWarning: The table is annotating '20240304_Foxf2-Slide04-cp-ECKO-PCKO_region_1-ECKO557_polygons', which is not present in the SpatialData object.\n",
      "  self.validate_table_in_spatialdata(v)\n",
      "/dss/dsshome1/0C/ra98gaq/miniconda3/envs/sdata/lib/python3.11/site-packages/spatialdata/_core/spatialdata.py:185: UserWarning: The table is annotating 'image_patches', which is not present in the SpatialData object.\n",
      "  self.validate_table_in_spatialdata(v)\n",
      "/dss/dsshome1/0C/ra98gaq/miniconda3/envs/sdata/lib/python3.11/site-packages/spatialdata/_core/spatialdata.py:185: UserWarning: The table is annotating 'proseg_boundaries', which is not present in the SpatialData object.\n",
      "  self.validate_table_in_spatialdata(v)\n"
     ]
    },
    {
     "name": "stdout",
     "output_type": "stream",
     "text": [
      "Skipping boundary import of Baysor_2D_Cellpose_2_DAPI_Transcripts_0.8 as boundaries_Baysor_2D_Cellpose_2_DAPI_Transcripts_0.8 exist already.\n",
      "Skipping adata import of Baysor_2D_Cellpose_2_DAPI_Transcripts_0.8 as adata_Baysor_2D_Cellpose_2_DAPI_Transcripts_0.8 exist already.\n",
      "No boundaries/adata files found for ComSeg_Cellpose_1_DAPI_Transcripts. Skipping.\n",
      "No boundaries/adata files found for Proseg_Cellpose_1_nuclei_model_vxl_2. Skipping.\n",
      "Skipping boundary import of Cellpose_1_nuclei_model as boundaries_Cellpose_1_nuclei_model exist already.\n",
      "Skipping adata import of Cellpose_1_nuclei_model as adata_Cellpose_1_nuclei_model exist already.\n",
      "Skipping boundary import of Baysor_2D_Cellpose_2_DAPI_PolyT_0.2 as boundaries_Baysor_2D_Cellpose_2_DAPI_PolyT_0.2 exist already.\n",
      "Skipping adata import of Baysor_2D_Cellpose_2_DAPI_PolyT_0.2 as adata_Baysor_2D_Cellpose_2_DAPI_PolyT_0.2 exist already.\n",
      "Skipping boundary import of Baysor_2D_Cellpose_1_DAPI_Transcripts_0.8 as boundaries_Baysor_2D_Cellpose_1_DAPI_Transcripts_0.8 exist already.\n",
      "Skipping adata import of Baysor_2D_Cellpose_1_DAPI_Transcripts_0.8 as adata_Baysor_2D_Cellpose_1_DAPI_Transcripts_0.8 exist already.\n",
      "No boundaries/adata files found for Proseg_Cellpose_1_DAPI_Transcripts_vxl_2. Skipping.\n",
      "Skipping boundary import of Negative_Control_Rastered_5 as boundaries_Negative_Control_Rastered_5 exist already.\n",
      "Skipping adata import of Negative_Control_Rastered_5 as adata_Negative_Control_Rastered_5 exist already.\n",
      "Skipping boundary import of Cellpose_2_DAPI_PolyT as boundaries_Cellpose_2_DAPI_PolyT exist already.\n",
      "Skipping adata import of Cellpose_2_DAPI_PolyT as adata_Cellpose_2_DAPI_PolyT exist already.\n",
      "No boundaries/adata files found for Proseg_Cellpose_2_DAPI_PolyT_vxl_2. Skipping.\n",
      "Skipping boundary import of Proseg_Cellpose_1_DAPI_Transcripts as boundaries_Proseg_Cellpose_1_DAPI_Transcripts exist already.\n",
      "Skipping adata import of Proseg_Cellpose_1_DAPI_Transcripts as adata_Proseg_Cellpose_1_DAPI_Transcripts exist already.\n",
      "Skipping boundary import of Baysor_2D_Cellpose_1_DAPI_Transcripts_0.2 as boundaries_Baysor_2D_Cellpose_1_DAPI_Transcripts_0.2 exist already.\n",
      "Skipping adata import of Baysor_2D_Cellpose_1_DAPI_Transcripts_0.2 as adata_Baysor_2D_Cellpose_1_DAPI_Transcripts_0.2 exist already.\n"
     ]
    },
    {
     "name": "stderr",
     "output_type": "stream",
     "text": [
      "/dss/dsshome1/0C/ra98gaq/miniconda3/envs/sdata/lib/python3.11/site-packages/zarr/creation.py:614: UserWarning: ignoring keyword argument 'read_only'\n",
      "  compressor, fill_value = _kwargs_compat(compressor, fill_value, kwargs)\n",
      "/dss/dsshome1/0C/ra98gaq/miniconda3/envs/sdata/lib/python3.11/site-packages/zarr/creation.py:614: UserWarning: ignoring keyword argument 'read_only'\n",
      "  compressor, fill_value = _kwargs_compat(compressor, fill_value, kwargs)\n",
      "/dss/dsshome1/0C/ra98gaq/miniconda3/envs/sdata/lib/python3.11/site-packages/zarr/creation.py:614: UserWarning: ignoring keyword argument 'read_only'\n",
      "  compressor, fill_value = _kwargs_compat(compressor, fill_value, kwargs)\n",
      "/dss/dsshome1/0C/ra98gaq/miniconda3/envs/sdata/lib/python3.11/site-packages/zarr/creation.py:614: UserWarning: ignoring keyword argument 'read_only'\n",
      "  compressor, fill_value = _kwargs_compat(compressor, fill_value, kwargs)\n",
      "/dss/dsshome1/0C/ra98gaq/miniconda3/envs/sdata/lib/python3.11/site-packages/zarr/creation.py:614: UserWarning: ignoring keyword argument 'read_only'\n",
      "  compressor, fill_value = _kwargs_compat(compressor, fill_value, kwargs)\n"
     ]
    },
    {
     "name": "stdout",
     "output_type": "stream",
     "text": [
      "Shapes file missing for Baysor_3D. Skipping boundary import.\n",
      "Table file missing for Baysor_3D. Skipping adata import.\n",
      "Skipping boundary import of Baysor_2D_Cellpose_1_DAPI_PolyT_0.2 as boundaries_Baysor_2D_Cellpose_1_DAPI_PolyT_0.2 exist already.\n",
      "Skipping adata import of Baysor_2D_Cellpose_1_DAPI_PolyT_0.2 as adata_Baysor_2D_Cellpose_1_DAPI_PolyT_0.2 exist already.\n",
      "Skipping boundary import of Baysor_2D_Cellpose_2_DAPI_Transcripts_0.2 as boundaries_Baysor_2D_Cellpose_2_DAPI_Transcripts_0.2 exist already.\n",
      "Skipping adata import of Baysor_2D_Cellpose_2_DAPI_Transcripts_0.2 as adata_Baysor_2D_Cellpose_2_DAPI_Transcripts_0.2 exist already.\n",
      "Skipping boundary import of Cellpose_1_DAPI_PolyT as boundaries_Cellpose_1_DAPI_PolyT exist already.\n",
      "Skipping adata import of Cellpose_1_DAPI_PolyT as adata_Cellpose_1_DAPI_PolyT exist already.\n",
      "No boundaries/adata files found for Proseg_Cellpose_2_DAPI_Transcripts_vxl_2. Skipping.\n",
      "Skipping boundary import of Negative_Control_Rastered_10 as boundaries_Negative_Control_Rastered_10 exist already.\n",
      "Skipping adata import of Negative_Control_Rastered_10 as adata_Negative_Control_Rastered_10 exist already.\n",
      "No boundaries/adata files found for Proseg_Cellpose_1_DAPI_PolyT_vxl_2. Skipping.\n",
      "Skipping boundary import of Proseg_Cellpose_2_DAPI_Transcripts as boundaries_Proseg_Cellpose_2_DAPI_Transcripts exist already.\n",
      "Skipping adata import of Proseg_Cellpose_2_DAPI_Transcripts as adata_Proseg_Cellpose_2_DAPI_Transcripts exist already.\n",
      "Skipping boundary import of Proseg_Cellpose_1_nuclei_model as boundaries_Proseg_Cellpose_1_nuclei_model exist already.\n",
      "Skipping adata import of Proseg_Cellpose_1_nuclei_model as adata_Proseg_Cellpose_1_nuclei_model exist already.\n",
      "Skipping boundary import of Cellpose_2_DAPI_Transcripts as boundaries_Cellpose_2_DAPI_Transcripts exist already.\n",
      "Skipping adata import of Cellpose_2_DAPI_Transcripts as adata_Cellpose_2_DAPI_Transcripts exist already.\n",
      "Shapes file missing for Cellpose_1_Merlin. Skipping boundary import.\n",
      "Skipping adata import of Cellpose_1_Merlin as adata_Cellpose_1_Merlin exist already.\n",
      "No boundaries/adata files found for Negative_Control_Rastered_25. Skipping.\n",
      "No boundaries/adata files found for ComSeg_Cellpose_2_DAPI_Transcripts. Skipping.\n",
      "Skipping boundary import of Cellpose_1_DAPI_Transcripts as boundaries_Cellpose_1_DAPI_Transcripts exist already.\n",
      "Skipping adata import of Cellpose_1_DAPI_Transcripts as adata_Cellpose_1_DAPI_Transcripts exist already.\n",
      "Skipping boundary import of Baysor_2D_Cellpose_2_DAPI_PolyT_0.8 as boundaries_Baysor_2D_Cellpose_2_DAPI_PolyT_0.8 exist already.\n",
      "Skipping adata import of Baysor_2D_Cellpose_2_DAPI_PolyT_0.8 as adata_Baysor_2D_Cellpose_2_DAPI_PolyT_0.8 exist already.\n",
      "Skipping boundary import of Baysor_2D_Cellpose_1_nuclei_model_1.0 as boundaries_Baysor_2D_Cellpose_1_nuclei_model_1.0 exist already.\n",
      "Skipping adata import of Baysor_2D_Cellpose_1_nuclei_model_1.0 as adata_Baysor_2D_Cellpose_1_nuclei_model_1.0 exist already.\n",
      "Skipping boundary import of Proseg_Cellpose_2_DAPI_PolyT as boundaries_Proseg_Cellpose_2_DAPI_PolyT exist already.\n",
      "Skipping adata import of Proseg_Cellpose_2_DAPI_PolyT as adata_Proseg_Cellpose_2_DAPI_PolyT exist already.\n",
      "Skipping boundary import of Baysor_2D_Cellpose_1_DAPI_PolyT_0.8 as boundaries_Baysor_2D_Cellpose_1_DAPI_PolyT_0.8 exist already.\n",
      "Skipping adata import of Baysor_2D_Cellpose_1_DAPI_PolyT_0.8 as adata_Baysor_2D_Cellpose_1_DAPI_PolyT_0.8 exist already.\n",
      "Skipping boundary import of Proseg_Cellpose_1_DAPI_PolyT as boundaries_Proseg_Cellpose_1_DAPI_PolyT exist already.\n",
      "Skipping adata import of Proseg_Cellpose_1_DAPI_PolyT as adata_Proseg_Cellpose_1_DAPI_PolyT exist already.\n",
      "\n",
      "Processing foxf2_s5_r0...\n"
     ]
    },
    {
     "name": "stderr",
     "output_type": "stream",
     "text": [
      "/dss/dsshome1/0C/ra98gaq/miniconda3/envs/sdata/lib/python3.11/site-packages/spatialdata/_core/spatialdata.py:185: UserWarning: The table is annotating 'baysor_boundaries', which is not present in the SpatialData object.\n",
      "  self.validate_table_in_spatialdata(v)\n",
      "/dss/dsshome1/0C/ra98gaq/miniconda3/envs/sdata/lib/python3.11/site-packages/spatialdata/_core/spatialdata.py:185: UserWarning: The table is annotating 'cellpose_boundaries', which is not present in the SpatialData object.\n",
      "  self.validate_table_in_spatialdata(v)\n",
      "/dss/dsshome1/0C/ra98gaq/miniconda3/envs/sdata/lib/python3.11/site-packages/spatialdata/_core/spatialdata.py:185: UserWarning: The table is annotating '20240628_Foxf2-Slide05-cp-PCKO-ECKO_region_0-PCKO238_polygons', which is not present in the SpatialData object.\n",
      "  self.validate_table_in_spatialdata(v)\n",
      "/dss/dsshome1/0C/ra98gaq/miniconda3/envs/sdata/lib/python3.11/site-packages/spatialdata/_core/spatialdata.py:185: UserWarning: The table is annotating 'image_patches', which is not present in the SpatialData object.\n",
      "  self.validate_table_in_spatialdata(v)\n",
      "/dss/dsshome1/0C/ra98gaq/miniconda3/envs/sdata/lib/python3.11/site-packages/spatialdata/_core/spatialdata.py:185: UserWarning: The table is annotating 'proseg_boundaries', which is not present in the SpatialData object.\n",
      "  self.validate_table_in_spatialdata(v)\n"
     ]
    },
    {
     "name": "stdout",
     "output_type": "stream",
     "text": [
      "Skipping boundary import of Baysor_2D_Cellpose_2_DAPI_Transcripts_0.8 as boundaries_Baysor_2D_Cellpose_2_DAPI_Transcripts_0.8 exist already.\n",
      "Skipping adata import of Baysor_2D_Cellpose_2_DAPI_Transcripts_0.8 as adata_Baysor_2D_Cellpose_2_DAPI_Transcripts_0.8 exist already.\n",
      "No boundaries/adata files found for ComSeg_Cellpose_1_DAPI_Transcripts. Skipping.\n",
      "No boundaries/adata files found for Proseg_Cellpose_1_nuclei_model_vxl_2. Skipping.\n",
      "Skipping boundary import of Cellpose_1_nuclei_model as boundaries_Cellpose_1_nuclei_model exist already.\n",
      "Skipping adata import of Cellpose_1_nuclei_model as adata_Cellpose_1_nuclei_model exist already.\n",
      "Skipping boundary import of Baysor_2D_Cellpose_2_DAPI_PolyT_0.2 as boundaries_Baysor_2D_Cellpose_2_DAPI_PolyT_0.2 exist already.\n",
      "Skipping adata import of Baysor_2D_Cellpose_2_DAPI_PolyT_0.2 as adata_Baysor_2D_Cellpose_2_DAPI_PolyT_0.2 exist already.\n",
      "Skipping boundary import of Baysor_2D_Cellpose_1_DAPI_Transcripts_0.8 as boundaries_Baysor_2D_Cellpose_1_DAPI_Transcripts_0.8 exist already.\n",
      "Skipping adata import of Baysor_2D_Cellpose_1_DAPI_Transcripts_0.8 as adata_Baysor_2D_Cellpose_1_DAPI_Transcripts_0.8 exist already.\n",
      "No boundaries/adata files found for Proseg_Cellpose_1_DAPI_Transcripts_vxl_2. Skipping.\n",
      "Skipping boundary import of Negative_Control_Rastered_5 as boundaries_Negative_Control_Rastered_5 exist already.\n",
      "Skipping adata import of Negative_Control_Rastered_5 as adata_Negative_Control_Rastered_5 exist already.\n",
      "Skipping boundary import of Cellpose_2_DAPI_PolyT as boundaries_Cellpose_2_DAPI_PolyT exist already.\n",
      "Skipping adata import of Cellpose_2_DAPI_PolyT as adata_Cellpose_2_DAPI_PolyT exist already.\n",
      "No boundaries/adata files found for Proseg_Cellpose_2_DAPI_PolyT_vxl_2. Skipping.\n",
      "Skipping boundary import of Proseg_Cellpose_1_DAPI_Transcripts as boundaries_Proseg_Cellpose_1_DAPI_Transcripts exist already.\n",
      "Skipping adata import of Proseg_Cellpose_1_DAPI_Transcripts as adata_Proseg_Cellpose_1_DAPI_Transcripts exist already.\n",
      "Skipping boundary import of Baysor_2D_Cellpose_1_DAPI_Transcripts_0.2 as boundaries_Baysor_2D_Cellpose_1_DAPI_Transcripts_0.2 exist already.\n",
      "Skipping adata import of Baysor_2D_Cellpose_1_DAPI_Transcripts_0.2 as adata_Baysor_2D_Cellpose_1_DAPI_Transcripts_0.2 exist already.\n",
      "Skipping boundary import of Baysor_2D_Cellpose_1_DAPI_PolyT_0.2 as boundaries_Baysor_2D_Cellpose_1_DAPI_PolyT_0.2 exist already.\n",
      "Skipping adata import of Baysor_2D_Cellpose_1_DAPI_PolyT_0.2 as adata_Baysor_2D_Cellpose_1_DAPI_PolyT_0.2 exist already.\n",
      "Skipping boundary import of Baysor_2D_Cellpose_2_DAPI_Transcripts_0.2 as boundaries_Baysor_2D_Cellpose_2_DAPI_Transcripts_0.2 exist already.\n",
      "Skipping adata import of Baysor_2D_Cellpose_2_DAPI_Transcripts_0.2 as adata_Baysor_2D_Cellpose_2_DAPI_Transcripts_0.2 exist already.\n",
      "Skipping boundary import of Cellpose_1_DAPI_PolyT as boundaries_Cellpose_1_DAPI_PolyT exist already.\n",
      "Skipping adata import of Cellpose_1_DAPI_PolyT as adata_Cellpose_1_DAPI_PolyT exist already.\n",
      "No boundaries/adata files found for Proseg_Cellpose_2_DAPI_Transcripts_vxl_2. Skipping.\n",
      "No boundaries/adata files found for Negative_Control_Rastered_10. Skipping.\n",
      "No boundaries/adata files found for Proseg_Cellpose_1_DAPI_PolyT_vxl_2. Skipping.\n",
      "Skipping boundary import of Proseg_Cellpose_2_DAPI_Transcripts as boundaries_Proseg_Cellpose_2_DAPI_Transcripts exist already.\n",
      "Skipping adata import of Proseg_Cellpose_2_DAPI_Transcripts as adata_Proseg_Cellpose_2_DAPI_Transcripts exist already.\n",
      "Skipping boundary import of Proseg_Cellpose_1_nuclei_model as boundaries_Proseg_Cellpose_1_nuclei_model exist already.\n",
      "Skipping adata import of Proseg_Cellpose_1_nuclei_model as adata_Proseg_Cellpose_1_nuclei_model exist already.\n",
      "Skipping boundary import of Cellpose_2_DAPI_Transcripts as boundaries_Cellpose_2_DAPI_Transcripts exist already.\n",
      "Skipping adata import of Cellpose_2_DAPI_Transcripts as adata_Cellpose_2_DAPI_Transcripts exist already.\n",
      "Shapes file missing for Cellpose_1_Merlin. Skipping boundary import.\n",
      "Skipping adata import of Cellpose_1_Merlin as adata_Cellpose_1_Merlin exist already.\n",
      "No boundaries/adata files found for Negative_Control_Rastered_25. Skipping.\n",
      "No boundaries/adata files found for ComSeg_Cellpose_2_DAPI_Transcripts. Skipping.\n",
      "Skipping boundary import of Cellpose_1_DAPI_Transcripts as boundaries_Cellpose_1_DAPI_Transcripts exist already.\n",
      "Skipping adata import of Cellpose_1_DAPI_Transcripts as adata_Cellpose_1_DAPI_Transcripts exist already.\n",
      "Skipping boundary import of Baysor_2D_Cellpose_2_DAPI_PolyT_0.8 as boundaries_Baysor_2D_Cellpose_2_DAPI_PolyT_0.8 exist already.\n",
      "Skipping adata import of Baysor_2D_Cellpose_2_DAPI_PolyT_0.8 as adata_Baysor_2D_Cellpose_2_DAPI_PolyT_0.8 exist already.\n",
      "Skipping boundary import of Baysor_2D_Cellpose_1_nuclei_model_1.0 as boundaries_Baysor_2D_Cellpose_1_nuclei_model_1.0 exist already.\n",
      "Skipping adata import of Baysor_2D_Cellpose_1_nuclei_model_1.0 as adata_Baysor_2D_Cellpose_1_nuclei_model_1.0 exist already.\n",
      "Skipping boundary import of Proseg_Cellpose_2_DAPI_PolyT as boundaries_Proseg_Cellpose_2_DAPI_PolyT exist already.\n",
      "Skipping adata import of Proseg_Cellpose_2_DAPI_PolyT as adata_Proseg_Cellpose_2_DAPI_PolyT exist already.\n",
      "Skipping boundary import of Baysor_2D_Cellpose_1_DAPI_PolyT_0.8 as boundaries_Baysor_2D_Cellpose_1_DAPI_PolyT_0.8 exist already.\n",
      "Skipping adata import of Baysor_2D_Cellpose_1_DAPI_PolyT_0.8 as adata_Baysor_2D_Cellpose_1_DAPI_PolyT_0.8 exist already.\n",
      "Skipping boundary import of Proseg_Cellpose_1_DAPI_PolyT as boundaries_Proseg_Cellpose_1_DAPI_PolyT exist already.\n",
      "Skipping adata import of Proseg_Cellpose_1_DAPI_PolyT as adata_Proseg_Cellpose_1_DAPI_PolyT exist already.\n",
      "\n",
      "Processing foxf2_s5_r1...\n"
     ]
    },
    {
     "name": "stderr",
     "output_type": "stream",
     "text": [
      "/dss/dsshome1/0C/ra98gaq/miniconda3/envs/sdata/lib/python3.11/site-packages/spatialdata/_core/spatialdata.py:185: UserWarning: The table is annotating 'baysor_boundaries', which is not present in the SpatialData object.\n",
      "  self.validate_table_in_spatialdata(v)\n",
      "/dss/dsshome1/0C/ra98gaq/miniconda3/envs/sdata/lib/python3.11/site-packages/spatialdata/_core/spatialdata.py:185: UserWarning: The table is annotating 'cellpose_boundaries', which is not present in the SpatialData object.\n",
      "  self.validate_table_in_spatialdata(v)\n",
      "/dss/dsshome1/0C/ra98gaq/miniconda3/envs/sdata/lib/python3.11/site-packages/spatialdata/_core/spatialdata.py:185: UserWarning: The table is annotating '20240628_Foxf2-Slide05-cp-PCKO-ECKO_region_1-ECKO544_polygons', which is not present in the SpatialData object.\n",
      "  self.validate_table_in_spatialdata(v)\n",
      "/dss/dsshome1/0C/ra98gaq/miniconda3/envs/sdata/lib/python3.11/site-packages/spatialdata/_core/spatialdata.py:185: UserWarning: The table is annotating 'image_patches', which is not present in the SpatialData object.\n",
      "  self.validate_table_in_spatialdata(v)\n",
      "/dss/dsshome1/0C/ra98gaq/miniconda3/envs/sdata/lib/python3.11/site-packages/spatialdata/_core/spatialdata.py:185: UserWarning: The table is annotating 'proseg_boundaries', which is not present in the SpatialData object.\n",
      "  self.validate_table_in_spatialdata(v)\n"
     ]
    },
    {
     "name": "stdout",
     "output_type": "stream",
     "text": [
      "Skipping boundary import of Baysor_2D_Cellpose_2_DAPI_Transcripts_0.8 as boundaries_Baysor_2D_Cellpose_2_DAPI_Transcripts_0.8 exist already.\n",
      "Skipping adata import of Baysor_2D_Cellpose_2_DAPI_Transcripts_0.8 as adata_Baysor_2D_Cellpose_2_DAPI_Transcripts_0.8 exist already.\n",
      "No boundaries/adata files found for ComSeg_Cellpose_1_DAPI_Transcripts. Skipping.\n",
      "No boundaries/adata files found for Proseg_Cellpose_1_nuclei_model_vxl_2. Skipping.\n",
      "Skipping boundary import of Cellpose_1_nuclei_model as boundaries_Cellpose_1_nuclei_model exist already.\n",
      "Skipping adata import of Cellpose_1_nuclei_model as adata_Cellpose_1_nuclei_model exist already.\n",
      "Skipping boundary import of Baysor_2D_Cellpose_2_DAPI_PolyT_0.2 as boundaries_Baysor_2D_Cellpose_2_DAPI_PolyT_0.2 exist already.\n",
      "Skipping adata import of Baysor_2D_Cellpose_2_DAPI_PolyT_0.2 as adata_Baysor_2D_Cellpose_2_DAPI_PolyT_0.2 exist already.\n",
      "Skipping boundary import of Baysor_2D_Cellpose_1_DAPI_Transcripts_0.8 as boundaries_Baysor_2D_Cellpose_1_DAPI_Transcripts_0.8 exist already.\n",
      "Skipping adata import of Baysor_2D_Cellpose_1_DAPI_Transcripts_0.8 as adata_Baysor_2D_Cellpose_1_DAPI_Transcripts_0.8 exist already.\n",
      "No boundaries/adata files found for Proseg_Cellpose_1_DAPI_Transcripts_vxl_2. Skipping.\n",
      "Skipping boundary import of Negative_Control_Rastered_5 as boundaries_Negative_Control_Rastered_5 exist already.\n",
      "Skipping adata import of Negative_Control_Rastered_5 as adata_Negative_Control_Rastered_5 exist already.\n",
      "Skipping boundary import of Cellpose_2_DAPI_PolyT as boundaries_Cellpose_2_DAPI_PolyT exist already.\n",
      "Skipping adata import of Cellpose_2_DAPI_PolyT as adata_Cellpose_2_DAPI_PolyT exist already.\n",
      "No boundaries/adata files found for Proseg_Cellpose_2_DAPI_PolyT_vxl_2. Skipping.\n",
      "Skipping boundary import of Proseg_Cellpose_1_DAPI_Transcripts as boundaries_Proseg_Cellpose_1_DAPI_Transcripts exist already.\n",
      "Skipping adata import of Proseg_Cellpose_1_DAPI_Transcripts as adata_Proseg_Cellpose_1_DAPI_Transcripts exist already.\n",
      "Skipping boundary import of Baysor_2D_Cellpose_1_DAPI_Transcripts_0.2 as boundaries_Baysor_2D_Cellpose_1_DAPI_Transcripts_0.2 exist already.\n",
      "Skipping adata import of Baysor_2D_Cellpose_1_DAPI_Transcripts_0.2 as adata_Baysor_2D_Cellpose_1_DAPI_Transcripts_0.2 exist already.\n",
      "Skipping boundary import of Baysor_2D_Cellpose_1_DAPI_PolyT_0.2 as boundaries_Baysor_2D_Cellpose_1_DAPI_PolyT_0.2 exist already.\n",
      "Skipping adata import of Baysor_2D_Cellpose_1_DAPI_PolyT_0.2 as adata_Baysor_2D_Cellpose_1_DAPI_PolyT_0.2 exist already.\n",
      "Skipping boundary import of Baysor_2D_Cellpose_2_DAPI_Transcripts_0.2 as boundaries_Baysor_2D_Cellpose_2_DAPI_Transcripts_0.2 exist already.\n",
      "Skipping adata import of Baysor_2D_Cellpose_2_DAPI_Transcripts_0.2 as adata_Baysor_2D_Cellpose_2_DAPI_Transcripts_0.2 exist already.\n",
      "Skipping boundary import of Cellpose_1_DAPI_PolyT as boundaries_Cellpose_1_DAPI_PolyT exist already.\n",
      "Skipping adata import of Cellpose_1_DAPI_PolyT as adata_Cellpose_1_DAPI_PolyT exist already.\n",
      "No boundaries/adata files found for Proseg_Cellpose_2_DAPI_Transcripts_vxl_2. Skipping.\n",
      "No boundaries/adata files found for Negative_Control_Rastered_10. Skipping.\n",
      "No boundaries/adata files found for Proseg_Cellpose_1_DAPI_PolyT_vxl_2. Skipping.\n",
      "Skipping boundary import of Proseg_Cellpose_2_DAPI_Transcripts as boundaries_Proseg_Cellpose_2_DAPI_Transcripts exist already.\n",
      "Skipping adata import of Proseg_Cellpose_2_DAPI_Transcripts as adata_Proseg_Cellpose_2_DAPI_Transcripts exist already.\n",
      "Skipping boundary import of Proseg_Cellpose_1_nuclei_model as boundaries_Proseg_Cellpose_1_nuclei_model exist already.\n",
      "Skipping adata import of Proseg_Cellpose_1_nuclei_model as adata_Proseg_Cellpose_1_nuclei_model exist already.\n",
      "Skipping boundary import of Cellpose_2_DAPI_Transcripts as boundaries_Cellpose_2_DAPI_Transcripts exist already.\n",
      "Skipping adata import of Cellpose_2_DAPI_Transcripts as adata_Cellpose_2_DAPI_Transcripts exist already.\n",
      "Shapes file missing for Cellpose_1_Merlin. Skipping boundary import.\n",
      "Skipping adata import of Cellpose_1_Merlin as adata_Cellpose_1_Merlin exist already.\n",
      "No boundaries/adata files found for Negative_Control_Rastered_25. Skipping.\n",
      "No boundaries/adata files found for ComSeg_Cellpose_2_DAPI_Transcripts. Skipping.\n",
      "Skipping boundary import of Cellpose_1_DAPI_Transcripts as boundaries_Cellpose_1_DAPI_Transcripts exist already.\n",
      "Skipping adata import of Cellpose_1_DAPI_Transcripts as adata_Cellpose_1_DAPI_Transcripts exist already.\n",
      "Skipping boundary import of Baysor_2D_Cellpose_2_DAPI_PolyT_0.8 as boundaries_Baysor_2D_Cellpose_2_DAPI_PolyT_0.8 exist already.\n",
      "Skipping adata import of Baysor_2D_Cellpose_2_DAPI_PolyT_0.8 as adata_Baysor_2D_Cellpose_2_DAPI_PolyT_0.8 exist already.\n",
      "Skipping boundary import of Baysor_2D_Cellpose_1_nuclei_model_1.0 as boundaries_Baysor_2D_Cellpose_1_nuclei_model_1.0 exist already.\n",
      "Skipping adata import of Baysor_2D_Cellpose_1_nuclei_model_1.0 as adata_Baysor_2D_Cellpose_1_nuclei_model_1.0 exist already.\n",
      "Skipping boundary import of Proseg_Cellpose_2_DAPI_PolyT as boundaries_Proseg_Cellpose_2_DAPI_PolyT exist already.\n",
      "Skipping adata import of Proseg_Cellpose_2_DAPI_PolyT as adata_Proseg_Cellpose_2_DAPI_PolyT exist already.\n",
      "Skipping boundary import of Baysor_2D_Cellpose_1_DAPI_PolyT_0.8 as boundaries_Baysor_2D_Cellpose_1_DAPI_PolyT_0.8 exist already.\n",
      "Skipping adata import of Baysor_2D_Cellpose_1_DAPI_PolyT_0.8 as adata_Baysor_2D_Cellpose_1_DAPI_PolyT_0.8 exist already.\n",
      "Skipping boundary import of Proseg_Cellpose_1_DAPI_PolyT as boundaries_Proseg_Cellpose_1_DAPI_PolyT exist already.\n",
      "Skipping adata import of Proseg_Cellpose_1_DAPI_PolyT as adata_Proseg_Cellpose_1_DAPI_PolyT exist already.\n",
      "\n",
      "Processing foxf2_s6_r0...\n"
     ]
    },
    {
     "name": "stderr",
     "output_type": "stream",
     "text": [
      "/dss/dsshome1/0C/ra98gaq/miniconda3/envs/sdata/lib/python3.11/site-packages/spatialdata/_core/spatialdata.py:185: UserWarning: The table is annotating 'baysor_boundaries', which is not present in the SpatialData object.\n",
      "  self.validate_table_in_spatialdata(v)\n",
      "/dss/dsshome1/0C/ra98gaq/miniconda3/envs/sdata/lib/python3.11/site-packages/spatialdata/_core/spatialdata.py:185: UserWarning: The table is annotating 'cellpose_boundaries', which is not present in the SpatialData object.\n",
      "  self.validate_table_in_spatialdata(v)\n",
      "/dss/dsshome1/0C/ra98gaq/miniconda3/envs/sdata/lib/python3.11/site-packages/spatialdata/_core/spatialdata.py:185: UserWarning: The table is annotating '20240729_Foxf2-Slide06-cp-WT-GLKO-GLKO_region_0-KO890_polygons', which is not present in the SpatialData object.\n",
      "  self.validate_table_in_spatialdata(v)\n",
      "/dss/dsshome1/0C/ra98gaq/miniconda3/envs/sdata/lib/python3.11/site-packages/spatialdata/_core/spatialdata.py:185: UserWarning: The table is annotating 'image_patches', which is not present in the SpatialData object.\n",
      "  self.validate_table_in_spatialdata(v)\n",
      "/dss/dsshome1/0C/ra98gaq/miniconda3/envs/sdata/lib/python3.11/site-packages/spatialdata/_core/spatialdata.py:185: UserWarning: The table is annotating 'proseg_boundaries', which is not present in the SpatialData object.\n",
      "  self.validate_table_in_spatialdata(v)\n"
     ]
    },
    {
     "name": "stdout",
     "output_type": "stream",
     "text": [
      "Skipping boundary import of Baysor_2D_Cellpose_2_DAPI_Transcripts_0.8 as boundaries_Baysor_2D_Cellpose_2_DAPI_Transcripts_0.8 exist already.\n",
      "Skipping adata import of Baysor_2D_Cellpose_2_DAPI_Transcripts_0.8 as adata_Baysor_2D_Cellpose_2_DAPI_Transcripts_0.8 exist already.\n",
      "No boundaries/adata files found for ComSeg_Cellpose_1_DAPI_Transcripts. Skipping.\n",
      "No boundaries/adata files found for Proseg_Cellpose_1_nuclei_model_vxl_2. Skipping.\n",
      "Skipping boundary import of Cellpose_1_nuclei_model as boundaries_Cellpose_1_nuclei_model exist already.\n",
      "Skipping adata import of Cellpose_1_nuclei_model as adata_Cellpose_1_nuclei_model exist already.\n",
      "Skipping boundary import of Baysor_2D_Cellpose_2_DAPI_PolyT_0.2 as boundaries_Baysor_2D_Cellpose_2_DAPI_PolyT_0.2 exist already.\n",
      "Skipping adata import of Baysor_2D_Cellpose_2_DAPI_PolyT_0.2 as adata_Baysor_2D_Cellpose_2_DAPI_PolyT_0.2 exist already.\n",
      "Skipping boundary import of Baysor_2D_Cellpose_1_DAPI_Transcripts_0.8 as boundaries_Baysor_2D_Cellpose_1_DAPI_Transcripts_0.8 exist already.\n",
      "Skipping adata import of Baysor_2D_Cellpose_1_DAPI_Transcripts_0.8 as adata_Baysor_2D_Cellpose_1_DAPI_Transcripts_0.8 exist already.\n",
      "No boundaries/adata files found for Proseg_Cellpose_1_DAPI_Transcripts_vxl_2. Skipping.\n",
      "Skipping boundary import of Negative_Control_Rastered_5 as boundaries_Negative_Control_Rastered_5 exist already.\n",
      "Skipping adata import of Negative_Control_Rastered_5 as adata_Negative_Control_Rastered_5 exist already.\n",
      "Skipping boundary import of Cellpose_2_DAPI_PolyT as boundaries_Cellpose_2_DAPI_PolyT exist already.\n",
      "Skipping adata import of Cellpose_2_DAPI_PolyT as adata_Cellpose_2_DAPI_PolyT exist already.\n",
      "No boundaries/adata files found for Proseg_Cellpose_2_DAPI_PolyT_vxl_2. Skipping.\n",
      "Skipping boundary import of Proseg_Cellpose_1_DAPI_Transcripts as boundaries_Proseg_Cellpose_1_DAPI_Transcripts exist already.\n",
      "Skipping adata import of Proseg_Cellpose_1_DAPI_Transcripts as adata_Proseg_Cellpose_1_DAPI_Transcripts exist already.\n",
      "Skipping boundary import of Baysor_2D_Cellpose_1_DAPI_Transcripts_0.2 as boundaries_Baysor_2D_Cellpose_1_DAPI_Transcripts_0.2 exist already.\n",
      "Skipping adata import of Baysor_2D_Cellpose_1_DAPI_Transcripts_0.2 as adata_Baysor_2D_Cellpose_1_DAPI_Transcripts_0.2 exist already.\n",
      "Skipping boundary import of Baysor_2D_Cellpose_1_DAPI_PolyT_0.2 as boundaries_Baysor_2D_Cellpose_1_DAPI_PolyT_0.2 exist already.\n",
      "Skipping adata import of Baysor_2D_Cellpose_1_DAPI_PolyT_0.2 as adata_Baysor_2D_Cellpose_1_DAPI_PolyT_0.2 exist already.\n",
      "Skipping boundary import of Baysor_2D_Cellpose_2_DAPI_Transcripts_0.2 as boundaries_Baysor_2D_Cellpose_2_DAPI_Transcripts_0.2 exist already.\n",
      "Skipping adata import of Baysor_2D_Cellpose_2_DAPI_Transcripts_0.2 as adata_Baysor_2D_Cellpose_2_DAPI_Transcripts_0.2 exist already.\n",
      "Skipping boundary import of Cellpose_1_DAPI_PolyT as boundaries_Cellpose_1_DAPI_PolyT exist already.\n",
      "Skipping adata import of Cellpose_1_DAPI_PolyT as adata_Cellpose_1_DAPI_PolyT exist already.\n",
      "No boundaries/adata files found for Proseg_Cellpose_2_DAPI_Transcripts_vxl_2. Skipping.\n",
      "Skipping boundary import of Negative_Control_Rastered_10 as boundaries_Negative_Control_Rastered_10 exist already.\n",
      "Skipping adata import of Negative_Control_Rastered_10 as adata_Negative_Control_Rastered_10 exist already.\n",
      "No boundaries/adata files found for Proseg_Cellpose_1_DAPI_PolyT_vxl_2. Skipping.\n",
      "Skipping boundary import of Proseg_Cellpose_2_DAPI_Transcripts as boundaries_Proseg_Cellpose_2_DAPI_Transcripts exist already.\n",
      "Skipping adata import of Proseg_Cellpose_2_DAPI_Transcripts as adata_Proseg_Cellpose_2_DAPI_Transcripts exist already.\n",
      "Skipping boundary import of Proseg_Cellpose_1_nuclei_model as boundaries_Proseg_Cellpose_1_nuclei_model exist already.\n",
      "Skipping adata import of Proseg_Cellpose_1_nuclei_model as adata_Proseg_Cellpose_1_nuclei_model exist already.\n",
      "Skipping boundary import of Cellpose_2_DAPI_Transcripts as boundaries_Cellpose_2_DAPI_Transcripts exist already.\n",
      "Skipping adata import of Cellpose_2_DAPI_Transcripts as adata_Cellpose_2_DAPI_Transcripts exist already.\n",
      "Shapes file missing for Cellpose_1_Merlin. Skipping boundary import.\n",
      "Skipping adata import of Cellpose_1_Merlin as adata_Cellpose_1_Merlin exist already.\n",
      "Skipping boundary import of Negative_Control_Rastered_25 as boundaries_Negative_Control_Rastered_25 exist already.\n",
      "Skipping adata import of Negative_Control_Rastered_25 as adata_Negative_Control_Rastered_25 exist already.\n",
      "No boundaries/adata files found for ComSeg_Cellpose_2_DAPI_Transcripts. Skipping.\n",
      "Skipping boundary import of Cellpose_1_DAPI_Transcripts as boundaries_Cellpose_1_DAPI_Transcripts exist already.\n",
      "Skipping adata import of Cellpose_1_DAPI_Transcripts as adata_Cellpose_1_DAPI_Transcripts exist already.\n",
      "Skipping boundary import of Baysor_2D_Cellpose_2_DAPI_PolyT_0.8 as boundaries_Baysor_2D_Cellpose_2_DAPI_PolyT_0.8 exist already.\n",
      "Skipping adata import of Baysor_2D_Cellpose_2_DAPI_PolyT_0.8 as adata_Baysor_2D_Cellpose_2_DAPI_PolyT_0.8 exist already.\n",
      "Skipping boundary import of Baysor_2D_Cellpose_1_nuclei_model_1.0 as boundaries_Baysor_2D_Cellpose_1_nuclei_model_1.0 exist already.\n",
      "Skipping adata import of Baysor_2D_Cellpose_1_nuclei_model_1.0 as adata_Baysor_2D_Cellpose_1_nuclei_model_1.0 exist already.\n",
      "Skipping boundary import of Proseg_Cellpose_2_DAPI_PolyT as boundaries_Proseg_Cellpose_2_DAPI_PolyT exist already.\n",
      "Skipping adata import of Proseg_Cellpose_2_DAPI_PolyT as adata_Proseg_Cellpose_2_DAPI_PolyT exist already.\n",
      "Skipping boundary import of Baysor_2D_Cellpose_1_DAPI_PolyT_0.8 as boundaries_Baysor_2D_Cellpose_1_DAPI_PolyT_0.8 exist already.\n",
      "Skipping adata import of Baysor_2D_Cellpose_1_DAPI_PolyT_0.8 as adata_Baysor_2D_Cellpose_1_DAPI_PolyT_0.8 exist already.\n",
      "Skipping boundary import of Proseg_Cellpose_1_DAPI_PolyT as boundaries_Proseg_Cellpose_1_DAPI_PolyT exist already.\n",
      "Skipping adata import of Proseg_Cellpose_1_DAPI_PolyT as adata_Proseg_Cellpose_1_DAPI_PolyT exist already.\n",
      "\n",
      "Processing foxf2_s6_r1...\n"
     ]
    },
    {
     "name": "stderr",
     "output_type": "stream",
     "text": [
      "/dss/dsshome1/0C/ra98gaq/miniconda3/envs/sdata/lib/python3.11/site-packages/spatialdata/_core/spatialdata.py:185: UserWarning: The table is annotating 'baysor_boundaries', which is not present in the SpatialData object.\n",
      "  self.validate_table_in_spatialdata(v)\n",
      "/dss/dsshome1/0C/ra98gaq/miniconda3/envs/sdata/lib/python3.11/site-packages/spatialdata/_core/spatialdata.py:185: UserWarning: The table is annotating 'cellpose_boundaries', which is not present in the SpatialData object.\n",
      "  self.validate_table_in_spatialdata(v)\n",
      "/dss/dsshome1/0C/ra98gaq/miniconda3/envs/sdata/lib/python3.11/site-packages/spatialdata/_core/spatialdata.py:185: UserWarning: The table is annotating '20240729_Foxf2-Slide06-cp-WT-GLKO-GLKO_region_1-KO883_polygons', which is not present in the SpatialData object.\n",
      "  self.validate_table_in_spatialdata(v)\n",
      "/dss/dsshome1/0C/ra98gaq/miniconda3/envs/sdata/lib/python3.11/site-packages/spatialdata/_core/spatialdata.py:185: UserWarning: The table is annotating 'image_patches', which is not present in the SpatialData object.\n",
      "  self.validate_table_in_spatialdata(v)\n",
      "/dss/dsshome1/0C/ra98gaq/miniconda3/envs/sdata/lib/python3.11/site-packages/spatialdata/_core/spatialdata.py:185: UserWarning: The table is annotating 'proseg_boundaries', which is not present in the SpatialData object.\n",
      "  self.validate_table_in_spatialdata(v)\n"
     ]
    },
    {
     "name": "stdout",
     "output_type": "stream",
     "text": [
      "Skipping boundary import of Baysor_2D_Cellpose_2_DAPI_Transcripts_0.8 as boundaries_Baysor_2D_Cellpose_2_DAPI_Transcripts_0.8 exist already.\n",
      "Skipping adata import of Baysor_2D_Cellpose_2_DAPI_Transcripts_0.8 as adata_Baysor_2D_Cellpose_2_DAPI_Transcripts_0.8 exist already.\n",
      "No boundaries/adata files found for ComSeg_Cellpose_1_DAPI_Transcripts. Skipping.\n",
      "No boundaries/adata files found for Proseg_Cellpose_1_nuclei_model_vxl_2. Skipping.\n",
      "Skipping boundary import of Cellpose_1_nuclei_model as boundaries_Cellpose_1_nuclei_model exist already.\n",
      "Skipping adata import of Cellpose_1_nuclei_model as adata_Cellpose_1_nuclei_model exist already.\n",
      "Skipping boundary import of Baysor_2D_Cellpose_2_DAPI_PolyT_0.2 as boundaries_Baysor_2D_Cellpose_2_DAPI_PolyT_0.2 exist already.\n",
      "Skipping adata import of Baysor_2D_Cellpose_2_DAPI_PolyT_0.2 as adata_Baysor_2D_Cellpose_2_DAPI_PolyT_0.2 exist already.\n",
      "Skipping boundary import of Baysor_2D_Cellpose_1_DAPI_Transcripts_0.8 as boundaries_Baysor_2D_Cellpose_1_DAPI_Transcripts_0.8 exist already.\n",
      "Skipping adata import of Baysor_2D_Cellpose_1_DAPI_Transcripts_0.8 as adata_Baysor_2D_Cellpose_1_DAPI_Transcripts_0.8 exist already.\n",
      "No boundaries/adata files found for Proseg_Cellpose_1_DAPI_Transcripts_vxl_2. Skipping.\n",
      "Skipping boundary import of Negative_Control_Rastered_5 as boundaries_Negative_Control_Rastered_5 exist already.\n",
      "Skipping adata import of Negative_Control_Rastered_5 as adata_Negative_Control_Rastered_5 exist already.\n",
      "Skipping boundary import of Cellpose_2_DAPI_PolyT as boundaries_Cellpose_2_DAPI_PolyT exist already.\n",
      "Skipping adata import of Cellpose_2_DAPI_PolyT as adata_Cellpose_2_DAPI_PolyT exist already.\n",
      "No boundaries/adata files found for Proseg_Cellpose_2_DAPI_PolyT_vxl_2. Skipping.\n",
      "Skipping boundary import of Proseg_Cellpose_1_DAPI_Transcripts as boundaries_Proseg_Cellpose_1_DAPI_Transcripts exist already.\n",
      "Skipping adata import of Proseg_Cellpose_1_DAPI_Transcripts as adata_Proseg_Cellpose_1_DAPI_Transcripts exist already.\n",
      "Skipping boundary import of Baysor_2D_Cellpose_1_DAPI_Transcripts_0.2 as boundaries_Baysor_2D_Cellpose_1_DAPI_Transcripts_0.2 exist already.\n",
      "Skipping adata import of Baysor_2D_Cellpose_1_DAPI_Transcripts_0.2 as adata_Baysor_2D_Cellpose_1_DAPI_Transcripts_0.2 exist already.\n",
      "Skipping boundary import of Baysor_2D_Cellpose_1_DAPI_PolyT_0.2 as boundaries_Baysor_2D_Cellpose_1_DAPI_PolyT_0.2 exist already.\n",
      "Skipping adata import of Baysor_2D_Cellpose_1_DAPI_PolyT_0.2 as adata_Baysor_2D_Cellpose_1_DAPI_PolyT_0.2 exist already.\n",
      "Skipping boundary import of Baysor_2D_Cellpose_2_DAPI_Transcripts_0.2 as boundaries_Baysor_2D_Cellpose_2_DAPI_Transcripts_0.2 exist already.\n",
      "Skipping adata import of Baysor_2D_Cellpose_2_DAPI_Transcripts_0.2 as adata_Baysor_2D_Cellpose_2_DAPI_Transcripts_0.2 exist already.\n",
      "Skipping boundary import of Cellpose_1_DAPI_PolyT as boundaries_Cellpose_1_DAPI_PolyT exist already.\n",
      "Skipping adata import of Cellpose_1_DAPI_PolyT as adata_Cellpose_1_DAPI_PolyT exist already.\n",
      "No boundaries/adata files found for Proseg_Cellpose_2_DAPI_Transcripts_vxl_2. Skipping.\n",
      "No boundaries/adata files found for Negative_Control_Rastered_10. Skipping.\n",
      "No boundaries/adata files found for Proseg_Cellpose_1_DAPI_PolyT_vxl_2. Skipping.\n",
      "Skipping boundary import of Proseg_Cellpose_2_DAPI_Transcripts as boundaries_Proseg_Cellpose_2_DAPI_Transcripts exist already.\n",
      "Skipping adata import of Proseg_Cellpose_2_DAPI_Transcripts as adata_Proseg_Cellpose_2_DAPI_Transcripts exist already.\n",
      "Skipping boundary import of Proseg_Cellpose_1_nuclei_model as boundaries_Proseg_Cellpose_1_nuclei_model exist already.\n",
      "Skipping adata import of Proseg_Cellpose_1_nuclei_model as adata_Proseg_Cellpose_1_nuclei_model exist already.\n",
      "Skipping boundary import of Cellpose_2_DAPI_Transcripts as boundaries_Cellpose_2_DAPI_Transcripts exist already.\n",
      "Skipping adata import of Cellpose_2_DAPI_Transcripts as adata_Cellpose_2_DAPI_Transcripts exist already.\n",
      "Shapes file missing for Cellpose_1_Merlin. Skipping boundary import.\n",
      "Skipping adata import of Cellpose_1_Merlin as adata_Cellpose_1_Merlin exist already.\n",
      "No boundaries/adata files found for Negative_Control_Rastered_25. Skipping.\n",
      "No boundaries/adata files found for ComSeg_Cellpose_2_DAPI_Transcripts. Skipping.\n",
      "Skipping boundary import of Cellpose_1_DAPI_Transcripts as boundaries_Cellpose_1_DAPI_Transcripts exist already.\n",
      "Skipping adata import of Cellpose_1_DAPI_Transcripts as adata_Cellpose_1_DAPI_Transcripts exist already.\n",
      "Skipping boundary import of Baysor_2D_Cellpose_2_DAPI_PolyT_0.8 as boundaries_Baysor_2D_Cellpose_2_DAPI_PolyT_0.8 exist already.\n",
      "Skipping adata import of Baysor_2D_Cellpose_2_DAPI_PolyT_0.8 as adata_Baysor_2D_Cellpose_2_DAPI_PolyT_0.8 exist already.\n",
      "Skipping boundary import of Baysor_2D_Cellpose_1_nuclei_model_1.0 as boundaries_Baysor_2D_Cellpose_1_nuclei_model_1.0 exist already.\n",
      "Skipping adata import of Baysor_2D_Cellpose_1_nuclei_model_1.0 as adata_Baysor_2D_Cellpose_1_nuclei_model_1.0 exist already.\n",
      "Skipping boundary import of Proseg_Cellpose_2_DAPI_PolyT as boundaries_Proseg_Cellpose_2_DAPI_PolyT exist already.\n",
      "Skipping adata import of Proseg_Cellpose_2_DAPI_PolyT as adata_Proseg_Cellpose_2_DAPI_PolyT exist already.\n",
      "Skipping boundary import of Baysor_2D_Cellpose_1_DAPI_PolyT_0.8 as boundaries_Baysor_2D_Cellpose_1_DAPI_PolyT_0.8 exist already.\n",
      "Skipping adata import of Baysor_2D_Cellpose_1_DAPI_PolyT_0.8 as adata_Baysor_2D_Cellpose_1_DAPI_PolyT_0.8 exist already.\n",
      "Skipping boundary import of Proseg_Cellpose_1_DAPI_PolyT as boundaries_Proseg_Cellpose_1_DAPI_PolyT exist already.\n",
      "Skipping adata import of Proseg_Cellpose_1_DAPI_PolyT as adata_Proseg_Cellpose_1_DAPI_PolyT exist already.\n",
      "\n",
      "Processing foxf2_s6_r2...\n"
     ]
    },
    {
     "name": "stderr",
     "output_type": "stream",
     "text": [
      "/dss/dsshome1/0C/ra98gaq/miniconda3/envs/sdata/lib/python3.11/site-packages/spatialdata/_core/spatialdata.py:185: UserWarning: The table is annotating 'baysor_boundaries', which is not present in the SpatialData object.\n",
      "  self.validate_table_in_spatialdata(v)\n",
      "/dss/dsshome1/0C/ra98gaq/miniconda3/envs/sdata/lib/python3.11/site-packages/spatialdata/_core/spatialdata.py:185: UserWarning: The table is annotating 'cellpose_boundaries', which is not present in the SpatialData object.\n",
      "  self.validate_table_in_spatialdata(v)\n",
      "/dss/dsshome1/0C/ra98gaq/miniconda3/envs/sdata/lib/python3.11/site-packages/spatialdata/_core/spatialdata.py:185: UserWarning: The table is annotating '20240729_Foxf2-Slide06-cp-WT-GLKO-GLKO_region_2-WT897_polygons', which is not present in the SpatialData object.\n",
      "  self.validate_table_in_spatialdata(v)\n",
      "/dss/dsshome1/0C/ra98gaq/miniconda3/envs/sdata/lib/python3.11/site-packages/spatialdata/_core/spatialdata.py:185: UserWarning: The table is annotating 'image_patches', which is not present in the SpatialData object.\n",
      "  self.validate_table_in_spatialdata(v)\n",
      "/dss/dsshome1/0C/ra98gaq/miniconda3/envs/sdata/lib/python3.11/site-packages/spatialdata/_core/spatialdata.py:185: UserWarning: The table is annotating 'proseg_boundaries', which is not present in the SpatialData object.\n",
      "  self.validate_table_in_spatialdata(v)\n"
     ]
    },
    {
     "name": "stdout",
     "output_type": "stream",
     "text": [
      "Skipping boundary import of Baysor_2D_Cellpose_2_DAPI_Transcripts_0.8 as boundaries_Baysor_2D_Cellpose_2_DAPI_Transcripts_0.8 exist already.\n",
      "Skipping adata import of Baysor_2D_Cellpose_2_DAPI_Transcripts_0.8 as adata_Baysor_2D_Cellpose_2_DAPI_Transcripts_0.8 exist already.\n",
      "No boundaries/adata files found for ComSeg_Cellpose_1_DAPI_Transcripts. Skipping.\n",
      "No boundaries/adata files found for Proseg_Cellpose_1_nuclei_model_vxl_2. Skipping.\n",
      "Skipping boundary import of Cellpose_1_nuclei_model as boundaries_Cellpose_1_nuclei_model exist already.\n",
      "Skipping adata import of Cellpose_1_nuclei_model as adata_Cellpose_1_nuclei_model exist already.\n",
      "Skipping boundary import of Baysor_2D_Cellpose_2_DAPI_PolyT_0.2 as boundaries_Baysor_2D_Cellpose_2_DAPI_PolyT_0.2 exist already.\n",
      "Skipping adata import of Baysor_2D_Cellpose_2_DAPI_PolyT_0.2 as adata_Baysor_2D_Cellpose_2_DAPI_PolyT_0.2 exist already.\n",
      "Skipping boundary import of Baysor_2D_Cellpose_1_DAPI_Transcripts_0.8 as boundaries_Baysor_2D_Cellpose_1_DAPI_Transcripts_0.8 exist already.\n",
      "Skipping adata import of Baysor_2D_Cellpose_1_DAPI_Transcripts_0.8 as adata_Baysor_2D_Cellpose_1_DAPI_Transcripts_0.8 exist already.\n",
      "No boundaries/adata files found for Proseg_Cellpose_1_DAPI_Transcripts_vxl_2. Skipping.\n",
      "Skipping boundary import of Negative_Control_Rastered_5 as boundaries_Negative_Control_Rastered_5 exist already.\n",
      "Skipping adata import of Negative_Control_Rastered_5 as adata_Negative_Control_Rastered_5 exist already.\n",
      "Skipping boundary import of Cellpose_2_DAPI_PolyT as boundaries_Cellpose_2_DAPI_PolyT exist already.\n",
      "Skipping adata import of Cellpose_2_DAPI_PolyT as adata_Cellpose_2_DAPI_PolyT exist already.\n",
      "No boundaries/adata files found for Proseg_Cellpose_2_DAPI_PolyT_vxl_2. Skipping.\n",
      "Skipping boundary import of Proseg_Cellpose_1_DAPI_Transcripts as boundaries_Proseg_Cellpose_1_DAPI_Transcripts exist already.\n",
      "Skipping adata import of Proseg_Cellpose_1_DAPI_Transcripts as adata_Proseg_Cellpose_1_DAPI_Transcripts exist already.\n",
      "Skipping boundary import of Baysor_2D_Cellpose_1_DAPI_Transcripts_0.2 as boundaries_Baysor_2D_Cellpose_1_DAPI_Transcripts_0.2 exist already.\n",
      "Skipping adata import of Baysor_2D_Cellpose_1_DAPI_Transcripts_0.2 as adata_Baysor_2D_Cellpose_1_DAPI_Transcripts_0.2 exist already.\n",
      "Skipping boundary import of Baysor_2D_Cellpose_1_DAPI_PolyT_0.2 as boundaries_Baysor_2D_Cellpose_1_DAPI_PolyT_0.2 exist already.\n",
      "Skipping adata import of Baysor_2D_Cellpose_1_DAPI_PolyT_0.2 as adata_Baysor_2D_Cellpose_1_DAPI_PolyT_0.2 exist already.\n",
      "Skipping boundary import of Baysor_2D_Cellpose_2_DAPI_Transcripts_0.2 as boundaries_Baysor_2D_Cellpose_2_DAPI_Transcripts_0.2 exist already.\n",
      "Skipping adata import of Baysor_2D_Cellpose_2_DAPI_Transcripts_0.2 as adata_Baysor_2D_Cellpose_2_DAPI_Transcripts_0.2 exist already.\n",
      "Skipping boundary import of Cellpose_1_DAPI_PolyT as boundaries_Cellpose_1_DAPI_PolyT exist already.\n",
      "Skipping adata import of Cellpose_1_DAPI_PolyT as adata_Cellpose_1_DAPI_PolyT exist already.\n",
      "No boundaries/adata files found for Proseg_Cellpose_2_DAPI_Transcripts_vxl_2. Skipping.\n",
      "Skipping boundary import of Negative_Control_Rastered_10 as boundaries_Negative_Control_Rastered_10 exist already.\n",
      "Skipping adata import of Negative_Control_Rastered_10 as adata_Negative_Control_Rastered_10 exist already.\n",
      "No boundaries/adata files found for Proseg_Cellpose_1_DAPI_PolyT_vxl_2. Skipping.\n",
      "Skipping boundary import of Proseg_Cellpose_2_DAPI_Transcripts as boundaries_Proseg_Cellpose_2_DAPI_Transcripts exist already.\n",
      "Skipping adata import of Proseg_Cellpose_2_DAPI_Transcripts as adata_Proseg_Cellpose_2_DAPI_Transcripts exist already.\n",
      "Skipping boundary import of Proseg_Cellpose_1_nuclei_model as boundaries_Proseg_Cellpose_1_nuclei_model exist already.\n",
      "Skipping adata import of Proseg_Cellpose_1_nuclei_model as adata_Proseg_Cellpose_1_nuclei_model exist already.\n",
      "Skipping boundary import of Cellpose_2_DAPI_Transcripts as boundaries_Cellpose_2_DAPI_Transcripts exist already.\n",
      "Skipping adata import of Cellpose_2_DAPI_Transcripts as adata_Cellpose_2_DAPI_Transcripts exist already.\n",
      "Shapes file missing for Cellpose_1_Merlin. Skipping boundary import.\n",
      "Skipping adata import of Cellpose_1_Merlin as adata_Cellpose_1_Merlin exist already.\n",
      "Skipping boundary import of Negative_Control_Rastered_25 as boundaries_Negative_Control_Rastered_25 exist already.\n",
      "Skipping adata import of Negative_Control_Rastered_25 as adata_Negative_Control_Rastered_25 exist already.\n",
      "No boundaries/adata files found for ComSeg_Cellpose_2_DAPI_Transcripts. Skipping.\n",
      "Skipping boundary import of Cellpose_1_DAPI_Transcripts as boundaries_Cellpose_1_DAPI_Transcripts exist already.\n",
      "Skipping adata import of Cellpose_1_DAPI_Transcripts as adata_Cellpose_1_DAPI_Transcripts exist already.\n",
      "Skipping boundary import of Baysor_2D_Cellpose_2_DAPI_PolyT_0.8 as boundaries_Baysor_2D_Cellpose_2_DAPI_PolyT_0.8 exist already.\n",
      "Skipping adata import of Baysor_2D_Cellpose_2_DAPI_PolyT_0.8 as adata_Baysor_2D_Cellpose_2_DAPI_PolyT_0.8 exist already.\n",
      "Skipping boundary import of Baysor_2D_Cellpose_1_nuclei_model_1.0 as boundaries_Baysor_2D_Cellpose_1_nuclei_model_1.0 exist already.\n",
      "Skipping adata import of Baysor_2D_Cellpose_1_nuclei_model_1.0 as adata_Baysor_2D_Cellpose_1_nuclei_model_1.0 exist already.\n",
      "Skipping boundary import of Proseg_Cellpose_2_DAPI_PolyT as boundaries_Proseg_Cellpose_2_DAPI_PolyT exist already.\n",
      "Skipping adata import of Proseg_Cellpose_2_DAPI_PolyT as adata_Proseg_Cellpose_2_DAPI_PolyT exist already.\n",
      "Skipping boundary import of Baysor_2D_Cellpose_1_DAPI_PolyT_0.8 as boundaries_Baysor_2D_Cellpose_1_DAPI_PolyT_0.8 exist already.\n",
      "Skipping adata import of Baysor_2D_Cellpose_1_DAPI_PolyT_0.8 as adata_Baysor_2D_Cellpose_1_DAPI_PolyT_0.8 exist already.\n",
      "Skipping boundary import of Proseg_Cellpose_1_DAPI_PolyT as boundaries_Proseg_Cellpose_1_DAPI_PolyT exist already.\n",
      "Skipping adata import of Proseg_Cellpose_1_DAPI_PolyT as adata_Proseg_Cellpose_1_DAPI_PolyT exist already.\n",
      "\n",
      "Processing foxf2_s7_r0...\n"
     ]
    },
    {
     "name": "stderr",
     "output_type": "stream",
     "text": [
      "/dss/dsshome1/0C/ra98gaq/miniconda3/envs/sdata/lib/python3.11/site-packages/spatialdata/_core/spatialdata.py:185: UserWarning: The table is annotating 'baysor_boundaries', which is not present in the SpatialData object.\n",
      "  self.validate_table_in_spatialdata(v)\n",
      "/dss/dsshome1/0C/ra98gaq/miniconda3/envs/sdata/lib/python3.11/site-packages/spatialdata/_core/spatialdata.py:185: UserWarning: The table is annotating 'cellpose_boundaries', which is not present in the SpatialData object.\n",
      "  self.validate_table_in_spatialdata(v)\n",
      "/dss/dsshome1/0C/ra98gaq/miniconda3/envs/sdata/lib/python3.11/site-packages/spatialdata/_core/spatialdata.py:185: UserWarning: The table is annotating '20240805_Foxf2-Slide07-cp-WT-GLKO_region_0-WT886_polygons', which is not present in the SpatialData object.\n",
      "  self.validate_table_in_spatialdata(v)\n",
      "/dss/dsshome1/0C/ra98gaq/miniconda3/envs/sdata/lib/python3.11/site-packages/spatialdata/_core/spatialdata.py:185: UserWarning: The table is annotating 'image_patches', which is not present in the SpatialData object.\n",
      "  self.validate_table_in_spatialdata(v)\n",
      "/dss/dsshome1/0C/ra98gaq/miniconda3/envs/sdata/lib/python3.11/site-packages/spatialdata/_core/spatialdata.py:185: UserWarning: The table is annotating 'proseg_boundaries', which is not present in the SpatialData object.\n",
      "  self.validate_table_in_spatialdata(v)\n"
     ]
    },
    {
     "name": "stdout",
     "output_type": "stream",
     "text": [
      "Skipping boundary import of Baysor_2D_Cellpose_2_DAPI_Transcripts_0.8 as boundaries_Baysor_2D_Cellpose_2_DAPI_Transcripts_0.8 exist already.\n",
      "Skipping adata import of Baysor_2D_Cellpose_2_DAPI_Transcripts_0.8 as adata_Baysor_2D_Cellpose_2_DAPI_Transcripts_0.8 exist already.\n",
      "No boundaries/adata files found for ComSeg_Cellpose_1_DAPI_Transcripts. Skipping.\n",
      "No boundaries/adata files found for Proseg_Cellpose_1_nuclei_model_vxl_2. Skipping.\n",
      "Skipping boundary import of Cellpose_1_nuclei_model as boundaries_Cellpose_1_nuclei_model exist already.\n",
      "Skipping adata import of Cellpose_1_nuclei_model as adata_Cellpose_1_nuclei_model exist already.\n",
      "Skipping boundary import of Baysor_2D_Cellpose_2_DAPI_PolyT_0.2 as boundaries_Baysor_2D_Cellpose_2_DAPI_PolyT_0.2 exist already.\n",
      "Skipping adata import of Baysor_2D_Cellpose_2_DAPI_PolyT_0.2 as adata_Baysor_2D_Cellpose_2_DAPI_PolyT_0.2 exist already.\n",
      "Skipping boundary import of Baysor_2D_Cellpose_1_DAPI_Transcripts_0.8 as boundaries_Baysor_2D_Cellpose_1_DAPI_Transcripts_0.8 exist already.\n",
      "Skipping adata import of Baysor_2D_Cellpose_1_DAPI_Transcripts_0.8 as adata_Baysor_2D_Cellpose_1_DAPI_Transcripts_0.8 exist already.\n",
      "No boundaries/adata files found for Proseg_Cellpose_1_DAPI_Transcripts_vxl_2. Skipping.\n",
      "Skipping boundary import of Negative_Control_Rastered_5 as boundaries_Negative_Control_Rastered_5 exist already.\n",
      "Skipping adata import of Negative_Control_Rastered_5 as adata_Negative_Control_Rastered_5 exist already.\n",
      "Skipping boundary import of Cellpose_2_DAPI_PolyT as boundaries_Cellpose_2_DAPI_PolyT exist already.\n",
      "Skipping adata import of Cellpose_2_DAPI_PolyT as adata_Cellpose_2_DAPI_PolyT exist already.\n",
      "No boundaries/adata files found for Proseg_Cellpose_2_DAPI_PolyT_vxl_2. Skipping.\n",
      "Skipping boundary import of Proseg_Cellpose_1_DAPI_Transcripts as boundaries_Proseg_Cellpose_1_DAPI_Transcripts exist already.\n",
      "Skipping adata import of Proseg_Cellpose_1_DAPI_Transcripts as adata_Proseg_Cellpose_1_DAPI_Transcripts exist already.\n",
      "Skipping boundary import of Baysor_2D_Cellpose_1_DAPI_Transcripts_0.2 as boundaries_Baysor_2D_Cellpose_1_DAPI_Transcripts_0.2 exist already.\n",
      "Skipping adata import of Baysor_2D_Cellpose_1_DAPI_Transcripts_0.2 as adata_Baysor_2D_Cellpose_1_DAPI_Transcripts_0.2 exist already.\n",
      "Skipping boundary import of Baysor_2D_Cellpose_1_DAPI_PolyT_0.2 as boundaries_Baysor_2D_Cellpose_1_DAPI_PolyT_0.2 exist already.\n",
      "Skipping adata import of Baysor_2D_Cellpose_1_DAPI_PolyT_0.2 as adata_Baysor_2D_Cellpose_1_DAPI_PolyT_0.2 exist already.\n",
      "Skipping boundary import of Baysor_2D_Cellpose_2_DAPI_Transcripts_0.2 as boundaries_Baysor_2D_Cellpose_2_DAPI_Transcripts_0.2 exist already.\n",
      "Skipping adata import of Baysor_2D_Cellpose_2_DAPI_Transcripts_0.2 as adata_Baysor_2D_Cellpose_2_DAPI_Transcripts_0.2 exist already.\n",
      "Skipping boundary import of Cellpose_1_DAPI_PolyT as boundaries_Cellpose_1_DAPI_PolyT exist already.\n",
      "Skipping adata import of Cellpose_1_DAPI_PolyT as adata_Cellpose_1_DAPI_PolyT exist already.\n",
      "No boundaries/adata files found for Proseg_Cellpose_2_DAPI_Transcripts_vxl_2. Skipping.\n",
      "Skipping boundary import of Negative_Control_Rastered_10 as boundaries_Negative_Control_Rastered_10 exist already.\n",
      "Skipping adata import of Negative_Control_Rastered_10 as adata_Negative_Control_Rastered_10 exist already.\n",
      "No boundaries/adata files found for Proseg_Cellpose_1_DAPI_PolyT_vxl_2. Skipping.\n",
      "Skipping boundary import of Proseg_Cellpose_2_DAPI_Transcripts as boundaries_Proseg_Cellpose_2_DAPI_Transcripts exist already.\n",
      "Skipping adata import of Proseg_Cellpose_2_DAPI_Transcripts as adata_Proseg_Cellpose_2_DAPI_Transcripts exist already.\n",
      "Skipping boundary import of Proseg_Cellpose_1_nuclei_model as boundaries_Proseg_Cellpose_1_nuclei_model exist already.\n",
      "Skipping adata import of Proseg_Cellpose_1_nuclei_model as adata_Proseg_Cellpose_1_nuclei_model exist already.\n",
      "Skipping boundary import of Cellpose_2_DAPI_Transcripts as boundaries_Cellpose_2_DAPI_Transcripts exist already.\n",
      "Skipping adata import of Cellpose_2_DAPI_Transcripts as adata_Cellpose_2_DAPI_Transcripts exist already.\n",
      "Shapes file missing for Cellpose_1_Merlin. Skipping boundary import.\n",
      "Skipping adata import of Cellpose_1_Merlin as adata_Cellpose_1_Merlin exist already.\n",
      "Skipping boundary import of Negative_Control_Rastered_25 as boundaries_Negative_Control_Rastered_25 exist already.\n",
      "Skipping adata import of Negative_Control_Rastered_25 as adata_Negative_Control_Rastered_25 exist already.\n",
      "No boundaries/adata files found for ComSeg_Cellpose_2_DAPI_Transcripts. Skipping.\n",
      "Skipping boundary import of Cellpose_1_DAPI_Transcripts as boundaries_Cellpose_1_DAPI_Transcripts exist already.\n",
      "Skipping adata import of Cellpose_1_DAPI_Transcripts as adata_Cellpose_1_DAPI_Transcripts exist already.\n",
      "Skipping boundary import of Baysor_2D_Cellpose_2_DAPI_PolyT_0.8 as boundaries_Baysor_2D_Cellpose_2_DAPI_PolyT_0.8 exist already.\n",
      "Skipping adata import of Baysor_2D_Cellpose_2_DAPI_PolyT_0.8 as adata_Baysor_2D_Cellpose_2_DAPI_PolyT_0.8 exist already.\n",
      "Skipping boundary import of Baysor_2D_Cellpose_1_nuclei_model_1.0 as boundaries_Baysor_2D_Cellpose_1_nuclei_model_1.0 exist already.\n",
      "Skipping adata import of Baysor_2D_Cellpose_1_nuclei_model_1.0 as adata_Baysor_2D_Cellpose_1_nuclei_model_1.0 exist already.\n",
      "Skipping boundary import of Proseg_Cellpose_2_DAPI_PolyT as boundaries_Proseg_Cellpose_2_DAPI_PolyT exist already.\n",
      "Skipping adata import of Proseg_Cellpose_2_DAPI_PolyT as adata_Proseg_Cellpose_2_DAPI_PolyT exist already.\n",
      "Skipping boundary import of Baysor_2D_Cellpose_1_DAPI_PolyT_0.8 as boundaries_Baysor_2D_Cellpose_1_DAPI_PolyT_0.8 exist already.\n",
      "Skipping adata import of Baysor_2D_Cellpose_1_DAPI_PolyT_0.8 as adata_Baysor_2D_Cellpose_1_DAPI_PolyT_0.8 exist already.\n",
      "Skipping boundary import of Proseg_Cellpose_1_DAPI_PolyT as boundaries_Proseg_Cellpose_1_DAPI_PolyT exist already.\n",
      "Skipping adata import of Proseg_Cellpose_1_DAPI_PolyT as adata_Proseg_Cellpose_1_DAPI_PolyT exist already.\n",
      "\n",
      "Processing foxf2_s7_r1...\n"
     ]
    },
    {
     "name": "stderr",
     "output_type": "stream",
     "text": [
      "/dss/dsshome1/0C/ra98gaq/miniconda3/envs/sdata/lib/python3.11/site-packages/spatialdata/_core/spatialdata.py:185: UserWarning: The table is annotating 'baysor_boundaries', which is not present in the SpatialData object.\n",
      "  self.validate_table_in_spatialdata(v)\n",
      "/dss/dsshome1/0C/ra98gaq/miniconda3/envs/sdata/lib/python3.11/site-packages/spatialdata/_core/spatialdata.py:185: UserWarning: The table is annotating 'cellpose_boundaries', which is not present in the SpatialData object.\n",
      "  self.validate_table_in_spatialdata(v)\n",
      "/dss/dsshome1/0C/ra98gaq/miniconda3/envs/sdata/lib/python3.11/site-packages/spatialdata/_core/spatialdata.py:185: UserWarning: The table is annotating '20240805_Foxf2-Slide07-cp-WT-GLKO_region_1-KO885_polygons', which is not present in the SpatialData object.\n",
      "  self.validate_table_in_spatialdata(v)\n",
      "/dss/dsshome1/0C/ra98gaq/miniconda3/envs/sdata/lib/python3.11/site-packages/spatialdata/_core/spatialdata.py:185: UserWarning: The table is annotating 'image_patches', which is not present in the SpatialData object.\n",
      "  self.validate_table_in_spatialdata(v)\n",
      "/dss/dsshome1/0C/ra98gaq/miniconda3/envs/sdata/lib/python3.11/site-packages/spatialdata/_core/spatialdata.py:185: UserWarning: The table is annotating 'proseg_boundaries', which is not present in the SpatialData object.\n",
      "  self.validate_table_in_spatialdata(v)\n"
     ]
    },
    {
     "name": "stdout",
     "output_type": "stream",
     "text": [
      "Skipping boundary import of Baysor_2D_Cellpose_2_DAPI_Transcripts_0.8 as boundaries_Baysor_2D_Cellpose_2_DAPI_Transcripts_0.8 exist already.\n",
      "Skipping adata import of Baysor_2D_Cellpose_2_DAPI_Transcripts_0.8 as adata_Baysor_2D_Cellpose_2_DAPI_Transcripts_0.8 exist already.\n",
      "No boundaries/adata files found for ComSeg_Cellpose_1_DAPI_Transcripts. Skipping.\n",
      "No boundaries/adata files found for Proseg_Cellpose_1_nuclei_model_vxl_2. Skipping.\n",
      "Skipping boundary import of Cellpose_1_nuclei_model as boundaries_Cellpose_1_nuclei_model exist already.\n",
      "Skipping adata import of Cellpose_1_nuclei_model as adata_Cellpose_1_nuclei_model exist already.\n",
      "Skipping boundary import of Baysor_2D_Cellpose_2_DAPI_PolyT_0.2 as boundaries_Baysor_2D_Cellpose_2_DAPI_PolyT_0.2 exist already.\n",
      "Skipping adata import of Baysor_2D_Cellpose_2_DAPI_PolyT_0.2 as adata_Baysor_2D_Cellpose_2_DAPI_PolyT_0.2 exist already.\n",
      "Skipping boundary import of Baysor_2D_Cellpose_1_DAPI_Transcripts_0.8 as boundaries_Baysor_2D_Cellpose_1_DAPI_Transcripts_0.8 exist already.\n",
      "Skipping adata import of Baysor_2D_Cellpose_1_DAPI_Transcripts_0.8 as adata_Baysor_2D_Cellpose_1_DAPI_Transcripts_0.8 exist already.\n",
      "No boundaries/adata files found for Proseg_Cellpose_1_DAPI_Transcripts_vxl_2. Skipping.\n",
      "Skipping boundary import of Negative_Control_Rastered_5 as boundaries_Negative_Control_Rastered_5 exist already.\n",
      "Skipping adata import of Negative_Control_Rastered_5 as adata_Negative_Control_Rastered_5 exist already.\n",
      "Skipping boundary import of Cellpose_2_DAPI_PolyT as boundaries_Cellpose_2_DAPI_PolyT exist already.\n",
      "Skipping adata import of Cellpose_2_DAPI_PolyT as adata_Cellpose_2_DAPI_PolyT exist already.\n",
      "No boundaries/adata files found for Proseg_Cellpose_2_DAPI_PolyT_vxl_2. Skipping.\n",
      "Skipping boundary import of Proseg_Cellpose_1_DAPI_Transcripts as boundaries_Proseg_Cellpose_1_DAPI_Transcripts exist already.\n",
      "Skipping adata import of Proseg_Cellpose_1_DAPI_Transcripts as adata_Proseg_Cellpose_1_DAPI_Transcripts exist already.\n",
      "Skipping boundary import of Baysor_2D_Cellpose_1_DAPI_Transcripts_0.2 as boundaries_Baysor_2D_Cellpose_1_DAPI_Transcripts_0.2 exist already.\n",
      "Skipping adata import of Baysor_2D_Cellpose_1_DAPI_Transcripts_0.2 as adata_Baysor_2D_Cellpose_1_DAPI_Transcripts_0.2 exist already.\n",
      "Skipping boundary import of Baysor_2D_Cellpose_1_DAPI_PolyT_0.2 as boundaries_Baysor_2D_Cellpose_1_DAPI_PolyT_0.2 exist already.\n",
      "Skipping adata import of Baysor_2D_Cellpose_1_DAPI_PolyT_0.2 as adata_Baysor_2D_Cellpose_1_DAPI_PolyT_0.2 exist already.\n",
      "Skipping boundary import of Baysor_2D_Cellpose_2_DAPI_Transcripts_0.2 as boundaries_Baysor_2D_Cellpose_2_DAPI_Transcripts_0.2 exist already.\n",
      "Skipping adata import of Baysor_2D_Cellpose_2_DAPI_Transcripts_0.2 as adata_Baysor_2D_Cellpose_2_DAPI_Transcripts_0.2 exist already.\n",
      "Skipping boundary import of Cellpose_1_DAPI_PolyT as boundaries_Cellpose_1_DAPI_PolyT exist already.\n",
      "Skipping adata import of Cellpose_1_DAPI_PolyT as adata_Cellpose_1_DAPI_PolyT exist already.\n",
      "No boundaries/adata files found for Proseg_Cellpose_2_DAPI_Transcripts_vxl_2. Skipping.\n",
      "No boundaries/adata files found for Negative_Control_Rastered_10. Skipping.\n",
      "No boundaries/adata files found for Proseg_Cellpose_1_DAPI_PolyT_vxl_2. Skipping.\n",
      "Skipping boundary import of Proseg_Cellpose_2_DAPI_Transcripts as boundaries_Proseg_Cellpose_2_DAPI_Transcripts exist already.\n",
      "Skipping adata import of Proseg_Cellpose_2_DAPI_Transcripts as adata_Proseg_Cellpose_2_DAPI_Transcripts exist already.\n",
      "Skipping boundary import of Proseg_Cellpose_1_nuclei_model as boundaries_Proseg_Cellpose_1_nuclei_model exist already.\n",
      "Skipping adata import of Proseg_Cellpose_1_nuclei_model as adata_Proseg_Cellpose_1_nuclei_model exist already.\n",
      "Skipping boundary import of Cellpose_2_DAPI_Transcripts as boundaries_Cellpose_2_DAPI_Transcripts exist already.\n",
      "Skipping adata import of Cellpose_2_DAPI_Transcripts as adata_Cellpose_2_DAPI_Transcripts exist already.\n",
      "Shapes file missing for Cellpose_1_Merlin. Skipping boundary import.\n",
      "Skipping adata import of Cellpose_1_Merlin as adata_Cellpose_1_Merlin exist already.\n",
      "No boundaries/adata files found for Negative_Control_Rastered_25. Skipping.\n",
      "No boundaries/adata files found for ComSeg_Cellpose_2_DAPI_Transcripts. Skipping.\n",
      "Skipping boundary import of Cellpose_1_DAPI_Transcripts as boundaries_Cellpose_1_DAPI_Transcripts exist already.\n",
      "Skipping adata import of Cellpose_1_DAPI_Transcripts as adata_Cellpose_1_DAPI_Transcripts exist already.\n",
      "Skipping boundary import of Baysor_2D_Cellpose_2_DAPI_PolyT_0.8 as boundaries_Baysor_2D_Cellpose_2_DAPI_PolyT_0.8 exist already.\n",
      "Skipping adata import of Baysor_2D_Cellpose_2_DAPI_PolyT_0.8 as adata_Baysor_2D_Cellpose_2_DAPI_PolyT_0.8 exist already.\n",
      "Skipping boundary import of Baysor_2D_Cellpose_1_nuclei_model_1.0 as boundaries_Baysor_2D_Cellpose_1_nuclei_model_1.0 exist already.\n",
      "Skipping adata import of Baysor_2D_Cellpose_1_nuclei_model_1.0 as adata_Baysor_2D_Cellpose_1_nuclei_model_1.0 exist already.\n",
      "Skipping boundary import of Proseg_Cellpose_2_DAPI_PolyT as boundaries_Proseg_Cellpose_2_DAPI_PolyT exist already.\n",
      "Skipping adata import of Proseg_Cellpose_2_DAPI_PolyT as adata_Proseg_Cellpose_2_DAPI_PolyT exist already.\n",
      "Skipping boundary import of Baysor_2D_Cellpose_1_DAPI_PolyT_0.8 as boundaries_Baysor_2D_Cellpose_1_DAPI_PolyT_0.8 exist already.\n",
      "Skipping adata import of Baysor_2D_Cellpose_1_DAPI_PolyT_0.8 as adata_Baysor_2D_Cellpose_1_DAPI_PolyT_0.8 exist already.\n",
      "Skipping boundary import of Proseg_Cellpose_1_DAPI_PolyT as boundaries_Proseg_Cellpose_1_DAPI_PolyT exist already.\n",
      "Skipping adata import of Proseg_Cellpose_1_DAPI_PolyT as adata_Proseg_Cellpose_1_DAPI_PolyT exist already.\n"
     ]
    }
   ],
   "source": [
    "for sample_name in sample_paths.keys():\n",
    "    print(\"\\nProcessing \"+sample_name+\"...\")\n",
    "    # load main sdata\n",
    "    sdata_path = os.path.join(data_dir, \"samples\", sample_name, \"sdata_z3_temp_SF.zarr\")\n",
    "    sdata_main = sd.read_zarr(sdata_path)\n",
    "    seg_methods = os.listdir(os.path.join(data_dir, \"samples\", sample_name, \"results\"))\n",
    "    sdata_utils.integrate_segmentation_data(\n",
    "        data_dir, sample_name, seg_methods, sdata_main, write_to_disk=True\n",
    "    );"
   ]
  },
  {
   "cell_type": "code",
   "execution_count": null,
   "id": "8b045f38-77ca-4c23-a520-ce3b7079280b",
   "metadata": {},
   "outputs": [],
   "source": []
  },
  {
   "cell_type": "code",
   "execution_count": null,
   "id": "56e6fb65-cf8e-41c8-8a5d-3bd3f14747d8",
   "metadata": {},
   "outputs": [],
   "source": []
  }
 ],
 "metadata": {
  "kernelspec": {
   "display_name": "sdata",
   "language": "python",
   "name": "sdata"
  },
  "language_info": {
   "codemirror_mode": {
    "name": "ipython",
    "version": 3
   },
   "file_extension": ".py",
   "mimetype": "text/x-python",
   "name": "python",
   "nbconvert_exporter": "python",
   "pygments_lexer": "ipython3",
   "version": "3.11.11"
  }
 },
 "nbformat": 4,
 "nbformat_minor": 5
}
